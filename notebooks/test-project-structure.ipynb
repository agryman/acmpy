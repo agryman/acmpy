{
 "cells": [
  {
   "cell_type": "markdown",
   "id": "7ad81301",
   "metadata": {},
   "source": [
    "# Test Project Structure\n",
    "\n",
    "*Arthur Ryman, Last Updated 2022-03-05*\n",
    "\n",
    "I just reorganized the project. \n",
    "This notebook tests that I can import a module."
   ]
  },
  {
   "cell_type": "code",
   "execution_count": 1,
   "id": "aaaf9afc",
   "metadata": {},
   "outputs": [
    {
     "data": {
      "text/plain": [
       "True"
      ]
     },
     "execution_count": 1,
     "metadata": {},
     "output_type": "execute_result"
    }
   ],
   "source": [
    "from acmpy.gamma import norm\n",
    "\n",
    "norm(3, 4) == 5.0"
   ]
  }
 ],
 "metadata": {
  "kernelspec": {
   "display_name": "Python 3 (ipykernel)",
   "language": "python",
   "name": "python3"
  },
  "language_info": {
   "codemirror_mode": {
    "name": "ipython",
    "version": 3
   },
   "file_extension": ".py",
   "mimetype": "text/x-python",
   "name": "python",
   "nbconvert_exporter": "python",
   "pygments_lexer": "ipython3",
   "version": "3.10.0"
  }
 },
 "nbformat": 4,
 "nbformat_minor": 5
}
