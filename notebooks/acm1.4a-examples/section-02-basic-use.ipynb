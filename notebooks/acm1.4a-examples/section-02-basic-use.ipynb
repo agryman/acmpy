{
 "cells": [
  {
   "cell_type": "markdown",
   "id": "cb394129",
   "metadata": {},
   "source": [
    "# ACM 1.4a Examples Worksheet\n",
    "# 2. Basic use of ACM_Scale and ACM_Adapt (Fig 5 of \\[RWC2009\\])\n",
    "\n",
    "*Arthur Ryman, Last Updated: 2022-03-21*\n",
    "\n",
    "This notebook implements Section 2. Basic use of ACM_Scale and ACM_Adapt (Fig 5 of \\[RWC2009\\]).\n",
    "\n",
    "\\[RWC2009\\] Bohr model as an algebraic collective model, Rowe, Welsh and Caprio, PRC79 (2009), 054304 "
   ]
  },
  {
   "cell_type": "markdown",
   "id": "03baf330",
   "metadata": {},
   "source": [
    "We will illustrate these for the case considered for Fig 5 of \\[RWC2009\\]."
   ]
  },
  {
   "cell_type": "markdown",
   "id": "3604b730",
   "metadata": {},
   "source": [
    "## 2.1. Specification of Hamiltonian (necessary for all calculations in Section 2)\n",
    "\n",
    "The most convenient way to specify a Hamiltonian is to use the procedure ACM_Hamiltonian.\n",
    "This yields the encoding of a wide range of (rational) Hamiltonians, and takes (up to) 14 parameters.\n",
    "Here, we consider a Hamiltonian of the type (B12).\n",
    "The following values are used for Fig 5 of \\[RWC2009\\] (therein `alpha=c2`, `c1=1-2*c2`)."
   ]
  },
  {
   "cell_type": "code",
   "execution_count": 1,
   "id": "2ffadee2",
   "metadata": {},
   "outputs": [
    {
     "data": {
      "text/plain": [
       "(20, 3/2, -2, 2, 0)"
      ]
     },
     "execution_count": 1,
     "metadata": {},
     "output_type": "execute_result"
    }
   ],
   "source": [
    "from sympy import Rational, Integer, S\n",
    "\n",
    "B = 20\n",
    "c2 = Rational(3, 2)\n",
    "c1 = 1 - 2 * c2\n",
    "chi = Integer(2)\n",
    "kappa = S.Zero\n",
    "\n",
    "B, c2, c1, chi, kappa"
   ]
  },
  {
   "cell_type": "markdown",
   "id": "3e8be4fe",
   "metadata": {},
   "source": [
    "For these, the non-zero values of the arguments to `ACM_Hamiltonian` are:"
   ]
  },
  {
   "cell_type": "code",
   "execution_count": 2,
   "id": "b405e12f",
   "metadata": {},
   "outputs": [
    {
     "data": {
      "text/plain": [
       "(-1/40, -20, 15, -2, 0)"
      ]
     },
     "execution_count": 2,
     "metadata": {},
     "output_type": "execute_result"
    }
   ],
   "source": [
    "x1 = S.NegativeOne / 2 / B\n",
    "x3 = B * c1 / 2\n",
    "x4 = B * c2 / 2\n",
    "x6 = -chi\n",
    "x10 = kappa\n",
    "\n",
    "x1, x3, x4, x6, x10"
   ]
  },
  {
   "cell_type": "markdown",
   "id": "5e70b5ca",
   "metadata": {},
   "source": [
    "Then obtain the encoding of the Hamiltonian:"
   ]
  },
  {
   "cell_type": "code",
   "execution_count": 3,
   "id": "73a6ba0f",
   "metadata": {},
   "outputs": [
    {
     "data": {
      "text/plain": [
       "((-1/40, (Radial_D2b,)),\n",
       " (SENIORITY*(SENIORITY + 3)/40 + 1/20, (Radial_bm2,)),\n",
       " (-20, (Radial_b2,)),\n",
       " (15, (Radial_b2, Radial_b2)),\n",
       " (-8*pi/3, (Radial_b, SpHarm_310)))"
      ]
     },
     "execution_count": 3,
     "metadata": {},
     "output_type": "execute_result"
    }
   ],
   "source": [
    "from acmpy.internal_operators import ACM_Hamiltonian\n",
    "\n",
    "RWC_ham_fig5a = ACM_Hamiltonian(x1, 0, x3, x4, 0, x6, 0, 0, 0, x10)\n",
    "\n",
    "RWC_ham_fig5a"
   ]
  },
  {
   "cell_type": "markdown",
   "id": "d8fd712d",
   "metadata": {},
   "source": [
    "## 2.2. Diagonalization of Hamiltonian using ACM_Scale\n",
    "\n",
    "To diagonalize, we need to specify the values (a,$λ_0$) to determine the basis.\n",
    "An unsophisticated choice is to use the SHO values a=sqrt(B) and $λ_0$=2.5.\n"
   ]
  },
  {
   "cell_type": "code",
   "execution_count": 4,
   "id": "fcd0477d",
   "metadata": {},
   "outputs": [
    {
     "data": {
      "text/latex": [
       "$\\displaystyle 2 \\sqrt{5}$"
      ],
      "text/plain": [
       "2*sqrt(5)"
      ]
     },
     "execution_count": 4,
     "metadata": {},
     "output_type": "execute_result"
    }
   ],
   "source": [
    "from sympy import sqrt\n",
    "sqrt(B)"
   ]
  },
  {
   "cell_type": "code",
   "execution_count": 5,
   "id": "3cbf949d",
   "metadata": {},
   "outputs": [
    {
     "ename": "TypeError",
     "evalue": "type of mu_f is not an int: 0",
     "output_type": "error",
     "traceback": [
      "\u001b[0;31m---------------------------------------------------------------------------\u001b[0m",
      "\u001b[0;31mTypeError\u001b[0m                                 Traceback (most recent call last)",
      "Input \u001b[0;32mIn [5]\u001b[0m, in \u001b[0;36m<module>\u001b[0;34m\u001b[0m\n\u001b[1;32m      1\u001b[0m \u001b[38;5;28;01mfrom\u001b[39;00m \u001b[38;5;21;01macmpy\u001b[39;00m\u001b[38;5;21;01m.\u001b[39;00m\u001b[38;5;21;01mfull_space\u001b[39;00m \u001b[38;5;28;01mimport\u001b[39;00m ACM_Scale\n\u001b[0;32m----> 3\u001b[0m \u001b[43mACM_Scale\u001b[49m\u001b[43m(\u001b[49m\u001b[43mRWC_ham_fig5a\u001b[49m\u001b[43m,\u001b[49m\u001b[43m \u001b[49m\u001b[43msqrt\u001b[49m\u001b[43m(\u001b[49m\u001b[43mB\u001b[49m\u001b[43m)\u001b[49m\u001b[43m,\u001b[49m\u001b[43m \u001b[49m\u001b[43mRational\u001b[49m\u001b[43m(\u001b[49m\u001b[38;5;241;43m1\u001b[39;49m\u001b[43m,\u001b[49m\u001b[43m \u001b[49m\u001b[38;5;241;43m2\u001b[39;49m\u001b[43m)\u001b[49m\u001b[43m,\u001b[49m\u001b[43m \u001b[49m\u001b[38;5;241;43m0\u001b[39;49m\u001b[43m,\u001b[49m\u001b[43m \u001b[49m\u001b[38;5;241;43m5\u001b[39;49m\u001b[43m,\u001b[49m\u001b[43m \u001b[49m\u001b[38;5;241;43m0\u001b[39;49m\u001b[43m,\u001b[49m\u001b[43m \u001b[49m\u001b[38;5;241;43m18\u001b[39;49m\u001b[43m,\u001b[49m\u001b[43m \u001b[49m\u001b[38;5;241;43m0\u001b[39;49m\u001b[43m,\u001b[49m\u001b[43m \u001b[49m\u001b[38;5;241;43m6\u001b[39;49m\u001b[43m)\u001b[49m\n",
      "File \u001b[0;32m~/Documents/repositories/agryman/acmpy/src/acmpy/full_space.py:1280\u001b[0m, in \u001b[0;36mACM_Scale\u001b[0;34m(ham_op, anorm, lambda_base, nu_min, nu_max, v_min, v_max, L_min, L_max)\u001b[0m\n\u001b[1;32m   1274\u001b[0m \u001b[38;5;28;01mdef\u001b[39;00m \u001b[38;5;21mACM_Scale\u001b[39m(ham_op: OperatorSum,\n\u001b[1;32m   1275\u001b[0m               anorm: Expr, lambda_base: Expr,\n\u001b[1;32m   1276\u001b[0m               nu_min: nonnegint, nu_max: nonnegint,\n\u001b[1;32m   1277\u001b[0m               v_min: nonnegint, v_max: nonnegint,\n\u001b[1;32m   1278\u001b[0m               L_min: nonnegint, L_max: Optional[nonnegint] \u001b[38;5;241m=\u001b[39m \u001b[38;5;28;01mNone\u001b[39;00m\n\u001b[1;32m   1279\u001b[0m               ) \u001b[38;5;241m-\u001b[39m\u001b[38;5;241m>\u001b[39m \u001b[38;5;28mtuple\u001b[39m[EigenValues, Matrix, LValues]:\n\u001b[0;32m-> 1280\u001b[0m     \u001b[38;5;28;01mreturn\u001b[39;00m \u001b[43mACM_ScaleOrAdapt\u001b[49m\u001b[43m(\u001b[49m\u001b[38;5;241;43m0\u001b[39;49m\u001b[43m,\u001b[49m\u001b[43m \u001b[49m\u001b[38;5;241;43m0\u001b[39;49m\u001b[43m,\u001b[49m\u001b[43m \u001b[49m\u001b[43mham_op\u001b[49m\u001b[43m,\u001b[49m\u001b[43m \u001b[49m\u001b[43manorm\u001b[49m\u001b[43m,\u001b[49m\u001b[43m \u001b[49m\u001b[43mlambda_base\u001b[49m\u001b[43m,\u001b[49m\n\u001b[1;32m   1281\u001b[0m \u001b[43m                            \u001b[49m\u001b[43mnu_min\u001b[49m\u001b[43m,\u001b[49m\u001b[43m \u001b[49m\u001b[43mnu_max\u001b[49m\u001b[43m,\u001b[49m\u001b[43m \u001b[49m\u001b[43mv_min\u001b[49m\u001b[43m,\u001b[49m\u001b[43m \u001b[49m\u001b[43mv_max\u001b[49m\u001b[43m,\u001b[49m\u001b[43m \u001b[49m\u001b[43mL_min\u001b[49m\u001b[43m,\u001b[49m\u001b[43m \u001b[49m\u001b[43mL_max\u001b[49m\u001b[43m)\u001b[49m\n",
      "File \u001b[0;32m~/Documents/repositories/agryman/acmpy/src/acmpy/full_space.py:1196\u001b[0m, in \u001b[0;36mACM_ScaleOrAdapt\u001b[0;34m(fit_eig, fit_rat, ham_op, anorm, lambda_base, nu_min, nu_max, v_min, v_max, L_min, L_max)\u001b[0m\n\u001b[1;32m   1191\u001b[0m     \u001b[38;5;28;01mif\u001b[39;00m g\u001b[38;5;241m.\u001b[39mglb_rat_L2 \u001b[38;5;241m<\u001b[39m L_min \u001b[38;5;129;01mor\u001b[39;00m g\u001b[38;5;241m.\u001b[39mglb_rat_L2 \u001b[38;5;241m>\u001b[39m L_mx \u001b[38;5;129;01mor\u001b[39;00m \\\n\u001b[1;32m   1192\u001b[0m             g\u001b[38;5;241m.\u001b[39mglb_rat_2dx \u001b[38;5;241m>\u001b[39m dimXspace(nu_min, nu_max, v_min, v_max, g\u001b[38;5;241m.\u001b[39mglb_rat_L2):\n\u001b[1;32m   1193\u001b[0m         \u001b[38;5;28;01mraise\u001b[39;00m \u001b[38;5;167;01mValueError\u001b[39;00m(\u001b[38;5;124mf\u001b[39m\u001b[38;5;124m'\u001b[39m\u001b[38;5;124mReference state \u001b[39m\u001b[38;5;132;01m{\u001b[39;00mg\u001b[38;5;241m.\u001b[39mglb_rat_L2\u001b[38;5;132;01m}\u001b[39;00m\u001b[38;5;124m(\u001b[39m\u001b[38;5;132;01m{\u001b[39;00mg\u001b[38;5;241m.\u001b[39mglb_rat_2dx\u001b[38;5;132;01m}\u001b[39;00m\u001b[38;5;124m) not available\u001b[39m\u001b[38;5;124m'\u001b[39m)\n\u001b[1;32m   1195\u001b[0m eigen_quin: \u001b[38;5;28mtuple\u001b[39m[EigenValues, EigenBases, XParams, LValues] \u001b[38;5;241m=\u001b[39m \\\n\u001b[0;32m-> 1196\u001b[0m     \u001b[43mDigXspace\u001b[49m\u001b[43m(\u001b[49m\u001b[43mham_op\u001b[49m\u001b[43m,\u001b[49m\u001b[43m \u001b[49m\u001b[43manorm\u001b[49m\u001b[43m,\u001b[49m\u001b[43m \u001b[49m\u001b[43mlambda_base\u001b[49m\u001b[43m,\u001b[49m\u001b[43m \u001b[49m\u001b[43mnu_min\u001b[49m\u001b[43m,\u001b[49m\u001b[43m \u001b[49m\u001b[43mnu_max\u001b[49m\u001b[43m,\u001b[49m\u001b[43m \u001b[49m\u001b[43mv_min\u001b[49m\u001b[43m,\u001b[49m\u001b[43m \u001b[49m\u001b[43mv_max\u001b[49m\u001b[43m,\u001b[49m\u001b[43m \u001b[49m\u001b[43mL_min\u001b[49m\u001b[43m,\u001b[49m\u001b[43m \u001b[49m\u001b[43mL_max\u001b[49m\u001b[43m)\u001b[49m\n\u001b[1;32m   1197\u001b[0m eigen_vals: EigenValues \u001b[38;5;241m=\u001b[39m eigen_quin[\u001b[38;5;241m0\u001b[39m]\n\u001b[1;32m   1198\u001b[0m eigen_bases: EigenBases \u001b[38;5;241m=\u001b[39m eigen_quin[\u001b[38;5;241m1\u001b[39m]\n",
      "File \u001b[0;32m~/Documents/repositories/agryman/acmpy/src/acmpy/full_space.py:162\u001b[0m, in \u001b[0;36mDigXspace\u001b[0;34m(ham_op, anorm, lambda_base, nu_min, nu_max, v_min, v_max, L_min, L_max)\u001b[0m\n\u001b[1;32m    159\u001b[0m \u001b[38;5;28;01mif\u001b[39;00m sph_dim \u001b[38;5;241m>\u001b[39m \u001b[38;5;241m0\u001b[39m:\n\u001b[1;32m    160\u001b[0m     Lvals\u001b[38;5;241m.\u001b[39mappend(LL)\n\u001b[0;32m--> 162\u001b[0m     L_matrix \u001b[38;5;241m=\u001b[39m \u001b[43mRepXspace\u001b[49m\u001b[43m(\u001b[49m\u001b[43mham_op\u001b[49m\u001b[43m,\u001b[49m\u001b[43m \u001b[49m\u001b[43manorm\u001b[49m\u001b[43m,\u001b[49m\u001b[43m \u001b[49m\u001b[43mlambda_base\u001b[49m\u001b[43m,\u001b[49m\u001b[43m \u001b[49m\u001b[43mnu_min\u001b[49m\u001b[43m,\u001b[49m\u001b[43m \u001b[49m\u001b[43mnu_max\u001b[49m\u001b[43m,\u001b[49m\u001b[43m \u001b[49m\u001b[43mv_min\u001b[49m\u001b[43m,\u001b[49m\u001b[43m \u001b[49m\u001b[43mv_max\u001b[49m\u001b[43m,\u001b[49m\u001b[43m \u001b[49m\u001b[43mLL\u001b[49m\u001b[43m)\u001b[49m\n\u001b[1;32m    163\u001b[0m     eigen_vals_result, eigen_bases_result \u001b[38;5;241m=\u001b[39m Eigenfiddle(L_matrix)\n\u001b[1;32m    165\u001b[0m     eigen_vals\u001b[38;5;241m.\u001b[39mappend(eigen_vals_result)\n",
      "File \u001b[0;32m~/Documents/repositories/agryman/acmpy/src/acmpy/full_operators.py:243\u001b[0m, in \u001b[0;36mRepXspace\u001b[0;34m(x_oplc, anorm, lambda_base, nu_min, nu_max, v_min, v_max, L, L_max)\u001b[0m\n\u001b[1;32m    241\u001b[0m \u001b[38;5;28;01melse\u001b[39;00m:\n\u001b[1;32m    242\u001b[0m     coeff, prod \u001b[38;5;241m=\u001b[39m x_oplc[\u001b[38;5;241m0\u001b[39m]\n\u001b[0;32m--> 243\u001b[0m     Rmat \u001b[38;5;241m=\u001b[39m \u001b[43mRepXspace_Prod\u001b[49m\u001b[43m(\u001b[49m\u001b[43mprod\u001b[49m\u001b[43m,\u001b[49m\u001b[43m \u001b[49m\u001b[43manorm\u001b[49m\u001b[43m,\u001b[49m\u001b[43m \u001b[49m\u001b[43mlambda_base\u001b[49m\u001b[43m,\u001b[49m\u001b[43m \u001b[49m\u001b[43mnu_min\u001b[49m\u001b[43m,\u001b[49m\u001b[43m \u001b[49m\u001b[43mnu_max\u001b[49m\u001b[43m,\u001b[49m\u001b[43m \u001b[49m\u001b[43mv_min\u001b[49m\u001b[43m,\u001b[49m\u001b[43m \u001b[49m\u001b[43mv_max\u001b[49m\u001b[43m,\u001b[49m\u001b[43m \u001b[49m\u001b[43mL\u001b[49m\u001b[43m,\u001b[49m\u001b[43m \u001b[49m\u001b[43mL_max\u001b[49m\u001b[43m)\u001b[49m\n\u001b[1;32m    244\u001b[0m     \u001b[38;5;28;01mif\u001b[39;00m coeff\u001b[38;5;241m.\u001b[39mis_constant():\n\u001b[1;32m    245\u001b[0m         Rmat \u001b[38;5;241m=\u001b[39m coeff\u001b[38;5;241m.\u001b[39mevalf() \u001b[38;5;241m*\u001b[39m Rmat\n",
      "File \u001b[0;32m~/Documents/repositories/agryman/acmpy/src/acmpy/full_operators.py:468\u001b[0m, in \u001b[0;36mRepXspace_Prod\u001b[0;34m(x_ops, anorm, lambda_base, nu_min, nu_max, v_min, v_max, L_min, L_max)\u001b[0m\n\u001b[1;32m    465\u001b[0m             up_running \u001b[38;5;241m=\u001b[39m \u001b[38;5;241m1\u001b[39m\n\u001b[1;32m    467\u001b[0m \u001b[38;5;28;01mif\u001b[39;00m nu_ops \u001b[38;5;241m!=\u001b[39m [] \u001b[38;5;129;01mor\u001b[39;00m sph_ops \u001b[38;5;241m!=\u001b[39m []:\n\u001b[0;32m--> 468\u001b[0m     xsp_Mat \u001b[38;5;241m=\u001b[39m \u001b[43mRepXspace_Twin\u001b[49m\u001b[43m(\u001b[49m\u001b[43mnu_ops\u001b[49m\u001b[43m,\u001b[49m\u001b[43m \u001b[49m\u001b[43msph_ops\u001b[49m\u001b[43m,\u001b[49m\n\u001b[1;32m    469\u001b[0m \u001b[43m                             \u001b[49m\u001b[43manorm\u001b[49m\u001b[43m,\u001b[49m\u001b[43m \u001b[49m\u001b[43mlambda_base\u001b[49m\u001b[43m,\u001b[49m\n\u001b[1;32m    470\u001b[0m \u001b[43m                             \u001b[49m\u001b[43mnu_min\u001b[49m\u001b[43m,\u001b[49m\u001b[43m \u001b[49m\u001b[43mnu_max\u001b[49m\u001b[43m,\u001b[49m\n\u001b[1;32m    471\u001b[0m \u001b[43m                             \u001b[49m\u001b[43mv_min\u001b[49m\u001b[43m,\u001b[49m\u001b[43m \u001b[49m\u001b[43mv_max\u001b[49m\u001b[43m,\u001b[49m\n\u001b[1;32m    472\u001b[0m \u001b[43m                             \u001b[49m\u001b[43mL_min\u001b[49m\u001b[43m,\u001b[49m\u001b[43m \u001b[49m\u001b[43mL_max\u001b[49m\u001b[43m)\u001b[49m\n\u001b[1;32m    474\u001b[0m     \u001b[38;5;28;01mif\u001b[39;00m up_running \u001b[38;5;241m>\u001b[39m \u001b[38;5;241m0\u001b[39m:\n\u001b[1;32m    475\u001b[0m         \u001b[38;5;28;01massert\u001b[39;00m run_Mat \u001b[38;5;129;01mis\u001b[39;00m \u001b[38;5;129;01mnot\u001b[39;00m \u001b[38;5;28;01mNone\u001b[39;00m\n",
      "File \u001b[0;32m~/Documents/repositories/agryman/acmpy/src/acmpy/full_operators.py:639\u001b[0m, in \u001b[0;36mRepXspace_Twin\u001b[0;34m(rad_ops, sph_ops, anorm, lambda_base, nu_min, nu_max, v_min, v_max, L_min, L_max)\u001b[0m\n\u001b[1;32m    636\u001b[0m \u001b[38;5;28;01mif\u001b[39;00m sph_ME \u001b[38;5;241m==\u001b[39m \u001b[38;5;241m0\u001b[39m:\n\u001b[1;32m    637\u001b[0m     \u001b[38;5;28;01mcontinue\u001b[39;00m\n\u001b[0;32m--> 639\u001b[0m rad_Mat: Matrix \u001b[38;5;241m=\u001b[39m \u001b[43mRepRadial_Prod_rem\u001b[49m\u001b[43m(\u001b[49m\u001b[38;5;28;43mtuple\u001b[39;49m\u001b[43m(\u001b[49m\u001b[43mrad_ops\u001b[49m\u001b[43m)\u001b[49m\u001b[43m,\u001b[49m\u001b[43m \u001b[49m\u001b[43manorm\u001b[49m\u001b[43m,\u001b[49m\n\u001b[1;32m    640\u001b[0m \u001b[43m                                     \u001b[49m\u001b[43mlambda_base\u001b[49m\u001b[43m \u001b[49m\u001b[38;5;241;43m+\u001b[39;49m\u001b[43m \u001b[49m\u001b[43mlambda_disp_init\u001b[49m\u001b[43m,\u001b[49m\n\u001b[1;32m    641\u001b[0m \u001b[43m                                     \u001b[49m\u001b[43mlambda_disp_fin\u001b[49m\u001b[43m \u001b[49m\u001b[38;5;241;43m-\u001b[39;49m\u001b[43m \u001b[49m\u001b[43mlambda_disp_init\u001b[49m\u001b[43m,\u001b[49m\n\u001b[1;32m    642\u001b[0m \u001b[43m                                     \u001b[49m\u001b[43mnu_min\u001b[49m\u001b[43m,\u001b[49m\u001b[43m \u001b[49m\u001b[43mnu_max\u001b[49m\u001b[43m,\u001b[49m\u001b[43m \u001b[49m\u001b[43mg\u001b[49m\u001b[38;5;241;43m.\u001b[39;49m\u001b[43mglb_nu_lap\u001b[49m\u001b[43m)\u001b[49m\n\u001b[1;32m    644\u001b[0m \u001b[38;5;28;01mfor\u001b[39;00m i1 \u001b[38;5;129;01min\u001b[39;00m \u001b[38;5;28mrange\u001b[39m(\u001b[38;5;241m1\u001b[39m, rad_dim \u001b[38;5;241m+\u001b[39m \u001b[38;5;241m1\u001b[39m):\n\u001b[1;32m    645\u001b[0m     \u001b[38;5;28;01mfor\u001b[39;00m j1 \u001b[38;5;129;01min\u001b[39;00m \u001b[38;5;28mrange\u001b[39m(\u001b[38;5;241m1\u001b[39m, rad_dim \u001b[38;5;241m+\u001b[39m \u001b[38;5;241m1\u001b[39m):\n",
      "File \u001b[0;32m~/Documents/repositories/agryman/acmpy/src/acmpy/radial_space.py:1888\u001b[0m, in \u001b[0;36mRepRadial_Prod_rem\u001b[0;34m(rbs_op, anorm, lambdaa, lambda_var, nu_min, nu_max, nu_lap)\u001b[0m\n\u001b[1;32m   1881\u001b[0m \u001b[38;5;129m@cache\u001b[39m\n\u001b[1;32m   1882\u001b[0m \u001b[38;5;28;01mdef\u001b[39;00m \u001b[38;5;21mRepRadial_Prod_rem\u001b[39m(rbs_op: \u001b[38;5;28mlist\u001b[39m[Symbol], anorm: Expr,\n\u001b[1;32m   1883\u001b[0m                        lambdaa: Expr, lambda_var: \u001b[38;5;28mint\u001b[39m,\n\u001b[1;32m   1884\u001b[0m                        nu_min: nonnegint, nu_max: nonnegint,\n\u001b[1;32m   1885\u001b[0m                        nu_lap: nonnegint \u001b[38;5;241m=\u001b[39m \u001b[38;5;241m0\u001b[39m\n\u001b[1;32m   1886\u001b[0m                        ) \u001b[38;5;241m-\u001b[39m\u001b[38;5;241m>\u001b[39m Matrix:\n\u001b[0;32m-> 1888\u001b[0m     \u001b[38;5;28;01mreturn\u001b[39;00m \u001b[43mRepRadial_Prod_common\u001b[49m\u001b[43m(\u001b[49m\u001b[43mrbs_op\u001b[49m\u001b[43m,\u001b[49m\u001b[43m \u001b[49m\u001b[43manorm\u001b[49m\u001b[43m,\u001b[49m\u001b[43m \u001b[49m\u001b[43mlambdaa\u001b[49m\u001b[43m,\u001b[49m\u001b[43m \u001b[49m\u001b[43mlambda_var\u001b[49m\u001b[43m,\u001b[49m\u001b[43m \u001b[49m\u001b[43mnu_min\u001b[49m\u001b[43m,\u001b[49m\u001b[43m \u001b[49m\u001b[43mnu_max\u001b[49m\u001b[43m,\u001b[49m\u001b[43m \u001b[49m\u001b[43mnu_lap\u001b[49m\u001b[43m)\u001b[49m\n",
      "File \u001b[0;32m~/Documents/repositories/agryman/acmpy/src/acmpy/radial_space.py:1818\u001b[0m, in \u001b[0;36mRepRadial_Prod_common\u001b[0;34m(rbs_op, anorm, lambdaa, lambda_var, nu_min, nu_max, nu_lap)\u001b[0m\n\u001b[1;32m   1814\u001b[0m         lambda_shfs \u001b[38;5;241m=\u001b[39m lambda_shfs[\u001b[38;5;241m1\u001b[39m:] \u001b[38;5;241m+\u001b[39m (lambda_shfs[\u001b[38;5;241m0\u001b[39m],)\n\u001b[1;32m   1816\u001b[0m nu_min_shift: \u001b[38;5;28mint\u001b[39m \u001b[38;5;241m=\u001b[39m \u001b[38;5;28mmin\u001b[39m(nu_lap, nu_min)\n\u001b[0;32m-> 1818\u001b[0m rep: Matrix \u001b[38;5;241m=\u001b[39m \u001b[43mRepRadialshfs_Prod\u001b[49m\u001b[43m(\u001b[49m\u001b[43mparsed_ops\u001b[49m\u001b[43m,\u001b[49m\u001b[43m \u001b[49m\u001b[43manorm\u001b[49m\u001b[43m,\u001b[49m\u001b[43m \u001b[49m\u001b[43mlambdaa\u001b[49m\u001b[43m,\u001b[49m\u001b[43m \u001b[49m\u001b[43mlambda_shfs\u001b[49m\u001b[43m,\u001b[49m\n\u001b[1;32m   1819\u001b[0m \u001b[43m                                 \u001b[49m\u001b[43mnu_min\u001b[49m\u001b[43m \u001b[49m\u001b[38;5;241;43m-\u001b[39;49m\u001b[43m \u001b[49m\u001b[43mnu_min_shift\u001b[49m\u001b[43m,\u001b[49m\u001b[43m \u001b[49m\u001b[43mnu_max\u001b[49m\u001b[43m \u001b[49m\u001b[38;5;241;43m+\u001b[39;49m\u001b[43m \u001b[49m\u001b[43mnu_lap\u001b[49m\u001b[43m)\u001b[49m\n\u001b[1;32m   1821\u001b[0m \u001b[38;5;28;01mif\u001b[39;00m nu_lap \u001b[38;5;241m==\u001b[39m \u001b[38;5;241m0\u001b[39m:\n\u001b[1;32m   1822\u001b[0m     \u001b[38;5;28;01mreturn\u001b[39;00m rep\n",
      "File \u001b[0;32m~/Documents/repositories/agryman/acmpy/src/acmpy/radial_space.py:1654\u001b[0m, in \u001b[0;36mRepRadialshfs_Prod\u001b[0;34m(rps_op, anorm, lambdaa, lambda_shfs, nu_min, nu_max)\u001b[0m\n\u001b[1;32m   1652\u001b[0m r_op: KTSOp \u001b[38;5;241m=\u001b[39m rps_op[i \u001b[38;5;241m-\u001b[39m \u001b[38;5;241m1\u001b[39m]\n\u001b[1;32m   1653\u001b[0m R: \u001b[38;5;28mint\u001b[39m \u001b[38;5;241m=\u001b[39m lambda_shfs[i \u001b[38;5;241m-\u001b[39m \u001b[38;5;241m1\u001b[39m]\n\u001b[0;32m-> 1654\u001b[0m Mat \u001b[38;5;241m=\u001b[39m \u001b[43mr_op\u001b[49m\u001b[38;5;241;43m.\u001b[39;49m\u001b[43mrepresentation\u001b[49m\u001b[43m(\u001b[49m\u001b[43manorm\u001b[49m\u001b[43m,\u001b[49m\u001b[43m \u001b[49m\u001b[43mlambda_run\u001b[49m\u001b[43m,\u001b[49m\u001b[43m \u001b[49m\u001b[43mR\u001b[49m\u001b[43m,\u001b[49m\u001b[43m \u001b[49m\u001b[43mnu_min\u001b[49m\u001b[43m,\u001b[49m\u001b[43m \u001b[49m\u001b[43mnu_max\u001b[49m\u001b[43m)\u001b[49m\n\u001b[1;32m   1655\u001b[0m lambda_run \u001b[38;5;241m+\u001b[39m\u001b[38;5;241m=\u001b[39m R\n\u001b[1;32m   1657\u001b[0m \u001b[38;5;28;01mif\u001b[39;00m i \u001b[38;5;241m==\u001b[39m n:\n",
      "File \u001b[0;32m~/Documents/repositories/agryman/acmpy/src/acmpy/radial_space.py:1531\u001b[0m, in \u001b[0;36mKTOp.representation\u001b[0;34m(self, anorm, lambdaa, R, nu_min, nu_max)\u001b[0m\n\u001b[1;32m   1527\u001b[0m \u001b[38;5;28;01mdef\u001b[39;00m \u001b[38;5;21mrepresentation\u001b[39m(\u001b[38;5;28mself\u001b[39m, anorm: Expr,\n\u001b[1;32m   1528\u001b[0m                    lambdaa: Expr, R: \u001b[38;5;28mint\u001b[39m,\n\u001b[1;32m   1529\u001b[0m                    nu_min: nonnegint, nu_max: nonnegint\n\u001b[1;32m   1530\u001b[0m                    ) \u001b[38;5;241m-\u001b[39m\u001b[38;5;241m>\u001b[39m Matrix:\n\u001b[0;32m-> 1531\u001b[0m     \u001b[38;5;28;01mreturn\u001b[39;00m \u001b[43mRepRadial_bS_DS\u001b[49m\u001b[43m(\u001b[49m\u001b[38;5;28;43mself\u001b[39;49m\u001b[38;5;241;43m.\u001b[39;49m\u001b[43mK\u001b[49m\u001b[43m,\u001b[49m\u001b[43m \u001b[49m\u001b[38;5;28;43mself\u001b[39;49m\u001b[38;5;241;43m.\u001b[39;49m\u001b[43mT\u001b[49m\u001b[43m,\u001b[49m\u001b[43m \u001b[49m\u001b[43manorm\u001b[49m\u001b[43m,\u001b[49m\u001b[43m \u001b[49m\u001b[43mlambdaa\u001b[49m\u001b[43m,\u001b[49m\u001b[43m \u001b[49m\u001b[43mR\u001b[49m\u001b[43m,\u001b[49m\u001b[43m \u001b[49m\u001b[43mnu_min\u001b[49m\u001b[43m,\u001b[49m\u001b[43m \u001b[49m\u001b[43mnu_max\u001b[49m\u001b[43m)\u001b[49m\n",
      "File \u001b[0;32m~/Documents/repositories/agryman/acmpy/src/acmpy/radial_space.py:1381\u001b[0m, in \u001b[0;36mRepRadial_bS_DS\u001b[0;34m(K, T, anorm, lambdaa, R, nu_min, nu_max)\u001b[0m\n\u001b[1;32m   1379\u001b[0m \u001b[38;5;28;01melse\u001b[39;00m:\n\u001b[1;32m   1380\u001b[0m     \u001b[38;5;28;01massert\u001b[39;00m i \u001b[38;5;241m>\u001b[39m \u001b[38;5;28mabs\u001b[39m(K)\n\u001b[0;32m-> 1381\u001b[0m     Mat \u001b[38;5;241m=\u001b[39m \u001b[43mRepRadial\u001b[49m\u001b[43m(\u001b[49m\u001b[43mME_Radial_b2\u001b[49m\u001b[43m,\u001b[49m\u001b[43m \u001b[49m\u001b[43mlambda_run\u001b[49m\u001b[43m,\u001b[49m\u001b[43m \u001b[49m\u001b[43mnu_min\u001b[49m\u001b[43m,\u001b[49m\u001b[43m \u001b[49m\u001b[43mnu_max\u001b[49m\u001b[43m)\u001b[49m\n\u001b[1;32m   1382\u001b[0m     Mat \u001b[38;5;241m=\u001b[39m Matrix_sqrtInv(Mat) \u001b[38;5;241m*\u001b[39m RepRadial(ME_Radial_bDb, lambda_run, nu_min, nu_max)\u001b[38;5;241m.\u001b[39mevalf()\n\u001b[1;32m   1383\u001b[0m     Mat \u001b[38;5;241m*\u001b[39m\u001b[38;5;241m=\u001b[39m anorm\n",
      "File \u001b[0;32m~/Documents/repositories/agryman/acmpy/src/acmpy/radial_space.py:879\u001b[0m, in \u001b[0;36mRepRadial\u001b[0;34m(ME, lambdaa, nu_min, nu_max)\u001b[0m\n\u001b[1;32m    876\u001b[0m require_nonnegint(\u001b[38;5;124m'\u001b[39m\u001b[38;5;124mnu_max\u001b[39m\u001b[38;5;124m'\u001b[39m, nu_max)\n\u001b[1;32m    878\u001b[0m n: \u001b[38;5;28mint\u001b[39m \u001b[38;5;241m=\u001b[39m nu_max \u001b[38;5;241m-\u001b[39m nu_min \u001b[38;5;241m+\u001b[39m \u001b[38;5;241m1\u001b[39m\n\u001b[0;32m--> 879\u001b[0m M: Matrix \u001b[38;5;241m=\u001b[39m \u001b[43mMatrix\u001b[49m\u001b[43m(\u001b[49m\u001b[43mn\u001b[49m\u001b[43m,\u001b[49m\u001b[43m \u001b[49m\u001b[43mn\u001b[49m\u001b[43m,\u001b[49m\u001b[43m \u001b[49m\u001b[38;5;28;43;01mlambda\u001b[39;49;00m\u001b[43m \u001b[49m\u001b[43mi\u001b[49m\u001b[43m,\u001b[49m\u001b[43m \u001b[49m\u001b[43mj\u001b[49m\u001b[43m:\u001b[49m\u001b[43m \u001b[49m\u001b[43mME\u001b[49m\u001b[43m(\u001b[49m\u001b[43mlambdaa\u001b[49m\u001b[43m,\u001b[49m\u001b[43m \u001b[49m\u001b[43mnu_min\u001b[49m\u001b[43m \u001b[49m\u001b[38;5;241;43m+\u001b[39;49m\u001b[43m \u001b[49m\u001b[43mi\u001b[49m\u001b[43m,\u001b[49m\u001b[43m \u001b[49m\u001b[43mnu_min\u001b[49m\u001b[43m \u001b[49m\u001b[38;5;241;43m+\u001b[39;49m\u001b[43m \u001b[49m\u001b[43mj\u001b[49m\u001b[43m)\u001b[49m\u001b[43m)\u001b[49m\n\u001b[1;32m    881\u001b[0m \u001b[38;5;28;01mreturn\u001b[39;00m simplify(M)\n",
      "File \u001b[0;32m~/Documents/repositories/agryman/acmpy/venv/lib/python3.10/site-packages/sympy/matrices/repmatrix.py:317\u001b[0m, in \u001b[0;36mMutableRepMatrix.__new__\u001b[0;34m(cls, *args, **kwargs)\u001b[0m\n\u001b[1;32m    316\u001b[0m \u001b[38;5;28;01mdef\u001b[39;00m \u001b[38;5;21m__new__\u001b[39m(\u001b[38;5;28mcls\u001b[39m, \u001b[38;5;241m*\u001b[39margs, \u001b[38;5;241m*\u001b[39m\u001b[38;5;241m*\u001b[39mkwargs):\n\u001b[0;32m--> 317\u001b[0m     \u001b[38;5;28;01mreturn\u001b[39;00m \u001b[38;5;28;43mcls\u001b[39;49m\u001b[38;5;241;43m.\u001b[39;49m\u001b[43m_new\u001b[49m\u001b[43m(\u001b[49m\u001b[38;5;241;43m*\u001b[39;49m\u001b[43margs\u001b[49m\u001b[43m,\u001b[49m\u001b[43m \u001b[49m\u001b[38;5;241;43m*\u001b[39;49m\u001b[38;5;241;43m*\u001b[39;49m\u001b[43mkwargs\u001b[49m\u001b[43m)\u001b[49m\n",
      "File \u001b[0;32m~/Documents/repositories/agryman/acmpy/venv/lib/python3.10/site-packages/sympy/matrices/repmatrix.py:328\u001b[0m, in \u001b[0;36mMutableRepMatrix._new\u001b[0;34m(cls, copy, *args, **kwargs)\u001b[0m\n\u001b[1;32m    326\u001b[0m     rows, cols, flat_list \u001b[38;5;241m=\u001b[39m args\n\u001b[1;32m    327\u001b[0m \u001b[38;5;28;01melse\u001b[39;00m:\n\u001b[0;32m--> 328\u001b[0m     rows, cols, flat_list \u001b[38;5;241m=\u001b[39m \u001b[38;5;28;43mcls\u001b[39;49m\u001b[38;5;241;43m.\u001b[39;49m\u001b[43m_handle_creation_inputs\u001b[49m\u001b[43m(\u001b[49m\u001b[38;5;241;43m*\u001b[39;49m\u001b[43margs\u001b[49m\u001b[43m,\u001b[49m\u001b[43m \u001b[49m\u001b[38;5;241;43m*\u001b[39;49m\u001b[38;5;241;43m*\u001b[39;49m\u001b[43mkwargs\u001b[49m\u001b[43m)\u001b[49m\n\u001b[1;32m    329\u001b[0m     flat_list \u001b[38;5;241m=\u001b[39m \u001b[38;5;28mlist\u001b[39m(flat_list) \u001b[38;5;66;03m# create a shallow copy\u001b[39;00m\n\u001b[1;32m    331\u001b[0m rep \u001b[38;5;241m=\u001b[39m \u001b[38;5;28mcls\u001b[39m\u001b[38;5;241m.\u001b[39m_flat_list_to_DomainMatrix(rows, cols, flat_list)\n",
      "File \u001b[0;32m~/Documents/repositories/agryman/acmpy/venv/lib/python3.10/site-packages/sympy/matrices/matrices.py:1126\u001b[0m, in \u001b[0;36mMatrixBase._handle_creation_inputs\u001b[0;34m(cls, *args, **kwargs)\u001b[0m\n\u001b[1;32m   1123\u001b[0m     flat_list \u001b[38;5;241m=\u001b[39m []\n\u001b[1;32m   1124\u001b[0m     \u001b[38;5;28;01mfor\u001b[39;00m i \u001b[38;5;129;01min\u001b[39;00m \u001b[38;5;28mrange\u001b[39m(rows):\n\u001b[1;32m   1125\u001b[0m         flat_list\u001b[38;5;241m.\u001b[39mextend(\n\u001b[0;32m-> 1126\u001b[0m             [\u001b[38;5;28mcls\u001b[39m\u001b[38;5;241m.\u001b[39m_sympify(op(\u001b[38;5;28mcls\u001b[39m\u001b[38;5;241m.\u001b[39m_sympify(i), \u001b[38;5;28mcls\u001b[39m\u001b[38;5;241m.\u001b[39m_sympify(j)))\n\u001b[1;32m   1127\u001b[0m              \u001b[38;5;28;01mfor\u001b[39;00m j \u001b[38;5;129;01min\u001b[39;00m \u001b[38;5;28mrange\u001b[39m(cols)])\n\u001b[1;32m   1129\u001b[0m \u001b[38;5;66;03m# Matrix(2, 2, [1, 2, 3, 4])\u001b[39;00m\n\u001b[1;32m   1130\u001b[0m \u001b[38;5;28;01melif\u001b[39;00m \u001b[38;5;28mlen\u001b[39m(args) \u001b[38;5;241m==\u001b[39m \u001b[38;5;241m3\u001b[39m \u001b[38;5;129;01mand\u001b[39;00m is_sequence(args[\u001b[38;5;241m2\u001b[39m]):\n",
      "File \u001b[0;32m~/Documents/repositories/agryman/acmpy/venv/lib/python3.10/site-packages/sympy/matrices/matrices.py:1126\u001b[0m, in \u001b[0;36m<listcomp>\u001b[0;34m(.0)\u001b[0m\n\u001b[1;32m   1123\u001b[0m     flat_list \u001b[38;5;241m=\u001b[39m []\n\u001b[1;32m   1124\u001b[0m     \u001b[38;5;28;01mfor\u001b[39;00m i \u001b[38;5;129;01min\u001b[39;00m \u001b[38;5;28mrange\u001b[39m(rows):\n\u001b[1;32m   1125\u001b[0m         flat_list\u001b[38;5;241m.\u001b[39mextend(\n\u001b[0;32m-> 1126\u001b[0m             [\u001b[38;5;28mcls\u001b[39m\u001b[38;5;241m.\u001b[39m_sympify(\u001b[43mop\u001b[49m\u001b[43m(\u001b[49m\u001b[38;5;28;43mcls\u001b[39;49m\u001b[38;5;241;43m.\u001b[39;49m\u001b[43m_sympify\u001b[49m\u001b[43m(\u001b[49m\u001b[43mi\u001b[49m\u001b[43m)\u001b[49m\u001b[43m,\u001b[49m\u001b[43m \u001b[49m\u001b[38;5;28;43mcls\u001b[39;49m\u001b[38;5;241;43m.\u001b[39;49m\u001b[43m_sympify\u001b[49m\u001b[43m(\u001b[49m\u001b[43mj\u001b[49m\u001b[43m)\u001b[49m\u001b[43m)\u001b[49m)\n\u001b[1;32m   1127\u001b[0m              \u001b[38;5;28;01mfor\u001b[39;00m j \u001b[38;5;129;01min\u001b[39;00m \u001b[38;5;28mrange\u001b[39m(cols)])\n\u001b[1;32m   1129\u001b[0m \u001b[38;5;66;03m# Matrix(2, 2, [1, 2, 3, 4])\u001b[39;00m\n\u001b[1;32m   1130\u001b[0m \u001b[38;5;28;01melif\u001b[39;00m \u001b[38;5;28mlen\u001b[39m(args) \u001b[38;5;241m==\u001b[39m \u001b[38;5;241m3\u001b[39m \u001b[38;5;129;01mand\u001b[39;00m is_sequence(args[\u001b[38;5;241m2\u001b[39m]):\n",
      "File \u001b[0;32m~/Documents/repositories/agryman/acmpy/src/acmpy/radial_space.py:879\u001b[0m, in \u001b[0;36mRepRadial.<locals>.<lambda>\u001b[0;34m(i, j)\u001b[0m\n\u001b[1;32m    876\u001b[0m require_nonnegint(\u001b[38;5;124m'\u001b[39m\u001b[38;5;124mnu_max\u001b[39m\u001b[38;5;124m'\u001b[39m, nu_max)\n\u001b[1;32m    878\u001b[0m n: \u001b[38;5;28mint\u001b[39m \u001b[38;5;241m=\u001b[39m nu_max \u001b[38;5;241m-\u001b[39m nu_min \u001b[38;5;241m+\u001b[39m \u001b[38;5;241m1\u001b[39m\n\u001b[0;32m--> 879\u001b[0m M: Matrix \u001b[38;5;241m=\u001b[39m Matrix(n, n, \u001b[38;5;28;01mlambda\u001b[39;00m i, j: \u001b[43mME\u001b[49m\u001b[43m(\u001b[49m\u001b[43mlambdaa\u001b[49m\u001b[43m,\u001b[49m\u001b[43m \u001b[49m\u001b[43mnu_min\u001b[49m\u001b[43m \u001b[49m\u001b[38;5;241;43m+\u001b[39;49m\u001b[43m \u001b[49m\u001b[43mi\u001b[49m\u001b[43m,\u001b[49m\u001b[43m \u001b[49m\u001b[43mnu_min\u001b[49m\u001b[43m \u001b[49m\u001b[38;5;241;43m+\u001b[39;49m\u001b[43m \u001b[49m\u001b[43mj\u001b[49m\u001b[43m)\u001b[49m)\n\u001b[1;32m    881\u001b[0m \u001b[38;5;28;01mreturn\u001b[39;00m simplify(M)\n",
      "File \u001b[0;32m~/Documents/repositories/agryman/acmpy/src/acmpy/radial_space.py:211\u001b[0m, in \u001b[0;36mME_Radial_b2\u001b[0;34m(lambdaa, mu_f, mu_i)\u001b[0m\n\u001b[1;32m    210\u001b[0m \u001b[38;5;28;01mdef\u001b[39;00m \u001b[38;5;21mME_Radial_b2\u001b[39m(lambdaa: Expr, mu_f: nonnegint, mu_i: nonnegint) \u001b[38;5;241m-\u001b[39m\u001b[38;5;241m>\u001b[39m Expr:\n\u001b[0;32m--> 211\u001b[0m     \u001b[43mrequire_nonnegint\u001b[49m\u001b[43m(\u001b[49m\u001b[38;5;124;43m'\u001b[39;49m\u001b[38;5;124;43mmu_f\u001b[39;49m\u001b[38;5;124;43m'\u001b[39;49m\u001b[43m,\u001b[49m\u001b[43m \u001b[49m\u001b[43mmu_f\u001b[49m\u001b[43m)\u001b[49m\n\u001b[1;32m    212\u001b[0m     require_nonnegint(\u001b[38;5;124m'\u001b[39m\u001b[38;5;124mmu_i\u001b[39m\u001b[38;5;124m'\u001b[39m, mu_i)\n\u001b[1;32m    214\u001b[0m     \u001b[38;5;28;01mif\u001b[39;00m mu_f \u001b[38;5;241m==\u001b[39m mu_i \u001b[38;5;241m-\u001b[39m \u001b[38;5;241m1\u001b[39m:\n",
      "File \u001b[0;32m~/Documents/repositories/agryman/acmpy/src/acmpy/compat.py:34\u001b[0m, in \u001b[0;36mrequire_nonnegint\u001b[0;34m(name, value)\u001b[0m\n\u001b[1;32m     32\u001b[0m \u001b[38;5;28;01mdef\u001b[39;00m \u001b[38;5;21mrequire_nonnegint\u001b[39m(name: \u001b[38;5;28mstr\u001b[39m, value: nonnegint) \u001b[38;5;241m-\u001b[39m\u001b[38;5;241m>\u001b[39m \u001b[38;5;28;01mNone\u001b[39;00m:\n\u001b[1;32m     33\u001b[0m     \u001b[38;5;124;03m\"\"\"Raise an exception if value is not a nonnegative integer.\"\"\"\u001b[39;00m\n\u001b[0;32m---> 34\u001b[0m     \u001b[43mrequire_int\u001b[49m\u001b[43m(\u001b[49m\u001b[43mname\u001b[49m\u001b[43m,\u001b[49m\u001b[43m \u001b[49m\u001b[43mvalue\u001b[49m\u001b[43m)\u001b[49m\n\u001b[1;32m     35\u001b[0m     \u001b[38;5;28;01mif\u001b[39;00m value \u001b[38;5;241m<\u001b[39m \u001b[38;5;241m0\u001b[39m:\n\u001b[1;32m     36\u001b[0m         \u001b[38;5;28;01mraise\u001b[39;00m \u001b[38;5;167;01mValueError\u001b[39;00m(\u001b[38;5;124mf\u001b[39m\u001b[38;5;124m'\u001b[39m\u001b[38;5;124mvalue of \u001b[39m\u001b[38;5;132;01m{\u001b[39;00mname\u001b[38;5;132;01m}\u001b[39;00m\u001b[38;5;124m is not a nonnegative integer: \u001b[39m\u001b[38;5;132;01m{\u001b[39;00mvalue\u001b[38;5;132;01m}\u001b[39;00m\u001b[38;5;124m'\u001b[39m)\n",
      "File \u001b[0;32m~/Documents/repositories/agryman/acmpy/src/acmpy/compat.py:29\u001b[0m, in \u001b[0;36mrequire_int\u001b[0;34m(name, value)\u001b[0m\n\u001b[1;32m     27\u001b[0m \u001b[38;5;124;03m\"\"\"Raise an exception if value is not an integer.\"\"\"\u001b[39;00m\n\u001b[1;32m     28\u001b[0m \u001b[38;5;28;01mif\u001b[39;00m \u001b[38;5;129;01mnot\u001b[39;00m \u001b[38;5;28misinstance\u001b[39m(value, \u001b[38;5;28mint\u001b[39m):\n\u001b[0;32m---> 29\u001b[0m     \u001b[38;5;28;01mraise\u001b[39;00m \u001b[38;5;167;01mTypeError\u001b[39;00m(\u001b[38;5;124mf\u001b[39m\u001b[38;5;124m'\u001b[39m\u001b[38;5;124mtype of \u001b[39m\u001b[38;5;132;01m{\u001b[39;00mname\u001b[38;5;132;01m}\u001b[39;00m\u001b[38;5;124m is not an int: \u001b[39m\u001b[38;5;132;01m{\u001b[39;00mvalue\u001b[38;5;132;01m}\u001b[39;00m\u001b[38;5;124m'\u001b[39m)\n",
      "\u001b[0;31mTypeError\u001b[0m: type of mu_f is not an int: 0"
     ]
    }
   ],
   "source": [
    "from acmpy.full_space import ACM_Scale\n",
    "\n",
    "ACM_Scale(RWC_ham_fig5a, sqrt(B), Rational(1, 2), 0, 5, 0, 18, 0, 6)"
   ]
  },
  {
   "cell_type": "code",
   "execution_count": null,
   "id": "33f3e983",
   "metadata": {},
   "outputs": [],
   "source": []
  },
  {
   "cell_type": "code",
   "execution_count": null,
   "id": "6e284668",
   "metadata": {},
   "outputs": [],
   "source": []
  }
 ],
 "metadata": {
  "kernelspec": {
   "display_name": "Python 3 (ipykernel)",
   "language": "python",
   "name": "python3"
  },
  "language_info": {
   "codemirror_mode": {
    "name": "ipython",
    "version": 3
   },
   "file_extension": ".py",
   "mimetype": "text/x-python",
   "name": "python",
   "nbconvert_exporter": "python",
   "pygments_lexer": "ipython3",
   "version": "3.10.0"
  }
 },
 "nbformat": 4,
 "nbformat_minor": 5
}
