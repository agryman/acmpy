{
 "cells": [
  {
   "cell_type": "markdown",
   "id": "cb394129",
   "metadata": {},
   "source": [
    "# ACM 1.4a Examples Worksheet\n",
    "# 2. Basic use of ACM_Scale and ACM_Adapt (Fig 5 of \\[RWC2009\\])\n",
    "\n",
    "*Arthur Ryman, Last Updated: 2022-03-21*\n",
    "\n",
    "This notebook implements Section 2. Basic use of ACM_Scale and ACM_Adapt (Fig 5 of \\[RWC2009\\]).\n",
    "\n",
    "\\[RWC2009\\] Bohr model as an algebraic collective model, Rowe, Welsh and Caprio, PRC79 (2009), 054304 "
   ]
  },
  {
   "cell_type": "markdown",
   "id": "03baf330",
   "metadata": {},
   "source": [
    "We will illustrate these for the case considered for Fig 5 of \\[RWC2009\\]."
   ]
  },
  {
   "cell_type": "markdown",
   "id": "3604b730",
   "metadata": {},
   "source": [
    "## 2.1. Specification of Hamiltonian (necessary for all calculations in Section 2)\n",
    "\n",
    "The most convenient way to specify a Hamiltonian is to use the procedure ACM_Hamiltonian.\n",
    "This yields the encoding of a wide range of (rational) Hamiltonians, and takes (up to) 14 parameters.\n",
    "Here, we consider a Hamiltonian of the type (B12).\n",
    "The following values are used for Fig 5 of \\[RWC2009\\] (therein `alpha=c2`, `c1=1-2*c2`)."
   ]
  },
  {
   "cell_type": "code",
   "execution_count": 1,
   "id": "2ffadee2",
   "metadata": {},
   "outputs": [
    {
     "data": {
      "text/plain": [
       "(20, 3/2, -2, 2, 0)"
      ]
     },
     "execution_count": 1,
     "metadata": {},
     "output_type": "execute_result"
    }
   ],
   "source": [
    "from sympy import Rational, Integer, S\n",
    "\n",
    "B = 20\n",
    "c2 = Rational(3, 2)\n",
    "c1 = 1 - 2 * c2\n",
    "chi = Integer(2)\n",
    "kappa = S.Zero\n",
    "\n",
    "B, c2, c1, chi, kappa"
   ]
  },
  {
   "cell_type": "markdown",
   "id": "3e8be4fe",
   "metadata": {},
   "source": [
    "For these, the non-zero values of the arguments to `ACM_Hamiltonian` are:"
   ]
  },
  {
   "cell_type": "code",
   "execution_count": 2,
   "id": "b405e12f",
   "metadata": {},
   "outputs": [
    {
     "data": {
      "text/plain": [
       "(-1/40, -20, 15, -2, 0)"
      ]
     },
     "execution_count": 2,
     "metadata": {},
     "output_type": "execute_result"
    }
   ],
   "source": [
    "x1 = S.NegativeOne / 2 / B\n",
    "x3 = B * c1 / 2\n",
    "x4 = B * c2 / 2\n",
    "x6 = -chi\n",
    "x10 = kappa\n",
    "\n",
    "x1, x3, x4, x6, x10"
   ]
  },
  {
   "cell_type": "markdown",
   "id": "5e70b5ca",
   "metadata": {},
   "source": [
    "Then obtain the encoding of the Hamiltonian:"
   ]
  },
  {
   "cell_type": "code",
   "execution_count": 3,
   "id": "73a6ba0f",
   "metadata": {},
   "outputs": [
    {
     "data": {
      "text/plain": [
       "((-1/40, (Radial_D2b,)),\n",
       " (SENIORITY*(SENIORITY + 3)/40 + 1/20, (Radial_bm2,)),\n",
       " (-20, (Radial_b2,)),\n",
       " (15, (Radial_b2, Radial_b2)),\n",
       " (-8*pi/3, (Radial_b, SpHarm_310)))"
      ]
     },
     "execution_count": 3,
     "metadata": {},
     "output_type": "execute_result"
    }
   ],
   "source": [
    "from acmpy.internal_operators import ACM_Hamiltonian\n",
    "\n",
    "RWC_ham_fig5a = ACM_Hamiltonian(x1, 0, x3, x4, 0, x6, 0, 0, 0, x10)\n",
    "\n",
    "RWC_ham_fig5a"
   ]
  },
  {
   "cell_type": "markdown",
   "id": "d8fd712d",
   "metadata": {},
   "source": [
    "## 2.2. Diagonalization of Hamiltonian using ACM_Scale\n",
    "\n",
    "To diagonalize, we need to specify the values (a,$λ_0$) to determine the basis.\n",
    "An unsophisticated choice is to use the SHO values a=sqrt(B) and $λ_0$=2.5.\n"
   ]
  },
  {
   "cell_type": "code",
   "execution_count": null,
   "id": "fcd0477d",
   "metadata": {},
   "outputs": [],
   "source": []
  }
 ],
 "metadata": {
  "kernelspec": {
   "display_name": "Python 3 (ipykernel)",
   "language": "python",
   "name": "python3"
  },
  "language_info": {
   "codemirror_mode": {
    "name": "ipython",
    "version": 3
   },
   "file_extension": ".py",
   "mimetype": "text/x-python",
   "name": "python",
   "nbconvert_exporter": "python",
   "pygments_lexer": "ipython3",
   "version": "3.10.0"
  }
 },
 "nbformat": 4,
 "nbformat_minor": 5
}
