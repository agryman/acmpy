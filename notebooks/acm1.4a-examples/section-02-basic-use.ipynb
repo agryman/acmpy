{
 "cells": [
  {
   "cell_type": "markdown",
   "id": "cb394129",
   "metadata": {},
   "source": [
    "# ACM 1.4a Examples Worksheet\n",
    "# 2. Basic use of ACM_Scale and ACM_Adapt (Fig 5 of \\[RWC2009\\])\n",
    "\n",
    "*Arthur Ryman, Last Updated: 2022-06-03*\n",
    "\n",
    "This notebook implements *Section 2. Basic use of ACM_Scale and ACM_Adapt (Fig 5 of \\[RWC2009\\])*.\n",
    "\n",
    "\\[RWC2009\\] Bohr model as an algebraic collective model, Rowe, Welsh and Caprio, PRC79 (2009), 054304 "
   ]
  },
  {
   "cell_type": "markdown",
   "id": "03baf330",
   "metadata": {},
   "source": [
    "We will illustrate these for the case considered for Fig 5 of \\[RWC2009\\]."
   ]
  },
  {
   "cell_type": "markdown",
   "id": "4d239f8e",
   "metadata": {},
   "source": [
    "## 2.0 Set the default output format"
   ]
  },
  {
   "cell_type": "code",
   "execution_count": 1,
   "id": "d1820e52",
   "metadata": {},
   "outputs": [],
   "source": [
    "from acmpy.globals import *\n",
    "\n",
    "ACM_set_defaults(0);"
   ]
  },
  {
   "cell_type": "code",
   "execution_count": 2,
   "id": "04efe525",
   "metadata": {},
   "outputs": [
    {
     "name": "stdout",
     "output_type": "stream",
     "text": [
      "2 decimal places for each displayed value,\n",
      "8 total digits for each displayed value,\n",
      "except 5 decimal places for lowest (absolute) eigenvalue.\n"
     ]
    }
   ],
   "source": [
    "ACM_set_output(2, 8, 5);"
   ]
  },
  {
   "cell_type": "code",
   "execution_count": 3,
   "id": "317711bb",
   "metadata": {},
   "outputs": [
    {
     "name": "stdout",
     "output_type": "stream",
     "text": [
      "Eigenvalues displayed relative to minimal value.\n"
     ]
    }
   ],
   "source": [
    "ACM_set_datum(1);"
   ]
  },
  {
   "cell_type": "code",
   "execution_count": 4,
   "id": "f1020c09",
   "metadata": {},
   "outputs": [
    {
     "name": "stdout",
     "output_type": "stream",
     "text": [
      "Display lowest 6 eigenvalue(s) at each L.\n",
      "Display lowest 4 rate/amplitude(s) in each list.\n"
     ]
    }
   ],
   "source": [
    "ACM_set_listln(6, 4);"
   ]
  },
  {
   "cell_type": "code",
   "execution_count": 5,
   "id": "a5d2d7e5",
   "metadata": {},
   "outputs": [
    {
     "name": "stdout",
     "output_type": "stream",
     "text": [
      "In ACM_Adapt, the scaling factor for relative eigenvalues is chosen such that\n",
      "that for the 2(1) state is 6.000000\n"
     ]
    }
   ],
   "source": [
    "ACM_set_eig_fit(6.0, 2, 1);"
   ]
  },
  {
   "cell_type": "code",
   "execution_count": 6,
   "id": "b5ccb65a",
   "metadata": {},
   "outputs": [
    {
     "name": "stdout",
     "output_type": "stream",
     "text": [
      "In ACM_Adapt, the scaling factor for \"transition rates\" is chosen such that\n",
      "  B(E2: 2(1) -> 0(1)) = 100.000000\n"
     ]
    }
   ],
   "source": [
    "ACM_set_rat_fit(100.0, 2, 0, 1, 1);"
   ]
  },
  {
   "cell_type": "code",
   "execution_count": 7,
   "id": "f0dc1b50",
   "metadata": {},
   "outputs": [
    {
     "data": {
      "text/plain": [
       "'%.3f'"
      ]
     },
     "execution_count": 7,
     "metadata": {},
     "output_type": "execute_result"
    }
   ],
   "source": [
    "%precision 3"
   ]
  },
  {
   "cell_type": "code",
   "execution_count": 8,
   "id": "aae9dbd7",
   "metadata": {},
   "outputs": [],
   "source": [
    "import sympy as sp\n",
    "sp.init_printing()"
   ]
  },
  {
   "cell_type": "markdown",
   "id": "3604b730",
   "metadata": {},
   "source": [
    "## 2.1. Specification of Hamiltonian (necessary for all calculations in Section 2)\n",
    "\n",
    "The most convenient way to specify a Hamiltonian is to use the procedure ACM_Hamiltonian.\n",
    "This yields the encoding of a wide range of (rational) Hamiltonians, and takes (up to) 14 parameters.\n",
    "Here, we consider a Hamiltonian of the type (B12).\n",
    "The following values are used for Fig 5 of \\[RWC2009\\] (therein `alpha=c2`, `c1=1-2*c2`)."
   ]
  },
  {
   "cell_type": "code",
   "execution_count": 9,
   "id": "2ffadee2",
   "metadata": {},
   "outputs": [
    {
     "data": {
      "image/png": "[encoded data removed]",
      "text/latex": [
       "$\\displaystyle \\left( 20, \\  \\frac{3}{2}, \\  -2, \\  2, \\  0\\right)$"
      ],
      "text/plain": [
       "(20, 3/2, -2, 2, 0)"
      ]
     },
     "execution_count": 9,
     "metadata": {},
     "output_type": "execute_result"
    }
   ],
   "source": [
    "from sympy import Rational, Integer, S\n",
    "\n",
    "B = 20\n",
    "c2 = Rational(3, 2)\n",
    "c1 = 1 - 2 * c2\n",
    "chi = Integer(2)\n",
    "kappa = S.Zero\n",
    "\n",
    "B, c2, c1, chi, kappa"
   ]
  },
  {
   "cell_type": "markdown",
   "id": "3e8be4fe",
   "metadata": {},
   "source": [
    "For these, the non-zero values of the arguments to `ACM_Hamiltonian` are:"
   ]
  },
  {
   "cell_type": "code",
   "execution_count": 10,
   "id": "b405e12f",
   "metadata": {},
   "outputs": [
    {
     "data": {
      "image/png": "[encoded data removed]",
      "text/latex": [
       "$\\displaystyle \\left( - \\frac{1}{40}, \\  -20, \\  15, \\  -2, \\  0\\right)$"
      ],
      "text/plain": [
       "(-1/40, -20, 15, -2, 0)"
      ]
     },
     "execution_count": 10,
     "metadata": {},
     "output_type": "execute_result"
    }
   ],
   "source": [
    "x1 = S.NegativeOne / 2 / B\n",
    "x3 = B * c1 / 2\n",
    "x4 = B * c2 / 2\n",
    "x6 = -chi\n",
    "x10 = kappa\n",
    "\n",
    "x1, x3, x4, x6, x10"
   ]
  },
  {
   "cell_type": "markdown",
   "id": "5e70b5ca",
   "metadata": {},
   "source": [
    "Then obtain the encoding of the Hamiltonian:"
   ]
  },
  {
   "cell_type": "code",
   "execution_count": 11,
   "id": "73a6ba0f",
   "metadata": {},
   "outputs": [
    {
     "data": {
      "image/png": "[encoded data removed]",
      "text/latex": [
       "$\\displaystyle \\left( \\left( - \\frac{1}{40}, \\  \\left( Radial_{D2b},\\right)\\right), \\  \\left( \\frac{SENIORITY \\left(SENIORITY + 3\\right)}{40} + \\frac{1}{20}, \\  \\left( Radial_{bm2},\\right)\\right), \\  \\left( -20, \\  \\left( Radial_{b2},\\right)\\right), \\  \\left( 15, \\  \\left( Radial_{b2}, \\  Radial_{b2}\\right)\\right), \\  \\left( - \\frac{8 \\pi}{3}, \\  \\left( Radial_{b}, \\  SpHarm_{310}\\right)\\right)\\right)$"
      ],
      "text/plain": [
       "⎛                        ⎛SENIORITY⋅(SENIORITY + 3)   1                ⎞                                                     ⎛-8⋅π                        ⎞⎞\n",
       "⎜(-1/40, (Radial_D2b,)), ⎜───────────────────────── + ──, (Radial_bm2,)⎟, (-20, (Radial_b2,)), (15, (Radial_b2, Radial_b2)), ⎜─────, (Radial_b, SpHarm₃₁₀)⎟⎟\n",
       "⎝                        ⎝            40              20               ⎠                                                     ⎝  3                         ⎠⎠"
      ]
     },
     "execution_count": 11,
     "metadata": {},
     "output_type": "execute_result"
    }
   ],
   "source": [
    "from acmpy.internal_operators import ACM_Hamiltonian\n",
    "\n",
    "RWC_ham_fig5a = ACM_Hamiltonian(x1, 0, x3, x4, 0, x6, 0, 0, 0, x10)\n",
    "\n",
    "RWC_ham_fig5a"
   ]
  },
  {
   "cell_type": "markdown",
   "id": "d8fd712d",
   "metadata": {},
   "source": [
    "## 2.2. Diagonalization of Hamiltonian using ACM_Scale\n",
    "\n",
    "To diagonalize, we need to specify the values (a,$λ_0$) to determine the basis.\n",
    "An unsophisticated choice is to use the SHO values a=sqrt(B) and $λ_0$=2.5.\n"
   ]
  },
  {
   "cell_type": "markdown",
   "id": "9d954ee4",
   "metadata": {},
   "source": [
    "### Example 2.2 a"
   ]
  },
  {
   "cell_type": "code",
   "execution_count": 12,
   "id": "fcd0477d",
   "metadata": {},
   "outputs": [
    {
     "name": "stdout",
     "output_type": "stream",
     "text": [
      "Lowest eigenvalue is -6.34376. Relative eigenvalues follow (each divided by 1.00000):\n",
      "  At L= 0: [    0.00,    1.56,    1.99,    2.86,    3.61,    4.09]\n",
      "  At L= 2: [    0.10,    0.97,    1.74,    2.19,    2.38,    3.05]\n",
      "  At L= 3: [    1.11,    2.70,    3.32,    4.58,    5.12,    5.43]\n",
      "  At L= 4: [    0.30,    1.23,    1.92,    2.08,    2.41,    2.80]\n",
      "  At L= 5: [    1.41,    2.20,    3.22,    3.64,    3.89,    4.47]\n",
      "  At L= 6: [    0.61,    1.58,    2.35,    2.49,    2.83,    2.88]\n",
      "CPU times: user 3.04 s, sys: 311 ms, total: 3.35 s\n",
      "Wall time: 1.75 s\n"
     ]
    }
   ],
   "source": [
    "from sympy import sqrt\n",
    "from acmpy.full_space import ACM_Scale\n",
    "\n",
    "%time _ = ACM_Scale(RWC_ham_fig5a, sqrt(B), 2.5, 0, 5, 0, 18, 0, 6)"
   ]
  },
  {
   "cell_type": "markdown",
   "id": "c9ceabed",
   "metadata": {},
   "source": [
    "### Example 2.2 b\n",
    "\n",
    "Let's increase the number of radial states until we achieve stability..."
   ]
  },
  {
   "cell_type": "code",
   "execution_count": 13,
   "id": "6e284668",
   "metadata": {},
   "outputs": [
    {
     "name": "stdout",
     "output_type": "stream",
     "text": [
      "Lowest eigenvalue is -6.33961. Relative eigenvalues follow (each divided by 1.00000):\n",
      "  At L= 0: [    0.00,    1.57,    2.12,    2.89,    3.61,    4.23]\n",
      "  At L= 2: [    0.10,    0.97,    1.78,    2.25,    2.39,    3.16]\n",
      "  At L= 3: [    1.11,    2.75,    3.37,    4.57,    5.07,    5.67]\n",
      "  At L= 4: [    0.31,    1.24,    1.92,    2.11,    2.52,    2.82]\n",
      "  At L= 5: [    1.43,    2.20,    3.24,    3.76,    3.94,    4.57]\n",
      "  At L= 6: [    0.61,    1.58,    2.38,    2.54,    2.88,    2.91]\n",
      "CPU times: user 4.69 s, sys: 375 ms, total: 5.07 s\n",
      "Wall time: 3.12 s\n"
     ]
    }
   ],
   "source": [
    "%time _ = ACM_Scale(RWC_ham_fig5a, sqrt(B), 2.5, 0, 10, 0, 18, 0, 6)"
   ]
  },
  {
   "cell_type": "markdown",
   "id": "9a347c43",
   "metadata": {},
   "source": [
    "### Example 2.2 c"
   ]
  },
  {
   "cell_type": "code",
   "execution_count": 14,
   "id": "dd87ead9",
   "metadata": {},
   "outputs": [
    {
     "name": "stdout",
     "output_type": "stream",
     "text": [
      "Lowest eigenvalue is -6.33961. Relative eigenvalues follow (each divided by 1.00000):\n",
      "  At L= 0: [    0.00,    1.57,    2.12,    2.89,    3.61,    4.23]\n",
      "  At L= 2: [    0.10,    0.97,    1.78,    2.25,    2.39,    3.16]\n",
      "  At L= 3: [    1.11,    2.75,    3.37,    4.57,    5.07,    5.67]\n",
      "  At L= 4: [    0.31,    1.24,    1.92,    2.11,    2.52,    2.82]\n",
      "  At L= 5: [    1.42,    2.20,    3.24,    3.76,    3.94,    4.57]\n",
      "  At L= 6: [    0.61,    1.58,    2.38,    2.54,    2.88,    2.91]\n",
      "CPU times: user 6.78 s, sys: 415 ms, total: 7.2 s\n",
      "Wall time: 5.21 s\n"
     ]
    }
   ],
   "source": [
    "%time _ = ACM_Scale(RWC_ham_fig5a, sqrt(B), 2.5, 0, 15, 0, 18, 0, 6)"
   ]
  },
  {
   "cell_type": "markdown",
   "id": "3bbbbc31",
   "metadata": {},
   "source": [
    "Thus, here, 10 radial states seem to be enough. We'll use that below."
   ]
  },
  {
   "cell_type": "markdown",
   "id": "1c8b734a",
   "metadata": {},
   "source": [
    "## 2.3. Calculating transition rates and amplitudes\n",
    "\n",
    "If transition rates and amplitudes are required, they are specified using\n",
    "the following two procedures:"
   ]
  },
  {
   "cell_type": "code",
   "execution_count": 15,
   "id": "8588644e",
   "metadata": {},
   "outputs": [
    {
     "data": {
      "image/png": "[encoded data removed]",
      "text/latex": [
       "$\\displaystyle 4$"
      ],
      "text/plain": [
       "4"
      ]
     },
     "execution_count": 15,
     "metadata": {},
     "output_type": "execute_result"
    }
   ],
   "source": [
    "ACM_set_rat_lst(((2,0,1,1),(4,2,1,1),(6,4,1,1),(8,6,1,1)))"
   ]
  },
  {
   "cell_type": "code",
   "execution_count": 16,
   "id": "c5bbac0d",
   "metadata": {},
   "outputs": [
    {
     "data": {
      "image/png": "[encoded data removed]",
      "text/latex": [
       "$\\displaystyle 1$"
      ],
      "text/plain": [
       "1"
      ]
     },
     "execution_count": 16,
     "metadata": {},
     "output_type": "execute_result"
    }
   ],
   "source": [
    "ACM_set_amp_lst(((2,2,1,1),))"
   ]
  },
  {
   "cell_type": "markdown",
   "id": "e9f49ddd",
   "metadata": {},
   "source": [
    "### Example 2.3 a\n",
    "\n",
    "Produce raw eigenvalues, transition rates and an amplitude."
   ]
  },
  {
   "cell_type": "code",
   "execution_count": 17,
   "id": "f5f2f344",
   "metadata": {},
   "outputs": [
    {
     "name": "stdout",
     "output_type": "stream",
     "text": [
      "Lowest eigenvalue is -6.33961. Relative eigenvalues follow (each divided by 1.00000):\n",
      "  At L= 0: [    0.00,    1.57,    2.12,    2.89,    3.61,    4.23]\n",
      "  At L= 2: [    0.10,    0.97,    1.78,    2.25,    2.39,    3.16]\n",
      "  At L= 3: [    1.11,    2.75,    3.37,    4.57,    5.07,    5.67]\n",
      "  At L= 4: [    0.31,    1.24,    1.92,    2.11,    2.52,    2.82]\n",
      "  At L= 5: [    1.43,    2.20,    3.24,    3.76,    3.94,    4.57]\n",
      "  At L= 6: [    0.61,    1.58,    2.38,    2.54,    2.88,    2.91]\n",
      "Selected transition rates follow (each divided by 1.00000):\n",
      "  B(E2: 2(1) -> 0(1)) =     0.13\n",
      "  B(E2: 4(1) -> 2(1)) =     0.19\n",
      "  B(E2: 6(1) -> 4(1)) =     0.22\n",
      "Selected transition amplitudes follow (each divided by 1.00000):\n",
      "  Amp( 2(1) -> 2(1) ) =    -0.22\n",
      "CPU times: user 7.39 s, sys: 476 ms, total: 7.87 s\n",
      "Wall time: 5.87 s\n"
     ]
    }
   ],
   "source": [
    "%time _ = ACM_Scale(RWC_ham_fig5a, sqrt(B), 2.5, 0, 10, 0, 18, 0, 6)"
   ]
  },
  {
   "cell_type": "markdown",
   "id": "3db7ed05",
   "metadata": {},
   "source": [
    "### Example 2.3 b\n",
    "\n",
    "We can specify additional transition rates and amplitudes using"
   ]
  },
  {
   "cell_type": "code",
   "execution_count": 18,
   "id": "d91f8ca9",
   "metadata": {},
   "outputs": [
    {
     "data": {
      "image/png": "[encoded data removed]",
      "text/latex": [
       "$\\displaystyle 8$"
      ],
      "text/plain": [
       "8"
      ]
     },
     "execution_count": 18,
     "metadata": {},
     "output_type": "execute_result"
    }
   ],
   "source": [
    "ACM_add_rat_lst(((2,2,1,1),(4,4,1,1),(6,6,1,1),(8,8,1,1)))"
   ]
  },
  {
   "cell_type": "code",
   "execution_count": 19,
   "id": "7905e940",
   "metadata": {},
   "outputs": [
    {
     "data": {
      "image/png": "[encoded data removed]",
      "text/latex": [
       "$\\displaystyle 2$"
      ],
      "text/plain": [
       "2"
      ]
     },
     "execution_count": 19,
     "metadata": {},
     "output_type": "execute_result"
    }
   ],
   "source": [
    "ACM_add_amp_lst(((2, 2, 2, 2),))"
   ]
  },
  {
   "cell_type": "code",
   "execution_count": 20,
   "id": "de1faae5",
   "metadata": {},
   "outputs": [
    {
     "name": "stdout",
     "output_type": "stream",
     "text": [
      "Lowest eigenvalue is -6.33961. Relative eigenvalues follow (each divided by 1.00000):\n",
      "  At L= 0: [    0.00,    1.57,    2.12,    2.89,    3.61,    4.23]\n",
      "  At L= 2: [    0.10,    0.97,    1.78,    2.25,    2.39,    3.16]\n",
      "  At L= 3: [    1.11,    2.75,    3.37,    4.57,    5.07,    5.67]\n",
      "  At L= 4: [    0.31,    1.24,    1.92,    2.11,    2.52,    2.82]\n",
      "  At L= 5: [    1.43,    2.20,    3.24,    3.76,    3.94,    4.57]\n",
      "  At L= 6: [    0.61,    1.58,    2.38,    2.54,    2.88,    2.91]\n",
      "Selected transition rates follow (each divided by 1.00000):\n",
      "  B(E2: 2(1) -> 0(1)) =     0.13\n",
      "  B(E2: 4(1) -> 2(1)) =     0.19\n",
      "  B(E2: 6(1) -> 4(1)) =     0.22\n",
      "  B(E2: 2(1) -> 2(1)) =     0.17\n",
      "  B(E2: 4(1) -> 4(1)) =     0.15\n",
      "  B(E2: 6(1) -> 6(1)) =     0.13\n",
      "Selected transition amplitudes follow (each divided by 1.00000):\n",
      "  Amp( 2(1) -> 2(1) ) =    -0.22\n",
      "  Amp( 2(2) -> 2(2) ) =     0.22\n",
      "CPU times: user 7.23 s, sys: 407 ms, total: 7.64 s\n",
      "Wall time: 5.9 s\n"
     ]
    }
   ],
   "source": [
    "%time _ = ACM_Scale(RWC_ham_fig5a, sqrt(B), 2.5, 0, 10, 0, 18, 0, 6)"
   ]
  }
 ],
 "metadata": {
  "kernelspec": {
   "display_name": "Python 3 (ipykernel)",
   "language": "python",
   "name": "python3"
  },
  "language_info": {
   "codemirror_mode": {
    "name": "ipython",
    "version": 3
   },
   "file_extension": ".py",
   "mimetype": "text/x-python",
   "name": "python",
   "nbconvert_exporter": "python",
   "pygments_lexer": "ipython3",
   "version": "3.10.4"
  }
 },
 "nbformat": 4,
 "nbformat_minor": 5
}
