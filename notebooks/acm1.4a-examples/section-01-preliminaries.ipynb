{
 "cells": [
  {
   "cell_type": "markdown",
   "id": "76e0b278",
   "metadata": {},
   "source": [
    "# ACM 1.4a Examples Worksheet\n",
    "# 1. Preliminaries\n",
    "\n",
    "*Arthur Ryman, Last Updated: 2022-04-18*\n",
    "\n",
    "This notebook implements Section 1. Preliminaries."
   ]
  },
  {
   "cell_type": "markdown",
   "id": "ccbe0e70",
   "metadata": {},
   "source": [
    "## 1.1 Essentials\n",
    "\n",
    "The Python equivalent of the Maple `restart` command is to restart the kernel\n",
    "which can be done from the Jupyter notebook menu bar."
   ]
  },
  {
   "cell_type": "markdown",
   "id": "df1a5ff9",
   "metadata": {},
   "source": [
    "The Python equivalent of `read acm1.4.mpl` is to import functions, classes, etc. from\n",
    "the appropriate `acmpy` module."
   ]
  },
  {
   "cell_type": "markdown",
   "id": "f8f6149a",
   "metadata": {},
   "source": [
    "Set the defaults using `ACM_set_defaults(show)` where `show` is a flag that either\n",
    "generates or suppresses output."
   ]
  },
  {
   "cell_type": "code",
   "execution_count": 1,
   "id": "f3807fd6",
   "metadata": {},
   "outputs": [],
   "source": [
    "from acmpy.globals import ACM_set_defaults\n",
    "\n",
    "ACM_set_defaults(0)"
   ]
  },
  {
   "cell_type": "code",
   "execution_count": 2,
   "id": "a07ad30f",
   "metadata": {},
   "outputs": [
    {
     "name": "stdout",
     "output_type": "stream",
     "text": [
      "2 decimal places for each displayed value,\n",
      "7 total digits for each displayed value,\n",
      "except 4 decimal places for lowest (absolute) eigenvalue.\n",
      "Display lowest 4 eigenvalue(s) at each L.\n",
      "Display lowest 4 rate/amplitude(s) in each list.\n",
      "Eigenvalues displayed relative to minimal value.\n",
      "Using the ACM parity basis.\n",
      "In ACM_Scale and ACM_Adapt, transition matrix elements now calculated for the operator:\n",
      "transition rates((4*sqrt(15)*pi/15, (Radial_b, SpHarm_112)),)\n",
      "(This has angular momentum 2).\n",
      "\n",
      "These are calculated from the (alternative reduced) transition matrix elements\n",
      "using the procedure: \"<function quad_rat_fun at 0x105b61120>\"\n",
      "Each will be output using the format:\n",
      "    B(E2: {}) = {} L_i(j_i) -> L_f(j_f) *\n",
      "ACM_Scale and ACM_Adapt now set to display \"transition amplitudes\" second.\n",
      "These are calculated from the (alternative reduced) transition matrix elements\n",
      "using the procedure: \"<function quad_amp_fun at 0x1039a2200>\".\n",
      "Each will be output using the format:\n",
      "    Amp( {} ) = {} L_i(j_i) -> L_f(j_f) *\n",
      "\"transition amplitudes\" scaling factor calculated using the procedure: sqrt_fun.\n",
      "In ACM_Adapt, the scaling factor for relative eigenvalues is chosen such that\n",
      "that for the 2(1) state is 6.000000\n",
      "In ACM_Adapt, the scaling factor for \"transition rates\" is chosen such that\n",
      "  B(E2: 2(1) -> 0(1)) = 100.000000\n",
      "Currently, no \"transition rates\" are set to be displayed.\n",
      "Currently, no \"transition amplitudes\" are set to be displayed.\n",
      "Relative eigenenergies to be multiplied by 1.0;\n",
      "\"transition rates\" to be multiplied by 1.0;\n",
      "\"transition amplitudes\" to be multiplied by 1.00000000000000.\n",
      "\n"
     ]
    }
   ],
   "source": [
    "ACM_set_defaults(1)"
   ]
  },
  {
   "cell_type": "markdown",
   "id": "fc1fcf44",
   "metadata": {},
   "source": [
    "Query the version of our code:"
   ]
  },
  {
   "cell_type": "code",
   "execution_count": 3,
   "id": "7e192556",
   "metadata": {},
   "outputs": [
    {
     "data": {
      "text/plain": [
       "'1.4'"
      ]
     },
     "execution_count": 3,
     "metadata": {},
     "output_type": "execute_result"
    }
   ],
   "source": [
    "from acmpy.globals import ACM_version\n",
    "\n",
    "ACM_version"
   ]
  },
  {
   "cell_type": "markdown",
   "id": "6e92b199",
   "metadata": {},
   "source": [
    "User-definable settings are read via the Maple command `read acm1.4-user.mpl`.\n",
    "In Python, this should probably be done by reading a configuration file.\n",
    "This function has not yet been implemented."
   ]
  },
  {
   "cell_type": "markdown",
   "id": "53882888",
   "metadata": {},
   "source": [
    "The location of the precomputed numerical $SO(5)>SO(3)$ Clebsch-Gordan coeffients is a configuration item\n",
    "which is stored in the Maple global variable `SO5CG_Directory`.\n",
    "The Python version uses the class `SO5CGConfig` which stores the location\n",
    "and provides a default location that is used if no location is configured."
   ]
  },
  {
   "cell_type": "code",
   "execution_count": 4,
   "id": "e651d7ef",
   "metadata": {},
   "outputs": [
    {
     "data": {
      "text/plain": [
       "'~/so5cg-data/'"
      ]
     },
     "execution_count": 4,
     "metadata": {},
     "output_type": "execute_result"
    }
   ],
   "source": [
    "from acmpy.so5_so3_cg import SO5CGConfig\n",
    "\n",
    "SO5CGConfig.default_base_directory"
   ]
  },
  {
   "cell_type": "markdown",
   "id": "d68edc1a",
   "metadata": {},
   "source": [
    "Note that the default location is relative to the user's home directory.\n",
    "The location is stored in the class variable `base_directory`\n",
    "which is initialized to `None`."
   ]
  },
  {
   "cell_type": "code",
   "execution_count": 5,
   "id": "ec0ae3d1",
   "metadata": {},
   "outputs": [
    {
     "data": {
      "text/plain": [
       "True"
      ]
     },
     "execution_count": 5,
     "metadata": {},
     "output_type": "execute_result"
    }
   ],
   "source": [
    "SO5CGConfig.base_directory is None"
   ]
  },
  {
   "cell_type": "markdown",
   "id": "a23d1847",
   "metadata": {},
   "source": [
    "The actual location is obtained via the accessor method `get_base_directory()`\n",
    "which returns `base_directory` if it is not `None` and otherwise returns the `default_base_directory` after expanding the `~`."
   ]
  },
  {
   "cell_type": "code",
   "execution_count": 6,
   "id": "3e56d489",
   "metadata": {},
   "outputs": [
    {
     "data": {
      "text/plain": [
       "'/Users/arthurryman/so5cg-data/'"
      ]
     },
     "execution_count": 6,
     "metadata": {},
     "output_type": "execute_result"
    }
   ],
   "source": [
    "SO5CGConfig.get_base_directory()"
   ]
  },
  {
   "cell_type": "markdown",
   "id": "dde94a90",
   "metadata": {},
   "source": [
    "A configuration program must set the location to override the default."
   ]
  },
  {
   "cell_type": "code",
   "execution_count": 7,
   "id": "00394157",
   "metadata": {},
   "outputs": [
    {
     "data": {
      "text/plain": [
       "'/mylocation/so5cg-data/'"
      ]
     },
     "execution_count": 7,
     "metadata": {},
     "output_type": "execute_result"
    }
   ],
   "source": [
    "SO5CGConfig.set_base_directory('/mylocation/so5cg-data/')\n",
    "SO5CGConfig.get_base_directory()"
   ]
  },
  {
   "cell_type": "code",
   "execution_count": 8,
   "id": "3549c492",
   "metadata": {},
   "outputs": [
    {
     "data": {
      "text/plain": [
       "'/Users/arthurryman/so5cg-data/'"
      ]
     },
     "execution_count": 8,
     "metadata": {},
     "output_type": "execute_result"
    }
   ],
   "source": [
    "SO5CGConfig.set_base_directory(None)\n",
    "SO5CGConfig.get_base_directory()"
   ]
  },
  {
   "cell_type": "markdown",
   "id": "3b85e3aa",
   "metadata": {},
   "source": [
    "Test that the CG coefficients can be accessed."
   ]
  },
  {
   "cell_type": "code",
   "execution_count": 9,
   "id": "1fc14e03",
   "metadata": {},
   "outputs": [
    {
     "name": "stdout",
     "output_type": "stream",
     "text": [
      "This file contains 2 CG coefficients\n",
      "(1, 2, 1, 2), 0.5219013\n",
      "(1, 4, 1, 4), 0.4309458\n"
     ]
    }
   ],
   "source": [
    "from acmpy.so5_so3_cg import show_CG_file\n",
    "\n",
    "show_CG_file(2, 3, 1, 0, 5)"
   ]
  },
  {
   "cell_type": "markdown",
   "id": "53c2b9cd",
   "metadata": {},
   "source": [
    "## 1.2 Setting the default output format\n",
    "\n",
    "Here, we specify various parameters used to configure output. Default values of these\n",
    "parameters are already set in the code file \"acm.mpl\", but we'll reset them here for\n",
    "illustrative purposes.\n",
    "The user may reset these values at any point. (The file acm-user.mpl can also be used\n",
    "to set the various parameters: the supplied version contains invocations of each of\n",
    "the setting procedures - each of whose names begin with \"ACM_set\".)\n",
    "\n",
    "Firstly, we specify the number of decimal places in output values, total length of output\n",
    "values, number of decimal places for lowest eigenvalue only."
   ]
  },
  {
   "cell_type": "code",
   "execution_count": 10,
   "id": "c465c209",
   "metadata": {},
   "outputs": [
    {
     "name": "stdout",
     "output_type": "stream",
     "text": [
      "2 decimal places for each displayed value,\n",
      "8 total digits for each displayed value,\n",
      "except 5 decimal places for lowest (absolute) eigenvalue.\n"
     ]
    }
   ],
   "source": [
    "from acmpy.globals import ACM_set_output\n",
    "\n",
    "ACM_set_output(2, 8, 5);"
   ]
  },
  {
   "cell_type": "markdown",
   "id": "e1e3a1f2",
   "metadata": {},
   "source": [
    "Specify that eigenvalues are displayed relative to their lowest value:"
   ]
  },
  {
   "cell_type": "code",
   "execution_count": 11,
   "id": "433d5e9c",
   "metadata": {},
   "outputs": [
    {
     "name": "stdout",
     "output_type": "stream",
     "text": [
      "Eigenvalues displayed relative to minimal value.\n"
     ]
    }
   ],
   "source": [
    "from acmpy.globals import ACM_set_datum\n",
    "\n",
    "ACM_set_datum(1);"
   ]
  },
  {
   "cell_type": "markdown",
   "id": "5d98396b",
   "metadata": {},
   "source": [
    "Thirdly, we specify the number of eigenvalues to display at each L, and the number of\n",
    "transition rates to display when outputting lists (see below)."
   ]
  },
  {
   "cell_type": "code",
   "execution_count": 12,
   "id": "83addc63",
   "metadata": {},
   "outputs": [
    {
     "name": "stdout",
     "output_type": "stream",
     "text": [
      "Display lowest 6 eigenvalue(s) at each L.\n",
      "Display lowest 4 rate/amplitude(s) in each list.\n"
     ]
    }
   ],
   "source": [
    "from acmpy.globals import ACM_set_listln\n",
    "\n",
    "ACM_set_listln(6, 4);"
   ]
  },
  {
   "cell_type": "markdown",
   "id": "464eec7d",
   "metadata": {},
   "source": [
    "The values set by the following two procedures are used by subsequent calls\n",
    "to the procedure ACM_Adapt to choose the scaling factors used in displaying\n",
    "the eigenenergies and transition rates."
   ]
  },
  {
   "cell_type": "code",
   "execution_count": 13,
   "id": "f72592b5",
   "metadata": {},
   "outputs": [
    {
     "name": "stdout",
     "output_type": "stream",
     "text": [
      "In ACM_Adapt, the scaling factor for relative eigenvalues is chosen such that\n",
      "that for the 2(1) state is 6.000000\n"
     ]
    }
   ],
   "source": [
    "from acmpy.globals import ACM_set_eig_fit, ACM_set_rat_fit\n",
    "\n",
    "ACM_set_eig_fit(6.0, 2, 1);"
   ]
  },
  {
   "cell_type": "code",
   "execution_count": 14,
   "id": "dc21ffed",
   "metadata": {},
   "outputs": [
    {
     "name": "stdout",
     "output_type": "stream",
     "text": [
      "In ACM_Adapt, the scaling factor for \"transition rates\" is chosen such that\n",
      "  B(E2: 2(1) -> 0(1)) = 100.000000\n"
     ]
    }
   ],
   "source": [
    "ACM_set_rat_fit(100.0, 2, 0, 1, 1);"
   ]
  },
  {
   "cell_type": "markdown",
   "id": "3a9499c7",
   "metadata": {},
   "source": [
    "Specify that when Maple chooses, it outputs 3 decimal places:\n",
    "```\n",
    "interface(displayprecision=3);\n",
    "```\n",
    "\n",
    "There is no obvious Python equivalent of the Maple `interface` function.\n",
    "However, for Jupyter notebooks, there is a magic command to set precision.\n",
    "Refer to https://ipython.readthedocs.io/en/stable/interactive/magics.html for other magic commands."
   ]
  },
  {
   "cell_type": "code",
   "execution_count": 15,
   "id": "9c229f52",
   "metadata": {},
   "outputs": [
    {
     "data": {
      "text/plain": [
       "3.141592653589793"
      ]
     },
     "execution_count": 15,
     "metadata": {},
     "output_type": "execute_result"
    }
   ],
   "source": [
    "import math\n",
    "\n",
    "math.pi"
   ]
  },
  {
   "cell_type": "code",
   "execution_count": 16,
   "id": "db203982",
   "metadata": {},
   "outputs": [
    {
     "data": {
      "text/plain": [
       "3.142"
      ]
     },
     "execution_count": 16,
     "metadata": {},
     "output_type": "execute_result"
    }
   ],
   "source": [
    "%precision 3\n",
    "\n",
    "math.pi"
   ]
  },
  {
   "cell_type": "markdown",
   "id": "7f36126c",
   "metadata": {},
   "source": [
    "Specify a maximal size to fully display matrices:\n",
    "\n",
    "```\n",
    "interface(rtablesize=16);\n",
    "```\n",
    "\n",
    "There might be a SymPy setting for this."
   ]
  },
  {
   "cell_type": "markdown",
   "id": "cbb67402",
   "metadata": {},
   "source": [
    "Use following for worksheet output (in Maple, worksheets have default 3,\n",
    "and the command interface has default 1):\n",
    "\n",
    "```\n",
    "interface(prettyprint=3)\n",
    "```\n",
    "\n",
    "The Maple Help system says this:\n",
    "\n",
    "### Name: \n",
    "prettyprint\n",
    "\n",
    "### Values: \n",
    "0, 1, 2, or 3\n",
    "\n",
    "### Explanation: \n",
    "The variable that controls the method used to render Maple expressions in the user interface.  Value 0 uses lprint; value 1 uses a two-dimensional, character-based formatter; and higher values use platform-specific rendering methods. In the worksheet interface, values of 2 and 3 use typeset math. Note: Subexpression labeling is on, by default, for prettyprint=2, and off, by default, for prettyprint=3.\n",
    "\n",
    "### Default: \n",
    "3 (in Worksheet interface); 1 (in Command-line interface)\n",
    "\n",
    "This is similar to the SymPy printing system.\n",
    "Refer to https://docs.sympy.org/latest/tutorial/printing.html.\n",
    "\n",
    "The SymPy default for Jupyter is equivalent to Maple level 3 pretty printing."
   ]
  }
 ],
 "metadata": {
  "kernelspec": {
   "display_name": "Python 3 (ipykernel)",
   "language": "python",
   "name": "python3"
  },
  "language_info": {
   "codemirror_mode": {
    "name": "ipython",
    "version": 3
   },
   "file_extension": ".py",
   "mimetype": "text/x-python",
   "name": "python",
   "nbconvert_exporter": "python",
   "pygments_lexer": "ipython3",
   "version": "3.10.0"
  }
 },
 "nbformat": 4,
 "nbformat_minor": 5
}
