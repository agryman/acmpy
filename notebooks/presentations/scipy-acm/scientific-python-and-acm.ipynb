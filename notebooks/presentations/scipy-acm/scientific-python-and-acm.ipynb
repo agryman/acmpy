{
 "cells": [
  {
   "cell_type": "markdown",
   "id": "35d24164",
   "metadata": {
    "slideshow": {
     "slide_type": "slide"
    }
   },
   "source": [
    "## The Scientific Python Ecosystem as a Platform for the Algebraic Collective Model\n",
    "\n",
    "*Arthur Ryman, 2022-06-04*\n",
    "\n",
    "### A symposium celebrating the life and work of Prof. David Rowe"
   ]
  },
  {
   "cell_type": "markdown",
   "id": "92fc0fac",
   "metadata": {
    "slideshow": {
     "slide_type": "slide"
    }
   },
   "source": [
    "## Abstract\n",
    "\n",
    "* Computers have become indispensible for deriving experimental predications from theoretical models\n",
    "* Advances in theory, such as the Algebraic Collective Model (ACM), extend the scope of what computers can handle\n",
    "* Historically, a wide variety of computer languages have been used,\n",
    "    * e.g. Fortran, APL, Pascal, C, Mathematica, Maple, ...\n",
    "* The recent explosion of Internet data has stimulated the development of a powerful software and hardware stack for efficiently processing it\n",
    "* Python has emerged as the dominant platform for Data Science and Machine Learning\n",
    "* Python has a rich set of scientific capabilities that also make it well-suited for physics\n",
    "* this presentation reports on my experience converting the Welsh-Rowe ACM code from Maple to Python\n",
    "* based on this exercise, I conclude that Python is a very appropriate platform for the ACM and has many advantages over the alternatives"
   ]
  },
  {
   "cell_type": "markdown",
   "id": "b3759a3b",
   "metadata": {
    "slideshow": {
     "slide_type": "slide"
    }
   },
   "source": [
    "## Outline\n",
    "\n",
    "* Background\n",
    "* The Algebraic Collective Model\n",
    "* The Scientific Python Ecosystem\n",
    "* Next Steps"
   ]
  },
  {
   "cell_type": "markdown",
   "id": "f4b14c2e",
   "metadata": {
    "slideshow": {
     "slide_type": "slide"
    }
   },
   "source": [
    "## Background\n",
    "\n",
    "* 1977: met David and George Rosensteel at Mathematical Physics conference in Tubingen, Germany\n",
    "    * argued with George about bases of separable Hibert spaces\n",
    "* 1978-79: joined David's research team at U. of Toronto\n",
    "    * worked with George and Julianna Carvahlo\n",
    "* 1980-2021: left Academia and went over to the *Dark Side* (software engineering)\n",
    "    * maintained close friendship with David\n",
    "    * discussed math, physics, computing\n",
    "    * squash, badminton, sushi, scotch\n",
    "* 2019-06-24: BBQ lunch with David and family\n",
    "    * David is dissappointed with slow adoption of ACM code, citing Maple as an obstacle\n",
    "    * Arthur suggests conversion to Python, and volunteers\n",
    "* 2019-2022: *Dark Side* distractions prevent progress\n",
    "* 2022-03-04: Only three months left before symposium!\n",
    "    * focus on creating the Python code, aka `acmpy`"
   ]
  },
  {
   "cell_type": "markdown",
   "id": "9eaaa884",
   "metadata": {
    "slideshow": {
     "slide_type": "slide"
    }
   },
   "source": [
    "## 2019-06-25 Email\n",
    "\n",
    "Hi Arthur\n",
    "\n",
    "...\n",
    "\n",
    "\n",
    "Thus, we are optimistic that with a readily available computer code, the ACM, which can easily handle the full ACM with a variety of Hamiltonians, including its adiabatic and other approximations, would become a generally used tool.  But, no doubt I am being overly optimistic.  **That was our original hope but the use of Maple proved (I am assuming) to be the obstacle to this happening.**\n",
    "\n",
    "My guess is that the most widely used computer languages are C, fortran, and python (but really I am only guessing).  It would seem to make most sense, if we consulted the journal Comput. Phys. Commun.\n",
    "and if, for example, they would want to publish a short note with the inclusion of the more useable code **(I recall that, when we first submitted the code, they mentioned that the language would be a barrier to its usage, but at that point we were already committed)**.  I had no idea that Maple is now offering conversion possibilities.  It does seem like the way to go.\n",
    "\n",
    "...\n",
    "\n",
    "David"
   ]
  },
  {
   "cell_type": "markdown",
   "id": "9e2f99ca",
   "metadata": {
    "slideshow": {
     "slide_type": "slide"
    }
   },
   "source": [
    "## Collective Motion\n",
    "\n",
    "* *Collective Motion* is a phenomenon that may emerge when many individuals interact\n",
    "* [schools of fish](https://www.sciencefocus.com/nature/how-do-schools-of-fish-swim-in-perfect-unison/)\n",
    "* [murmurations of starlings](https://birdwatchireland.ie/have-you-seen-this-bird-and-tens-of-thousands-of-its-friends-murmuration-records-wanted/)\n",
    "* protons and neutrons in an atomic nucleus\n",
    "    * *The Liquid-Drop Model* by Niels Bohr\n",
    "    * *The Collective Model* by Aage Bohr, Ben Mottelson, and James Rainwater [1975 Nobel Prize for Physics](https://physicstoday.scitation.org/doi/abs/10.1063/1.3069269?journalCode=pto)"
   ]
  },
  {
   "cell_type": "markdown",
   "id": "392efd1a",
   "metadata": {
    "slideshow": {
     "slide_type": "subslide"
    }
   },
   "source": [
    "![How do schools of fish swim in perfect unison?](GettyImages-466221663-24bc935.jpeg)"
   ]
  },
  {
   "cell_type": "markdown",
   "id": "afa6a887",
   "metadata": {
    "slideshow": {
     "slide_type": "subslide"
    }
   },
   "source": [
    "![Have you seen this bird](Templeludigan-Murmuration-ED01-high-res-Edward-Delaney.jpg)"
   ]
  },
  {
   "cell_type": "markdown",
   "id": "067e5449",
   "metadata": {
    "slideshow": {
     "slide_type": "slide"
    }
   },
   "source": [
    "## Algebraic Models\n",
    "\n",
    "* quantum mechanics is normally formulated in terms of the Schrödinger equation\n",
    "* the Schrödinger equation is a differential equation that the wave function satisfies\n",
    "* most differential equations do not have \"simple\" solutions, but can, in principle, be solved numerically by a sufficiently powerful computer\n",
    "* often (always?) the existence of a simple solution traces its origin to an underlying symmetry\n",
    "    * e.g. rotational symmetry\n",
    "* in this case, the differential equation can be expressed in terms of the symmetry operators and the solutions can be found algebraically\n",
    "* the most well-known example is the harmonic oscillator\n",
    "    * the underlying symmetry is symplectic\n"
   ]
  },
  {
   "cell_type": "markdown",
   "id": "94c8cca6",
   "metadata": {
    "slideshow": {
     "slide_type": "slide"
    }
   },
   "source": [
    "## The Algebraic Collective Model of the Atomic Nucleus\n",
    "\n",
    "* consider a nucleus that contains $N$ nucleons\n",
    "    * $N > 200$ for the heaviest elements, e.g. $^{235}U$\n",
    "* the position of each nucleon is given by three coordinates\n",
    "* the state of a quantum system is given by a wave function defined on its configuration space\n",
    "* the total dimension of the configuration space for the atomic nucleus is $3N$\n",
    "    * no conceivable classical computer could ever directly solve the Schrödinger for large $N$\n",
    "    * a future quantum computer *might* be able to solve it\n",
    "* the ACM dramatically reduces the number of coordinates to just *five* known as the *quadrupole moments*\n",
    "* the ACM has two underlying symmetries that enable an algebraic solution of the Schrödinger equation\n",
    "    * $SO(5)$ which is associated with the orientation of the quadrupole moment\n",
    "    * $SU(1,1)$ which is associated with the magnitude of the quadrupole moment"
   ]
  },
  {
   "cell_type": "markdown",
   "id": "81101fcf",
   "metadata": {
    "slideshow": {
     "slide_type": "slide"
    }
   },
   "source": [
    "## The 2015 Welsh-Rowe ACM Code\n",
    "\n",
    "* [A computer code for calculations in the algebraic collective model of the atomic nucleus](https://doi.org/10.1016/j.cpc.2015.10.017)\n",
    "    * available online 2015, published 2016 in Computer Physics Communications\n",
    "    * 5571 lines of commented Maple source code\n",
    "    * data files containing precomputed $SO(5)$-$SO(3)$ Clebsch-Gordan coefficients\n",
    "    * large Maple worksheet containing examples of use and tests\n",
    "* allows the user to define a Hamiltonian based on the $SU(1,1)$ and $SO(5)$ operators and solve it\n",
    "    * find the lowest energy levels and states\n",
    "    * compute the electric dipole transition amplitudes and rates"
   ]
  },
  {
   "cell_type": "markdown",
   "id": "0a4dd547",
   "metadata": {
    "slideshow": {
     "slide_type": "slide"
    }
   },
   "source": [
    "## Demo of ACM Maple Code\n",
    "\n",
    "![ACM Maple Demo](acm-maple-demo.png)"
   ]
  }
 ],
 "metadata": {
  "celltoolbar": "Slideshow",
  "kernelspec": {
   "display_name": "Python 3 (ipykernel)",
   "language": "python",
   "name": "python3"
  },
  "language_info": {
   "codemirror_mode": {
    "name": "ipython",
    "version": 3
   },
   "file_extension": ".py",
   "mimetype": "text/x-python",
   "name": "python",
   "nbconvert_exporter": "python",
   "pygments_lexer": "ipython3",
   "version": "3.10.0"
  }
 },
 "nbformat": 4,
 "nbformat_minor": 5
}
