{
 "cells": [
  {
   "cell_type": "markdown",
   "id": "35d24164",
   "metadata": {
    "slideshow": {
     "slide_type": "slide"
    }
   },
   "source": [
    "## The Scientific Python Ecosystem as a Platform for the Algebraic Collective Model\n",
    "\n",
    "*Arthur Ryman, 2022-06-04*\n",
    "\n",
    "### A symposium celebrating the life and work of Prof. David Rowe"
   ]
  },
  {
   "cell_type": "markdown",
   "id": "92fc0fac",
   "metadata": {
    "slideshow": {
     "slide_type": "slide"
    }
   },
   "source": [
    "## Abstract\n",
    "\n",
    "* Advances in theory, such as The Algebraic Collective Model (ACM) of the Atomic Nucleus, extend the range of physical systems that computers can model\n",
    "* Historically, many computer languages have been used for implementing physical models\n",
    "    * e.g. Fortran, APL, Pascal, C, C++, Mathematica, Maple, Matlab, ...\n",
    "* The recent explosion of Internet data has stimulated the development of a powerful software and hardware stack for efficiently processing it\n",
    "* Python has emerged as the dominant platform for Data Science and Machine Learning\n",
    "* Python now has a rich set of scientific capabilities that also make it well-suited for physics\n",
    "* This presentation reports on my experience converting the Welsh-Rowe ACM code from Maple to Python\n",
    "* Based on this exercise, I argue that:\n",
    "    * Python is a very appropriate platform for the ACM and for quantum mechanics in general \n",
    "    * Python has many engineering and economic advantages over special purpose computer algebra systems such as Maple, Mathematica, and Matlab"
   ]
  },
  {
   "cell_type": "markdown",
   "id": "b3759a3b",
   "metadata": {
    "slideshow": {
     "slide_type": "slide"
    }
   },
   "source": [
    "## Outline\n",
    "\n",
    "* Background\n",
    "* The Algebraic Collective Model (ACM) of the Atomic Nucleus\n",
    "* Python and its Scientific Ecosystem\n",
    "* Next Steps\n",
    "* Conclusion"
   ]
  },
  {
   "cell_type": "markdown",
   "id": "dda7bb00",
   "metadata": {
    "slideshow": {
     "slide_type": "slide"
    }
   },
   "source": [
    "## Background\n",
    "\n",
    "* 1977: met David and George Rosensteel at Mathematical Physics conference in Tubingen, Germany\n",
    "    * argued with George about bases of separable Hibert spaces :-)\n",
    "* 1978-79: joined David's research team at U. of Toronto\n",
    "    * worked with George and Julianna Carvalho\n",
    "* 1980-2021: I become a professional software engineer, but ...\n",
    "    * maintained close friendship with David\n",
    "    * discussed math, physics, computing\n",
    "    * played squash, badminton\n",
    "    * enjoyed sushi, scotch\n",
    "* 2019-06-24: hosted lunch with David and family\n",
    "    * David is dissappointed with low adoption rate of ACM code :-(\n",
    "        * cites Maple as an obstacle\n",
    "    * I suggest conversion to Python and start `acmpy` project"
   ]
  },
  {
   "cell_type": "markdown",
   "id": "7d552229",
   "metadata": {
    "slideshow": {
     "slide_type": "slide"
    }
   },
   "source": [
    "## 2019-06-25 Email\n",
    "\n",
    "Hi Arthur\n",
    "\n",
    "...\n",
    "\n",
    "\n",
    "Thus, we are optimistic that with a readily available computer code, the ACM, which can easily handle the full ACM with a variety of Hamiltonians, including its adiabatic and other approximations, would become a generally used tool.  But, no doubt I am being overly optimistic.  **That was our original hope but the use of Maple proved (I am assuming) to be the obstacle to this happening.**\n",
    "\n",
    "My guess is that the most widely used computer languages are C, fortran, and python (but really I am only guessing).  It would seem to make most sense, if we consulted the journal Comput. Phys. Commun.\n",
    "and if, for example, they would want to publish a short note with the inclusion of the more useable code **(I recall that, when we first submitted the code, they mentioned that the language would be a barrier to its usage, but at that point we were already committed)**. \n",
    "\n",
    "...\n",
    "\n",
    "David"
   ]
  },
  {
   "cell_type": "markdown",
   "id": "7bc6c181",
   "metadata": {
    "slideshow": {
     "slide_type": "slide"
    }
   },
   "source": [
    "## Background cont'd\n",
    "\n",
    "* 2019-2021: professional obligations delay `acmpy` progress\n",
    "* 2022-03-04: symposium date locked in\n",
    "    * push to complete `acmpy` development\n",
    "* 2022-04-12: initial version complete!"
   ]
  },
  {
   "cell_type": "markdown",
   "id": "11d57c6e",
   "metadata": {
    "slideshow": {
     "slide_type": "slide"
    }
   },
   "source": [
    "## Collective Motion\n",
    "\n",
    "* *Collective Motion* is a phenomenon that sometimes emerges when many individuals interact with each other in simple ways\n",
    "* [schools of fish](https://www.sciencefocus.com/nature/how-do-schools-of-fish-swim-in-perfect-unison/)\n",
    "* [murmurations of starlings](https://birdwatchireland.ie/have-you-seen-this-bird-and-tens-of-thousands-of-its-friends-murmuration-records-wanted/)\n",
    "* protons and neutrons in an atomic nucleus\n",
    "    * *The Liquid-Drop Model* by Niels Bohr\n",
    "    * *The Collective Model* by Aage Bohr, Ben Mottelson, and James Rainwater [1975 Nobel Prize for Physics](https://physicstoday.scitation.org/doi/abs/10.1063/1.3069269?journalCode=pto)"
   ]
  },
  {
   "cell_type": "markdown",
   "id": "392efd1a",
   "metadata": {
    "slideshow": {
     "slide_type": "subslide"
    }
   },
   "source": [
    "## Collective Motion in a School of Fish\n",
    "\n",
    "![How do schools of fish swim in perfect unison?](images/GettyImages-466221663-24bc935.jpeg)"
   ]
  },
  {
   "cell_type": "markdown",
   "id": "afa6a887",
   "metadata": {
    "slideshow": {
     "slide_type": "subslide"
    }
   },
   "source": [
    "## Collective Motion in a Murmuration of Starlings\n",
    "\n",
    "![starling murmuration](images/wildlife-trusts-starling-murmuration-dusk-david-tipling-2020vision.jpeg)"
   ]
  },
  {
   "cell_type": "markdown",
   "id": "067e5449",
   "metadata": {
    "slideshow": {
     "slide_type": "slide"
    }
   },
   "source": [
    "## Algebraic Models\n",
    "\n",
    "* quantum mechanics is normally formulated in terms of the Schrödinger differential equation for the wave function of a system\n",
    "    * e.g. an atomic nucleus\n",
    "* most differential equations do not have \"simple\" solutions, but can, in principle, be solved numerically by a sufficiently powerful computer\n",
    "* often (always?) the existence of a simple solution owes its existence to an underlying symmetry group\n",
    "    * e.g. rotations in space\n",
    "* in this case, the differential equation can be expressed in terms of the group operators\n",
    "    * the solutions can be found algebraically\n",
    "    * i.e. \"without\" solving the differential equation\n",
    "* the most well-known example is the harmonic oscillator\n",
    "    * e.g. a weight on a spring\n",
    "    * the underlying symmetry is symplectic\n"
   ]
  },
  {
   "cell_type": "markdown",
   "id": "7d40e474",
   "metadata": {
    "slideshow": {
     "slide_type": "slide"
    }
   },
   "source": [
    "## Quantum Mechanics of the Atomic Nucleus\n",
    "\n",
    "* consider a nucleus that contains $N$ nucleons (protons and neutrons)\n",
    "    * e.g. $N = 235$ for $^{235}U$ \n",
    "* the position of each nucleon is given by three spatial coordinates: $x, y, z$\n",
    "* the configuration of the nucleus is given by the position of each nucleon\n",
    "* the total dimension of the configuration space for the nucleus is therefore $3N$\n",
    "* the quantum state of a system is given by a complex wave function defined on its configuration space\n",
    "* therefore the wave function of the nucleus is given by a complex function of $3N$ real variables\n",
    "* **no conceivable classical computer could ever directly solve the Schrödinger equation for large $N$**\n",
    "    * a future quantum computer *might* be able to solve it"
   ]
  },
  {
   "cell_type": "markdown",
   "id": "94c8cca6",
   "metadata": {
    "slideshow": {
     "slide_type": "slide"
    }
   },
   "source": [
    "## The Algebraic Collective Model (ACM) of the Atomic Nucleus\n",
    "\n",
    "* the ACM dramatically reduces the dimension of the configuration space to just *five* \n",
    "* together these five coordinates form the *quadrupole moment tensor*\n",
    "* the ACM has two underlying symmetry groups that enable an algebraic solution of the Schrödinger equation\n",
    "* $SO(5)$ is associated with the *orientation* of the quadrupole moment\n",
    "* $SU(1,1)$ is associated with the *magnitude* of the quadrupole moment"
   ]
  },
  {
   "cell_type": "markdown",
   "id": "c041850b",
   "metadata": {
    "slideshow": {
     "slide_type": "slide"
    }
   },
   "source": [
    "## Quadrupole Moments\n",
    "\n",
    "* think of the swarm of $N$ nucleons as being approximated by a continuous mass distribution in space\n",
    "* the quadrupole moment measures how far the distribution differs from perfect spherical symmetry\n",
    "    * there are five independent components of the quadrupole moment\n",
    "    * an $SO(3)$ rotation in position space induces an $SO(5)$ rotation in quadrupole moment space\n",
    "* the quadrupole moment is mathematically related to the *covariance* of a data set in Statistics\n",
    "* the quadrupole moment is mathematically related to the *volativity* or *beta* of an asset in Finance \n",
    "    * by coincidence (?) the ACM uses the variable *beta* ($\\beta$) for the magnitude of the quadrupole moment!"
   ]
  },
  {
   "cell_type": "markdown",
   "id": "81101fcf",
   "metadata": {
    "slideshow": {
     "slide_type": "slide"
    }
   },
   "source": [
    "## The 2015 Welsh-Rowe ACM Code\n",
    "\n",
    "* [A computer code for calculations in the algebraic collective model of the atomic nucleus](https://doi.org/10.1016/j.cpc.2015.10.017)\n",
    "    * 2015: available online\n",
    "    * 2016: published in Computer Physics Communications\n",
    "    * 5571 lines of extensively commented Maple source code\n",
    "    * data files containing precomputed $SO(5) > SO(3)$ Clebsch-Gordan coefficients\n",
    "    * large Maple worksheet containing examples of use and tests\n",
    "* allows the user to define and solve very general Hamiltonians composed from the $SU(1,1)$ and $SO(5)$ operators\n",
    "    * find the lowest energy levels and corresponding quantum states\n",
    "    * compute electric dipole transition amplitudes and rates between the quantum states"
   ]
  },
  {
   "cell_type": "markdown",
   "id": "0a4dd547",
   "metadata": {
    "slideshow": {
     "slide_type": "slide"
    }
   },
   "source": [
    "## Demo of ACM Maple Code\n",
    "\n",
    "![ACM Maple Demo](images/acm-maple-demo.png)"
   ]
  },
  {
   "cell_type": "markdown",
   "id": "9336ee5f",
   "metadata": {
    "slideshow": {
     "slide_type": "subslide"
    }
   },
   "source": [
    "## `acm16` on GitHub\n",
    "\n",
    "![acm16](images/github-agryman-acm16.png)"
   ]
  },
  {
   "cell_type": "markdown",
   "id": "ed5414d1",
   "metadata": {
    "slideshow": {
     "slide_type": "slide"
    }
   },
   "source": [
    "## Demo of `acmpy`\n",
    "\n",
    "![acmpy Demo](images/acmpy-demo.png)"
   ]
  },
  {
   "cell_type": "markdown",
   "id": "1318591f",
   "metadata": {
    "slideshow": {
     "slide_type": "subslide"
    }
   },
   "source": [
    "## `acmpy` on GitHub\n",
    "\n",
    "![acmpy](images/github-agryman-acmpy.png)"
   ]
  },
  {
   "cell_type": "markdown",
   "id": "b35c30d9",
   "metadata": {},
   "source": [
    "## Programming Languages Previously Used ACM Work\n",
    "\n",
    "| Year | Language | Authors | Code |\n",
    "|------|------|---------|----------|\n",
    "| 2008 | C++ | T.A. Welsh | Calculation of SO(5) > SO(3) Clebsch-Gordan coefficients |\n",
    "| 2009 | Mathematica | M.A.Caprio, D.J.Rowe, T.A.Welsh | Construction of SO(5) > SO(3) spherical harmonics and Clebsch–Gordan coefficients |\n",
    "| 2015 | Maple | T.A.Welsh, D.J.Rowe | A computer code for calculations in the algebraic collective model of the atomic nucleus |\n",
    "\n",
    "* I suggest that standardizing on a common programming language would \n",
    "    * reduce training, \n",
    "    * promote reuse, and \n",
    "    * increase productivity\n",
    "* I argue that Python is currently the best choice"
   ]
  },
  {
   "cell_type": "markdown",
   "id": "14fb1026",
   "metadata": {
    "slideshow": {
     "slide_type": "slide"
    }
   },
   "source": [
    "## Python\n",
    "\n",
    "* [Python](https://python.org) is a well-designed, general purpose programming language\n",
    "    * dynamically typed\n",
    "    * object-oriented\n",
    "    * functional programming features\n",
    "* interpretted (not compiled)\n",
    "    * but performance-critical parts are coded in C\n",
    "    * existing libraries (e.g. LAPACK) written in any compiled language can be called from Python\n",
    "* built-in high-level mathematical features\n",
    "    * exact integer arithmetic\n",
    "    * high precision real and complex numbers\n",
    "    * sets, lists, tuples, and maps (dictionaries)"
   ]
  },
  {
   "cell_type": "markdown",
   "id": "5374cb99",
   "metadata": {
    "slideshow": {
     "slide_type": "slide"
    }
   },
   "source": [
    "## Python cont'd\n",
    "\n",
    "* free and open source\n",
    "    * governed by the [Python Software Foundation](https://python.org/psf-landing/)\n",
    "* huge collection of third-party packages, e.g.\n",
    "    * matplotlib, mpmath, NumPy, SciPy, SymPy, pandas, ...\n",
    "    * [pytest](https://pytest.org/) for test case development and automation\n",
    "    * [mypy](http://mypy-lang.org) for static type checking based on type hints\n",
    "* [PyPi](https://pypi.org) Python Package Index\n",
    "* many excellent integrated development environments\n",
    "    * I use [JetBrains PyCharm](https://www.jetbrains.com/pycharm/)"
   ]
  },
  {
   "cell_type": "markdown",
   "id": "a8603d32",
   "metadata": {
    "slideshow": {
     "slide_type": "subslide"
    }
   },
   "source": [
    "## Python\n",
    "\n",
    "![python.org](images/python-org.png)"
   ]
  },
  {
   "cell_type": "markdown",
   "id": "52c3b506",
   "metadata": {
    "slideshow": {
     "slide_type": "subslide"
    }
   },
   "source": [
    "## Python Software Foundation\n",
    "\n",
    "![PSF](images/python-psf.png)"
   ]
  },
  {
   "cell_type": "markdown",
   "id": "692ef13d",
   "metadata": {
    "slideshow": {
     "slide_type": "subslide"
    }
   },
   "source": [
    "## mypy\n",
    "\n",
    "![mypy](images/mypy-org.png)"
   ]
  },
  {
   "cell_type": "markdown",
   "id": "60b99633",
   "metadata": {
    "slideshow": {
     "slide_type": "subslide"
    }
   },
   "source": [
    "## pytest\n",
    "\n",
    "![pytest](images/pytest-org.png)"
   ]
  },
  {
   "cell_type": "markdown",
   "id": "3c3beff1",
   "metadata": {
    "slideshow": {
     "slide_type": "subslide"
    }
   },
   "source": [
    "## PyPI\n",
    "\n",
    "![PyPI](images/pypi-org.png)"
   ]
  },
  {
   "cell_type": "markdown",
   "id": "c9d72789",
   "metadata": {
    "slideshow": {
     "slide_type": "subslide"
    }
   },
   "source": [
    "## PyCharm\n",
    "\n",
    "![PyCharm](images/jetbrains-pycharm.png)"
   ]
  },
  {
   "cell_type": "markdown",
   "id": "cdb086ac",
   "metadata": {
    "slideshow": {
     "slide_type": "slide"
    }
   },
   "source": [
    "## The Scientific Python Ecosystem\n",
    "\n",
    "* [mpmath](https://mpmath.org) - arbitrary precision real and complex floating-point math\n",
    "* [matplotlib](https://matplotlib.org) - data visualization\n",
    "* [NumPy](https://numpy.org) - vectorized n-dimensional array operations\n",
    "* [pandas](https://pandas.pydata.org) - data analysis\n",
    "* [Jupyter](https://jupyter.org) - interactive notebooks for Python and other languages\n",
    "* [SciPy](https://scipy.org) - numerical analysis, optimization, machine learning, special functions\n",
    "* [SymPy](https://sympy.org) - symbolic math (aka computer algebra)"
   ]
  },
  {
   "cell_type": "markdown",
   "id": "3ea43489",
   "metadata": {
    "slideshow": {
     "slide_type": "subslide"
    }
   },
   "source": [
    "## mpmath\n",
    "\n",
    "![mpmath](images/mpmath-org.png)"
   ]
  },
  {
   "cell_type": "markdown",
   "id": "ea79cf56",
   "metadata": {
    "slideshow": {
     "slide_type": "subslide"
    }
   },
   "source": [
    "## matplotlib\n",
    "\n",
    "![matplotlib](images/matplotlib-org.png)"
   ]
  },
  {
   "cell_type": "markdown",
   "id": "789f06ab",
   "metadata": {
    "slideshow": {
     "slide_type": "subslide"
    }
   },
   "source": [
    "## NumPy\n",
    "\n",
    "![numpy](images/numpy-org.png)"
   ]
  },
  {
   "cell_type": "markdown",
   "id": "0851da5d",
   "metadata": {
    "slideshow": {
     "slide_type": "subslide"
    }
   },
   "source": [
    "## pandas\n",
    "\n",
    "![pandas](images/pandas-pydata-org.png)"
   ]
  },
  {
   "cell_type": "markdown",
   "id": "5894e332",
   "metadata": {
    "slideshow": {
     "slide_type": "subslide"
    }
   },
   "source": [
    "## Jupyter\n",
    "\n",
    "![jupyter](images/jupyter-org.png)"
   ]
  },
  {
   "cell_type": "markdown",
   "id": "11622807",
   "metadata": {
    "slideshow": {
     "slide_type": "subslide"
    }
   },
   "source": [
    "## SciPy\n",
    "\n",
    "![scipy](images/scipy-org.png)"
   ]
  },
  {
   "cell_type": "markdown",
   "id": "3e75c9ea",
   "metadata": {
    "slideshow": {
     "slide_type": "subslide"
    }
   },
   "source": [
    "## SymPy\n",
    "\n",
    "![sympy](images/sympy-org.png)"
   ]
  },
  {
   "cell_type": "markdown",
   "id": "3c87e01b",
   "metadata": {
    "slideshow": {
     "slide_type": "slide"
    }
   },
   "source": [
    "## Scientific Python Distributions\n",
    "\n",
    "* [SageMath](https://www.sagemath.org)\n",
    "    * \"Mission: Creating a viable free open source alternative to Magma, Maple, Mathematica and Matlab.\"\n",
    "    * includes many scientific computing applications\n",
    "    * aimed at interactive users\n",
    "* [Anaconda](https://www.anaconda.com)\n",
    "    * \"Anaconda offers the easiest way to perform Python/R data science and machine learning on a single machine.\"\n",
    "    * package manager for Python and other languages\n",
    "        * manages dependencies\n",
    "        * generates compiled code for many platforms\n",
    "    * aimed at data scientists and others who need to analyse data but not necessarily develop code"
   ]
  },
  {
   "cell_type": "markdown",
   "id": "416f1768",
   "metadata": {
    "slideshow": {
     "slide_type": "subslide"
    }
   },
   "source": [
    "## SageMath\n",
    "\n",
    "![SageMath](images/sagemath-org.png)"
   ]
  },
  {
   "cell_type": "markdown",
   "id": "2e94a77a",
   "metadata": {
    "slideshow": {
     "slide_type": "subslide"
    }
   },
   "source": [
    "## Anaconda\n",
    "\n",
    "![Anaconda](images/anaconda-com.png)"
   ]
  },
  {
   "cell_type": "markdown",
   "id": "79e55e56",
   "metadata": {
    "slideshow": {
     "slide_type": "slide"
    }
   },
   "source": [
    "## More About Jupyter Notebooks\n",
    "\n",
    "* evolved from IPython\n",
    "    * Julia, Python, and R\n",
    "* supports many other languages via plug-in [kernels](https://github.com/jupyter/jupyter/wiki/Jupyter-kernels)\n",
    "* \"[JupyterLab](https://jupyter.org/try-jupyter/lab/) is the latest web-based interactive development environment for notebooks, code, and data.\"\n",
    "* \"[JupyterHub](https://jupyter.org/hub) brings the power of notebooks to groups of users.\"\n",
    "* several [websites](https://www.dataschool.io/cloud-services-for-jupyter-notebook/) host Jupyter notebooks\n",
    "    * [Binder](https://mybinder.org)\n",
    "    * [Kaggle](https://www.kaggle.com/code)\n",
    "    * [Google Colab](https://colab.research.google.com)\n",
    "    * [CoCalc](https://cocalc.com)\n",
    "    * [JetBrains Datalore](https://datalore.jetbrains.com)"
   ]
  },
  {
   "cell_type": "markdown",
   "id": "8d36ef01",
   "metadata": {
    "slideshow": {
     "slide_type": "subslide"
    }
   },
   "source": [
    "## JupyterLab\n",
    "\n",
    "![JupyterLab](images/jupyterlab.png)"
   ]
  },
  {
   "cell_type": "markdown",
   "id": "da4e7e16",
   "metadata": {
    "slideshow": {
     "slide_type": "subslide"
    }
   },
   "source": [
    "## JupyterHub\n",
    "\n",
    "![JupyterHub](images/jupyterhub.png)"
   ]
  },
  {
   "cell_type": "markdown",
   "id": "f7c3a640",
   "metadata": {
    "slideshow": {
     "slide_type": "subslide"
    }
   },
   "source": [
    "## Binder\n",
    "\n",
    "![Binder](images/mybinder-org.png)"
   ]
  },
  {
   "cell_type": "markdown",
   "id": "65f8d7bc",
   "metadata": {
    "slideshow": {
     "slide_type": "subslide"
    }
   },
   "source": [
    "## Kaggle\n",
    "\n",
    "![Kaggle](images/kaggle-com.png)"
   ]
  },
  {
   "cell_type": "markdown",
   "id": "6a3eae22",
   "metadata": {
    "slideshow": {
     "slide_type": "subslide"
    }
   },
   "source": [
    "## Google Colab\n",
    "\n",
    "![Colaboratory](images/google-colaboratory.png)"
   ]
  },
  {
   "cell_type": "markdown",
   "id": "8589c4c3",
   "metadata": {
    "slideshow": {
     "slide_type": "subslide"
    }
   },
   "source": [
    "## CoCalc\n",
    "\n",
    "![CoCalc](images/cocalc-com.png)"
   ]
  },
  {
   "cell_type": "markdown",
   "id": "8607b1a5",
   "metadata": {
    "slideshow": {
     "slide_type": "subslide"
    }
   },
   "source": [
    "## JetBrains Datalore\n",
    "\n",
    "![Datalore](images/datalore-jetbrains-com.png)"
   ]
  },
  {
   "cell_type": "markdown",
   "id": "f22f8d54",
   "metadata": {
    "slideshow": {
     "slide_type": "slide"
    }
   },
   "source": [
    "## My Experience Converting the ACM Code from Maple to Python\n",
    "\n",
    "* Maple and Python have many language similarities\n",
    "    * high-level\n",
    "    * mathematical\n",
    "    * interpretted\n",
    "* the initial conversion was very direct\n",
    "    * used SymPy for all symbolic and matrix functions\n",
    "    * however, the code is actually a hybrid of symbolic and numeric computation\n",
    "* initially Python was 80x slower than Maple :-(\n",
    "    * used Python profiling tools to identify bottlenecks\n",
    "    * selectively replaced slow SymPy functions with much faster NumPy and SciPy functions\n",
    "* currently Python is 3x faster than Maple :-)\n",
    "    * can improve performance even more using vectorized NumPy and SciPy functions"
   ]
  },
  {
   "cell_type": "markdown",
   "id": "3823eb71",
   "metadata": {
    "slideshow": {
     "slide_type": "slide"
    }
   },
   "source": [
    "## Some SymPy Issues\n",
    "\n",
    "* found a couple of SymPy issues\n",
    "* reported these to [SymPy project on GitHub](https://github.com/sympy/sympy)\n",
    "    * rapid reply from development team\n",
    "* [Issue 23497](https://github.com/sympy/sympy/issues/23497): different value for `binomial(-1, -1)`\n",
    "* [Issue 23510](https://github.com/sympy/sympy/issues/23510): sometimes`solveset()` failed to find solution"
   ]
  },
  {
   "cell_type": "markdown",
   "id": "5e01cf5d",
   "metadata": {
    "slideshow": {
     "slide_type": "subslide"
    }
   },
   "source": [
    "## SymPy on GitHub\n",
    "\n",
    "![SymPy Project](images/sympy-github.png)"
   ]
  },
  {
   "cell_type": "markdown",
   "id": "cc0cfa96",
   "metadata": {
    "slideshow": {
     "slide_type": "slide"
    }
   },
   "source": [
    "## Advantages of Python versus Maple, Mathematica, Matlab, etc.\n",
    "\n",
    "* Python is a well-designed, modern, general purpose programming language\n",
    "    * several excellent integrated development environments\n",
    "    * great tools for debugging, testing, execution profiling\n",
    "    * supports object-oriented design\n",
    "* Python has proven infrastructure, PyPI, for publishing code\n",
    "* Python is free and open software\n",
    "    * no licence fees\n",
    "    * ability to fix bugs and add enhancements\n",
    "    * future-proofs your work\n",
    "* Python has a large developer base\n",
    "    * undergraduates are more likely to have Python skills\n",
    "    * graduates who use Python will have enhanced employment opportunities"
   ]
  },
  {
   "cell_type": "markdown",
   "id": "f3bee645",
   "metadata": {
    "slideshow": {
     "slide_type": "subslide"
    }
   },
   "source": [
    "## Stack Overflow 2021 Developer Survey\n",
    "\n",
    "* 80,000 developers responded to the [survey](https://insights.stackoverflow.com/survey/2021)\n",
    "* \"Which programming, scripting, and markup languages have you done extensive development work in over the past year, and which do you want to work in over the next year? (If you both worked with the language and want to continue to do so, please check both boxes in that row.)\"\n",
    "    * Python ranked \\#3 at 48.24% of developers\n",
    "    * Matlab ranked \\#23 at 4.66% of developers\n",
    "    * Maple, Mathematica did not appear in the ranking"
   ]
  },
  {
   "cell_type": "markdown",
   "id": "1f79bc3b",
   "metadata": {
    "slideshow": {
     "slide_type": "subslide"
    }
   },
   "source": [
    "## Top-Ranked Programming Languages\n",
    "\n",
    "![Top-Ranked Programming Languages](images/survey-top-ranked.png)"
   ]
  },
  {
   "cell_type": "markdown",
   "id": "8691e599",
   "metadata": {
    "slideshow": {
     "slide_type": "subslide"
    }
   },
   "source": [
    "## Bottom-Ranked Programming Languages\n",
    "\n",
    "![Bottom-Ranked Programming Languages](images/survey-bottom-ranked.png)"
   ]
  },
  {
   "cell_type": "markdown",
   "id": "9b9a25c5",
   "metadata": {
    "slideshow": {
     "slide_type": "slide"
    }
   },
   "source": [
    "## Next Steps\n",
    "\n",
    "* `acmpy` version 1.0\n",
    "    * finish testing\n",
    "    * reproduce all results from the Maple worksheet\n",
    "    * release code on GitHub\n",
    "    * ask interested researchers to provide feedback\n",
    "* `acmpy` version 2.0\n",
    "    * rewrite all numeric code using vectorized NumPy and SciPy functions\n",
    "    * refactor code using object-oriented design to improve API and extensibility\n",
    "    * bring code documentation up to SymPy standards (Sphinx)\n",
    "    * identify portions of code that are suitable as contributions to SymPy\n",
    "    * publish code on PyPI\n",
    "    * write article for Computer Physics Communications"
   ]
  },
  {
   "cell_type": "markdown",
   "id": "a75eb449",
   "metadata": {
    "slideshow": {
     "slide_type": "slide"
    }
   },
   "source": [
    "## Future Thoughts\n",
    "\n",
    "* What if in the future, scientific papers contained more than just informal mathematical prose?\n",
    "* Formal Specifications\n",
    "    * What if scientific papers contained formal specifications?\n",
    "    * formal software specification languages exist and have been used on a limited basis\n",
    "    * the use of formal languages enables some forms of automated correctness checking\n",
    "        * type checking\n",
    "        * model checking\n",
    "    * I like [Z Notation](https://en.wikipedia.org/wiki/Z_notation) and have used it professionally"
   ]
  },
  {
   "cell_type": "markdown",
   "id": "ac697d70",
   "metadata": {
    "slideshow": {
     "slide_type": "slide"
    }
   },
   "source": [
    "## Future Thoughts cont'd\n",
    "\n",
    "* Proof Checkers\n",
    "    * What if the mathematical derivations in scientific papers could be checked for correctness?\n",
    "    * this first requires that all definitions be formally specified\n",
    "    * the [Lean Theorem Prover](https://leanprover.github.io) is gaining some adherents in the mathematics community"
   ]
  },
  {
   "cell_type": "markdown",
   "id": "9b8de320",
   "metadata": {
    "slideshow": {
     "slide_type": "slide"
    }
   },
   "source": [
    "## Future Thoughts cont'd\n",
    "\n",
    "* by including formal specifications and proofs in scientific papers, mathematics and physics could take advantage of many of the tools that have powered the software revolution\n",
    "    * greater reuse of results\n",
    "    * better indexing and search\n",
    "    * improved correctness of software implementations"
   ]
  },
  {
   "cell_type": "markdown",
   "id": "280d5db0",
   "metadata": {
    "slideshow": {
     "slide_type": "slide"
    }
   },
   "source": [
    "## Conclusion\n",
    "\n",
    "* Python is now a viable alternative to traditional special purpose computer algebra systems\n",
    "* Python is being used daily for large scale, numeric-intensive machine learning tasks\n",
    "* Python language features make it more suitable for developing large, complex applications\n",
    "* Python is free and open software which makes Python applications more future-proof\n",
    "* Python has a large and active developer community which means Python skills are more readily available for new research projects\n",
    "* Python skills are in high demand by industry, thereby enhancing the future employment prospects of graduates who acquire those skills\n",
    "* By standardizing on Python, the physics community should be able to more easily build on past work thereby accelerating progress"
   ]
  },
  {
   "cell_type": "markdown",
   "id": "6981ba79",
   "metadata": {
    "slideshow": {
     "slide_type": "slide"
    }
   },
   "source": [
    "## References\n",
    "\n",
    "* T.A. Welsh and D.J. Rowe, \"A computer code for calculations in the algebraic collective model of the atomic nucleus\", in Computer Physics Communications 200 (2016) 220-253, https://doi.org/10.1016/j.cpc.2015.10.017\n",
    "* J. Hunter, F. Pérez and B. Granger, \"Python: An Ecosystem for Scientific Computing\" in Computing in Science & Engineering, vol. 13, no. 02, pp. 13-21, 2011, https://doi.ieeecomputersociety.org/10.1109/MCSE.2010.119"
   ]
  }
 ],
 "metadata": {
  "celltoolbar": "Slideshow",
  "kernelspec": {
   "display_name": "Python 3 (ipykernel)",
   "language": "python",
   "name": "python3"
  },
  "language_info": {
   "codemirror_mode": {
    "name": "ipython",
    "version": 3
   },
   "file_extension": ".py",
   "mimetype": "text/x-python",
   "name": "python",
   "nbconvert_exporter": "python",
   "pygments_lexer": "ipython3",
   "version": "3.10.0"
  }
 },
 "nbformat": 4,
 "nbformat_minor": 5
}
