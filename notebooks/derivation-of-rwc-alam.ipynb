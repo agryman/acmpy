{
 "cells": [
  {
   "cell_type": "markdown",
   "id": "3a9109f6",
   "metadata": {},
   "source": [
    "# Derivation of `RWC_alam()`\n",
    "*Last updated on 2022-05-16 by Arthur Ryman*"
   ]
  },
  {
   "cell_type": "markdown",
   "id": "1d8414ce",
   "metadata": {},
   "source": [
    "## Introduction\n",
    "\n",
    "The goal of this notebook is to create a simple test case that reproduces the following\n",
    "exception."
   ]
  },
  {
   "cell_type": "code",
   "execution_count": 1,
   "id": "4591386d",
   "metadata": {},
   "outputs": [],
   "source": [
    "from acmpy.globals import ACM_set_defaults\n",
    "ACM_set_defaults(0)"
   ]
  },
  {
   "cell_type": "code",
   "execution_count": 2,
   "id": "3d1dd7f3",
   "metadata": {},
   "outputs": [
    {
     "name": "stdout",
     "output_type": "stream",
     "text": [
      "max() arg is an empty sequence\n"
     ]
    }
   ],
   "source": [
    "from acmpy.hamiltonian_data import RWC_alam\n",
    "\n",
    "try:\n",
    "    RWC_alam(15, -3, 2)\n",
    "except ValueError as ve:\n",
    "    print(ve)"
   ]
  },
  {
   "cell_type": "markdown",
   "id": "b760e894",
   "metadata": {},
   "source": [
    "## `RWC_alam()`\n",
    "\n",
    "The code listings follow."
   ]
  },
  {
   "cell_type": "markdown",
   "id": "efda6233",
   "metadata": {},
   "source": [
    "### Maple\n",
    "\n",
    "```\n",
    "# # The following procedure RWC_alam returns values of the ACM parameters\n",
    "# # (anorm,lambda), which are \"optimal\" in the cases of the RWC Hamiltonians.\n",
    "# # This seeks the minimal value of RWC_expt, given above, by solving\n",
    "# # for a turning point.\n",
    "# # The fourth parameter is for seniority v, which is 0 for the\n",
    "# # analysis given in [WR2015], but in the case of more general v,\n",
    "# # (for L=0 (so 3\\v) and no spherical dependence in the potential),\n",
    "# # the 9/4 factor in the first term of (B.16) is replaced by\n",
    "# # the more general (v+3/2)^2.\n",
    "#\n",
    "# RWC_alam:=proc(B::constant,c1::constant,c2::constant,v::nonnegint:=0,$)\n",
    "#   local RWC1,RWC2,muf,aa0,vshft,A;\n",
    "#\n",
    "#   vshft:=(2*v+3)^2:  # This is 9 for the v=0 case.\n",
    "#\n",
    "#   if evalf(c1)<0 then\n",
    "#           # Here lambda is a function of aa (i.e. a^2).\n",
    "#           # There is always one positive solution in this case\n",
    "#           # (in fact, I've never found other real solns).\n",
    "#\n",
    "#     # We use mu=2(lambda-1) where lambda is given by (B11) via (B15).\n",
    "#\n",
    "#     muf:=(aa) -> sqrt( vshft + (aa*c1/c2)^2 ):\n",
    "#\n",
    "#     # The following is the derivative of (B16) noting that\n",
    "#     # d(mu)/d(aa)=aa*(c1/c2)^2/mu.  But multiplied by 4*aa^3*B*mu.\n",
    "#\n",
    "#     RWC2:=(aa,mu) -> (c1/c2)^2 * (-vshft*aa^5/mu^2\n",
    "#                                     + aa^3*B^2*c1 + aa^2*B^2*c2*(mu+3))\n",
    "#                        + aa^3*(2*mu+vshft)\n",
    "#                        - B^2*mu*(mu+2)*(aa*c1+c2*(mu+4)):\n",
    "#\n",
    "#     aa0:=max(fsolve(RWC2(A,muf(A))=0,A)):\n",
    "#     return [sqrt(aa0),1+muf(aa0)/2]:\n",
    "#\n",
    "#   else   # (Here lambda is constant)\n",
    "#          # There is always 1 positive solution in this case\n",
    "#          # (fsolve produces real solns.) and possibly two others that\n",
    "#          # are negative. Use max to exclude them.\n",
    "#\n",
    "#     RWC1:=(aa) -> aa^3 - B^2*c1*aa - (2*v+7)*B^2*c2:\n",
    "#\n",
    "#     aa0:=max(fsolve(RWC1(A)=0,A)):\n",
    "#     return [sqrt(aa0),2.5]:\n",
    "#   fi:\n",
    "#\n",
    "# end:\n",
    "```"
   ]
  },
  {
   "cell_type": "markdown",
   "id": "ae8cf449",
   "metadata": {},
   "source": [
    "### Python\n",
    "```\n",
    "\n",
    "def RWC_alam(B: float, c1: float, c2: float, v: nonnegint = 0\n",
    "             ) -> tuple[float, float]:\n",
    "    require_nonnegint('v', v)\n",
    "\n",
    "    vshft: int = (2 * v + 3) ** 2\n",
    "\n",
    "    A: Symbol = symbols('A', real=True)\n",
    "    aa0: float\n",
    "    if c1 < 0:\n",
    "\n",
    "        def muf(aa: Expr) -> Expr:\n",
    "            return sqrt(vshft + (aa * c1 / c2) ** 2)\n",
    "\n",
    "        def RWC2(aa: Expr, mu: Expr) -> Expr:\n",
    "            return (c1 / c2) ** 2 * (-vshft * aa ** 5 / mu ** 2\n",
    "                                     + aa ** 3 * B ** 2 * c1  + aa **2 * B ** 2 * c2 * (mu + 3)) \\\n",
    "                   + aa ** 3 * (2 * mu + vshft) \\\n",
    "                   - B ** 2 * mu * (mu + 2) * (aa * c1 + c2 * (mu + 4))\n",
    "\n",
    "        aa0 = max(float(aa) for aa in solveset(RWC2(A, muf(A)), A, domain=S.Reals))\n",
    "        return math.sqrt(aa0), float(1 + muf(S(aa0)) / 2)\n",
    "\n",
    "    else:\n",
    "\n",
    "        def RWC1(aa: Expr) -> Expr:\n",
    "            return aa ** 3 - B ** 2 * c1 * aa - (2 * v + 7) * B ** 2 * c2\n",
    "\n",
    "        aa0 = max(float(aa) for aa in solveset(RWC1(A), A, domain=S.Reals))\n",
    "        return math.sqrt(aa0), 2.5\n",
    "\n",
    "```"
   ]
  },
  {
   "cell_type": "markdown",
   "id": "a2b982c3",
   "metadata": {},
   "source": [
    "## Mathematical Definitions\n",
    "\n",
    "Here are the mathematical formulae encoded in SymPy."
   ]
  },
  {
   "cell_type": "code",
   "execution_count": 3,
   "id": "6425d73c",
   "metadata": {},
   "outputs": [],
   "source": [
    "from sympy import *\n",
    "\n",
    "B = Symbol('B', real=True, positive=True)\n",
    "c1 = Symbol('c1', real=True, negative=True)\n",
    "c2 = Symbol('c2', real=True, positive=True)\n",
    "lambda0 = Symbol('lambda0', real=True, positive=True)\n",
    "a = Symbol('a', real=True, positive=True)\n",
    "A = Symbol('A', real=True, positive=True)\n",
    "E = Symbol('E', real=True)\n",
    "beta0 = Symbol('beta0', real=True, nonnegative=True)"
   ]
  },
  {
   "cell_type": "code",
   "execution_count": 4,
   "id": "8826a0fc",
   "metadata": {},
   "outputs": [
    {
     "data": {
      "text/latex": [
       "$\\displaystyle a^{2}$"
      ],
      "text/plain": [
       "a**2"
      ]
     },
     "execution_count": 4,
     "metadata": {},
     "output_type": "execute_result"
    }
   ],
   "source": [
    "A_a = a ** 2\n",
    "A_a"
   ]
  },
  {
   "cell_type": "code",
   "execution_count": 5,
   "id": "9ab741c7",
   "metadata": {},
   "outputs": [
    {
     "data": {
      "text/latex": [
       "$\\displaystyle \\frac{A \\left(1 + \\frac{9}{4 \\lambda_{0} - 4}\\right)}{2 B}$"
      ],
      "text/plain": [
       "A*(1 + 9/(4*lambda0 - 4))/(2*B)"
      ]
     },
     "execution_count": 5,
     "metadata": {},
     "output_type": "execute_result"
    }
   ],
   "source": [
    "E1_A_lambda0_B = A / (2 * B) * (1 + 9 / (4 * (lambda0 - 1)))\n",
    "E1_A_lambda0_B"
   ]
  },
  {
   "cell_type": "code",
   "execution_count": 6,
   "id": "1268c5af",
   "metadata": {},
   "outputs": [
    {
     "data": {
      "text/latex": [
       "$\\displaystyle \\frac{B c_{1} \\lambda_{0}}{2 A}$"
      ],
      "text/plain": [
       "B*c1*lambda0/(2*A)"
      ]
     },
     "execution_count": 6,
     "metadata": {},
     "output_type": "execute_result"
    }
   ],
   "source": [
    "E2_A_lambda0_B_c1 =  B / (2 * A) * c1 * lambda0\n",
    "E2_A_lambda0_B_c1"
   ]
  },
  {
   "cell_type": "code",
   "execution_count": 7,
   "id": "4661b9cf",
   "metadata": {},
   "outputs": [
    {
     "data": {
      "text/latex": [
       "$\\displaystyle \\frac{B c_{2} \\lambda_{0} \\left(\\lambda_{0} + 1\\right)}{2 A^{2}}$"
      ],
      "text/plain": [
       "B*c2*lambda0*(lambda0 + 1)/(2*A**2)"
      ]
     },
     "execution_count": 7,
     "metadata": {},
     "output_type": "execute_result"
    }
   ],
   "source": [
    "E3_A_lambda0_B_c2 = B / (2 * A ** 2) * c2 * lambda0 * (lambda0 + 1)\n",
    "E3_A_lambda0_B_c2"
   ]
  },
  {
   "cell_type": "code",
   "execution_count": 8,
   "id": "931c8fc1",
   "metadata": {},
   "outputs": [
    {
     "data": {
      "text/latex": [
       "$\\displaystyle \\frac{A \\left(1 + \\frac{9}{4 \\lambda_{0} - 4}\\right)}{2 B} + \\frac{B c_{1} \\lambda_{0}}{2 A} + \\frac{B c_{2} \\lambda_{0} \\left(\\lambda_{0} + 1\\right)}{2 A^{2}}$"
      ],
      "text/plain": [
       "A*(1 + 9/(4*lambda0 - 4))/(2*B) + B*c1*lambda0/(2*A) + B*c2*lambda0*(lambda0 + 1)/(2*A**2)"
      ]
     },
     "execution_count": 8,
     "metadata": {},
     "output_type": "execute_result"
    }
   ],
   "source": [
    "E_A_lambda0_B_c1_c2 = E1_A_lambda0_B + E2_A_lambda0_B_c1 + E3_A_lambda0_B_c2\n",
    "E_A_lambda0_B_c1_c2"
   ]
  },
  {
   "cell_type": "markdown",
   "id": "11d44f77",
   "metadata": {},
   "source": [
    "We only consider the case $c_1 < 0$."
   ]
  },
  {
   "cell_type": "code",
   "execution_count": 9,
   "id": "f6557f07",
   "metadata": {},
   "outputs": [
    {
     "data": {
      "text/latex": [
       "$\\displaystyle \\frac{\\sqrt{2} \\sqrt{- c_{1}}}{2 \\sqrt{c_{2}}}$"
      ],
      "text/plain": [
       "sqrt(2)*sqrt(-c1)/(2*sqrt(c2))"
      ]
     },
     "execution_count": 9,
     "metadata": {},
     "output_type": "execute_result"
    }
   ],
   "source": [
    "beta0_c1_c2 = sqrt(-c1 / (2 * c2))\n",
    "beta0_c1_c2"
   ]
  },
  {
   "cell_type": "code",
   "execution_count": 10,
   "id": "1ed39fd3",
   "metadata": {},
   "outputs": [
    {
     "data": {
      "text/latex": [
       "$\\displaystyle \\sqrt{A^{2} \\beta_{0}^{4} + \\frac{9}{4}} + 1$"
      ],
      "text/plain": [
       "sqrt(A**2*beta0**4 + 9/4) + 1"
      ]
     },
     "execution_count": 10,
     "metadata": {},
     "output_type": "execute_result"
    }
   ],
   "source": [
    "lambda0_A_beta0 = 1 + sqrt(Rational(9, 4) + (A * beta0 ** 2) ** 2)\n",
    "lambda0_A_beta0"
   ]
  },
  {
   "cell_type": "code",
   "execution_count": 11,
   "id": "a031c788",
   "metadata": {},
   "outputs": [
    {
     "data": {
      "text/latex": [
       "$\\displaystyle \\sqrt{\\frac{A^{2} c_{1}^{2}}{4 c_{2}^{2}} + \\frac{9}{4}} + 1$"
      ],
      "text/plain": [
       "sqrt(A**2*c1**2/(4*c2**2) + 9/4) + 1"
      ]
     },
     "execution_count": 11,
     "metadata": {},
     "output_type": "execute_result"
    }
   ],
   "source": [
    "lambda0_A_c1_c2 = lambda0_A_beta0.subs(beta0, beta0_c1_c2)\n",
    "lambda0_A_c1_c2"
   ]
  },
  {
   "cell_type": "code",
   "execution_count": 12,
   "id": "37932239",
   "metadata": {},
   "outputs": [
    {
     "data": {
      "text/latex": [
       "$\\displaystyle \\sqrt{\\frac{A^{2} c_{1}^{2}}{c_{2}^{2}} + 9}$"
      ],
      "text/plain": [
       "sqrt(A**2*c1**2/c2**2 + 9)"
      ]
     },
     "execution_count": 12,
     "metadata": {},
     "output_type": "execute_result"
    }
   ],
   "source": [
    "mu = Symbol('mu', real=True, positive=True)\n",
    "mu_A_c1_c2 = sqrt(9 + (A * c1 / c2) ** 2)\n",
    "mu_A_c1_c2"
   ]
  },
  {
   "cell_type": "code",
   "execution_count": 13,
   "id": "e508fd44",
   "metadata": {},
   "outputs": [
    {
     "data": {
      "text/latex": [
       "$\\displaystyle 2 \\lambda_{0} - 2$"
      ],
      "text/plain": [
       "2*lambda0 - 2"
      ]
     },
     "execution_count": 13,
     "metadata": {},
     "output_type": "execute_result"
    }
   ],
   "source": [
    "mu_lambda0 = 2 * (lambda0 - 1)\n",
    "mu_lambda0"
   ]
  },
  {
   "cell_type": "code",
   "execution_count": 14,
   "id": "9dd0d72f",
   "metadata": {},
   "outputs": [
    {
     "data": {
      "text/latex": [
       "$\\displaystyle \\frac{\\mu}{2} + 1$"
      ],
      "text/plain": [
       "mu/2 + 1"
      ]
     },
     "execution_count": 14,
     "metadata": {},
     "output_type": "execute_result"
    }
   ],
   "source": [
    "lambda0_mu = mu / 2 + 1\n",
    "lambda0_mu"
   ]
  },
  {
   "cell_type": "code",
   "execution_count": 15,
   "id": "a22fa755",
   "metadata": {},
   "outputs": [
    {
     "data": {
      "text/latex": [
       "$\\displaystyle 2 \\sqrt{\\frac{A^{2} c_{1}^{2}}{4 c_{2}^{2}} + \\frac{9}{4}}$"
      ],
      "text/plain": [
       "2*sqrt(A**2*c1**2/(4*c2**2) + 9/4)"
      ]
     },
     "execution_count": 15,
     "metadata": {},
     "output_type": "execute_result"
    }
   ],
   "source": [
    "mu_A_c1_c2 = mu_lambda0.subs(lambda0, lambda0_A_c1_c2)\n",
    "mu_A_c1_c2"
   ]
  },
  {
   "cell_type": "code",
   "execution_count": 16,
   "id": "03d22d8a",
   "metadata": {},
   "outputs": [
    {
     "data": {
      "text/latex": [
       "$\\displaystyle \\frac{\\sqrt{A^{2} c_{1}^{2} + 9 c_{2}^{2}}}{c_{2}}$"
      ],
      "text/plain": [
       "sqrt(A**2*c1**2 + 9*c2**2)/c2"
      ]
     },
     "execution_count": 16,
     "metadata": {},
     "output_type": "execute_result"
    }
   ],
   "source": [
    "simplify(mu_A_c1_c2)"
   ]
  },
  {
   "cell_type": "code",
   "execution_count": 17,
   "id": "ec77a455",
   "metadata": {},
   "outputs": [
    {
     "data": {
      "text/latex": [
       "$\\displaystyle \\frac{A \\left(1 + \\frac{9}{4 \\lambda_{0} - 4}\\right)}{2 B} + \\frac{B c_{1} \\lambda_{0}}{2 A} + \\frac{B c_{2} \\lambda_{0} \\left(\\lambda_{0} + 1\\right)}{2 A^{2}}$"
      ],
      "text/plain": [
       "A*(1 + 9/(4*lambda0 - 4))/(2*B) + B*c1*lambda0/(2*A) + B*c2*lambda0*(lambda0 + 1)/(2*A**2)"
      ]
     },
     "execution_count": 17,
     "metadata": {},
     "output_type": "execute_result"
    }
   ],
   "source": [
    "E_A_lambda0_B_c1_c2"
   ]
  },
  {
   "cell_type": "code",
   "execution_count": 18,
   "id": "9fe4e465",
   "metadata": {},
   "outputs": [
    {
     "data": {
      "text/latex": [
       "$\\displaystyle \\frac{A \\left(1 + \\frac{9}{2 \\mu}\\right)}{2 B} + \\frac{B c_{1} \\left(\\frac{\\mu}{2} + 1\\right)}{2 A} + \\frac{B c_{2} \\left(\\frac{\\mu}{2} + 1\\right) \\left(\\frac{\\mu}{2} + 2\\right)}{2 A^{2}}$"
      ],
      "text/plain": [
       "A*(1 + 9/(2*mu))/(2*B) + B*c1*(mu/2 + 1)/(2*A) + B*c2*(mu/2 + 1)*(mu/2 + 2)/(2*A**2)"
      ]
     },
     "execution_count": 18,
     "metadata": {},
     "output_type": "execute_result"
    }
   ],
   "source": [
    "E_A_mu_B_c1_c2 = E_A_lambda0_B_c1_c2.subs(lambda0, lambda0_mu)\n",
    "E_A_mu_B_c1_c2"
   ]
  },
  {
   "cell_type": "code",
   "execution_count": 19,
   "id": "0c1688a5",
   "metadata": {},
   "outputs": [
    {
     "data": {
      "text/latex": [
       "$\\displaystyle 2 \\sqrt{\\frac{A^{2} c_{1}^{2}}{4 c_{2}^{2}} + \\frac{9}{4}}$"
      ],
      "text/plain": [
       "2*sqrt(A**2*c1**2/(4*c2**2) + 9/4)"
      ]
     },
     "execution_count": 19,
     "metadata": {},
     "output_type": "execute_result"
    }
   ],
   "source": [
    "mu_A_c1_c2"
   ]
  },
  {
   "cell_type": "code",
   "execution_count": 20,
   "id": "396b10ed",
   "metadata": {},
   "outputs": [
    {
     "data": {
      "text/latex": [
       "$\\displaystyle \\frac{A c_{1}^{2}}{2 c_{2}^{2} \\sqrt{\\frac{A^{2} c_{1}^{2}}{4 c_{2}^{2}} + \\frac{9}{4}}}$"
      ],
      "text/plain": [
       "A*c1**2/(2*c2**2*sqrt(A**2*c1**2/(4*c2**2) + 9/4))"
      ]
     },
     "execution_count": 20,
     "metadata": {},
     "output_type": "execute_result"
    }
   ],
   "source": [
    "Dmu_DA_A_c1_c2 = mu_A_c1_c2.diff(A)\n",
    "Dmu_DA_A_c1_c2"
   ]
  },
  {
   "cell_type": "code",
   "execution_count": 21,
   "id": "9c07efe8",
   "metadata": {},
   "outputs": [
    {
     "data": {
      "text/latex": [
       "$\\displaystyle \\frac{A c_{1}^{2}}{c_{2}^{2}}$"
      ],
      "text/plain": [
       "A*c1**2/c2**2"
      ]
     },
     "execution_count": 21,
     "metadata": {},
     "output_type": "execute_result"
    }
   ],
   "source": [
    "Dmu_DA_A_c1_c2 * mu_A_c1_c2"
   ]
  },
  {
   "cell_type": "code",
   "execution_count": 22,
   "id": "8911d48c",
   "metadata": {},
   "outputs": [
    {
     "data": {
      "text/latex": [
       "$\\displaystyle \\frac{A \\left(1 + \\frac{9}{4 \\sqrt{\\frac{A^{2} c_{1}^{2}}{4 c_{2}^{2}} + \\frac{9}{4}}}\\right)}{2 B} + \\frac{B c_{1} \\left(\\sqrt{\\frac{A^{2} c_{1}^{2}}{4 c_{2}^{2}} + \\frac{9}{4}} + 1\\right)}{2 A} + \\frac{B c_{2} \\left(\\sqrt{\\frac{A^{2} c_{1}^{2}}{4 c_{2}^{2}} + \\frac{9}{4}} + 1\\right) \\left(\\sqrt{\\frac{A^{2} c_{1}^{2}}{4 c_{2}^{2}} + \\frac{9}{4}} + 2\\right)}{2 A^{2}}$"
      ],
      "text/plain": [
       "A*(1 + 9/(4*sqrt(A**2*c1**2/(4*c2**2) + 9/4)))/(2*B) + B*c1*(sqrt(A**2*c1**2/(4*c2**2) + 9/4) + 1)/(2*A) + B*c2*(sqrt(A**2*c1**2/(4*c2**2) + 9/4) + 1)*(sqrt(A**2*c1**2/(4*c2**2) + 9/4) + 2)/(2*A**2)"
      ]
     },
     "execution_count": 22,
     "metadata": {},
     "output_type": "execute_result"
    }
   ],
   "source": [
    "E_A_B_c1_c2 = E_A_mu_B_c1_c2.subs(mu, mu_A_c1_c2)\n",
    "E_A_B_c1_c2"
   ]
  },
  {
   "cell_type": "code",
   "execution_count": 23,
   "id": "d9064fc1",
   "metadata": {},
   "outputs": [
    {
     "data": {
      "text/latex": [
       "$\\displaystyle - \\frac{9 A^{2} c_{1}^{2}}{32 B c_{2}^{2} \\left(\\frac{A^{2} c_{1}^{2}}{4 c_{2}^{2}} + \\frac{9}{4}\\right)^{\\frac{3}{2}}} + \\frac{B c_{1}^{3}}{8 c_{2}^{2} \\sqrt{\\frac{A^{2} c_{1}^{2}}{4 c_{2}^{2}} + \\frac{9}{4}}} + \\frac{1 + \\frac{9}{4 \\sqrt{\\frac{A^{2} c_{1}^{2}}{4 c_{2}^{2}} + \\frac{9}{4}}}}{2 B} + \\frac{B c_{1}^{2} \\left(\\sqrt{\\frac{A^{2} c_{1}^{2}}{4 c_{2}^{2}} + \\frac{9}{4}} + 1\\right)}{8 A c_{2} \\sqrt{\\frac{A^{2} c_{1}^{2}}{4 c_{2}^{2}} + \\frac{9}{4}}} + \\frac{B c_{1}^{2} \\left(\\sqrt{\\frac{A^{2} c_{1}^{2}}{4 c_{2}^{2}} + \\frac{9}{4}} + 2\\right)}{8 A c_{2} \\sqrt{\\frac{A^{2} c_{1}^{2}}{4 c_{2}^{2}} + \\frac{9}{4}}} - \\frac{B c_{1} \\left(\\sqrt{\\frac{A^{2} c_{1}^{2}}{4 c_{2}^{2}} + \\frac{9}{4}} + 1\\right)}{2 A^{2}} - \\frac{B c_{2} \\left(\\sqrt{\\frac{A^{2} c_{1}^{2}}{4 c_{2}^{2}} + \\frac{9}{4}} + 1\\right) \\left(\\sqrt{\\frac{A^{2} c_{1}^{2}}{4 c_{2}^{2}} + \\frac{9}{4}} + 2\\right)}{A^{3}}$"
      ],
      "text/plain": [
       "-9*A**2*c1**2/(32*B*c2**2*(A**2*c1**2/(4*c2**2) + 9/4)**(3/2)) + B*c1**3/(8*c2**2*sqrt(A**2*c1**2/(4*c2**2) + 9/4)) + (1 + 9/(4*sqrt(A**2*c1**2/(4*c2**2) + 9/4)))/(2*B) + B*c1**2*(sqrt(A**2*c1**2/(4*c2**2) + 9/4) + 1)/(8*A*c2*sqrt(A**2*c1**2/(4*c2**2) + 9/4)) + B*c1**2*(sqrt(A**2*c1**2/(4*c2**2) + 9/4) + 2)/(8*A*c2*sqrt(A**2*c1**2/(4*c2**2) + 9/4)) - B*c1*(sqrt(A**2*c1**2/(4*c2**2) + 9/4) + 1)/(2*A**2) - B*c2*(sqrt(A**2*c1**2/(4*c2**2) + 9/4) + 1)*(sqrt(A**2*c1**2/(4*c2**2) + 9/4) + 2)/A**3"
      ]
     },
     "execution_count": 23,
     "metadata": {},
     "output_type": "execute_result"
    }
   ],
   "source": [
    "DE_DA_A_B_c1_c2 = E_A_B_c1_c2.diff(A)\n",
    "DE_DA_A_B_c1_c2"
   ]
  },
  {
   "cell_type": "code",
   "execution_count": 24,
   "id": "5d7096db",
   "metadata": {},
   "outputs": [
    {
     "data": {
      "text/latex": [
       "$\\displaystyle \\frac{A \\left(1 + \\frac{9}{2 \\mu}\\right)}{2 B} + \\frac{B c_{1} \\left(\\frac{\\mu}{2} + 1\\right)}{2 A} + \\frac{B c_{2} \\left(\\frac{\\mu}{2} + 1\\right) \\left(\\frac{\\mu}{2} + 2\\right)}{2 A^{2}}$"
      ],
      "text/plain": [
       "A*(1 + 9/(2*mu))/(2*B) + B*c1*(mu/2 + 1)/(2*A) + B*c2*(mu/2 + 1)*(mu/2 + 2)/(2*A**2)"
      ]
     },
     "execution_count": 24,
     "metadata": {},
     "output_type": "execute_result"
    }
   ],
   "source": [
    "E_A_mu_B_c1_c2"
   ]
  },
  {
   "cell_type": "code",
   "execution_count": 25,
   "id": "7b744c56",
   "metadata": {},
   "outputs": [
    {
     "data": {
      "text/latex": [
       "$\\displaystyle 2 \\sqrt{\\frac{A^{2} c_{1}^{2}}{4 c_{2}^{2}} + \\frac{9}{4}}$"
      ],
      "text/plain": [
       "2*sqrt(A**2*c1**2/(4*c2**2) + 9/4)"
      ]
     },
     "execution_count": 25,
     "metadata": {},
     "output_type": "execute_result"
    }
   ],
   "source": [
    "mu_A_c1_c2"
   ]
  },
  {
   "cell_type": "code",
   "execution_count": 26,
   "id": "d17a4faf",
   "metadata": {},
   "outputs": [
    {
     "data": {
      "text/latex": [
       "$\\displaystyle \\frac{A c_{1}^{2}}{c_{2}^{2} \\mu}$"
      ],
      "text/plain": [
       "A*c1**2/(c2**2*mu)"
      ]
     },
     "execution_count": 26,
     "metadata": {},
     "output_type": "execute_result"
    }
   ],
   "source": [
    "Dmu_DA_A_mu_c1_c2 = (c1 / c2) ** 2 * A / mu\n",
    "Dmu_DA_A_mu_c1_c2"
   ]
  },
  {
   "cell_type": "code",
   "execution_count": 27,
   "id": "fe851109",
   "metadata": {},
   "outputs": [
    {
     "data": {
      "text/latex": [
       "$\\displaystyle \\frac{A c_{1}^{2} \\left(- \\frac{9 A}{4 B \\mu^{2}} + \\frac{B c_{1}}{4 A} + \\frac{B c_{2} \\left(\\frac{\\mu}{2} + 1\\right)}{4 A^{2}} + \\frac{B c_{2} \\left(\\frac{\\mu}{2} + 2\\right)}{4 A^{2}}\\right)}{c_{2}^{2} \\mu} + \\frac{1 + \\frac{9}{2 \\mu}}{2 B} - \\frac{B c_{1} \\left(\\frac{\\mu}{2} + 1\\right)}{2 A^{2}} - \\frac{B c_{2} \\left(\\frac{\\mu}{2} + 1\\right) \\left(\\frac{\\mu}{2} + 2\\right)}{A^{3}}$"
      ],
      "text/plain": [
       "A*c1**2*(-9*A/(4*B*mu**2) + B*c1/(4*A) + B*c2*(mu/2 + 1)/(4*A**2) + B*c2*(mu/2 + 2)/(4*A**2))/(c2**2*mu) + (1 + 9/(2*mu))/(2*B) - B*c1*(mu/2 + 1)/(2*A**2) - B*c2*(mu/2 + 1)*(mu/2 + 2)/A**3"
      ]
     },
     "execution_count": 27,
     "metadata": {},
     "output_type": "execute_result"
    }
   ],
   "source": [
    "Z = E_A_mu_B_c1_c2.diff(A) + E_A_mu_B_c1_c2.diff(mu) * Dmu_DA_A_mu_c1_c2\n",
    "Z"
   ]
  },
  {
   "cell_type": "code",
   "execution_count": 28,
   "id": "bdf3f26b",
   "metadata": {},
   "outputs": [
    {
     "data": {
      "text/latex": [
       "$\\displaystyle A^{3} B \\mu \\left(\\frac{4 A c_{1}^{2} \\left(- \\frac{9 A}{4 B \\mu^{2}} + \\frac{B c_{1}}{4 A} + \\frac{B c_{2} \\left(\\frac{\\mu}{2} + 1\\right)}{4 A^{2}} + \\frac{B c_{2} \\left(\\frac{\\mu}{2} + 2\\right)}{4 A^{2}}\\right)}{c_{2}^{2} \\mu} + \\frac{2 \\left(1 + \\frac{9}{2 \\mu}\\right)}{B} - \\frac{2 B c_{1} \\left(\\frac{\\mu}{2} + 1\\right)}{A^{2}} - \\frac{4 B c_{2} \\left(\\frac{\\mu}{2} + 1\\right) \\left(\\frac{\\mu}{2} + 2\\right)}{A^{3}}\\right)$"
      ],
      "text/plain": [
       "A**3*B*mu*(4*A*c1**2*(-9*A/(4*B*mu**2) + B*c1/(4*A) + B*c2*(mu/2 + 1)/(4*A**2) + B*c2*(mu/2 + 2)/(4*A**2))/(c2**2*mu) + 2*(1 + 9/(2*mu))/B - 2*B*c1*(mu/2 + 1)/A**2 - 4*B*c2*(mu/2 + 1)*(mu/2 + 2)/A**3)"
      ]
     },
     "execution_count": 28,
     "metadata": {},
     "output_type": "execute_result"
    }
   ],
   "source": [
    "Z1 = Z * 4 * A ** 3 * B * mu\n",
    "Z1"
   ]
  },
  {
   "cell_type": "code",
   "execution_count": 29,
   "id": "30c926f0",
   "metadata": {},
   "outputs": [
    {
     "data": {
      "text/latex": [
       "$\\displaystyle A^{3} \\left(2 \\mu + 9\\right) - B^{2} \\mu \\left(\\mu + 2\\right) \\left(A c_{1} + c_{2} \\left(\\mu + 4\\right)\\right) + \\frac{c_{1}^{2} \\left(- \\frac{9 A^{5}}{\\mu^{2}} + A^{3} B^{2} c_{1} + A^{2} B^{2} c_{2} \\left(\\mu + 3\\right)\\right)}{c_{2}^{2}}$"
      ],
      "text/plain": [
       "A**3*(2*mu + 9) - B**2*mu*(mu + 2)*(A*c1 + c2*(mu + 4)) + c1**2*(-9*A**5/mu**2 + A**3*B**2*c1 + A**2*B**2*c2*(mu + 3))/c2**2"
      ]
     },
     "execution_count": 29,
     "metadata": {},
     "output_type": "execute_result"
    }
   ],
   "source": [
    "RWC2_A_mu_B_c1_c2 = (c1/c2) ** 2 *(-9 * A ** 5 / mu ** 2 + \\\n",
    "                      A ** 3 * B ** 2 * c1 + A ** 2 * B ** 2 * c2 * (mu + 3)) \\\n",
    "+ A ** 3 * (2 * mu + 9) \\\n",
    "- B ** 2 * mu * (mu + 2) * (A * c1 + c2 * (mu + 4))\n",
    "RWC2_A_mu_B_c1_c2"
   ]
  },
  {
   "cell_type": "code",
   "execution_count": 30,
   "id": "02cc8657",
   "metadata": {},
   "outputs": [
    {
     "data": {
      "text/latex": [
       "$\\displaystyle 0$"
      ],
      "text/plain": [
       "0"
      ]
     },
     "execution_count": 30,
     "metadata": {},
     "output_type": "execute_result"
    }
   ],
   "source": [
    "simplify(RWC2_A_mu_B_c1_c2 - Z1)"
   ]
  },
  {
   "cell_type": "markdown",
   "id": "9c7936c2",
   "metadata": {},
   "source": [
    "## The Simplified Test Case\n",
    "\n",
    "In summary, we have the following two expressions."
   ]
  },
  {
   "cell_type": "code",
   "execution_count": 31,
   "id": "0fc3c8ec",
   "metadata": {},
   "outputs": [
    {
     "data": {
      "text/latex": [
       "$\\displaystyle 2 \\sqrt{\\frac{A^{2} c_{1}^{2}}{4 c_{2}^{2}} + \\frac{9}{4}}$"
      ],
      "text/plain": [
       "2*sqrt(A**2*c1**2/(4*c2**2) + 9/4)"
      ]
     },
     "execution_count": 31,
     "metadata": {},
     "output_type": "execute_result"
    }
   ],
   "source": [
    "mu_A_c1_c2"
   ]
  },
  {
   "cell_type": "code",
   "execution_count": 32,
   "id": "215c37b4",
   "metadata": {},
   "outputs": [
    {
     "data": {
      "text/latex": [
       "$\\displaystyle A^{3} \\left(2 \\mu + 9\\right) - B^{2} \\mu \\left(\\mu + 2\\right) \\left(A c_{1} + c_{2} \\left(\\mu + 4\\right)\\right) + \\frac{c_{1}^{2} \\left(- \\frac{9 A^{5}}{\\mu^{2}} + A^{3} B^{2} c_{1} + A^{2} B^{2} c_{2} \\left(\\mu + 3\\right)\\right)}{c_{2}^{2}}$"
      ],
      "text/plain": [
       "A**3*(2*mu + 9) - B**2*mu*(mu + 2)*(A*c1 + c2*(mu + 4)) + c1**2*(-9*A**5/mu**2 + A**3*B**2*c1 + A**2*B**2*c2*(mu + 3))/c2**2"
      ]
     },
     "execution_count": 32,
     "metadata": {},
     "output_type": "execute_result"
    }
   ],
   "source": [
    "RWC2_A_mu_B_c1_c2"
   ]
  },
  {
   "cell_type": "markdown",
   "id": "621903f3",
   "metadata": {},
   "source": [
    "Specialize these expressions to $c_1 = -3$ and $c_2 = 2$."
   ]
  },
  {
   "cell_type": "code",
   "execution_count": 33,
   "id": "9f3e8fef",
   "metadata": {},
   "outputs": [
    {
     "data": {
      "text/latex": [
       "$\\displaystyle \\frac{3 \\sqrt{A^{2} + 4}}{2}$"
      ],
      "text/plain": [
       "3*sqrt(A**2 + 4)/2"
      ]
     },
     "execution_count": 33,
     "metadata": {},
     "output_type": "execute_result"
    }
   ],
   "source": [
    "mu_A = simplify(mu_A_c1_c2.subs([(c1, -3), (c2, 2)]))\n",
    "mu_A"
   ]
  },
  {
   "cell_type": "code",
   "execution_count": 34,
   "id": "7dd8fc7b",
   "metadata": {},
   "outputs": [
    {
     "data": {
      "text/latex": [
       "$\\displaystyle - \\frac{81 A^{5}}{4 \\mu^{2}} - \\frac{27 A^{3} B^{2}}{4} + A^{3} \\left(2 \\mu + 9\\right) + \\frac{9 A^{2} B^{2} \\left(\\mu + 3\\right)}{2} - B^{2} \\mu \\left(\\mu + 2\\right) \\left(- 3 A + 2 \\mu + 8\\right)$"
      ],
      "text/plain": [
       "-81*A**5/(4*mu**2) - 27*A**3*B**2/4 + A**3*(2*mu + 9) + 9*A**2*B**2*(mu + 3)/2 - B**2*mu*(mu + 2)*(-3*A + 2*mu + 8)"
      ]
     },
     "execution_count": 34,
     "metadata": {},
     "output_type": "execute_result"
    }
   ],
   "source": [
    "RWC2_A_mu_B = RWC2_A_mu_B_c1_c2.subs([(c1, -3), (c2, 2)])\n",
    "RWC2_A_mu_B"
   ]
  },
  {
   "cell_type": "markdown",
   "id": "9cd2e791",
   "metadata": {},
   "source": [
    "Solve the case $B=14$."
   ]
  },
  {
   "cell_type": "code",
   "execution_count": 35,
   "id": "84ff0180",
   "metadata": {},
   "outputs": [
    {
     "data": {
      "text/latex": [
       "$\\displaystyle - \\frac{9 A^{5}}{A^{2} + 4} - \\frac{27 A^{3} B^{2}}{4} + A^{3} \\left(3 \\sqrt{A^{2} + 4} + 9\\right) + \\frac{9 A^{2} B^{2} \\left(\\frac{3 \\sqrt{A^{2} + 4}}{2} + 3\\right)}{2} - \\frac{3 B^{2} \\sqrt{A^{2} + 4} \\left(\\frac{3 \\sqrt{A^{2} + 4}}{2} + 2\\right) \\left(- 3 A + 3 \\sqrt{A^{2} + 4} + 8\\right)}{2}$"
      ],
      "text/plain": [
       "-9*A**5/(A**2 + 4) - 27*A**3*B**2/4 + A**3*(3*sqrt(A**2 + 4) + 9) + 9*A**2*B**2*(3*sqrt(A**2 + 4)/2 + 3)/2 - 3*B**2*sqrt(A**2 + 4)*(3*sqrt(A**2 + 4)/2 + 2)*(-3*A + 3*sqrt(A**2 + 4) + 8)/2"
      ]
     },
     "execution_count": 35,
     "metadata": {},
     "output_type": "execute_result"
    }
   ],
   "source": [
    "F_A_B = RWC2_A_mu_B.subs(mu, mu_A)\n",
    "F_A_B"
   ]
  },
  {
   "cell_type": "code",
   "execution_count": 36,
   "id": "a9e1ce8e",
   "metadata": {},
   "outputs": [
    {
     "data": {
      "text/latex": [
       "$\\displaystyle - \\frac{9 A^{5}}{A^{2} + 4} + A^{3} \\left(3 \\sqrt{A^{2} + 4} + 9\\right) - 1323 A^{3} + 882 A^{2} \\left(\\frac{3 \\sqrt{A^{2} + 4}}{2} + 3\\right) - 294 \\sqrt{A^{2} + 4} \\left(\\frac{3 \\sqrt{A^{2} + 4}}{2} + 2\\right) \\left(- 3 A + 3 \\sqrt{A^{2} + 4} + 8\\right)$"
      ],
      "text/plain": [
       "-9*A**5/(A**2 + 4) + A**3*(3*sqrt(A**2 + 4) + 9) - 1323*A**3 + 882*A**2*(3*sqrt(A**2 + 4)/2 + 3) - 294*sqrt(A**2 + 4)*(3*sqrt(A**2 + 4)/2 + 2)*(-3*A + 3*sqrt(A**2 + 4) + 8)"
      ]
     },
     "execution_count": 36,
     "metadata": {},
     "output_type": "execute_result"
    }
   ],
   "source": [
    "F_A_14 = F_A_B.subs(B, 14)\n",
    "F_A_14"
   ]
  },
  {
   "cell_type": "code",
   "execution_count": 37,
   "id": "1a4bce0a",
   "metadata": {},
   "outputs": [
    {
     "data": {
      "text/latex": [
       "$\\displaystyle - \\frac{9 A^{5}}{A^{2} + 4} + A^{3} \\left(3 \\sqrt{A^{2} + 4} + 9\\right) - \\frac{6075 A^{3}}{4} + \\frac{2025 A^{2} \\left(\\frac{3 \\sqrt{A^{2} + 4}}{2} + 3\\right)}{2} - \\frac{675 \\sqrt{A^{2} + 4} \\left(\\frac{3 \\sqrt{A^{2} + 4}}{2} + 2\\right) \\left(- 3 A + 3 \\sqrt{A^{2} + 4} + 8\\right)}{2}$"
      ],
      "text/plain": [
       "-9*A**5/(A**2 + 4) + A**3*(3*sqrt(A**2 + 4) + 9) - 6075*A**3/4 + 2025*A**2*(3*sqrt(A**2 + 4)/2 + 3)/2 - 675*sqrt(A**2 + 4)*(3*sqrt(A**2 + 4)/2 + 2)*(-3*A + 3*sqrt(A**2 + 4) + 8)/2"
      ]
     },
     "execution_count": 37,
     "metadata": {},
     "output_type": "execute_result"
    }
   ],
   "source": [
    "F_A_15 = F_A_B.subs(B, 15)\n",
    "F_A_15"
   ]
  },
  {
   "cell_type": "code",
   "execution_count": 38,
   "id": "25cb23f0",
   "metadata": {},
   "outputs": [
    {
     "data": {
      "text/latex": [
       "$\\displaystyle \\left\\{\\operatorname{CRootOf} {\\left(x^{12} + 1188 x^{10} - 6664 x^{9} - 418020 x^{8} - 865536 x^{7} - 6516688 x^{6} + 2700096 x^{5} - 36973440 x^{4} + 61101824 x^{3} - 92198400 x^{2} + 147517440 x - 86051840, 1\\right)}\\right\\}$"
      ],
      "text/plain": [
       "{CRootOf(x**12 + 1188*x**10 - 6664*x**9 - 418020*x**8 - 865536*x**7 - 6516688*x**6 + 2700096*x**5 - 36973440*x**4 + 61101824*x**3 - 92198400*x**2 + 147517440*x - 86051840, 1)}"
      ]
     },
     "execution_count": 38,
     "metadata": {},
     "output_type": "execute_result"
    }
   ],
   "source": [
    "sol_14 = solveset(F_A_14, A, domain=S.Reals)\n",
    "sol_14"
   ]
  },
  {
   "cell_type": "code",
   "execution_count": null,
   "id": "d22edf83",
   "metadata": {},
   "outputs": [],
   "source": [
    "sol_15 = solveset(F_A_15, A, domain=S.Reals)\n",
    "sol_15"
   ]
  },
  {
   "cell_type": "code",
   "execution_count": null,
   "id": "f7e50f33",
   "metadata": {},
   "outputs": [],
   "source": [
    "import math\n",
    "\n",
    "for x in sol_14:\n",
    "    aa = float(x)\n",
    "    a0 = math.sqrt(aa)\n",
    "    print(aa, a0)"
   ]
  },
  {
   "cell_type": "code",
   "execution_count": null,
   "id": "896e0b50",
   "metadata": {},
   "outputs": [],
   "source": [
    "for x in sol_15:\n",
    "    aa = float(x)\n",
    "    a0 = math.sqrt(aa)\n",
    "    print(aa, a0)"
   ]
  },
  {
   "cell_type": "markdown",
   "id": "b26804e7",
   "metadata": {},
   "source": [
    "## Conclusion\n",
    "\n",
    "I cannot reproduce the problem this way!\n",
    "\n",
    "Next, work with the `RWC_alam()` function in isolation and debug it.\n",
    "Simplify it to find where the error occurs."
   ]
  }
 ],
 "metadata": {
  "kernelspec": {
   "display_name": "Python 3 (ipykernel)",
   "language": "python",
   "name": "python3"
  },
  "language_info": {
   "codemirror_mode": {
    "name": "ipython",
    "version": 3
   },
   "file_extension": ".py",
   "mimetype": "text/x-python",
   "name": "python",
   "nbconvert_exporter": "python",
   "pygments_lexer": "ipython3",
   "version": "3.10.0"
  }
 },
 "nbformat": 4,
 "nbformat_minor": 5
}
