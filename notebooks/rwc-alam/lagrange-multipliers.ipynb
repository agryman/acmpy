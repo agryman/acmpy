{
 "cells": [
  {
   "cell_type": "markdown",
   "id": "c595c5a1",
   "metadata": {},
   "source": [
    "# Lagrange Multipliers\n",
    "*Last updated by Arthur Ryman on 2022-05-21*\n",
    "\n",
    "## Introduction\n",
    "\n",
    "The function `RWC_alam()` is currently failing for certain values of $B$.\n",
    "I have tried using the SymPy functions `solve()`, `solveset()`, and `nsolve()` to find the optimal\n",
    "parameters $a$ and $\\lambda$ which parameterize the ground state, but the results are inconsistent.\n",
    "Sometimes a solution is found, sometimes it fails.\n",
    "\n",
    "The approach taken by Trevor is to find the minimum of the expectation value $E(a, \\lambda)$, \n",
    "of the RWC Hamiltonian by constraining $\\lambda$ to be a function of $a$ and solving for the zeros\n",
    "of the total derivative of $E(a,\\lambda(a))$ with respect to $a$.\n",
    "\n",
    "Unfortunately, the resulting derivative is very complex and this may be defeating the SymPy algorithms.\n",
    "Note that the corresponding Maple function `fsolve()` works consistently.\n",
    "\n",
    "As a potential workaround, it might be easier to regard the problem as minimizing $E(a, \\lambda)$ subject to\n",
    "the constraint that relates $\\lambda$ and $a$.\n",
    "This type of problem can be solved using the method of *Lagrange multipliers*.\n",
    "\n",
    "The goal of this notebook is to determine if the use of Lagrange multipliers improves the consistency of the\n",
    "SymPy implementation of `RWC_alam()`."
   ]
  },
  {
   "cell_type": "markdown",
   "id": "05df084a",
   "metadata": {},
   "source": [
    "## A Simpler Problem\n",
    "\n",
    "I am going to first implement the approach using a very simple example.\n",
    "Let the symbols $x, y$ be the coordinates."
   ]
  },
  {
   "cell_type": "markdown",
   "id": "8701b349",
   "metadata": {},
   "source": [
    "Let $F(x,y)$ be the objective function and let $G(x,y)$ be the constraint."
   ]
  },
  {
   "cell_type": "code",
   "execution_count": 1,
   "id": "24b41c29",
   "metadata": {},
   "outputs": [],
   "source": [
    "from sympy import *\n",
    "\n",
    "x = Symbol('x', real=True, positive=True)\n",
    "y = Symbol('y', real=True, positive=True)"
   ]
  },
  {
   "cell_type": "markdown",
   "id": "733ab2f2",
   "metadata": {},
   "source": [
    "Let $F(x,y)$ be the objective function that we are going to minimize."
   ]
  },
  {
   "cell_type": "code",
   "execution_count": 2,
   "id": "16358bfb",
   "metadata": {},
   "outputs": [
    {
     "data": {
      "text/latex": [
       "$\\displaystyle 4.5 x + 3.2 y$"
      ],
      "text/plain": [
       "4.5*x + 3.2*y"
      ]
     },
     "execution_count": 2,
     "metadata": {},
     "output_type": "execute_result"
    }
   ],
   "source": [
    "F = 4.5 * x + 3.2 * y\n",
    "F"
   ]
  },
  {
   "cell_type": "markdown",
   "id": "5e7a199f",
   "metadata": {},
   "source": [
    "Let $G(x,y)$ be the constraint that relates the coordinate."
   ]
  },
  {
   "cell_type": "code",
   "execution_count": 3,
   "id": "994daad4",
   "metadata": {},
   "outputs": [
    {
     "data": {
      "text/latex": [
       "$\\displaystyle x^{2} + y^{2} - 1$"
      ],
      "text/plain": [
       "x**2 + y**2 - 1"
      ]
     },
     "execution_count": 3,
     "metadata": {},
     "output_type": "execute_result"
    }
   ],
   "source": [
    "G = x ** 2 + y ** 2 - 1\n",
    "G"
   ]
  },
  {
   "cell_type": "code",
   "execution_count": 4,
   "id": "534aa501",
   "metadata": {},
   "outputs": [
    {
     "data": {
      "text/latex": [
       "$\\displaystyle 4.5$"
      ],
      "text/plain": [
       "4.50000000000000"
      ]
     },
     "execution_count": 4,
     "metadata": {},
     "output_type": "execute_result"
    }
   ],
   "source": [
    "dxF, dyF = F.diff(x), F.diff(y)\n",
    "dxF"
   ]
  },
  {
   "cell_type": "code",
   "execution_count": 5,
   "id": "02294db2",
   "metadata": {},
   "outputs": [
    {
     "data": {
      "text/latex": [
       "$\\displaystyle 3.2$"
      ],
      "text/plain": [
       "3.20000000000000"
      ]
     },
     "execution_count": 5,
     "metadata": {},
     "output_type": "execute_result"
    }
   ],
   "source": [
    "dyF"
   ]
  },
  {
   "cell_type": "code",
   "execution_count": 6,
   "id": "8df37ede",
   "metadata": {},
   "outputs": [
    {
     "data": {
      "text/latex": [
       "$\\displaystyle 2 x$"
      ],
      "text/plain": [
       "2*x"
      ]
     },
     "execution_count": 6,
     "metadata": {},
     "output_type": "execute_result"
    }
   ],
   "source": [
    "dxG, dyG = G.diff(x), G.diff(y)\n",
    "dxG"
   ]
  },
  {
   "cell_type": "code",
   "execution_count": 7,
   "id": "d3c40e60",
   "metadata": {},
   "outputs": [
    {
     "data": {
      "text/latex": [
       "$\\displaystyle 2 y$"
      ],
      "text/plain": [
       "2*y"
      ]
     },
     "execution_count": 7,
     "metadata": {},
     "output_type": "execute_result"
    }
   ],
   "source": [
    "dyG"
   ]
  },
  {
   "cell_type": "markdown",
   "id": "7b1bd2cc",
   "metadata": {},
   "source": [
    "Let $z$ be the Langrange multiplier."
   ]
  },
  {
   "cell_type": "code",
   "execution_count": 8,
   "id": "52d10d14",
   "metadata": {},
   "outputs": [],
   "source": [
    "z = Symbol('z', real=True)"
   ]
  },
  {
   "cell_type": "markdown",
   "id": "9ac9d916",
   "metadata": {},
   "source": [
    "We seek to find the solution of the following system of three equations."
   ]
  },
  {
   "cell_type": "code",
   "execution_count": 9,
   "id": "3d142bad",
   "metadata": {},
   "outputs": [
    {
     "data": {
      "text/plain": [
       "(-2*x*z + 4.5, -2*y*z + 3.2, x**2 + y**2 - 1)"
      ]
     },
     "execution_count": 9,
     "metadata": {},
     "output_type": "execute_result"
    }
   ],
   "source": [
    "system = dxF - z * dxG, dyF - z * dyG, G\n",
    "system"
   ]
  },
  {
   "cell_type": "code",
   "execution_count": 10,
   "id": "ced8a3b3",
   "metadata": {},
   "outputs": [],
   "source": [
    "solutions = solve(system, [z, x, y], dict=True)"
   ]
  },
  {
   "cell_type": "code",
   "execution_count": 11,
   "id": "5a9b1687",
   "metadata": {},
   "outputs": [
    {
     "name": "stdout",
     "output_type": "stream",
     "text": [
      "solution:  {z: 2.76088753845570, x: 0.814955324568755, y: 0.579523786360004}\n",
      "equation:  -2*x*z + 4.5 , value:  0\n",
      "equation:  -2*y*z + 3.2 , value:  0\n",
      "equation:  x**2 + y**2 - 1 , value:  0\n"
     ]
    }
   ],
   "source": [
    "for s in solutions:\n",
    "    print('solution: ', s)\n",
    "    for e in system:\n",
    "        print('equation: ', e, ', value: ', e.subs(s))"
   ]
  },
  {
   "cell_type": "code",
   "execution_count": 12,
   "id": "ffc93586",
   "metadata": {},
   "outputs": [
    {
     "name": "stdout",
     "output_type": "stream",
     "text": [
      "solution:  {z: 2.76088753845570, x: 0.814955324568755, y: 0.579523786360004}\n",
      "F(x,y):  5.52177507691141\n"
     ]
    }
   ],
   "source": [
    "for s in solutions:\n",
    "    print('solution: ', s)\n",
    "    value = F.subs(s).evalf()\n",
    "    print('F(x,y): ', value)"
   ]
  },
  {
   "cell_type": "markdown",
   "id": "2fcd757c",
   "metadata": {},
   "source": [
    "### Summary\n",
    "\n",
    "The method worked well in this simple case. The function `solve()` returned a list of solutions.\n",
    "Originally I did not define $x, y$ to be positive so two solutions were returned."
   ]
  },
  {
   "cell_type": "markdown",
   "id": "6daa1741",
   "metadata": {},
   "source": [
    "## The Function `RWC_alam()`\n",
    "\n",
    "Now reimplement this function using Lagrange multipliers."
   ]
  },
  {
   "cell_type": "code",
   "execution_count": 13,
   "id": "6092c62d",
   "metadata": {},
   "outputs": [
    {
     "data": {
      "text/latex": [
       "$\\displaystyle \\lambda_{v} = \\lambda_{0} + v$"
      ],
      "text/plain": [
       "Eq(lambda_v, lambda0 + v)"
      ]
     },
     "execution_count": 13,
     "metadata": {},
     "output_type": "execute_result"
    }
   ],
   "source": [
    "from acmpy.papers.wr2015 import *\n",
    "\n",
    "Eq_61"
   ]
  },
  {
   "cell_type": "code",
   "execution_count": 14,
   "id": "e57fb01c",
   "metadata": {},
   "outputs": [
    {
     "data": {
      "text/latex": [
       "$\\displaystyle \\lambda_{0} = \\sqrt{a^{4} \\beta_{0}^{4} + \\frac{9}{4}} + 1$"
      ],
      "text/plain": [
       "Eq(lambda0, sqrt(a**4*beta0**4 + 9/4) + 1)"
      ]
     },
     "execution_count": 14,
     "metadata": {},
     "output_type": "execute_result"
    }
   ],
   "source": [
    "Eq_B11"
   ]
  },
  {
   "cell_type": "code",
   "execution_count": 15,
   "id": "dbc5c41d",
   "metadata": {},
   "outputs": [
    {
     "data": {
      "text/latex": [
       "$\\displaystyle \\beta_{0} = \\begin{cases} \\frac{\\sqrt{2} \\sqrt{- \\frac{c_{1}}{c_{2}}}}{2} & \\text{for}\\: c_{1} < 0 \\\\0 & \\text{otherwise} \\end{cases}$"
      ],
      "text/plain": [
       "Eq(beta0, Piecewise((sqrt(2)*sqrt(-c1/c2)/2, c1 < 0), (0, True)))"
      ]
     },
     "execution_count": 15,
     "metadata": {},
     "output_type": "execute_result"
    }
   ],
   "source": [
    "Eq_B15"
   ]
  },
  {
   "cell_type": "code",
   "execution_count": 16,
   "id": "0a06752b",
   "metadata": {},
   "outputs": [
    {
     "data": {
      "text/latex": [
       "$\\displaystyle E = \\frac{B c_{1} \\lambda_{0}}{2 a^{2}} + \\frac{B c_{2} \\lambda_{0} \\left(\\lambda_{0} + 1\\right)}{2 a^{4}} + \\frac{a^{2} \\left(1 + \\frac{9}{4 \\lambda_{0} - 4}\\right)}{2 B}$"
      ],
      "text/plain": [
       "Eq(E, B*c1*lambda0/(2*a**2) + B*c2*lambda0*(lambda0 + 1)/(2*a**4) + a**2*(1 + 9/(4*lambda0 - 4))/(2*B))"
      ]
     },
     "execution_count": 16,
     "metadata": {},
     "output_type": "execute_result"
    }
   ],
   "source": [
    "Eq_B16"
   ]
  },
  {
   "cell_type": "markdown",
   "id": "38db94ec",
   "metadata": {},
   "source": [
    "The code allows shifting $\\lambda_0$ by $v$ via (61).\n",
    "I assume the expectation value is given by (B.16) with $\\lambda_v$ substituted for \n",
    "$\\lambda_0$."
   ]
  },
  {
   "cell_type": "code",
   "execution_count": 17,
   "id": "0d80cbb4",
   "metadata": {},
   "outputs": [
    {
     "data": {
      "text/latex": [
       "$\\displaystyle \\lambda_{v}$"
      ],
      "text/plain": [
       "lambda_v"
      ]
     },
     "execution_count": 17,
     "metadata": {},
     "output_type": "execute_result"
    }
   ],
   "source": [
    "lambdav"
   ]
  },
  {
   "cell_type": "code",
   "execution_count": 18,
   "id": "2c1b934a",
   "metadata": {},
   "outputs": [
    {
     "data": {
      "text/latex": [
       "$\\displaystyle \\frac{B c_{1} \\lambda_{v}}{2 a^{2}} + \\frac{B c_{2} \\lambda_{v} \\left(\\lambda_{v} + 1\\right)}{2 a^{4}} + \\frac{a^{2} \\left(1 + \\frac{9}{4 \\lambda_{v} - 4}\\right)}{2 B}$"
      ],
      "text/plain": [
       "B*c1*lambda_v/(2*a**2) + B*c2*lambda_v*(lambda_v + 1)/(2*a**4) + a**2*(1 + 9/(4*lambda_v - 4))/(2*B)"
      ]
     },
     "execution_count": 18,
     "metadata": {},
     "output_type": "execute_result"
    }
   ],
   "source": [
    "Ev = E_B16(a, lambdav, B, c1, c2)\n",
    "Ev"
   ]
  },
  {
   "cell_type": "markdown",
   "id": "478d67aa",
   "metadata": {},
   "source": [
    "Work with the variable $A = a^2$."
   ]
  },
  {
   "cell_type": "code",
   "execution_count": 19,
   "id": "e04d8c47",
   "metadata": {},
   "outputs": [
    {
     "data": {
      "text/latex": [
       "$\\displaystyle \\frac{A \\left(1 + \\frac{9}{4 \\lambda_{v} - 4}\\right)}{2 B} + \\frac{B c_{1} \\lambda_{v}}{2 A} + \\frac{B c_{2} \\lambda_{v} \\left(\\lambda_{v} + 1\\right)}{2 A^{2}}$"
      ],
      "text/plain": [
       "A*(1 + 9/(4*lambda_v - 4))/(2*B) + B*c1*lambda_v/(2*A) + B*c2*lambda_v*(lambda_v + 1)/(2*A**2)"
      ]
     },
     "execution_count": 19,
     "metadata": {},
     "output_type": "execute_result"
    }
   ],
   "source": [
    "A = Symbol('A', real=True, positive=True)\n",
    "EAv = Ev.subs(a ** 2, A)\n",
    "EAv"
   ]
  },
  {
   "cell_type": "markdown",
   "id": "e9bfec50",
   "metadata": {},
   "source": [
    "The code uses the variable $\\mu$ instead of $\\lambda$."
   ]
  },
  {
   "cell_type": "code",
   "execution_count": 20,
   "id": "1a582b88",
   "metadata": {},
   "outputs": [
    {
     "data": {
      "text/latex": [
       "$\\displaystyle \\mu$"
      ],
      "text/plain": [
       "mu"
      ]
     },
     "execution_count": 20,
     "metadata": {},
     "output_type": "execute_result"
    }
   ],
   "source": [
    "mu = Symbol('mu', real=True, positive=True)\n",
    "mu"
   ]
  },
  {
   "cell_type": "code",
   "execution_count": 21,
   "id": "4a9e600c",
   "metadata": {},
   "outputs": [
    {
     "data": {
      "text/latex": [
       "$\\displaystyle \\frac{\\mu}{2} + 1$"
      ],
      "text/plain": [
       "mu/2 + 1"
      ]
     },
     "execution_count": 21,
     "metadata": {},
     "output_type": "execute_result"
    }
   ],
   "source": [
    "def lambda_mu(mu):\n",
    "    return 1 + mu / 2\n",
    "\n",
    "lambda_mu(mu)"
   ]
  },
  {
   "cell_type": "code",
   "execution_count": 22,
   "id": "b1a34215",
   "metadata": {},
   "outputs": [
    {
     "data": {
      "text/latex": [
       "$\\displaystyle \\frac{A \\left(1 + \\frac{9}{2 \\mu}\\right)}{2 B} + \\frac{B c_{1} \\left(\\frac{\\mu}{2} + 1\\right)}{2 A} + \\frac{B c_{2} \\left(\\frac{\\mu}{2} + 1\\right) \\left(\\frac{\\mu}{2} + 2\\right)}{2 A^{2}}$"
      ],
      "text/plain": [
       "A*(1 + 9/(2*mu))/(2*B) + B*c1*(mu/2 + 1)/(2*A) + B*c2*(mu/2 + 1)*(mu/2 + 2)/(2*A**2)"
      ]
     },
     "execution_count": 22,
     "metadata": {},
     "output_type": "execute_result"
    }
   ],
   "source": [
    "EAmu = EAv.subs(lambdav, lambda_mu(mu))\n",
    "EAmu"
   ]
  },
  {
   "cell_type": "markdown",
   "id": "e042f3e8",
   "metadata": {},
   "source": [
    "The constraint expresses $\\mu$ in terms of $A$."
   ]
  },
  {
   "cell_type": "code",
   "execution_count": 23,
   "id": "f7a00e68",
   "metadata": {},
   "outputs": [
    {
     "data": {
      "text/latex": [
       "$\\displaystyle \\sqrt{\\frac{A^{2} c_{1}^{2}}{c_{2}^{2}} + \\left(2 v + 3\\right)^{2}}$"
      ],
      "text/plain": [
       "sqrt(A**2*c1**2/c2**2 + (2*v + 3)**2)"
      ]
     },
     "execution_count": 23,
     "metadata": {},
     "output_type": "execute_result"
    }
   ],
   "source": [
    "from acmpy.hamiltonian_data import *\n",
    "\n",
    "muf(A, c1, c2, v)"
   ]
  },
  {
   "cell_type": "markdown",
   "id": "771a8a3a",
   "metadata": {},
   "source": [
    "It may simplify the math if we square this expression.\n",
    "Let $C(A, \\mu) = 0$ be the constraint."
   ]
  },
  {
   "cell_type": "code",
   "execution_count": 24,
   "id": "c874ee2a",
   "metadata": {},
   "outputs": [
    {
     "data": {
      "text/latex": [
       "$\\displaystyle - \\frac{A^{2} c_{1}^{2}}{c_{2}^{2}} + \\mu^{2} - \\left(2 v + 3\\right)^{2}$"
      ],
      "text/plain": [
       "-A**2*c1**2/c2**2 + mu**2 - (2*v + 3)**2"
      ]
     },
     "execution_count": 24,
     "metadata": {},
     "output_type": "execute_result"
    }
   ],
   "source": [
    "CAmu = mu ** 2 - muf(A, c1, c2, v) ** 2\n",
    "CAmu"
   ]
  },
  {
   "cell_type": "markdown",
   "id": "145e85e7",
   "metadata": {},
   "source": [
    "With these changes, both the objective function `EAmu` and the constraint `CAmu`\n",
    "are rational functions of $A$ and $\\mu$."
   ]
  },
  {
   "cell_type": "code",
   "execution_count": 25,
   "id": "b0520fd8",
   "metadata": {},
   "outputs": [
    {
     "data": {
      "text/latex": [
       "$\\displaystyle \\frac{1 + \\frac{9}{2 \\mu}}{2 B} - \\frac{B c_{1} \\left(\\frac{\\mu}{2} + 1\\right)}{2 A^{2}} - \\frac{B c_{2} \\left(\\frac{\\mu}{2} + 1\\right) \\left(\\frac{\\mu}{2} + 2\\right)}{A^{3}}$"
      ],
      "text/plain": [
       "(1 + 9/(2*mu))/(2*B) - B*c1*(mu/2 + 1)/(2*A**2) - B*c2*(mu/2 + 1)*(mu/2 + 2)/A**3"
      ]
     },
     "execution_count": 25,
     "metadata": {},
     "output_type": "execute_result"
    }
   ],
   "source": [
    "d1E, d2E = EAmu.diff(A), EAmu.diff(mu)\n",
    "d1E"
   ]
  },
  {
   "cell_type": "code",
   "execution_count": 26,
   "id": "5b69c1c1",
   "metadata": {},
   "outputs": [
    {
     "data": {
      "text/latex": [
       "$\\displaystyle - \\frac{9 A}{4 B \\mu^{2}} + \\frac{B c_{1}}{4 A} + \\frac{B c_{2} \\left(\\frac{\\mu}{2} + 1\\right)}{4 A^{2}} + \\frac{B c_{2} \\left(\\frac{\\mu}{2} + 2\\right)}{4 A^{2}}$"
      ],
      "text/plain": [
       "-9*A/(4*B*mu**2) + B*c1/(4*A) + B*c2*(mu/2 + 1)/(4*A**2) + B*c2*(mu/2 + 2)/(4*A**2)"
      ]
     },
     "execution_count": 26,
     "metadata": {},
     "output_type": "execute_result"
    }
   ],
   "source": [
    "d2E"
   ]
  },
  {
   "cell_type": "code",
   "execution_count": 27,
   "id": "be4a4012",
   "metadata": {},
   "outputs": [
    {
     "data": {
      "text/latex": [
       "$\\displaystyle - \\frac{2 A c_{1}^{2}}{c_{2}^{2}}$"
      ],
      "text/plain": [
       "-2*A*c1**2/c2**2"
      ]
     },
     "execution_count": 27,
     "metadata": {},
     "output_type": "execute_result"
    }
   ],
   "source": [
    "d1C, d2C = CAmu.diff(A), CAmu.diff(mu)\n",
    "d1C"
   ]
  },
  {
   "cell_type": "code",
   "execution_count": 28,
   "id": "2e936afa",
   "metadata": {},
   "outputs": [
    {
     "data": {
      "text/latex": [
       "$\\displaystyle 2 \\mu$"
      ],
      "text/plain": [
       "2*mu"
      ]
     },
     "execution_count": 28,
     "metadata": {},
     "output_type": "execute_result"
    }
   ],
   "source": [
    "d2C"
   ]
  },
  {
   "cell_type": "code",
   "execution_count": 29,
   "id": "17b25484",
   "metadata": {},
   "outputs": [
    {
     "data": {
      "text/plain": [
       "(2*A*c1**2*z/c2**2 + (1 + 9/(2*mu))/(2*B) - B*c1*(mu/2 + 1)/(2*A**2) - B*c2*(mu/2 + 1)*(mu/2 + 2)/A**3,\n",
       " -9*A/(4*B*mu**2) - 2*mu*z + B*c1/(4*A) + B*c2*(mu/2 + 1)/(4*A**2) + B*c2*(mu/2 + 2)/(4*A**2),\n",
       " -A**2*c1**2/c2**2 + mu**2 - (2*v + 3)**2)"
      ]
     },
     "execution_count": 29,
     "metadata": {},
     "output_type": "execute_result"
    }
   ],
   "source": [
    "E_system = d1E - z * d1C, d2E - z * d2C, CAmu\n",
    "E_system"
   ]
  },
  {
   "cell_type": "code",
   "execution_count": 30,
   "id": "830781df",
   "metadata": {},
   "outputs": [],
   "source": [
    "# E_solutions = solve(E_system, [z, A, mu], dict=True)"
   ]
  },
  {
   "cell_type": "markdown",
   "id": "a242e0fd",
   "metadata": {},
   "source": [
    "Solving this system with symbolic parameters failed.\n",
    "It took so long that I interrupted it before it finished.\n",
    "\n",
    "In practice, we only need to solve it for numeric parameters."
   ]
  },
  {
   "cell_type": "code",
   "execution_count": 31,
   "id": "567f16c6",
   "metadata": {},
   "outputs": [
    {
     "data": {
      "text/plain": [
       "(4.5*A*z + 0.05 + 0.225/mu + 15.0*(0.5*mu + 1.0)/A**2 - 20.0*(0.5*mu + 1.0)*(0.5*mu + 2.0)/A**3,\n",
       " -0.225*A/mu**2 - 2.0*mu*z - 7.5/A + 5.0*(0.5*mu + 1.0)/A**2 + 5.0*(0.5*mu + 2.0)/A**2,\n",
       " -2.25*A**2 + mu**2 - 9.0)"
      ]
     },
     "execution_count": 31,
     "metadata": {},
     "output_type": "execute_result"
    }
   ],
   "source": [
    "def set_values(system: tuple[Expr],\n",
    "               B_value: float, \n",
    "               c1_value: float, \n",
    "               c2_value: float, \n",
    "               v_value: int\n",
    "              ) -> tuple[Expr]:\n",
    "    values: dict = {B: B_value,\n",
    "                   c1: c1_value,\n",
    "                   c2: c2_value,\n",
    "                   v: v_value}\n",
    "    return tuple(t.subs(values).evalf() for t in system)\n",
    "\n",
    "E_system_10 = set_values(E_system, 10, -3.0, 2.0, 0)\n",
    "E_system_10"
   ]
  },
  {
   "cell_type": "code",
   "execution_count": 32,
   "id": "69296817",
   "metadata": {},
   "outputs": [],
   "source": [
    "# E_solutions_10 = solve(E_system_10, [z, A, mu], dict=True)"
   ]
  },
  {
   "cell_type": "markdown",
   "id": "f0c4ffaf",
   "metadata": {},
   "source": [
    "Using numeric values didn't help."
   ]
  },
  {
   "cell_type": "markdown",
   "id": "65e4ccbf",
   "metadata": {},
   "source": [
    "Try to solve the equations by solving for the Lagrange multiplier and then substituting."
   ]
  },
  {
   "cell_type": "code",
   "execution_count": 33,
   "id": "cd7847fd",
   "metadata": {},
   "outputs": [
    {
     "data": {
      "text/latex": [
       "$\\displaystyle \\frac{2 A c_{1}^{2} z}{c_{2}^{2}} + \\frac{1 + \\frac{9}{2 \\mu}}{2 B} - \\frac{B c_{1} \\left(\\frac{\\mu}{2} + 1\\right)}{2 A^{2}} - \\frac{B c_{2} \\left(\\frac{\\mu}{2} + 1\\right) \\left(\\frac{\\mu}{2} + 2\\right)}{A^{3}}$"
      ],
      "text/plain": [
       "2*A*c1**2*z/c2**2 + (1 + 9/(2*mu))/(2*B) - B*c1*(mu/2 + 1)/(2*A**2) - B*c2*(mu/2 + 1)*(mu/2 + 2)/A**3"
      ]
     },
     "execution_count": 33,
     "metadata": {},
     "output_type": "execute_result"
    }
   ],
   "source": [
    "E_system[0]"
   ]
  },
  {
   "cell_type": "code",
   "execution_count": 34,
   "id": "0a51160d",
   "metadata": {},
   "outputs": [
    {
     "data": {
      "text/latex": [
       "$\\displaystyle - \\frac{9 A}{4 B \\mu^{2}} - 2 \\mu z + \\frac{B c_{1}}{4 A} + \\frac{B c_{2} \\left(\\frac{\\mu}{2} + 1\\right)}{4 A^{2}} + \\frac{B c_{2} \\left(\\frac{\\mu}{2} + 2\\right)}{4 A^{2}}$"
      ],
      "text/plain": [
       "-9*A/(4*B*mu**2) - 2*mu*z + B*c1/(4*A) + B*c2*(mu/2 + 1)/(4*A**2) + B*c2*(mu/2 + 2)/(4*A**2)"
      ]
     },
     "execution_count": 34,
     "metadata": {},
     "output_type": "execute_result"
    }
   ],
   "source": [
    "E_system[1]"
   ]
  },
  {
   "cell_type": "code",
   "execution_count": 35,
   "id": "640a0d87",
   "metadata": {},
   "outputs": [
    {
     "data": {
      "text/latex": [
       "$\\displaystyle - \\frac{A^{2} c_{1}^{2}}{c_{2}^{2}} + \\mu^{2} - \\left(2 v + 3\\right)^{2}$"
      ],
      "text/plain": [
       "-A**2*c1**2/c2**2 + mu**2 - (2*v + 3)**2"
      ]
     },
     "execution_count": 35,
     "metadata": {},
     "output_type": "execute_result"
    }
   ],
   "source": [
    "E_system[2]"
   ]
  },
  {
   "cell_type": "code",
   "execution_count": 36,
   "id": "f7cc2e81",
   "metadata": {},
   "outputs": [
    {
     "data": {
      "text/plain": [
       "1"
      ]
     },
     "execution_count": 36,
     "metadata": {},
     "output_type": "execute_result"
    }
   ],
   "source": [
    "E_solution0 = solve(E_system[0], z)\n",
    "len(E_solution0)"
   ]
  },
  {
   "cell_type": "code",
   "execution_count": 37,
   "id": "79113037",
   "metadata": {},
   "outputs": [
    {
     "data": {
      "text/latex": [
       "$\\displaystyle \\frac{c_{2}^{2} \\left(- 2 A^{3} \\mu - 9 A^{3} + A B^{2} c_{1} \\mu \\left(\\mu + 2\\right) + B^{2} c_{2} \\mu \\left(\\mu^{2} + 6 \\mu + 8\\right)\\right)}{8 A^{4} B c_{1}^{2} \\mu}$"
      ],
      "text/plain": [
       "c2**2*(-2*A**3*mu - 9*A**3 + A*B**2*c1*mu*(mu + 2) + B**2*c2*mu*(mu**2 + 6*mu + 8))/(8*A**4*B*c1**2*mu)"
      ]
     },
     "execution_count": 37,
     "metadata": {},
     "output_type": "execute_result"
    }
   ],
   "source": [
    "z_solution0 = E_solution0[0]\n",
    "z_solution0"
   ]
  },
  {
   "cell_type": "code",
   "execution_count": 38,
   "id": "d238be02",
   "metadata": {},
   "outputs": [
    {
     "data": {
      "text/latex": [
       "$\\displaystyle - \\frac{9 A}{4 B \\mu^{2}} + \\frac{B c_{1}}{4 A} + \\frac{B c_{2} \\left(\\frac{\\mu}{2} + 1\\right)}{4 A^{2}} + \\frac{B c_{2} \\left(\\frac{\\mu}{2} + 2\\right)}{4 A^{2}} - \\frac{c_{2}^{2} \\left(- 2 A^{3} \\mu - 9 A^{3} + A B^{2} c_{1} \\mu \\left(\\mu + 2\\right) + B^{2} c_{2} \\mu \\left(\\mu^{2} + 6 \\mu + 8\\right)\\right)}{4 A^{4} B c_{1}^{2}}$"
      ],
      "text/plain": [
       "-9*A/(4*B*mu**2) + B*c1/(4*A) + B*c2*(mu/2 + 1)/(4*A**2) + B*c2*(mu/2 + 2)/(4*A**2) - c2**2*(-2*A**3*mu - 9*A**3 + A*B**2*c1*mu*(mu + 2) + B**2*c2*mu*(mu**2 + 6*mu + 8))/(4*A**4*B*c1**2)"
      ]
     },
     "execution_count": 38,
     "metadata": {},
     "output_type": "execute_result"
    }
   ],
   "source": [
    "E_system1Amu = E_system[1].subs(z, z_solution0)\n",
    "E_system1Amu"
   ]
  },
  {
   "cell_type": "code",
   "execution_count": 39,
   "id": "0e2893ac",
   "metadata": {},
   "outputs": [
    {
     "data": {
      "text/plain": [
       "0"
      ]
     },
     "execution_count": 39,
     "metadata": {},
     "output_type": "execute_result"
    }
   ],
   "source": [
    "E_solution1 = solve(E_system1Amu, A)\n",
    "len(E_solution1)"
   ]
  },
  {
   "cell_type": "code",
   "execution_count": 40,
   "id": "bd220a20",
   "metadata": {},
   "outputs": [
    {
     "data": {
      "text/latex": [
       "$\\displaystyle - \\frac{0.225 A}{\\mu^{2}} + \\frac{0.0222222222222222 \\mu}{A} - \\frac{7.4}{A} + \\frac{5.0 \\mu}{A^{2}} + \\frac{15.0}{A^{2}} + \\frac{3.33333333333333 \\mu^{2}}{A^{3}} + \\frac{6.66666666666667 \\mu}{A^{3}} - \\frac{2.22222222222222 \\mu^{3}}{A^{4}} - \\frac{13.3333333333333 \\mu^{2}}{A^{4}} - \\frac{17.7777777777778 \\mu}{A^{4}}$"
      ],
      "text/plain": [
       "-0.225*A/mu**2 + 0.0222222222222222*mu/A - 7.4/A + 5.0*mu/A**2 + 15.0/A**2 + 3.33333333333333*mu**2/A**3 + 6.66666666666667*mu/A**3 - 2.22222222222222*mu**3/A**4 - 13.3333333333333*mu**2/A**4 - 17.7777777777778*mu/A**4"
      ]
     },
     "execution_count": 40,
     "metadata": {},
     "output_type": "execute_result"
    }
   ],
   "source": [
    "E_system1Amu_10 = set_values((E_system1Amu,), 10, -3.0, 2.0, 0)[0].expand()\n",
    "E_system1Amu_10"
   ]
  },
  {
   "cell_type": "code",
   "execution_count": 41,
   "id": "1f3b28d9",
   "metadata": {},
   "outputs": [
    {
     "data": {
      "text/plain": [
       "[]"
      ]
     },
     "execution_count": 41,
     "metadata": {},
     "output_type": "execute_result"
    }
   ],
   "source": [
    "solve(E_system1Amu_10, mu)"
   ]
  },
  {
   "cell_type": "markdown",
   "id": "bed8a7aa",
   "metadata": {},
   "source": [
    "### Summary\n",
    "\n",
    "The equations are too complex to solve."
   ]
  },
  {
   "cell_type": "markdown",
   "id": "7fe56f6d",
   "metadata": {},
   "source": [
    "## Conclusion\n",
    "\n",
    "The use of Lagrange multipliers did not help.\n",
    "\n",
    "The goal is to find an optimal set of parameters, so we don't really need an exact solution.\n",
    "Try using a SciPy optimizer."
   ]
  }
 ],
 "metadata": {
  "kernelspec": {
   "display_name": "Python 3 (ipykernel)",
   "language": "python",
   "name": "python3"
  },
  "language_info": {
   "codemirror_mode": {
    "name": "ipython",
    "version": 3
   },
   "file_extension": ".py",
   "mimetype": "text/x-python",
   "name": "python",
   "nbconvert_exporter": "python",
   "pygments_lexer": "ipython3",
   "version": "3.10.0"
  }
 },
 "nbformat": 4,
 "nbformat_minor": 5
}
