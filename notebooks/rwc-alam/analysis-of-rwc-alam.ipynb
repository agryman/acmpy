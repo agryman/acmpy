{
 "cells": [
  {
   "cell_type": "markdown",
   "id": "0a2208bd",
   "metadata": {},
   "source": [
    "# Analysis of `RWC_alam()`\n",
    "\n",
    "*Arthur Ryman*\n",
    "*Last Updated: 2022-05-15*"
   ]
  },
  {
   "cell_type": "markdown",
   "id": "71db40de",
   "metadata": {},
   "source": [
    "## Introduction\n",
    "\n",
    "The ACM function `RWC_alam()` minimises the expectation value of the RWC Hamiltonian operator on the ground \n",
    "state by varying the parameters $a$ and $\\lambda_0$ with $\\lambda_0$ a function of $a$.\n",
    "The function `RWC_alam()` uses the SymPy function `solveset()` to find the zeroes of the derivative of the expectation value.\n",
    "\n",
    "The `solveset()` function correctly finds the zero for values of the parameter $B$ in the range \n",
    "$1 \\le B \\le 14$.\n",
    "However, when $B \\ge 15$ it incorrectly returns the empty set even though at least one zero always exists.\n",
    "\n",
    "The goal of this notebook is to create a simplified test case that can be attached to a SymPy bug report."
   ]
  },
  {
   "cell_type": "markdown",
   "id": "1797a0ec",
   "metadata": {},
   "source": [
    "## Problem Statement\n",
    "\n",
    "This section uses SymPy to define all the relevant variables and functions."
   ]
  },
  {
   "cell_type": "code",
   "execution_count": 1,
   "id": "ab0d046c",
   "metadata": {},
   "outputs": [],
   "source": [
    "from sympy import *"
   ]
  },
  {
   "cell_type": "markdown",
   "id": "893b8c46",
   "metadata": {},
   "source": [
    "### Variables"
   ]
  },
  {
   "cell_type": "code",
   "execution_count": 2,
   "id": "3680a1e7",
   "metadata": {},
   "outputs": [
    {
     "data": {
      "text/latex": [
       "$\\displaystyle a$"
      ],
      "text/plain": [
       "a"
      ]
     },
     "execution_count": 2,
     "metadata": {},
     "output_type": "execute_result"
    }
   ],
   "source": [
    "a: Symbol = Symbol('a', real=True, positive=True)\n",
    "a"
   ]
  },
  {
   "cell_type": "code",
   "execution_count": 3,
   "id": "ab9fa57a",
   "metadata": {},
   "outputs": [
    {
     "data": {
      "text/latex": [
       "$\\displaystyle A$"
      ],
      "text/plain": [
       "A"
      ]
     },
     "execution_count": 3,
     "metadata": {},
     "output_type": "execute_result"
    }
   ],
   "source": [
    "A: Symbol = Symbol('A', real=True, positive=True)\n",
    "A"
   ]
  },
  {
   "cell_type": "code",
   "execution_count": 4,
   "id": "c3e12041",
   "metadata": {},
   "outputs": [
    {
     "data": {
      "text/latex": [
       "$\\displaystyle \\lambda_{0}$"
      ],
      "text/plain": [
       "lambda0"
      ]
     },
     "execution_count": 4,
     "metadata": {},
     "output_type": "execute_result"
    }
   ],
   "source": [
    "lambda0: Symbol = Symbol('lambda0', real=True, positive=True)\n",
    "lambda0"
   ]
  },
  {
   "cell_type": "code",
   "execution_count": 5,
   "id": "79090fdb",
   "metadata": {},
   "outputs": [
    {
     "data": {
      "text/latex": [
       "$\\displaystyle \\beta_{0}$"
      ],
      "text/plain": [
       "beta0"
      ]
     },
     "execution_count": 5,
     "metadata": {},
     "output_type": "execute_result"
    }
   ],
   "source": [
    "beta0: Symbol = Symbol('beta0', real=True, nonnegative=True)\n",
    "beta0"
   ]
  },
  {
   "cell_type": "code",
   "execution_count": 6,
   "id": "4f1a4c4f",
   "metadata": {},
   "outputs": [
    {
     "data": {
      "text/latex": [
       "$\\displaystyle B$"
      ],
      "text/plain": [
       "B"
      ]
     },
     "execution_count": 6,
     "metadata": {},
     "output_type": "execute_result"
    }
   ],
   "source": [
    "B: Symbol = Symbol('B', real=True, positive=True)\n",
    "B"
   ]
  },
  {
   "cell_type": "markdown",
   "id": "795b4edd",
   "metadata": {},
   "source": [
    "In the failing test case $c_1 < 0$ so we only consider this case."
   ]
  },
  {
   "cell_type": "code",
   "execution_count": 7,
   "id": "b64bf54c",
   "metadata": {},
   "outputs": [
    {
     "data": {
      "text/latex": [
       "$\\displaystyle c_{1}$"
      ],
      "text/plain": [
       "c1"
      ]
     },
     "execution_count": 7,
     "metadata": {},
     "output_type": "execute_result"
    }
   ],
   "source": [
    "c1: Symbol = Symbol('c1', real=True, negative=True)\n",
    "c1"
   ]
  },
  {
   "cell_type": "code",
   "execution_count": 8,
   "id": "fe34a4c0",
   "metadata": {},
   "outputs": [
    {
     "data": {
      "text/latex": [
       "$\\displaystyle c_{2}$"
      ],
      "text/plain": [
       "c2"
      ]
     },
     "execution_count": 8,
     "metadata": {},
     "output_type": "execute_result"
    }
   ],
   "source": [
    "c2: Symbol = Symbol('c2', real=True, positive=True)\n",
    "c2"
   ]
  },
  {
   "cell_type": "code",
   "execution_count": 9,
   "id": "1d0ca57f",
   "metadata": {},
   "outputs": [
    {
     "data": {
      "text/latex": [
       "$\\displaystyle E$"
      ],
      "text/plain": [
       "E"
      ]
     },
     "execution_count": 9,
     "metadata": {},
     "output_type": "execute_result"
    }
   ],
   "source": [
    "E: Symbol = Symbol('E', real=True, nonnegative=True)\n",
    "E"
   ]
  },
  {
   "cell_type": "markdown",
   "id": "7d7d81d7",
   "metadata": {},
   "source": [
    "### Functions"
   ]
  },
  {
   "cell_type": "code",
   "execution_count": 10,
   "id": "7db50c1a",
   "metadata": {},
   "outputs": [
    {
     "data": {
      "text/latex": [
       "$\\displaystyle a^{2}$"
      ],
      "text/plain": [
       "a**2"
      ]
     },
     "execution_count": 10,
     "metadata": {},
     "output_type": "execute_result"
    }
   ],
   "source": [
    "A_a: Expr = a ** 2\n",
    "A_a"
   ]
  },
  {
   "cell_type": "code",
   "execution_count": 11,
   "id": "50fef510",
   "metadata": {},
   "outputs": [
    {
     "data": {
      "text/latex": [
       "$\\displaystyle \\frac{\\sqrt{2} \\sqrt{- c_{1}}}{2 \\sqrt{c_{2}}}$"
      ],
      "text/plain": [
       "sqrt(2)*sqrt(-c1)/(2*sqrt(c2))"
      ]
     },
     "execution_count": 11,
     "metadata": {},
     "output_type": "execute_result"
    }
   ],
   "source": [
    "beta0_c1_c2: Expr = sqrt(-c1 / (2 * c2))\n",
    "beta0_c1_c2"
   ]
  },
  {
   "cell_type": "code",
   "execution_count": 12,
   "id": "1c010dcb",
   "metadata": {},
   "outputs": [
    {
     "data": {
      "text/latex": [
       "$\\displaystyle \\sqrt{A^{2} \\beta_{0}^{4} + \\frac{9}{4}} + 1$"
      ],
      "text/plain": [
       "sqrt(A**2*beta0**4 + 9/4) + 1"
      ]
     },
     "execution_count": 12,
     "metadata": {},
     "output_type": "execute_result"
    }
   ],
   "source": [
    "lambda0_A: Expr = 1 + sqrt(Rational(9, 4) + (A * beta0 ** 2) ** 2)\n",
    "lambda0_A"
   ]
  },
  {
   "cell_type": "code",
   "execution_count": 13,
   "id": "f68724eb",
   "metadata": {},
   "outputs": [
    {
     "data": {
      "text/latex": [
       "$\\displaystyle \\sqrt{a^{4} \\beta_{0}^{4} + \\frac{9}{4}} + 1$"
      ],
      "text/plain": [
       "sqrt(a**4*beta0**4 + 9/4) + 1"
      ]
     },
     "execution_count": 13,
     "metadata": {},
     "output_type": "execute_result"
    }
   ],
   "source": [
    "lambda0_a: Expr = lambda0_A.subs(A, A_a)\n",
    "lambda0_a"
   ]
  },
  {
   "cell_type": "code",
   "execution_count": 14,
   "id": "e6c60f0a",
   "metadata": {},
   "outputs": [
    {
     "data": {
      "text/latex": [
       "$\\displaystyle \\frac{A \\left(1 + \\frac{9}{4 \\lambda_{0} - 4}\\right)}{2 B}$"
      ],
      "text/plain": [
       "A*(1 + 9/(4*lambda0 - 4))/(2*B)"
      ]
     },
     "execution_count": 14,
     "metadata": {},
     "output_type": "execute_result"
    }
   ],
   "source": [
    "E1_A_lambda0: Expr = A / (2 * B) * (1 + 9 / (4 * (lambda0 - 1)))\n",
    "E1_A_lambda0"
   ]
  },
  {
   "cell_type": "code",
   "execution_count": 15,
   "id": "bb49a4ff",
   "metadata": {},
   "outputs": [
    {
     "data": {
      "text/latex": [
       "$\\displaystyle \\frac{a^{2} \\left(1 + \\frac{9}{4 \\lambda_{0} - 4}\\right)}{2 B}$"
      ],
      "text/plain": [
       "a**2*(1 + 9/(4*lambda0 - 4))/(2*B)"
      ]
     },
     "execution_count": 15,
     "metadata": {},
     "output_type": "execute_result"
    }
   ],
   "source": [
    "E1_a_lambda0: Expr = E1_A_lambda0.subs(A, A_a)\n",
    "E1_a_lambda0"
   ]
  },
  {
   "cell_type": "code",
   "execution_count": 16,
   "id": "fa55bbe4",
   "metadata": {},
   "outputs": [
    {
     "data": {
      "text/latex": [
       "$\\displaystyle \\frac{B c_{1} \\lambda_{0}}{2 A}$"
      ],
      "text/plain": [
       "B*c1*lambda0/(2*A)"
      ]
     },
     "execution_count": 16,
     "metadata": {},
     "output_type": "execute_result"
    }
   ],
   "source": [
    "E2_A_lambda0: Expr =  B / (2 * A) * c1 * lambda0\n",
    "E2_A_lambda0"
   ]
  },
  {
   "cell_type": "code",
   "execution_count": 17,
   "id": "5636fbc8",
   "metadata": {},
   "outputs": [
    {
     "data": {
      "text/latex": [
       "$\\displaystyle \\frac{B c_{1} \\lambda_{0}}{2 a^{2}}$"
      ],
      "text/plain": [
       "B*c1*lambda0/(2*a**2)"
      ]
     },
     "execution_count": 17,
     "metadata": {},
     "output_type": "execute_result"
    }
   ],
   "source": [
    "E2_a_lambda0: Expr =  E2_A_lambda0.subs(A, A_a)\n",
    "E2_a_lambda0"
   ]
  },
  {
   "cell_type": "code",
   "execution_count": 18,
   "id": "cd87a323",
   "metadata": {},
   "outputs": [
    {
     "data": {
      "text/latex": [
       "$\\displaystyle \\frac{B c_{2} \\lambda_{0} \\left(\\lambda_{0} + 1\\right)}{2 A^{2}}$"
      ],
      "text/plain": [
       "B*c2*lambda0*(lambda0 + 1)/(2*A**2)"
      ]
     },
     "execution_count": 18,
     "metadata": {},
     "output_type": "execute_result"
    }
   ],
   "source": [
    "E3_A_lambda_0: Expr = B / (2 * A ** 2) * c2 * lambda0 * (lambda0 + 1)\n",
    "E3_A_lambda_0"
   ]
  },
  {
   "cell_type": "code",
   "execution_count": 19,
   "id": "64be01e0",
   "metadata": {},
   "outputs": [
    {
     "data": {
      "text/latex": [
       "$\\displaystyle \\frac{B c_{2} \\lambda_{0} \\left(\\lambda_{0} + 1\\right)}{2 a^{4}}$"
      ],
      "text/plain": [
       "B*c2*lambda0*(lambda0 + 1)/(2*a**4)"
      ]
     },
     "execution_count": 19,
     "metadata": {},
     "output_type": "execute_result"
    }
   ],
   "source": [
    "E3_a_lambda_0: Expr = E3_A_lambda_0.subs(A, A_a)\n",
    "E3_a_lambda_0"
   ]
  },
  {
   "cell_type": "code",
   "execution_count": 20,
   "id": "9fe1fb6c",
   "metadata": {},
   "outputs": [
    {
     "data": {
      "text/latex": [
       "$\\displaystyle \\frac{A \\left(1 + \\frac{9}{4 \\lambda_{0} - 4}\\right)}{2 B} + \\frac{B c_{1} \\lambda_{0}}{2 A} + \\frac{B c_{2} \\lambda_{0} \\left(\\lambda_{0} + 1\\right)}{2 A^{2}}$"
      ],
      "text/plain": [
       "A*(1 + 9/(4*lambda0 - 4))/(2*B) + B*c1*lambda0/(2*A) + B*c2*lambda0*(lambda0 + 1)/(2*A**2)"
      ]
     },
     "execution_count": 20,
     "metadata": {},
     "output_type": "execute_result"
    }
   ],
   "source": [
    "E_A_lambda0: Expr = E1_A_lambda0 + E2_A_lambda0 + E3_A_lambda_0\n",
    "E_A_lambda0"
   ]
  },
  {
   "cell_type": "code",
   "execution_count": 21,
   "id": "c6eb553f",
   "metadata": {},
   "outputs": [
    {
     "data": {
      "text/latex": [
       "$\\displaystyle \\frac{B c_{1} \\lambda_{0}}{2 a^{2}} + \\frac{B c_{2} \\lambda_{0} \\left(\\lambda_{0} + 1\\right)}{2 a^{4}} + \\frac{a^{2} \\left(1 + \\frac{9}{4 \\lambda_{0} - 4}\\right)}{2 B}$"
      ],
      "text/plain": [
       "B*c1*lambda0/(2*a**2) + B*c2*lambda0*(lambda0 + 1)/(2*a**4) + a**2*(1 + 9/(4*lambda0 - 4))/(2*B)"
      ]
     },
     "execution_count": 21,
     "metadata": {},
     "output_type": "execute_result"
    }
   ],
   "source": [
    "E_a_lambda0: Expr = E_A_lambda0.subs(A, A_a)\n",
    "E_a_lambda0"
   ]
  },
  {
   "cell_type": "markdown",
   "id": "a372a031",
   "metadata": {},
   "source": [
    "### Variable Bindings\n",
    "\n",
    "In the situations of interest, variables are bound to constants or functions.\n",
    "In our case we use:\n",
    "\n",
    "$$\n",
    "\\begin{align}\n",
    "    c_1 &= -3 \\\\\n",
    "    c_2 &= 2\n",
    "\\end{align}\n",
    "$$"
   ]
  },
  {
   "cell_type": "code",
   "execution_count": 22,
   "id": "e9505d3c",
   "metadata": {},
   "outputs": [
    {
     "data": {
      "text/plain": [
       "{B: B,\n",
       " c1: -3,\n",
       " c2: 2,\n",
       " beta0: sqrt(2)*sqrt(-c1)/(2*sqrt(c2)),\n",
       " A: A,\n",
       " lambda0: sqrt(A**2*beta0**4 + 9/4) + 1,\n",
       " E: A*(1 + 9/(4*lambda0 - 4))/(2*B) + B*c1*lambda0/(2*A) + B*c2*lambda0*(lambda0 + 1)/(2*A**2)}"
      ]
     },
     "execution_count": 22,
     "metadata": {},
     "output_type": "execute_result"
    }
   ],
   "source": [
    "def make_bindings() -> dict[Symbol, Expr]:\n",
    "    return {\n",
    "        B: B,\n",
    "        c1: S(-3),\n",
    "        c2: S(2),\n",
    "        beta0: beta0_c1_c2,\n",
    "        A: A,\n",
    "        lambda0: lambda0_A,\n",
    "        E: E_A_lambda0\n",
    "    }\n",
    "bindings = make_bindings()\n",
    "bindings"
   ]
  },
  {
   "cell_type": "code",
   "execution_count": 23,
   "id": "1e43a791",
   "metadata": {},
   "outputs": [
    {
     "data": {
      "text/latex": [
       "$\\displaystyle \\frac{\\sqrt{3}}{2}$"
      ],
      "text/plain": [
       "sqrt(3)/2"
      ]
     },
     "execution_count": 23,
     "metadata": {},
     "output_type": "execute_result"
    }
   ],
   "source": [
    "bindings[beta0] = bindings[beta0].subs(bindings)\n",
    "bindings[beta0]"
   ]
  },
  {
   "cell_type": "code",
   "execution_count": 24,
   "id": "8f088959",
   "metadata": {},
   "outputs": [
    {
     "data": {
      "text/latex": [
       "$\\displaystyle 0.866025403784439$"
      ],
      "text/plain": [
       "0.866025403784439"
      ]
     },
     "execution_count": 24,
     "metadata": {},
     "output_type": "execute_result"
    }
   ],
   "source": [
    "bindings[beta0].evalf()"
   ]
  },
  {
   "cell_type": "code",
   "execution_count": 25,
   "id": "c41f2731",
   "metadata": {},
   "outputs": [
    {
     "data": {
      "text/latex": [
       "$\\displaystyle \\sqrt{\\frac{9 A^{2}}{16} + \\frac{9}{4}} + 1$"
      ],
      "text/plain": [
       "sqrt(9*A**2/16 + 9/4) + 1"
      ]
     },
     "execution_count": 25,
     "metadata": {},
     "output_type": "execute_result"
    }
   ],
   "source": [
    "bindings[lambda0] = bindings[lambda0].subs(bindings)\n",
    "bindings[lambda0]"
   ]
  },
  {
   "cell_type": "code",
   "execution_count": 26,
   "id": "f972a93e",
   "metadata": {},
   "outputs": [
    {
     "data": {
      "text/latex": [
       "$\\displaystyle \\frac{A \\left(1 + \\frac{9}{4 \\sqrt{\\frac{9 A^{2}}{16} + \\frac{9}{4}}}\\right)}{2 B} - \\frac{3 B \\left(\\sqrt{\\frac{9 A^{2}}{16} + \\frac{9}{4}} + 1\\right)}{2 A} + \\frac{B \\left(\\sqrt{\\frac{9 A^{2}}{16} + \\frac{9}{4}} + 1\\right) \\left(\\sqrt{\\frac{9 A^{2}}{16} + \\frac{9}{4}} + 2\\right)}{A^{2}}$"
      ],
      "text/plain": [
       "A*(1 + 9/(4*sqrt(9*A**2/16 + 9/4)))/(2*B) - 3*B*(sqrt(9*A**2/16 + 9/4) + 1)/(2*A) + B*(sqrt(9*A**2/16 + 9/4) + 1)*(sqrt(9*A**2/16 + 9/4) + 2)/A**2"
      ]
     },
     "execution_count": 26,
     "metadata": {},
     "output_type": "execute_result"
    }
   ],
   "source": [
    "bindings[E] = bindings[E].subs(bindings)\n",
    "bindings[E]"
   ]
  },
  {
   "cell_type": "code",
   "execution_count": 27,
   "id": "3a345188",
   "metadata": {},
   "outputs": [
    {
     "data": {
      "text/latex": [
       "$\\displaystyle - \\frac{81 A^{2}}{128 B \\left(\\frac{9 A^{2}}{16} + \\frac{9}{4}\\right)^{\\frac{3}{2}}} - \\frac{27 B}{32 \\sqrt{\\frac{9 A^{2}}{16} + \\frac{9}{4}}} + \\frac{1 + \\frac{9}{4 \\sqrt{\\frac{9 A^{2}}{16} + \\frac{9}{4}}}}{2 B} + \\frac{9 B \\left(\\sqrt{\\frac{9 A^{2}}{16} + \\frac{9}{4}} + 1\\right)}{16 A \\sqrt{\\frac{9 A^{2}}{16} + \\frac{9}{4}}} + \\frac{9 B \\left(\\sqrt{\\frac{9 A^{2}}{16} + \\frac{9}{4}} + 2\\right)}{16 A \\sqrt{\\frac{9 A^{2}}{16} + \\frac{9}{4}}} + \\frac{3 B \\left(\\sqrt{\\frac{9 A^{2}}{16} + \\frac{9}{4}} + 1\\right)}{2 A^{2}} - \\frac{2 B \\left(\\sqrt{\\frac{9 A^{2}}{16} + \\frac{9}{4}} + 1\\right) \\left(\\sqrt{\\frac{9 A^{2}}{16} + \\frac{9}{4}} + 2\\right)}{A^{3}}$"
      ],
      "text/plain": [
       "-81*A**2/(128*B*(9*A**2/16 + 9/4)**(3/2)) - 27*B/(32*sqrt(9*A**2/16 + 9/4)) + (1 + 9/(4*sqrt(9*A**2/16 + 9/4)))/(2*B) + 9*B*(sqrt(9*A**2/16 + 9/4) + 1)/(16*A*sqrt(9*A**2/16 + 9/4)) + 9*B*(sqrt(9*A**2/16 + 9/4) + 2)/(16*A*sqrt(9*A**2/16 + 9/4)) + 3*B*(sqrt(9*A**2/16 + 9/4) + 1)/(2*A**2) - 2*B*(sqrt(9*A**2/16 + 9/4) + 1)*(sqrt(9*A**2/16 + 9/4) + 2)/A**3"
      ]
     },
     "execution_count": 27,
     "metadata": {},
     "output_type": "execute_result"
    }
   ],
   "source": [
    "D: Expr = bindings[E].diff(A)\n",
    "D"
   ]
  },
  {
   "cell_type": "code",
   "execution_count": 28,
   "id": "8e0b4194",
   "metadata": {},
   "outputs": [
    {
     "data": {
      "text/latex": [
       "$\\displaystyle - \\frac{3 A^{2}}{\\left(A^{2} + 4\\right)^{\\frac{3}{2}}} - \\frac{9 B^{2}}{4 \\sqrt{A^{2} + 4}} + 1 + \\frac{3}{\\sqrt{A^{2} + 4}} + \\frac{9 B^{2}}{2 A \\sqrt{A^{2} + 4}} + \\frac{9 B^{2} \\sqrt{A^{2} + 4}}{4 A^{2}} + \\frac{3 B^{2}}{A^{2}} - \\frac{9 B^{2} \\sqrt{A^{2} + 4}}{A^{3}} - \\frac{17 B^{2}}{A^{3}}$"
      ],
      "text/plain": [
       "-3*A**2/(A**2 + 4)**(3/2) - 9*B**2/(4*sqrt(A**2 + 4)) + 1 + 3/sqrt(A**2 + 4) + 9*B**2/(2*A*sqrt(A**2 + 4)) + 9*B**2*sqrt(A**2 + 4)/(4*A**2) + 3*B**2/A**2 - 9*B**2*sqrt(A**2 + 4)/A**3 - 17*B**2/A**3"
      ]
     },
     "execution_count": 28,
     "metadata": {},
     "output_type": "execute_result"
    }
   ],
   "source": [
    "Z: Expr = simplify(2 * B * D)\n",
    "Z"
   ]
  },
  {
   "cell_type": "markdown",
   "id": "19944a50",
   "metadata": {},
   "source": [
    "## Visualize the Derivative"
   ]
  },
  {
   "cell_type": "code",
   "execution_count": 29,
   "id": "91d511c3",
   "metadata": {},
   "outputs": [
    {
     "data": {
      "text/plain": [
       "<AxesSubplot:>"
      ]
     },
     "execution_count": 29,
     "metadata": {},
     "output_type": "execute_result"
    },
    {
     "data": {
      "image/png": "[encoded data removed]",
      "text/plain": [
       "<Figure size 432x288 with 1 Axes>"
      ]
     },
     "metadata": {
      "needs_background": "light"
     },
     "output_type": "display_data"
    }
   ],
   "source": [
    "import numpy as np\n",
    "import pandas as pd\n",
    "\n",
    "A_index = np.arange(15.0, 25.1, 0.5)\n",
    "Z_df = pd.DataFrame(index=A_index)\n",
    "for B_value in range(13, 17):\n",
    "    Z_df[f'B={B_value}'] = [float(Z.subs([(B, B_value), (A, x)])) for x in A_index]\n",
    "Z_df.plot(grid=True)"
   ]
  },
  {
   "cell_type": "markdown",
   "id": "881a79ae",
   "metadata": {},
   "source": [
    "The plot shows that the derivative has a zero for each value of $B$.\n",
    "\n",
    "Next, run `solveset()' on these expressions."
   ]
  },
  {
   "cell_type": "code",
   "execution_count": 30,
   "id": "8b6edd54",
   "metadata": {},
   "outputs": [
    {
     "data": {
      "text/latex": [
       "$\\displaystyle \\frac{A^{7} + 596 A^{5} - 882 A^{4} \\sqrt{A^{2} + 4} - 3332 A^{4} + 1776 A^{3} \\sqrt{A^{2} + 4} + 4720 A^{3} - 10584 A^{2} \\sqrt{A^{2} + 4} - 26656 A^{2} + 7056 A \\sqrt{A^{2} + 4} + 9408 A - 28224 \\sqrt{A^{2} + 4} - 53312}{A^{3} \\left(A^{4} + 8 A^{2} + 16\\right)}$"
      ],
      "text/plain": [
       "(A**7 + 596*A**5 - 882*A**4*sqrt(A**2 + 4) - 3332*A**4 + 1776*A**3*sqrt(A**2 + 4) + 4720*A**3 - 10584*A**2*sqrt(A**2 + 4) - 26656*A**2 + 7056*A*sqrt(A**2 + 4) + 9408*A - 28224*sqrt(A**2 + 4) - 53312)/(A**3*(A**4 + 8*A**2 + 16))"
      ]
     },
     "execution_count": 30,
     "metadata": {},
     "output_type": "execute_result"
    }
   ],
   "source": [
    "Z_14 = simplify(Z.subs(B, 14))\n",
    "Z_14"
   ]
  },
  {
   "cell_type": "code",
   "execution_count": 31,
   "id": "1bc2b17b",
   "metadata": {},
   "outputs": [
    {
     "ename": "KeyboardInterrupt",
     "evalue": "",
     "output_type": "error",
     "traceback": [
      "\u001b[0;31m---------------------------------------------------------------------------\u001b[0m",
      "\u001b[0;31mKeyError\u001b[0m                                  Traceback (most recent call last)",
      "File \u001b[0;32m~/Documents/repositories/agryman/acmpy/venv/lib/python3.10/site-packages/sympy/core/evalf.py:1365\u001b[0m, in \u001b[0;36mevalf\u001b[0;34m(x, prec, options)\u001b[0m\n\u001b[1;32m   1364\u001b[0m \u001b[38;5;28;01mtry\u001b[39;00m:\n\u001b[0;32m-> 1365\u001b[0m     rf \u001b[38;5;241m=\u001b[39m \u001b[43mevalf_table\u001b[49m\u001b[43m[\u001b[49m\u001b[43mx\u001b[49m\u001b[38;5;241;43m.\u001b[39;49m\u001b[43mfunc\u001b[49m\u001b[43m]\u001b[49m\n\u001b[1;32m   1366\u001b[0m     r \u001b[38;5;241m=\u001b[39m rf(x, prec, options)\n",
      "\u001b[0;31mKeyError\u001b[0m: <class 'sympy.polys.rootoftools.ComplexRootOf'>",
      "\nDuring handling of the above exception, another exception occurred:\n",
      "\u001b[0;31mKeyboardInterrupt\u001b[0m                         Traceback (most recent call last)",
      "Input \u001b[0;32mIn [31]\u001b[0m, in \u001b[0;36m<cell line: 1>\u001b[0;34m()\u001b[0m\n\u001b[0;32m----> 1\u001b[0m \u001b[43msolveset\u001b[49m\u001b[43m(\u001b[49m\u001b[43mZ_14\u001b[49m\u001b[43m,\u001b[49m\u001b[43m \u001b[49m\u001b[43mA\u001b[49m\u001b[43m)\u001b[49m\n",
      "File \u001b[0;32m~/Documents/repositories/agryman/acmpy/venv/lib/python3.10/site-packages/sympy/solvers/solveset.py:2217\u001b[0m, in \u001b[0;36msolveset\u001b[0;34m(f, symbol, domain)\u001b[0m\n\u001b[1;32m   2215\u001b[0m \u001b[38;5;28;01mif\u001b[39;00m symbol \u001b[38;5;129;01mnot\u001b[39;00m \u001b[38;5;129;01min\u001b[39;00m _rc:\n\u001b[1;32m   2216\u001b[0m     x \u001b[38;5;241m=\u001b[39m _rc[\u001b[38;5;241m0\u001b[39m] \u001b[38;5;28;01mif\u001b[39;00m domain\u001b[38;5;241m.\u001b[39mis_subset(S\u001b[38;5;241m.\u001b[39mReals) \u001b[38;5;28;01melse\u001b[39;00m _rc[\u001b[38;5;241m1\u001b[39m]\n\u001b[0;32m-> 2217\u001b[0m     rv \u001b[38;5;241m=\u001b[39m \u001b[43msolveset\u001b[49m\u001b[43m(\u001b[49m\u001b[43mf\u001b[49m\u001b[38;5;241;43m.\u001b[39;49m\u001b[43mxreplace\u001b[49m\u001b[43m(\u001b[49m\u001b[43m{\u001b[49m\u001b[43msymbol\u001b[49m\u001b[43m:\u001b[49m\u001b[43m \u001b[49m\u001b[43mx\u001b[49m\u001b[43m}\u001b[49m\u001b[43m)\u001b[49m\u001b[43m,\u001b[49m\u001b[43m \u001b[49m\u001b[43mx\u001b[49m\u001b[43m,\u001b[49m\u001b[43m \u001b[49m\u001b[43mdomain\u001b[49m\u001b[43m)\u001b[49m\n\u001b[1;32m   2218\u001b[0m     \u001b[38;5;66;03m# try to use the original symbol if possible\u001b[39;00m\n\u001b[1;32m   2219\u001b[0m     \u001b[38;5;28;01mtry\u001b[39;00m:\n",
      "File \u001b[0;32m~/Documents/repositories/agryman/acmpy/venv/lib/python3.10/site-packages/sympy/solvers/solveset.py:2241\u001b[0m, in \u001b[0;36msolveset\u001b[0;34m(f, symbol, domain)\u001b[0m\n\u001b[1;32m   2238\u001b[0m     f \u001b[38;5;241m=\u001b[39m f\u001b[38;5;241m.\u001b[39mxreplace({d: e})\n\u001b[1;32m   2239\u001b[0m f \u001b[38;5;241m=\u001b[39m piecewise_fold(f)\n\u001b[0;32m-> 2241\u001b[0m \u001b[38;5;28;01mreturn\u001b[39;00m \u001b[43m_solveset\u001b[49m\u001b[43m(\u001b[49m\u001b[43mf\u001b[49m\u001b[43m,\u001b[49m\u001b[43m \u001b[49m\u001b[43msymbol\u001b[49m\u001b[43m,\u001b[49m\u001b[43m \u001b[49m\u001b[43mdomain\u001b[49m\u001b[43m,\u001b[49m\u001b[43m \u001b[49m\u001b[43m_check\u001b[49m\u001b[38;5;241;43m=\u001b[39;49m\u001b[38;5;28;43;01mTrue\u001b[39;49;00m\u001b[43m)\u001b[49m\n",
      "File \u001b[0;32m~/Documents/repositories/agryman/acmpy/venv/lib/python3.10/site-packages/sympy/solvers/solveset.py:1070\u001b[0m, in \u001b[0;36m_solveset\u001b[0;34m(f, symbol, domain, _check)\u001b[0m\n\u001b[1;32m   1068\u001b[0m u \u001b[38;5;241m=\u001b[39m unrad(f, symbol)\n\u001b[1;32m   1069\u001b[0m \u001b[38;5;28;01mif\u001b[39;00m u:\n\u001b[0;32m-> 1070\u001b[0m     result \u001b[38;5;241m+\u001b[39m\u001b[38;5;241m=\u001b[39m \u001b[43m_solve_radical\u001b[49m\u001b[43m(\u001b[49m\u001b[43mequation\u001b[49m\u001b[43m,\u001b[49m\u001b[43m \u001b[49m\u001b[43mu\u001b[49m\u001b[43m,\u001b[49m\n\u001b[1;32m   1071\u001b[0m \u001b[43m                             \u001b[49m\u001b[43msymbol\u001b[49m\u001b[43m,\u001b[49m\n\u001b[1;32m   1072\u001b[0m \u001b[43m                             \u001b[49m\u001b[43msolver\u001b[49m\u001b[43m)\u001b[49m\n\u001b[1;32m   1073\u001b[0m \u001b[38;5;28;01melif\u001b[39;00m equation\u001b[38;5;241m.\u001b[39mhas(Abs):\n\u001b[1;32m   1074\u001b[0m     result \u001b[38;5;241m+\u001b[39m\u001b[38;5;241m=\u001b[39m _solve_abs(f, symbol, domain)\n",
      "File \u001b[0;32m~/Documents/repositories/agryman/acmpy/venv/lib/python3.10/site-packages/sympy/solvers/solveset.py:871\u001b[0m, in \u001b[0;36m_solve_radical\u001b[0;34m(f, unradf, symbol, solveset_solver)\u001b[0m\n\u001b[1;32m    869\u001b[0m c_set \u001b[38;5;241m=\u001b[39m []  \u001b[38;5;66;03m# solutions for ConditionSet\u001b[39;00m\n\u001b[1;32m    870\u001b[0m \u001b[38;5;28;01mfor\u001b[39;00m s \u001b[38;5;129;01min\u001b[39;00m result:\n\u001b[0;32m--> 871\u001b[0m     \u001b[38;5;28;01mif\u001b[39;00m \u001b[43mchecksol\u001b[49m\u001b[43m(\u001b[49m\u001b[43mf\u001b[49m\u001b[43m,\u001b[49m\u001b[43m \u001b[49m\u001b[43msymbol\u001b[49m\u001b[43m,\u001b[49m\u001b[43m \u001b[49m\u001b[43ms\u001b[49m\u001b[43m)\u001b[49m:\n\u001b[1;32m    872\u001b[0m         f_set\u001b[38;5;241m.\u001b[39mappend(s)\n\u001b[1;32m    873\u001b[0m     \u001b[38;5;28;01melse\u001b[39;00m:\n",
      "File \u001b[0;32m~/Documents/repositories/agryman/acmpy/venv/lib/python3.10/site-packages/sympy/solvers/solvers.py:370\u001b[0m, in \u001b[0;36mchecksol\u001b[0;34m(f, symbol, sol, **flags)\u001b[0m\n\u001b[1;32m    368\u001b[0m         \u001b[38;5;28;01mreturn\u001b[39;00m val \u001b[38;5;241m==\u001b[39m \u001b[38;5;241m0\u001b[39m\n\u001b[1;32m    369\u001b[0m     \u001b[38;5;28;01mif\u001b[39;00m numerical \u001b[38;5;129;01mand\u001b[39;00m val\u001b[38;5;241m.\u001b[39mis_number:\n\u001b[0;32m--> 370\u001b[0m         \u001b[38;5;28;01mreturn\u001b[39;00m (\u001b[38;5;28mabs\u001b[39m(\u001b[43mval\u001b[49m\u001b[38;5;241;43m.\u001b[39;49m\u001b[43mn\u001b[49m\u001b[43m(\u001b[49m\u001b[38;5;241;43m18\u001b[39;49m\u001b[43m)\u001b[49m\u001b[38;5;241m.\u001b[39mn(\u001b[38;5;241m12\u001b[39m, chop\u001b[38;5;241m=\u001b[39m\u001b[38;5;28;01mTrue\u001b[39;00m)) \u001b[38;5;241m<\u001b[39m \u001b[38;5;241m1e-9\u001b[39m) \u001b[38;5;129;01mis\u001b[39;00m S\u001b[38;5;241m.\u001b[39mtrue\n\u001b[1;32m    371\u001b[0m     was \u001b[38;5;241m=\u001b[39m val\n\u001b[1;32m    373\u001b[0m \u001b[38;5;28;01mif\u001b[39;00m flags\u001b[38;5;241m.\u001b[39mget(\u001b[38;5;124m'\u001b[39m\u001b[38;5;124mwarn\u001b[39m\u001b[38;5;124m'\u001b[39m, \u001b[38;5;28;01mFalse\u001b[39;00m):\n",
      "File \u001b[0;32m~/Documents/repositories/agryman/acmpy/venv/lib/python3.10/site-packages/sympy/core/evalf.py:1514\u001b[0m, in \u001b[0;36mEvalfMixin.evalf\u001b[0;34m(self, n, subs, maxn, chop, strict, quad, verbose)\u001b[0m\n\u001b[1;32m   1512\u001b[0m     options[\u001b[38;5;124m'\u001b[39m\u001b[38;5;124mquad\u001b[39m\u001b[38;5;124m'\u001b[39m] \u001b[38;5;241m=\u001b[39m quad\n\u001b[1;32m   1513\u001b[0m \u001b[38;5;28;01mtry\u001b[39;00m:\n\u001b[0;32m-> 1514\u001b[0m     result \u001b[38;5;241m=\u001b[39m \u001b[43mevalf\u001b[49m\u001b[43m(\u001b[49m\u001b[38;5;28;43mself\u001b[39;49m\u001b[43m,\u001b[49m\u001b[43m \u001b[49m\u001b[43mprec\u001b[49m\u001b[43m \u001b[49m\u001b[38;5;241;43m+\u001b[39;49m\u001b[43m \u001b[49m\u001b[38;5;241;43m4\u001b[39;49m\u001b[43m,\u001b[49m\u001b[43m \u001b[49m\u001b[43moptions\u001b[49m\u001b[43m)\u001b[49m\n\u001b[1;32m   1515\u001b[0m \u001b[38;5;28;01mexcept\u001b[39;00m \u001b[38;5;167;01mNotImplementedError\u001b[39;00m:\n\u001b[1;32m   1516\u001b[0m     \u001b[38;5;66;03m# Fall back to the ordinary evalf\u001b[39;00m\n\u001b[1;32m   1517\u001b[0m     \u001b[38;5;28;01mif\u001b[39;00m \u001b[38;5;28mhasattr\u001b[39m(\u001b[38;5;28mself\u001b[39m, \u001b[38;5;124m'\u001b[39m\u001b[38;5;124msubs\u001b[39m\u001b[38;5;124m'\u001b[39m) \u001b[38;5;129;01mand\u001b[39;00m subs \u001b[38;5;129;01mis\u001b[39;00m \u001b[38;5;129;01mnot\u001b[39;00m \u001b[38;5;28;01mNone\u001b[39;00m:  \u001b[38;5;66;03m# issue 20291\u001b[39;00m\n",
      "File \u001b[0;32m~/Documents/repositories/agryman/acmpy/venv/lib/python3.10/site-packages/sympy/core/evalf.py:1366\u001b[0m, in \u001b[0;36mevalf\u001b[0;34m(x, prec, options)\u001b[0m\n\u001b[1;32m   1364\u001b[0m \u001b[38;5;28;01mtry\u001b[39;00m:\n\u001b[1;32m   1365\u001b[0m     rf \u001b[38;5;241m=\u001b[39m evalf_table[x\u001b[38;5;241m.\u001b[39mfunc]\n\u001b[0;32m-> 1366\u001b[0m     r \u001b[38;5;241m=\u001b[39m \u001b[43mrf\u001b[49m\u001b[43m(\u001b[49m\u001b[43mx\u001b[49m\u001b[43m,\u001b[49m\u001b[43m \u001b[49m\u001b[43mprec\u001b[49m\u001b[43m,\u001b[49m\u001b[43m \u001b[49m\u001b[43moptions\u001b[49m\u001b[43m)\u001b[49m\n\u001b[1;32m   1367\u001b[0m \u001b[38;5;28;01mexcept\u001b[39;00m \u001b[38;5;167;01mKeyError\u001b[39;00m:\n\u001b[1;32m   1368\u001b[0m     \u001b[38;5;66;03m# Fall back to ordinary evalf if possible\u001b[39;00m\n\u001b[1;32m   1369\u001b[0m     \u001b[38;5;28;01mif\u001b[39;00m \u001b[38;5;124m'\u001b[39m\u001b[38;5;124msubs\u001b[39m\u001b[38;5;124m'\u001b[39m \u001b[38;5;129;01min\u001b[39;00m options:\n",
      "File \u001b[0;32m~/Documents/repositories/agryman/acmpy/venv/lib/python3.10/site-packages/sympy/core/evalf.py:574\u001b[0m, in \u001b[0;36mevalf_mul\u001b[0;34m(v, prec, options)\u001b[0m\n\u001b[1;32m    572\u001b[0m \u001b[38;5;28;01mfrom\u001b[39;00m \u001b[38;5;21;01msympy\u001b[39;00m\u001b[38;5;21;01m.\u001b[39;00m\u001b[38;5;21;01mcore\u001b[39;00m\u001b[38;5;21;01m.\u001b[39;00m\u001b[38;5;21;01mnumbers\u001b[39;00m \u001b[38;5;28;01mimport\u001b[39;00m Float\n\u001b[1;32m    573\u001b[0m \u001b[38;5;28;01mfor\u001b[39;00m arg \u001b[38;5;129;01min\u001b[39;00m args:\n\u001b[0;32m--> 574\u001b[0m     arg \u001b[38;5;241m=\u001b[39m \u001b[43mevalf\u001b[49m\u001b[43m(\u001b[49m\u001b[43marg\u001b[49m\u001b[43m,\u001b[49m\u001b[43m \u001b[49m\u001b[43mprec\u001b[49m\u001b[43m,\u001b[49m\u001b[43m \u001b[49m\u001b[43moptions\u001b[49m\u001b[43m)\u001b[49m\n\u001b[1;32m    575\u001b[0m     \u001b[38;5;28;01mif\u001b[39;00m arg[\u001b[38;5;241m0\u001b[39m] \u001b[38;5;129;01mis\u001b[39;00m \u001b[38;5;28;01mNone\u001b[39;00m:\n\u001b[1;32m    576\u001b[0m         \u001b[38;5;28;01mcontinue\u001b[39;00m\n",
      "File \u001b[0;32m~/Documents/repositories/agryman/acmpy/venv/lib/python3.10/site-packages/sympy/core/evalf.py:1366\u001b[0m, in \u001b[0;36mevalf\u001b[0;34m(x, prec, options)\u001b[0m\n\u001b[1;32m   1364\u001b[0m \u001b[38;5;28;01mtry\u001b[39;00m:\n\u001b[1;32m   1365\u001b[0m     rf \u001b[38;5;241m=\u001b[39m evalf_table[x\u001b[38;5;241m.\u001b[39mfunc]\n\u001b[0;32m-> 1366\u001b[0m     r \u001b[38;5;241m=\u001b[39m \u001b[43mrf\u001b[49m\u001b[43m(\u001b[49m\u001b[43mx\u001b[49m\u001b[43m,\u001b[49m\u001b[43m \u001b[49m\u001b[43mprec\u001b[49m\u001b[43m,\u001b[49m\u001b[43m \u001b[49m\u001b[43moptions\u001b[49m\u001b[43m)\u001b[49m\n\u001b[1;32m   1367\u001b[0m \u001b[38;5;28;01mexcept\u001b[39;00m \u001b[38;5;167;01mKeyError\u001b[39;00m:\n\u001b[1;32m   1368\u001b[0m     \u001b[38;5;66;03m# Fall back to ordinary evalf if possible\u001b[39;00m\n\u001b[1;32m   1369\u001b[0m     \u001b[38;5;28;01mif\u001b[39;00m \u001b[38;5;124m'\u001b[39m\u001b[38;5;124msubs\u001b[39m\u001b[38;5;124m'\u001b[39m \u001b[38;5;129;01min\u001b[39;00m options:\n",
      "File \u001b[0;32m~/Documents/repositories/agryman/acmpy/venv/lib/python3.10/site-packages/sympy/core/evalf.py:534\u001b[0m, in \u001b[0;36mevalf_add\u001b[0;34m(v, prec, options)\u001b[0m\n\u001b[1;32m    531\u001b[0m \u001b[38;5;28;01mwhile\u001b[39;00m \u001b[38;5;241m1\u001b[39m:\n\u001b[1;32m    532\u001b[0m     options[\u001b[38;5;124m'\u001b[39m\u001b[38;5;124mmaxprec\u001b[39m\u001b[38;5;124m'\u001b[39m] \u001b[38;5;241m=\u001b[39m \u001b[38;5;28mmin\u001b[39m(oldmaxprec, \u001b[38;5;241m2\u001b[39m\u001b[38;5;241m*\u001b[39mprec)\n\u001b[0;32m--> 534\u001b[0m     terms \u001b[38;5;241m=\u001b[39m [evalf(arg, prec \u001b[38;5;241m+\u001b[39m \u001b[38;5;241m10\u001b[39m, options) \u001b[38;5;28;01mfor\u001b[39;00m arg \u001b[38;5;129;01min\u001b[39;00m v\u001b[38;5;241m.\u001b[39margs]\n\u001b[1;32m    535\u001b[0m     re, re_acc \u001b[38;5;241m=\u001b[39m add_terms(\n\u001b[1;32m    536\u001b[0m         [a[\u001b[38;5;241m0\u001b[39m::\u001b[38;5;241m2\u001b[39m] \u001b[38;5;28;01mfor\u001b[39;00m a \u001b[38;5;129;01min\u001b[39;00m terms \u001b[38;5;28;01mif\u001b[39;00m a[\u001b[38;5;241m0\u001b[39m]], prec, target_prec)\n\u001b[1;32m    537\u001b[0m     im, im_acc \u001b[38;5;241m=\u001b[39m add_terms(\n\u001b[1;32m    538\u001b[0m         [a[\u001b[38;5;241m1\u001b[39m::\u001b[38;5;241m2\u001b[39m] \u001b[38;5;28;01mfor\u001b[39;00m a \u001b[38;5;129;01min\u001b[39;00m terms \u001b[38;5;28;01mif\u001b[39;00m a[\u001b[38;5;241m1\u001b[39m]], prec, target_prec)\n",
      "File \u001b[0;32m~/Documents/repositories/agryman/acmpy/venv/lib/python3.10/site-packages/sympy/core/evalf.py:534\u001b[0m, in \u001b[0;36m<listcomp>\u001b[0;34m(.0)\u001b[0m\n\u001b[1;32m    531\u001b[0m \u001b[38;5;28;01mwhile\u001b[39;00m \u001b[38;5;241m1\u001b[39m:\n\u001b[1;32m    532\u001b[0m     options[\u001b[38;5;124m'\u001b[39m\u001b[38;5;124mmaxprec\u001b[39m\u001b[38;5;124m'\u001b[39m] \u001b[38;5;241m=\u001b[39m \u001b[38;5;28mmin\u001b[39m(oldmaxprec, \u001b[38;5;241m2\u001b[39m\u001b[38;5;241m*\u001b[39mprec)\n\u001b[0;32m--> 534\u001b[0m     terms \u001b[38;5;241m=\u001b[39m [\u001b[43mevalf\u001b[49m\u001b[43m(\u001b[49m\u001b[43marg\u001b[49m\u001b[43m,\u001b[49m\u001b[43m \u001b[49m\u001b[43mprec\u001b[49m\u001b[43m \u001b[49m\u001b[38;5;241;43m+\u001b[39;49m\u001b[43m \u001b[49m\u001b[38;5;241;43m10\u001b[39;49m\u001b[43m,\u001b[49m\u001b[43m \u001b[49m\u001b[43moptions\u001b[49m\u001b[43m)\u001b[49m \u001b[38;5;28;01mfor\u001b[39;00m arg \u001b[38;5;129;01min\u001b[39;00m v\u001b[38;5;241m.\u001b[39margs]\n\u001b[1;32m    535\u001b[0m     re, re_acc \u001b[38;5;241m=\u001b[39m add_terms(\n\u001b[1;32m    536\u001b[0m         [a[\u001b[38;5;241m0\u001b[39m::\u001b[38;5;241m2\u001b[39m] \u001b[38;5;28;01mfor\u001b[39;00m a \u001b[38;5;129;01min\u001b[39;00m terms \u001b[38;5;28;01mif\u001b[39;00m a[\u001b[38;5;241m0\u001b[39m]], prec, target_prec)\n\u001b[1;32m    537\u001b[0m     im, im_acc \u001b[38;5;241m=\u001b[39m add_terms(\n\u001b[1;32m    538\u001b[0m         [a[\u001b[38;5;241m1\u001b[39m::\u001b[38;5;241m2\u001b[39m] \u001b[38;5;28;01mfor\u001b[39;00m a \u001b[38;5;129;01min\u001b[39;00m terms \u001b[38;5;28;01mif\u001b[39;00m a[\u001b[38;5;241m1\u001b[39m]], prec, target_prec)\n",
      "File \u001b[0;32m~/Documents/repositories/agryman/acmpy/venv/lib/python3.10/site-packages/sympy/core/evalf.py:1366\u001b[0m, in \u001b[0;36mevalf\u001b[0;34m(x, prec, options)\u001b[0m\n\u001b[1;32m   1364\u001b[0m \u001b[38;5;28;01mtry\u001b[39;00m:\n\u001b[1;32m   1365\u001b[0m     rf \u001b[38;5;241m=\u001b[39m evalf_table[x\u001b[38;5;241m.\u001b[39mfunc]\n\u001b[0;32m-> 1366\u001b[0m     r \u001b[38;5;241m=\u001b[39m \u001b[43mrf\u001b[49m\u001b[43m(\u001b[49m\u001b[43mx\u001b[49m\u001b[43m,\u001b[49m\u001b[43m \u001b[49m\u001b[43mprec\u001b[49m\u001b[43m,\u001b[49m\u001b[43m \u001b[49m\u001b[43moptions\u001b[49m\u001b[43m)\u001b[49m\n\u001b[1;32m   1367\u001b[0m \u001b[38;5;28;01mexcept\u001b[39;00m \u001b[38;5;167;01mKeyError\u001b[39;00m:\n\u001b[1;32m   1368\u001b[0m     \u001b[38;5;66;03m# Fall back to ordinary evalf if possible\u001b[39;00m\n\u001b[1;32m   1369\u001b[0m     \u001b[38;5;28;01mif\u001b[39;00m \u001b[38;5;124m'\u001b[39m\u001b[38;5;124msubs\u001b[39m\u001b[38;5;124m'\u001b[39m \u001b[38;5;129;01min\u001b[39;00m options:\n",
      "File \u001b[0;32m~/Documents/repositories/agryman/acmpy/venv/lib/python3.10/site-packages/sympy/core/evalf.py:574\u001b[0m, in \u001b[0;36mevalf_mul\u001b[0;34m(v, prec, options)\u001b[0m\n\u001b[1;32m    572\u001b[0m \u001b[38;5;28;01mfrom\u001b[39;00m \u001b[38;5;21;01msympy\u001b[39;00m\u001b[38;5;21;01m.\u001b[39;00m\u001b[38;5;21;01mcore\u001b[39;00m\u001b[38;5;21;01m.\u001b[39;00m\u001b[38;5;21;01mnumbers\u001b[39;00m \u001b[38;5;28;01mimport\u001b[39;00m Float\n\u001b[1;32m    573\u001b[0m \u001b[38;5;28;01mfor\u001b[39;00m arg \u001b[38;5;129;01min\u001b[39;00m args:\n\u001b[0;32m--> 574\u001b[0m     arg \u001b[38;5;241m=\u001b[39m \u001b[43mevalf\u001b[49m\u001b[43m(\u001b[49m\u001b[43marg\u001b[49m\u001b[43m,\u001b[49m\u001b[43m \u001b[49m\u001b[43mprec\u001b[49m\u001b[43m,\u001b[49m\u001b[43m \u001b[49m\u001b[43moptions\u001b[49m\u001b[43m)\u001b[49m\n\u001b[1;32m    575\u001b[0m     \u001b[38;5;28;01mif\u001b[39;00m arg[\u001b[38;5;241m0\u001b[39m] \u001b[38;5;129;01mis\u001b[39;00m \u001b[38;5;28;01mNone\u001b[39;00m:\n\u001b[1;32m    576\u001b[0m         \u001b[38;5;28;01mcontinue\u001b[39;00m\n",
      "File \u001b[0;32m~/Documents/repositories/agryman/acmpy/venv/lib/python3.10/site-packages/sympy/core/evalf.py:1366\u001b[0m, in \u001b[0;36mevalf\u001b[0;34m(x, prec, options)\u001b[0m\n\u001b[1;32m   1364\u001b[0m \u001b[38;5;28;01mtry\u001b[39;00m:\n\u001b[1;32m   1365\u001b[0m     rf \u001b[38;5;241m=\u001b[39m evalf_table[x\u001b[38;5;241m.\u001b[39mfunc]\n\u001b[0;32m-> 1366\u001b[0m     r \u001b[38;5;241m=\u001b[39m \u001b[43mrf\u001b[49m\u001b[43m(\u001b[49m\u001b[43mx\u001b[49m\u001b[43m,\u001b[49m\u001b[43m \u001b[49m\u001b[43mprec\u001b[49m\u001b[43m,\u001b[49m\u001b[43m \u001b[49m\u001b[43moptions\u001b[49m\u001b[43m)\u001b[49m\n\u001b[1;32m   1367\u001b[0m \u001b[38;5;28;01mexcept\u001b[39;00m \u001b[38;5;167;01mKeyError\u001b[39;00m:\n\u001b[1;32m   1368\u001b[0m     \u001b[38;5;66;03m# Fall back to ordinary evalf if possible\u001b[39;00m\n\u001b[1;32m   1369\u001b[0m     \u001b[38;5;28;01mif\u001b[39;00m \u001b[38;5;124m'\u001b[39m\u001b[38;5;124msubs\u001b[39m\u001b[38;5;124m'\u001b[39m \u001b[38;5;129;01min\u001b[39;00m options:\n",
      "File \u001b[0;32m~/Documents/repositories/agryman/acmpy/venv/lib/python3.10/site-packages/sympy/core/evalf.py:717\u001b[0m, in \u001b[0;36mevalf_pow\u001b[0;34m(v, prec, options)\u001b[0m\n\u001b[1;32m    715\u001b[0m \u001b[38;5;66;03m# Pure square root\u001b[39;00m\n\u001b[1;32m    716\u001b[0m \u001b[38;5;28;01mif\u001b[39;00m exp \u001b[38;5;129;01mis\u001b[39;00m S\u001b[38;5;241m.\u001b[39mHalf:\n\u001b[0;32m--> 717\u001b[0m     xre, xim, _, _ \u001b[38;5;241m=\u001b[39m \u001b[43mevalf\u001b[49m\u001b[43m(\u001b[49m\u001b[43mbase\u001b[49m\u001b[43m,\u001b[49m\u001b[43m \u001b[49m\u001b[43mprec\u001b[49m\u001b[43m \u001b[49m\u001b[38;5;241;43m+\u001b[39;49m\u001b[43m \u001b[49m\u001b[38;5;241;43m5\u001b[39;49m\u001b[43m,\u001b[49m\u001b[43m \u001b[49m\u001b[43moptions\u001b[49m\u001b[43m)\u001b[49m\n\u001b[1;32m    718\u001b[0m     \u001b[38;5;66;03m# General complex square root\u001b[39;00m\n\u001b[1;32m    719\u001b[0m     \u001b[38;5;28;01mif\u001b[39;00m xim:\n",
      "File \u001b[0;32m~/Documents/repositories/agryman/acmpy/venv/lib/python3.10/site-packages/sympy/core/evalf.py:1366\u001b[0m, in \u001b[0;36mevalf\u001b[0;34m(x, prec, options)\u001b[0m\n\u001b[1;32m   1364\u001b[0m \u001b[38;5;28;01mtry\u001b[39;00m:\n\u001b[1;32m   1365\u001b[0m     rf \u001b[38;5;241m=\u001b[39m evalf_table[x\u001b[38;5;241m.\u001b[39mfunc]\n\u001b[0;32m-> 1366\u001b[0m     r \u001b[38;5;241m=\u001b[39m \u001b[43mrf\u001b[49m\u001b[43m(\u001b[49m\u001b[43mx\u001b[49m\u001b[43m,\u001b[49m\u001b[43m \u001b[49m\u001b[43mprec\u001b[49m\u001b[43m,\u001b[49m\u001b[43m \u001b[49m\u001b[43moptions\u001b[49m\u001b[43m)\u001b[49m\n\u001b[1;32m   1367\u001b[0m \u001b[38;5;28;01mexcept\u001b[39;00m \u001b[38;5;167;01mKeyError\u001b[39;00m:\n\u001b[1;32m   1368\u001b[0m     \u001b[38;5;66;03m# Fall back to ordinary evalf if possible\u001b[39;00m\n\u001b[1;32m   1369\u001b[0m     \u001b[38;5;28;01mif\u001b[39;00m \u001b[38;5;124m'\u001b[39m\u001b[38;5;124msubs\u001b[39m\u001b[38;5;124m'\u001b[39m \u001b[38;5;129;01min\u001b[39;00m options:\n",
      "File \u001b[0;32m~/Documents/repositories/agryman/acmpy/venv/lib/python3.10/site-packages/sympy/core/evalf.py:534\u001b[0m, in \u001b[0;36mevalf_add\u001b[0;34m(v, prec, options)\u001b[0m\n\u001b[1;32m    531\u001b[0m \u001b[38;5;28;01mwhile\u001b[39;00m \u001b[38;5;241m1\u001b[39m:\n\u001b[1;32m    532\u001b[0m     options[\u001b[38;5;124m'\u001b[39m\u001b[38;5;124mmaxprec\u001b[39m\u001b[38;5;124m'\u001b[39m] \u001b[38;5;241m=\u001b[39m \u001b[38;5;28mmin\u001b[39m(oldmaxprec, \u001b[38;5;241m2\u001b[39m\u001b[38;5;241m*\u001b[39mprec)\n\u001b[0;32m--> 534\u001b[0m     terms \u001b[38;5;241m=\u001b[39m [evalf(arg, prec \u001b[38;5;241m+\u001b[39m \u001b[38;5;241m10\u001b[39m, options) \u001b[38;5;28;01mfor\u001b[39;00m arg \u001b[38;5;129;01min\u001b[39;00m v\u001b[38;5;241m.\u001b[39margs]\n\u001b[1;32m    535\u001b[0m     re, re_acc \u001b[38;5;241m=\u001b[39m add_terms(\n\u001b[1;32m    536\u001b[0m         [a[\u001b[38;5;241m0\u001b[39m::\u001b[38;5;241m2\u001b[39m] \u001b[38;5;28;01mfor\u001b[39;00m a \u001b[38;5;129;01min\u001b[39;00m terms \u001b[38;5;28;01mif\u001b[39;00m a[\u001b[38;5;241m0\u001b[39m]], prec, target_prec)\n\u001b[1;32m    537\u001b[0m     im, im_acc \u001b[38;5;241m=\u001b[39m add_terms(\n\u001b[1;32m    538\u001b[0m         [a[\u001b[38;5;241m1\u001b[39m::\u001b[38;5;241m2\u001b[39m] \u001b[38;5;28;01mfor\u001b[39;00m a \u001b[38;5;129;01min\u001b[39;00m terms \u001b[38;5;28;01mif\u001b[39;00m a[\u001b[38;5;241m1\u001b[39m]], prec, target_prec)\n",
      "File \u001b[0;32m~/Documents/repositories/agryman/acmpy/venv/lib/python3.10/site-packages/sympy/core/evalf.py:534\u001b[0m, in \u001b[0;36m<listcomp>\u001b[0;34m(.0)\u001b[0m\n\u001b[1;32m    531\u001b[0m \u001b[38;5;28;01mwhile\u001b[39;00m \u001b[38;5;241m1\u001b[39m:\n\u001b[1;32m    532\u001b[0m     options[\u001b[38;5;124m'\u001b[39m\u001b[38;5;124mmaxprec\u001b[39m\u001b[38;5;124m'\u001b[39m] \u001b[38;5;241m=\u001b[39m \u001b[38;5;28mmin\u001b[39m(oldmaxprec, \u001b[38;5;241m2\u001b[39m\u001b[38;5;241m*\u001b[39mprec)\n\u001b[0;32m--> 534\u001b[0m     terms \u001b[38;5;241m=\u001b[39m [\u001b[43mevalf\u001b[49m\u001b[43m(\u001b[49m\u001b[43marg\u001b[49m\u001b[43m,\u001b[49m\u001b[43m \u001b[49m\u001b[43mprec\u001b[49m\u001b[43m \u001b[49m\u001b[38;5;241;43m+\u001b[39;49m\u001b[43m \u001b[49m\u001b[38;5;241;43m10\u001b[39;49m\u001b[43m,\u001b[49m\u001b[43m \u001b[49m\u001b[43moptions\u001b[49m\u001b[43m)\u001b[49m \u001b[38;5;28;01mfor\u001b[39;00m arg \u001b[38;5;129;01min\u001b[39;00m v\u001b[38;5;241m.\u001b[39margs]\n\u001b[1;32m    535\u001b[0m     re, re_acc \u001b[38;5;241m=\u001b[39m add_terms(\n\u001b[1;32m    536\u001b[0m         [a[\u001b[38;5;241m0\u001b[39m::\u001b[38;5;241m2\u001b[39m] \u001b[38;5;28;01mfor\u001b[39;00m a \u001b[38;5;129;01min\u001b[39;00m terms \u001b[38;5;28;01mif\u001b[39;00m a[\u001b[38;5;241m0\u001b[39m]], prec, target_prec)\n\u001b[1;32m    537\u001b[0m     im, im_acc \u001b[38;5;241m=\u001b[39m add_terms(\n\u001b[1;32m    538\u001b[0m         [a[\u001b[38;5;241m1\u001b[39m::\u001b[38;5;241m2\u001b[39m] \u001b[38;5;28;01mfor\u001b[39;00m a \u001b[38;5;129;01min\u001b[39;00m terms \u001b[38;5;28;01mif\u001b[39;00m a[\u001b[38;5;241m1\u001b[39m]], prec, target_prec)\n",
      "File \u001b[0;32m~/Documents/repositories/agryman/acmpy/venv/lib/python3.10/site-packages/sympy/core/evalf.py:1366\u001b[0m, in \u001b[0;36mevalf\u001b[0;34m(x, prec, options)\u001b[0m\n\u001b[1;32m   1364\u001b[0m \u001b[38;5;28;01mtry\u001b[39;00m:\n\u001b[1;32m   1365\u001b[0m     rf \u001b[38;5;241m=\u001b[39m evalf_table[x\u001b[38;5;241m.\u001b[39mfunc]\n\u001b[0;32m-> 1366\u001b[0m     r \u001b[38;5;241m=\u001b[39m \u001b[43mrf\u001b[49m\u001b[43m(\u001b[49m\u001b[43mx\u001b[49m\u001b[43m,\u001b[49m\u001b[43m \u001b[49m\u001b[43mprec\u001b[49m\u001b[43m,\u001b[49m\u001b[43m \u001b[49m\u001b[43moptions\u001b[49m\u001b[43m)\u001b[49m\n\u001b[1;32m   1367\u001b[0m \u001b[38;5;28;01mexcept\u001b[39;00m \u001b[38;5;167;01mKeyError\u001b[39;00m:\n\u001b[1;32m   1368\u001b[0m     \u001b[38;5;66;03m# Fall back to ordinary evalf if possible\u001b[39;00m\n\u001b[1;32m   1369\u001b[0m     \u001b[38;5;28;01mif\u001b[39;00m \u001b[38;5;124m'\u001b[39m\u001b[38;5;124msubs\u001b[39m\u001b[38;5;124m'\u001b[39m \u001b[38;5;129;01min\u001b[39;00m options:\n",
      "File \u001b[0;32m~/Documents/repositories/agryman/acmpy/venv/lib/python3.10/site-packages/sympy/core/evalf.py:691\u001b[0m, in \u001b[0;36mevalf_pow\u001b[0;34m(v, prec, options)\u001b[0m\n\u001b[1;32m    688\u001b[0m \u001b[38;5;66;03m# Exponentiation by p magnifies relative error by |p|, so the\u001b[39;00m\n\u001b[1;32m    689\u001b[0m \u001b[38;5;66;03m# base must be evaluated with increased precision if p is large\u001b[39;00m\n\u001b[1;32m    690\u001b[0m prec \u001b[38;5;241m+\u001b[39m\u001b[38;5;241m=\u001b[39m \u001b[38;5;28mint\u001b[39m(math\u001b[38;5;241m.\u001b[39mlog(\u001b[38;5;28mabs\u001b[39m(p), \u001b[38;5;241m2\u001b[39m))\n\u001b[0;32m--> 691\u001b[0m re, im, re_acc, im_acc \u001b[38;5;241m=\u001b[39m \u001b[43mevalf\u001b[49m\u001b[43m(\u001b[49m\u001b[43mbase\u001b[49m\u001b[43m,\u001b[49m\u001b[43m \u001b[49m\u001b[43mprec\u001b[49m\u001b[43m \u001b[49m\u001b[38;5;241;43m+\u001b[39;49m\u001b[43m \u001b[49m\u001b[38;5;241;43m5\u001b[39;49m\u001b[43m,\u001b[49m\u001b[43m \u001b[49m\u001b[43moptions\u001b[49m\u001b[43m)\u001b[49m\n\u001b[1;32m    692\u001b[0m \u001b[38;5;66;03m# Real to integer power\u001b[39;00m\n\u001b[1;32m    693\u001b[0m \u001b[38;5;28;01mif\u001b[39;00m re \u001b[38;5;129;01mand\u001b[39;00m \u001b[38;5;129;01mnot\u001b[39;00m im:\n",
      "File \u001b[0;32m~/Documents/repositories/agryman/acmpy/venv/lib/python3.10/site-packages/sympy/core/evalf.py:1371\u001b[0m, in \u001b[0;36mevalf\u001b[0;34m(x, prec, options)\u001b[0m\n\u001b[1;32m   1369\u001b[0m \u001b[38;5;28;01mif\u001b[39;00m \u001b[38;5;124m'\u001b[39m\u001b[38;5;124msubs\u001b[39m\u001b[38;5;124m'\u001b[39m \u001b[38;5;129;01min\u001b[39;00m options:\n\u001b[1;32m   1370\u001b[0m     x \u001b[38;5;241m=\u001b[39m x\u001b[38;5;241m.\u001b[39msubs(evalf_subs(prec, options[\u001b[38;5;124m'\u001b[39m\u001b[38;5;124msubs\u001b[39m\u001b[38;5;124m'\u001b[39m]))\n\u001b[0;32m-> 1371\u001b[0m xe \u001b[38;5;241m=\u001b[39m \u001b[43mx\u001b[49m\u001b[38;5;241;43m.\u001b[39;49m\u001b[43m_eval_evalf\u001b[49m\u001b[43m(\u001b[49m\u001b[43mprec\u001b[49m\u001b[43m)\u001b[49m\n\u001b[1;32m   1372\u001b[0m \u001b[38;5;28;01mif\u001b[39;00m xe \u001b[38;5;129;01mis\u001b[39;00m \u001b[38;5;28;01mNone\u001b[39;00m:\n\u001b[1;32m   1373\u001b[0m     \u001b[38;5;28;01mraise\u001b[39;00m \u001b[38;5;167;01mNotImplementedError\u001b[39;00m\n",
      "File \u001b[0;32m~/Documents/repositories/agryman/acmpy/venv/lib/python3.10/site-packages/sympy/polys/rootoftools.py:890\u001b[0m, in \u001b[0;36mComplexRootOf._eval_evalf\u001b[0;34m(self, prec, **kwargs)\u001b[0m\n\u001b[1;32m    888\u001b[0m \u001b[38;5;124;03m\"\"\"Evaluate this complex root to the given precision.\"\"\"\u001b[39;00m\n\u001b[1;32m    889\u001b[0m \u001b[38;5;66;03m# all kwargs are ignored\u001b[39;00m\n\u001b[0;32m--> 890\u001b[0m \u001b[38;5;28;01mreturn\u001b[39;00m \u001b[38;5;28;43mself\u001b[39;49m\u001b[38;5;241;43m.\u001b[39;49m\u001b[43meval_rational\u001b[49m\u001b[43m(\u001b[49m\u001b[43mn\u001b[49m\u001b[38;5;241;43m=\u001b[39;49m\u001b[43mprec_to_dps\u001b[49m\u001b[43m(\u001b[49m\u001b[43mprec\u001b[49m\u001b[43m)\u001b[49m\u001b[43m)\u001b[49m\u001b[38;5;241m.\u001b[39m_evalf(prec)\n",
      "File \u001b[0;32m~/Documents/repositories/agryman/acmpy/venv/lib/python3.10/site-packages/sympy/polys/rootoftools.py:961\u001b[0m, in \u001b[0;36mComplexRootOf.eval_rational\u001b[0;34m(self, dx, dy, n)\u001b[0m\n\u001b[1;32m    959\u001b[0m     dx \u001b[38;5;241m=\u001b[39m \u001b[38;5;28mabs\u001b[39m(interval\u001b[38;5;241m.\u001b[39mcenter[\u001b[38;5;241m0\u001b[39m]\u001b[38;5;241m*\u001b[39mrtol)\n\u001b[1;32m    960\u001b[0m     dy \u001b[38;5;241m=\u001b[39m \u001b[38;5;28mabs\u001b[39m(interval\u001b[38;5;241m.\u001b[39mcenter[\u001b[38;5;241m1\u001b[39m]\u001b[38;5;241m*\u001b[39mrtol)\n\u001b[0;32m--> 961\u001b[0m interval \u001b[38;5;241m=\u001b[39m \u001b[43minterval\u001b[49m\u001b[38;5;241;43m.\u001b[39;49m\u001b[43mrefine_size\u001b[49m\u001b[43m(\u001b[49m\u001b[43mdx\u001b[49m\u001b[43m,\u001b[49m\u001b[43m \u001b[49m\u001b[43mdy\u001b[49m\u001b[43m)\u001b[49m\n\u001b[1;32m    962\u001b[0m c \u001b[38;5;241m=\u001b[39m interval\u001b[38;5;241m.\u001b[39mcenter\n\u001b[1;32m    963\u001b[0m real, imag \u001b[38;5;241m=\u001b[39m \u001b[38;5;28mmap\u001b[39m(Rational, c)\n",
      "File \u001b[0;32m~/Documents/repositories/agryman/acmpy/venv/lib/python3.10/site-packages/sympy/polys/rootisolation.py:2059\u001b[0m, in \u001b[0;36mComplexInterval.refine_size\u001b[0;34m(self, dx, dy)\u001b[0m\n\u001b[1;32m   2057\u001b[0m expr \u001b[38;5;241m=\u001b[39m \u001b[38;5;28mself\u001b[39m\n\u001b[1;32m   2058\u001b[0m \u001b[38;5;28;01mwhile\u001b[39;00m \u001b[38;5;129;01mnot\u001b[39;00m (expr\u001b[38;5;241m.\u001b[39mdx \u001b[38;5;241m<\u001b[39m dx \u001b[38;5;129;01mand\u001b[39;00m expr\u001b[38;5;241m.\u001b[39mdy \u001b[38;5;241m<\u001b[39m dy):\n\u001b[0;32m-> 2059\u001b[0m     expr \u001b[38;5;241m=\u001b[39m \u001b[43mexpr\u001b[49m\u001b[38;5;241;43m.\u001b[39;49m\u001b[43m_inner_refine\u001b[49m\u001b[43m(\u001b[49m\u001b[43m)\u001b[49m\n\u001b[1;32m   2061\u001b[0m \u001b[38;5;28;01mreturn\u001b[39;00m expr\n",
      "File \u001b[0;32m~/Documents/repositories/agryman/acmpy/venv/lib/python3.10/site-packages/sympy/polys/rootisolation.py:2029\u001b[0m, in \u001b[0;36mComplexInterval._inner_refine\u001b[0;34m(self)\u001b[0m\n\u001b[1;32m   2026\u001b[0m dom \u001b[38;5;241m=\u001b[39m \u001b[38;5;28mself\u001b[39m\u001b[38;5;241m.\u001b[39mdom\n\u001b[1;32m   2028\u001b[0m \u001b[38;5;28;01mif\u001b[39;00m s \u001b[38;5;241m-\u001b[39m u \u001b[38;5;241m>\u001b[39m t \u001b[38;5;241m-\u001b[39m v:\n\u001b[0;32m-> 2029\u001b[0m     D_L, D_R \u001b[38;5;241m=\u001b[39m \u001b[43m_vertical_bisection\u001b[49m\u001b[43m(\u001b[49m\u001b[38;5;241;43m1\u001b[39;49m\u001b[43m,\u001b[49m\u001b[43m \u001b[49m\u001b[43m(\u001b[49m\u001b[43mu\u001b[49m\u001b[43m,\u001b[49m\u001b[43m \u001b[49m\u001b[43mv\u001b[49m\u001b[43m)\u001b[49m\u001b[43m,\u001b[49m\u001b[43m \u001b[49m\u001b[43m(\u001b[49m\u001b[43ms\u001b[49m\u001b[43m,\u001b[49m\u001b[43m \u001b[49m\u001b[43mt\u001b[49m\u001b[43m)\u001b[49m\u001b[43m,\u001b[49m\u001b[43m \u001b[49m\u001b[43mI\u001b[49m\u001b[43m,\u001b[49m\u001b[43m \u001b[49m\u001b[43mQ\u001b[49m\u001b[43m,\u001b[49m\u001b[43m \u001b[49m\u001b[43mF1\u001b[49m\u001b[43m,\u001b[49m\u001b[43m \u001b[49m\u001b[43mF2\u001b[49m\u001b[43m,\u001b[49m\u001b[43m \u001b[49m\u001b[43mf1\u001b[49m\u001b[43m,\u001b[49m\u001b[43m \u001b[49m\u001b[43mf2\u001b[49m\u001b[43m,\u001b[49m\u001b[43m \u001b[49m\u001b[43mdom\u001b[49m\u001b[43m)\u001b[49m\n\u001b[1;32m   2031\u001b[0m     \u001b[38;5;28;01mif\u001b[39;00m D_L[\u001b[38;5;241m0\u001b[39m] \u001b[38;5;241m==\u001b[39m \u001b[38;5;241m1\u001b[39m:\n\u001b[1;32m   2032\u001b[0m         _, a, b, I, Q, F1, F2 \u001b[38;5;241m=\u001b[39m D_L\n",
      "File \u001b[0;32m~/Documents/repositories/agryman/acmpy/venv/lib/python3.10/site-packages/sympy/polys/rootisolation.py:1290\u001b[0m, in \u001b[0;36m_vertical_bisection\u001b[0;34m(N, a, b, I, Q, F1, F2, f1, f2, F)\u001b[0m\n\u001b[1;32m   1287\u001b[0m f1V \u001b[38;5;241m=\u001b[39m dmp_eval_in(f1, x, \u001b[38;5;241m0\u001b[39m, \u001b[38;5;241m1\u001b[39m, F)\n\u001b[1;32m   1288\u001b[0m f2V \u001b[38;5;241m=\u001b[39m dmp_eval_in(f2, x, \u001b[38;5;241m0\u001b[39m, \u001b[38;5;241m1\u001b[39m, F)\n\u001b[0;32m-> 1290\u001b[0m I_V \u001b[38;5;241m=\u001b[39m \u001b[43mdup_isolate_real_roots_list\u001b[49m\u001b[43m(\u001b[49m\u001b[43m[\u001b[49m\u001b[43mf1V\u001b[49m\u001b[43m,\u001b[49m\u001b[43m \u001b[49m\u001b[43mf2V\u001b[49m\u001b[43m]\u001b[49m\u001b[43m,\u001b[49m\u001b[43m \u001b[49m\u001b[43mF\u001b[49m\u001b[43m,\u001b[49m\u001b[43m \u001b[49m\u001b[43minf\u001b[49m\u001b[38;5;241;43m=\u001b[39;49m\u001b[43mv\u001b[49m\u001b[43m,\u001b[49m\u001b[43m \u001b[49m\u001b[43msup\u001b[49m\u001b[38;5;241;43m=\u001b[39;49m\u001b[43mt\u001b[49m\u001b[43m,\u001b[49m\u001b[43m \u001b[49m\u001b[43mfast\u001b[49m\u001b[38;5;241;43m=\u001b[39;49m\u001b[38;5;28;43;01mTrue\u001b[39;49;00m\u001b[43m,\u001b[49m\u001b[43m \u001b[49m\u001b[43mstrict\u001b[49m\u001b[38;5;241;43m=\u001b[39;49m\u001b[38;5;28;43;01mTrue\u001b[39;49;00m\u001b[43m,\u001b[49m\u001b[43m \u001b[49m\u001b[43mbasis\u001b[49m\u001b[38;5;241;43m=\u001b[39;49m\u001b[38;5;28;43;01mTrue\u001b[39;49;00m\u001b[43m)\u001b[49m\n\u001b[1;32m   1292\u001b[0m I_L1_L, I_L1_R \u001b[38;5;241m=\u001b[39m [], []\n\u001b[1;32m   1293\u001b[0m I_L2_L, I_L2_R \u001b[38;5;241m=\u001b[39m I_V, I_L2\n",
      "File \u001b[0;32m~/Documents/repositories/agryman/acmpy/venv/lib/python3.10/site-packages/sympy/polys/rootisolation.py:604\u001b[0m, in \u001b[0;36mdup_isolate_real_roots_list\u001b[0;34m(polys, K, eps, inf, sup, strict, basis, fast)\u001b[0m\n\u001b[1;32m    601\u001b[0m \u001b[38;5;28;01mfor\u001b[39;00m f, indices \u001b[38;5;129;01min\u001b[39;00m factors_dict\u001b[38;5;241m.\u001b[39mitems():\n\u001b[1;32m    602\u001b[0m     factors_list\u001b[38;5;241m.\u001b[39mappend((\u001b[38;5;28mlist\u001b[39m(f), indices))\n\u001b[0;32m--> 604\u001b[0m I_neg, I_pos \u001b[38;5;241m=\u001b[39m \u001b[43m_real_isolate_and_disjoin\u001b[49m\u001b[43m(\u001b[49m\u001b[43mfactors_list\u001b[49m\u001b[43m,\u001b[49m\u001b[43m \u001b[49m\u001b[43mK\u001b[49m\u001b[43m,\u001b[49m\u001b[43m \u001b[49m\u001b[43meps\u001b[49m\u001b[38;5;241;43m=\u001b[39;49m\u001b[43meps\u001b[49m\u001b[43m,\u001b[49m\n\u001b[1;32m    605\u001b[0m \u001b[43m    \u001b[49m\u001b[43minf\u001b[49m\u001b[38;5;241;43m=\u001b[39;49m\u001b[43minf\u001b[49m\u001b[43m,\u001b[49m\u001b[43m \u001b[49m\u001b[43msup\u001b[49m\u001b[38;5;241;43m=\u001b[39;49m\u001b[43msup\u001b[49m\u001b[43m,\u001b[49m\u001b[43m \u001b[49m\u001b[43mstrict\u001b[49m\u001b[38;5;241;43m=\u001b[39;49m\u001b[43mstrict\u001b[49m\u001b[43m,\u001b[49m\u001b[43m \u001b[49m\u001b[43mbasis\u001b[49m\u001b[38;5;241;43m=\u001b[39;49m\u001b[43mbasis\u001b[49m\u001b[43m,\u001b[49m\u001b[43m \u001b[49m\u001b[43mfast\u001b[49m\u001b[38;5;241;43m=\u001b[39;49m\u001b[43mfast\u001b[49m\u001b[43m)\u001b[49m\n\u001b[1;32m    607\u001b[0m F \u001b[38;5;241m=\u001b[39m K\u001b[38;5;241m.\u001b[39mget_field()\n\u001b[1;32m    609\u001b[0m \u001b[38;5;28;01mif\u001b[39;00m \u001b[38;5;129;01mnot\u001b[39;00m zeros \u001b[38;5;129;01mor\u001b[39;00m \u001b[38;5;129;01mnot\u001b[39;00m zero_indices:\n",
      "File \u001b[0;32m~/Documents/repositories/agryman/acmpy/venv/lib/python3.10/site-packages/sympy/polys/rootisolation.py:646\u001b[0m, in \u001b[0;36m_real_isolate_and_disjoin\u001b[0;34m(factors, K, eps, inf, sup, strict, basis, fast)\u001b[0m\n\u001b[1;32m    643\u001b[0m I_pos, I_neg \u001b[38;5;241m=\u001b[39m [], []\n\u001b[1;32m    645\u001b[0m \u001b[38;5;28;01mfor\u001b[39;00m i, (f, k) \u001b[38;5;129;01min\u001b[39;00m \u001b[38;5;28menumerate\u001b[39m(factors):\n\u001b[0;32m--> 646\u001b[0m     \u001b[38;5;28;01mfor\u001b[39;00m F, M \u001b[38;5;129;01min\u001b[39;00m \u001b[43mdup_inner_isolate_positive_roots\u001b[49m\u001b[43m(\u001b[49m\u001b[43mf\u001b[49m\u001b[43m,\u001b[49m\u001b[43m \u001b[49m\u001b[43mK\u001b[49m\u001b[43m,\u001b[49m\u001b[43m \u001b[49m\u001b[43meps\u001b[49m\u001b[38;5;241;43m=\u001b[39;49m\u001b[43meps\u001b[49m\u001b[43m,\u001b[49m\u001b[43m \u001b[49m\u001b[43minf\u001b[49m\u001b[38;5;241;43m=\u001b[39;49m\u001b[43minf\u001b[49m\u001b[43m,\u001b[49m\u001b[43m \u001b[49m\u001b[43msup\u001b[49m\u001b[38;5;241;43m=\u001b[39;49m\u001b[43msup\u001b[49m\u001b[43m,\u001b[49m\u001b[43m \u001b[49m\u001b[43mfast\u001b[49m\u001b[38;5;241;43m=\u001b[39;49m\u001b[43mfast\u001b[49m\u001b[43m,\u001b[49m\u001b[43m \u001b[49m\u001b[43mmobius\u001b[49m\u001b[38;5;241;43m=\u001b[39;49m\u001b[38;5;28;43;01mTrue\u001b[39;49;00m\u001b[43m)\u001b[49m:\n\u001b[1;32m    647\u001b[0m         I_pos\u001b[38;5;241m.\u001b[39mappend((F, M, k, f))\n\u001b[1;32m    649\u001b[0m     \u001b[38;5;28;01mfor\u001b[39;00m G, N \u001b[38;5;129;01min\u001b[39;00m dup_inner_isolate_negative_roots(f, K, eps\u001b[38;5;241m=\u001b[39meps, inf\u001b[38;5;241m=\u001b[39minf, sup\u001b[38;5;241m=\u001b[39msup, fast\u001b[38;5;241m=\u001b[39mfast, mobius\u001b[38;5;241m=\u001b[39m\u001b[38;5;28;01mTrue\u001b[39;00m):\n",
      "File \u001b[0;32m~/Documents/repositories/agryman/acmpy/venv/lib/python3.10/site-packages/sympy/polys/rootisolation.py:427\u001b[0m, in \u001b[0;36mdup_inner_isolate_positive_roots\u001b[0;34m(f, K, eps, inf, sup, fast, mobius)\u001b[0m\n\u001b[1;32m    425\u001b[0m \u001b[38;5;28;01mif\u001b[39;00m inf \u001b[38;5;129;01mis\u001b[39;00m \u001b[38;5;129;01mnot\u001b[39;00m \u001b[38;5;28;01mNone\u001b[39;00m \u001b[38;5;129;01mor\u001b[39;00m sup \u001b[38;5;129;01mis\u001b[39;00m \u001b[38;5;129;01mnot\u001b[39;00m \u001b[38;5;28;01mNone\u001b[39;00m:\n\u001b[1;32m    426\u001b[0m     \u001b[38;5;28;01mfor\u001b[39;00m f, M \u001b[38;5;129;01min\u001b[39;00m roots:\n\u001b[0;32m--> 427\u001b[0m         result \u001b[38;5;241m=\u001b[39m \u001b[43m_discard_if_outside_interval\u001b[49m\u001b[43m(\u001b[49m\u001b[43mf\u001b[49m\u001b[43m,\u001b[49m\u001b[43m \u001b[49m\u001b[43mM\u001b[49m\u001b[43m,\u001b[49m\u001b[43m \u001b[49m\u001b[43minf\u001b[49m\u001b[43m,\u001b[49m\u001b[43m \u001b[49m\u001b[43msup\u001b[49m\u001b[43m,\u001b[49m\u001b[43m \u001b[49m\u001b[43mK\u001b[49m\u001b[43m,\u001b[49m\u001b[43m \u001b[49m\u001b[38;5;28;43;01mFalse\u001b[39;49;00m\u001b[43m,\u001b[49m\u001b[43m \u001b[49m\u001b[43mfast\u001b[49m\u001b[43m,\u001b[49m\u001b[43m \u001b[49m\u001b[43mmobius\u001b[49m\u001b[43m)\u001b[49m\n\u001b[1;32m    429\u001b[0m         \u001b[38;5;28;01mif\u001b[39;00m result \u001b[38;5;129;01mis\u001b[39;00m \u001b[38;5;129;01mnot\u001b[39;00m \u001b[38;5;28;01mNone\u001b[39;00m:\n\u001b[1;32m    430\u001b[0m             results\u001b[38;5;241m.\u001b[39mappend(result)\n",
      "File \u001b[0;32m~/Documents/repositories/agryman/acmpy/venv/lib/python3.10/site-packages/sympy/polys/rootisolation.py:401\u001b[0m, in \u001b[0;36m_discard_if_outside_interval\u001b[0;34m(f, M, inf, sup, K, negative, fast, mobius)\u001b[0m\n\u001b[1;32m    398\u001b[0m F \u001b[38;5;241m=\u001b[39m K\u001b[38;5;241m.\u001b[39mget_field()\n\u001b[1;32m    400\u001b[0m \u001b[38;5;28;01mwhile\u001b[39;00m \u001b[38;5;28;01mTrue\u001b[39;00m:\n\u001b[0;32m--> 401\u001b[0m     u, v \u001b[38;5;241m=\u001b[39m \u001b[43m_mobius_to_interval\u001b[49m\u001b[43m(\u001b[49m\u001b[43mM\u001b[49m\u001b[43m,\u001b[49m\u001b[43m \u001b[49m\u001b[43mF\u001b[49m\u001b[43m)\u001b[49m\n\u001b[1;32m    403\u001b[0m     \u001b[38;5;28;01mif\u001b[39;00m negative:\n\u001b[1;32m    404\u001b[0m         u, v \u001b[38;5;241m=\u001b[39m \u001b[38;5;241m-\u001b[39mv, \u001b[38;5;241m-\u001b[39mu\n",
      "File \u001b[0;32m~/Documents/repositories/agryman/acmpy/venv/lib/python3.10/site-packages/sympy/polys/rootisolation.py:142\u001b[0m, in \u001b[0;36m_mobius_to_interval\u001b[0;34m(M, field)\u001b[0m\n\u001b[1;32m    138\u001b[0m a, b, c, d \u001b[38;5;241m=\u001b[39m M\n\u001b[1;32m    140\u001b[0m s, t \u001b[38;5;241m=\u001b[39m field(a, c), field(b, d)\n\u001b[0;32m--> 142\u001b[0m \u001b[38;5;28;01mif\u001b[39;00m \u001b[43ms\u001b[49m\u001b[43m \u001b[49m\u001b[38;5;241;43m<\u001b[39;49m\u001b[38;5;241;43m=\u001b[39;49m\u001b[43m \u001b[49m\u001b[43mt\u001b[49m:\n\u001b[1;32m    143\u001b[0m     \u001b[38;5;28;01mreturn\u001b[39;00m (s, t)\n\u001b[1;32m    144\u001b[0m \u001b[38;5;28;01melse\u001b[39;00m:\n",
      "File \u001b[0;32m~/Documents/repositories/agryman/acmpy/venv/lib/python3.10/site-packages/sympy/external/pythonmpq.py:196\u001b[0m, in \u001b[0;36mPythonMPQ.__le__\u001b[0;34m(self, other)\u001b[0m\n\u001b[1;32m    194\u001b[0m \u001b[38;5;28;01mdef\u001b[39;00m \u001b[38;5;21m__le__\u001b[39m(\u001b[38;5;28mself\u001b[39m, other):\n\u001b[1;32m    195\u001b[0m     \u001b[38;5;124;03m\"\"\"self <= other\"\"\"\u001b[39;00m\n\u001b[0;32m--> 196\u001b[0m     \u001b[38;5;28;01mreturn\u001b[39;00m \u001b[38;5;28;43mself\u001b[39;49m\u001b[38;5;241;43m.\u001b[39;49m\u001b[43m_cmp\u001b[49m\u001b[43m(\u001b[49m\u001b[43mother\u001b[49m\u001b[43m,\u001b[49m\u001b[43m \u001b[49m\u001b[43moperator\u001b[49m\u001b[38;5;241;43m.\u001b[39;49m\u001b[43mle\u001b[49m\u001b[43m)\u001b[49m\n",
      "File \u001b[0;32m~/Documents/repositories/agryman/acmpy/venv/lib/python3.10/site-packages/sympy/external/pythonmpq.py:187\u001b[0m, in \u001b[0;36mPythonMPQ._cmp\u001b[0;34m(self, other, op)\u001b[0m\n\u001b[1;32m    185\u001b[0m     \u001b[38;5;28;01mreturn\u001b[39;00m \u001b[38;5;28mNotImplemented\u001b[39m\n\u001b[1;32m    186\u001b[0m lhs \u001b[38;5;241m=\u001b[39m \u001b[38;5;28mself\u001b[39m\u001b[38;5;241m.\u001b[39mnumerator \u001b[38;5;241m*\u001b[39m other\u001b[38;5;241m.\u001b[39mdenominator\n\u001b[0;32m--> 187\u001b[0m rhs \u001b[38;5;241m=\u001b[39m \u001b[43mother\u001b[49m\u001b[38;5;241;43m.\u001b[39;49m\u001b[43mnumerator\u001b[49m\u001b[43m \u001b[49m\u001b[38;5;241;43m*\u001b[39;49m\u001b[43m \u001b[49m\u001b[38;5;28;43mself\u001b[39;49m\u001b[38;5;241;43m.\u001b[39;49m\u001b[43mdenominator\u001b[49m\n\u001b[1;32m    188\u001b[0m \u001b[38;5;28;01mreturn\u001b[39;00m op(lhs, rhs)\n",
      "\u001b[0;31mKeyboardInterrupt\u001b[0m: "
     ]
    }
   ],
   "source": [
    "solveset(Z_14, A)"
   ]
  }
 ],
 "metadata": {
  "kernelspec": {
   "display_name": "Python 3 (ipykernel)",
   "language": "python",
   "name": "python3"
  },
  "language_info": {
   "codemirror_mode": {
    "name": "ipython",
    "version": 3
   },
   "file_extension": ".py",
   "mimetype": "text/x-python",
   "name": "python",
   "nbconvert_exporter": "python",
   "pygments_lexer": "ipython3",
   "version": "3.10.0"
  }
 },
 "nbformat": 4,
 "nbformat_minor": 5
}
