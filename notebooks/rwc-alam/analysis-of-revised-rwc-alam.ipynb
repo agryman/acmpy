{
 "cells": [
  {
   "cell_type": "markdown",
   "id": "6fd185a7",
   "metadata": {},
   "source": [
    "# Analysis of Revised `RWC_alam()`\n",
    "\n",
    "*Last updated by Arthur Ryman on 2022-05-19*"
   ]
  },
  {
   "cell_type": "markdown",
   "id": "03a58b46",
   "metadata": {},
   "source": [
    "## Introduction\n",
    "\n",
    "I've refactored the Python implementation of `RWC_alam()` to eliminate repeated code.\n",
    "The code accepts an optional `v` parameter which is not explicitly described in WR2015.\n",
    "The goal of this notebook is to create a mathematical specifcation that includes `v`\n",
    "and define how to compute the initial approximation required by `nsolve()`."
   ]
  },
  {
   "cell_type": "code",
   "execution_count": 1,
   "id": "5dca1291",
   "metadata": {},
   "outputs": [],
   "source": [
    "import math\n",
    "from sympy import *\n",
    "from acmpy.papers.wr2015 import *"
   ]
  },
  {
   "cell_type": "markdown",
   "id": "a2c2342d",
   "metadata": {},
   "source": [
    "## `vshftf(v)`\n",
    "\n",
    "```\n",
    "def vshftf(v: nonnegint) -> int:\n",
    "    return (2 * v + 3) ** 2\n",
    "```"
   ]
  },
  {
   "cell_type": "code",
   "execution_count": 2,
   "id": "a9f12604",
   "metadata": {},
   "outputs": [
    {
     "data": {
      "text/latex": [
       "$\\displaystyle v$"
      ],
      "text/plain": [
       "v"
      ]
     },
     "execution_count": 2,
     "metadata": {},
     "output_type": "execute_result"
    }
   ],
   "source": [
    "v = Symbol('v', integer=True, nonnegative=True)\n",
    "v"
   ]
  },
  {
   "cell_type": "code",
   "execution_count": 3,
   "id": "afbf5bda",
   "metadata": {},
   "outputs": [
    {
     "data": {
      "text/latex": [
       "$\\displaystyle \\left(2 v + 3\\right)^{2}$"
      ],
      "text/plain": [
       "(2*v + 3)**2"
      ]
     },
     "execution_count": 3,
     "metadata": {},
     "output_type": "execute_result"
    }
   ],
   "source": [
    "def vshftf(v):\n",
    "    return (2 * v + 3) ** 2\n",
    "\n",
    "vshftf(v)"
   ]
  },
  {
   "cell_type": "code",
   "execution_count": 4,
   "id": "d1fd9e1a",
   "metadata": {},
   "outputs": [
    {
     "data": {
      "text/plain": [
       "9"
      ]
     },
     "execution_count": 4,
     "metadata": {},
     "output_type": "execute_result"
    }
   ],
   "source": [
    "vshftf(0)"
   ]
  },
  {
   "cell_type": "markdown",
   "id": "abe79c2e",
   "metadata": {},
   "source": [
    "## `muf(A, c1, c2, v)`\n",
    "\n",
    "```\n",
    "def muf(A: Expr, c1: float, c2: float, v: nonnegint) -> Expr:\n",
    "    vshft: int = vshftf(v)\n",
    "    return sqrt(vshft + (A * c1 / c2) ** 2)\n",
    "```"
   ]
  },
  {
   "cell_type": "code",
   "execution_count": 5,
   "id": "a38bdd7a",
   "metadata": {},
   "outputs": [
    {
     "data": {
      "text/latex": [
       "$\\displaystyle \\sqrt{\\frac{A^{2} c_{1}^{2}}{c_{2}^{2}} + \\left(2 v + 3\\right)^{2}}$"
      ],
      "text/plain": [
       "sqrt(A**2*c1**2/c2**2 + (2*v + 3)**2)"
      ]
     },
     "execution_count": 5,
     "metadata": {},
     "output_type": "execute_result"
    }
   ],
   "source": [
    "def muf(A, c1, c2, v):\n",
    "    vshft = vshftf(v)\n",
    "    return sqrt(vshft + (A * c1 / c2) ** 2)\n",
    "\n",
    "A = Symbol('A', real=True, positive=True)\n",
    "muf(A, c1, c2, v)"
   ]
  },
  {
   "cell_type": "code",
   "execution_count": 6,
   "id": "076237c2",
   "metadata": {},
   "outputs": [
    {
     "data": {
      "text/latex": [
       "$\\displaystyle \\sqrt{\\frac{A^{2} c_{1}^{2}}{c_{2}^{2}} + 9}$"
      ],
      "text/plain": [
       "sqrt(A**2*c1**2/c2**2 + 9)"
      ]
     },
     "execution_count": 6,
     "metadata": {},
     "output_type": "execute_result"
    }
   ],
   "source": [
    "muf(A, c1, c2, 0)"
   ]
  },
  {
   "cell_type": "markdown",
   "id": "5cfc3710",
   "metadata": {},
   "source": [
    "## `RWC1(A, B, c1, c2, v)`\n",
    "\n",
    "```\n",
    "def RWC1(A: Expr, B: float, c1: float, c2: float, v: nonnegint = 0) -> Expr:\n",
    "    return A ** 3 - B ** 2 * c1 * A - (2 * v + 7) * B ** 2 * c2\n",
    "```"
   ]
  },
  {
   "cell_type": "code",
   "execution_count": 7,
   "id": "17f8683f",
   "metadata": {},
   "outputs": [
    {
     "data": {
      "text/latex": [
       "$\\displaystyle A^{3} - A B^{2} c_{1} - B^{2} c_{2} \\left(2 v + 7\\right)$"
      ],
      "text/plain": [
       "A**3 - A*B**2*c1 - B**2*c2*(2*v + 7)"
      ]
     },
     "execution_count": 7,
     "metadata": {},
     "output_type": "execute_result"
    }
   ],
   "source": [
    "def RWC1(A, B, c1, c2, v):\n",
    "    return A ** 3 - B ** 2 * c1 * A - (2 * v + 7) * B ** 2 * c2\n",
    "\n",
    "RWC1(A, B, c1, c2, v)"
   ]
  },
  {
   "cell_type": "code",
   "execution_count": 8,
   "id": "e5a58c03",
   "metadata": {},
   "outputs": [
    {
     "data": {
      "text/latex": [
       "$\\displaystyle A^{3} - A B^{2} c_{1} - 7 B^{2} c_{2}$"
      ],
      "text/plain": [
       "A**3 - A*B**2*c1 - 7*B**2*c2"
      ]
     },
     "execution_count": 8,
     "metadata": {},
     "output_type": "execute_result"
    }
   ],
   "source": [
    "RWC1(A, B, c1, c2, 0)"
   ]
  },
  {
   "cell_type": "markdown",
   "id": "067e60f8",
   "metadata": {},
   "source": [
    "## `RWC_alam_clam(B, c1, c2, v)`\n",
    "\n",
    "```\n",
    "def RWC_alam_clam(B: float, c1: float, c2: float, v: nonnegint = 0\n",
    "                  ) -> tuple[float, float]:\n",
    "\n",
    "    A: Symbol = Symbol('A', real=True)\n",
    "    F1: Expr = RWC1(A, B, c1, c2, v)\n",
    "    aa0: float = float(nsolve(F1, A, 20))\n",
    "\n",
    "    return math.sqrt(aa0), 2.5\n",
    "```"
   ]
  },
  {
   "cell_type": "markdown",
   "id": "60f24d04",
   "metadata": {},
   "source": [
    "In this case $\\lambda_v$ is independent of $A$ and takes the constant value $2.5$.\n",
    "The function finds the zero of $F_1$."
   ]
  },
  {
   "cell_type": "code",
   "execution_count": 9,
   "id": "e3fe6195",
   "metadata": {},
   "outputs": [
    {
     "data": {
      "text/latex": [
       "$\\displaystyle A^{3} - A B^{2} c_{1} - B^{2} c_{2} \\left(2 v + 7\\right)$"
      ],
      "text/plain": [
       "A**3 - A*B**2*c1 - B**2*c2*(2*v + 7)"
      ]
     },
     "execution_count": 9,
     "metadata": {},
     "output_type": "execute_result"
    }
   ],
   "source": [
    "F1 = RWC1(A, B, c1, c2, v)\n",
    "F1"
   ]
  },
  {
   "cell_type": "markdown",
   "id": "2285b05a",
   "metadata": {},
   "source": [
    "We have the general constraint $c_2 \\ge 0$.\n",
    "There are two cases:\n",
    "1. $c_2 = 0, c_1 > 0$\n",
    "2. $c_2 > 0$"
   ]
  },
  {
   "cell_type": "markdown",
   "id": "18639c2f",
   "metadata": {},
   "source": [
    "### Case 1: $c_2 = 0, c_1 > 0$"
   ]
  },
  {
   "cell_type": "code",
   "execution_count": 10,
   "id": "b4b499d6",
   "metadata": {},
   "outputs": [
    {
     "data": {
      "text/latex": [
       "$\\displaystyle A^{3} - A B^{2} c_{1}$"
      ],
      "text/plain": [
       "A**3 - A*B**2*c1"
      ]
     },
     "execution_count": 10,
     "metadata": {},
     "output_type": "execute_result"
    }
   ],
   "source": [
    "c1_case1 = Symbol('c1', real=True, positive=True)\n",
    "c2_case1 = 0\n",
    "F1_case1 = RWC1(A, B, c1_case1, c2_case1, v)\n",
    "F1_case1"
   ]
  },
  {
   "cell_type": "markdown",
   "id": "db96c0e7",
   "metadata": {},
   "source": [
    "We can solve this exactly.\n",
    "Recall that $A > 0$."
   ]
  },
  {
   "cell_type": "code",
   "execution_count": 11,
   "id": "120152c8",
   "metadata": {},
   "outputs": [
    {
     "data": {
      "text/plain": [
       "[B*sqrt(c1)]"
      ]
     },
     "execution_count": 11,
     "metadata": {},
     "output_type": "execute_result"
    }
   ],
   "source": [
    "solve_case1 = solve(F1_case1, A)\n",
    "solve_case1"
   ]
  },
  {
   "cell_type": "code",
   "execution_count": 12,
   "id": "317f9d8b",
   "metadata": {},
   "outputs": [
    {
     "data": {
      "text/latex": [
       "$\\displaystyle B \\sqrt{c_{1}}$"
      ],
      "text/plain": [
       "B*sqrt(c1)"
      ]
     },
     "execution_count": 12,
     "metadata": {},
     "output_type": "execute_result"
    }
   ],
   "source": [
    "A0_solve_case1 = solve_case1[0]\n",
    "A0_solve_case1"
   ]
  },
  {
   "cell_type": "code",
   "execution_count": 13,
   "id": "08506f26",
   "metadata": {},
   "outputs": [
    {
     "data": {
      "text/latex": [
       "$\\displaystyle \\left\\{0, - B \\sqrt{c_{1}}, B \\sqrt{c_{1}}\\right\\}$"
      ],
      "text/plain": [
       "{0, -B*sqrt(c1), B*sqrt(c1)}"
      ]
     },
     "execution_count": 13,
     "metadata": {},
     "output_type": "execute_result"
    }
   ],
   "source": [
    "solveset_case1 = solveset(F1_case1, A, domain=Reals)\n",
    "solveset_case1"
   ]
  },
  {
   "cell_type": "code",
   "execution_count": 14,
   "id": "2affd232",
   "metadata": {},
   "outputs": [
    {
     "data": {
      "text/plain": [
       "[B*sqrt(c1)]"
      ]
     },
     "execution_count": 14,
     "metadata": {},
     "output_type": "execute_result"
    }
   ],
   "source": [
    "[s for s in solveset_case1 if s > 0]"
   ]
  },
  {
   "cell_type": "markdown",
   "id": "26066225",
   "metadata": {},
   "source": [
    "### Tests for Case 1"
   ]
  },
  {
   "cell_type": "code",
   "execution_count": 15,
   "id": "14590a63",
   "metadata": {},
   "outputs": [
    {
     "name": "stdout",
     "output_type": "stream",
     "text": [
      "(10, 1, 10.0),\n",
      "(10, 2, 14.142135623730951),\n",
      "(10, 3, 17.32050807568877),\n",
      "(20, 1, 20.0),\n",
      "(20, 2, 28.284271247461902),\n",
      "(20, 3, 34.64101615137754),\n",
      "(30, 1, 30.0),\n",
      "(30, 2, 42.42640687119285),\n",
      "(30, 3, 51.96152422706631),\n"
     ]
    }
   ],
   "source": [
    "from acmpy.hamiltonian_data import A0_case1\n",
    "\n",
    "def print_tests_case1():\n",
    "    for B in [10, 20, 30]:\n",
    "        for c1 in [1, 2, 3]:\n",
    "            A0 = A0_case1(B, c1)\n",
    "            print(f'({B}, {c1}, {A0}),')\n",
    "\n",
    "print_tests_case1()"
   ]
  },
  {
   "cell_type": "markdown",
   "id": "cea048ce",
   "metadata": {},
   "source": [
    "### Case 2: $c_2 > 0$"
   ]
  },
  {
   "cell_type": "code",
   "execution_count": 16,
   "id": "967010ec",
   "metadata": {},
   "outputs": [
    {
     "data": {
      "text/latex": [
       "$\\displaystyle A^{3} - A B^{2} c_{1} - B^{2} c_{2} \\left(2 v + 7\\right)$"
      ],
      "text/plain": [
       "A**3 - A*B**2*c1 - B**2*c2*(2*v + 7)"
      ]
     },
     "execution_count": 16,
     "metadata": {},
     "output_type": "execute_result"
    }
   ],
   "source": [
    "c1_case2 = c1\n",
    "c2_case2 = Symbol('c2', real=True, positive=True)\n",
    "F1_case2 = RWC1(A, B, c1_case2, c2_case2, v)\n",
    "F1_case2"
   ]
  },
  {
   "cell_type": "markdown",
   "id": "73d7f434",
   "metadata": {},
   "source": [
    "For small $A$, $F_1(A)$ becomes a negative constant.\n",
    "For large $A$, $F_1(A)$ is approximately $A^3$ which is positive.\n",
    "It therefore has at least one positive zero.\n",
    "Approximate it by dropping the $c_1$ term."
   ]
  },
  {
   "cell_type": "code",
   "execution_count": 17,
   "id": "bdf8593b",
   "metadata": {},
   "outputs": [
    {
     "data": {
      "text/latex": [
       "$\\displaystyle A^{3} - B^{2} c_{2} \\left(2 v + 7\\right)$"
      ],
      "text/plain": [
       "A**3 - B**2*c2*(2*v + 7)"
      ]
     },
     "execution_count": 17,
     "metadata": {},
     "output_type": "execute_result"
    }
   ],
   "source": [
    "F1_case2_approx = F1_case2.subs(c1, 0)\n",
    "F1_case2_approx"
   ]
  },
  {
   "cell_type": "code",
   "execution_count": 18,
   "id": "cd3b8d05",
   "metadata": {},
   "outputs": [
    {
     "data": {
      "text/plain": [
       "[(2*B**2*c2*v + 7*B**2*c2)**(1/3)]"
      ]
     },
     "execution_count": 18,
     "metadata": {},
     "output_type": "execute_result"
    }
   ],
   "source": [
    "solve_case2_approx = solve(F1_case2_approx, A)\n",
    "solve_case2_approx"
   ]
  },
  {
   "cell_type": "code",
   "execution_count": 19,
   "id": "297a3be1",
   "metadata": {},
   "outputs": [
    {
     "data": {
      "text/latex": [
       "$\\displaystyle \\sqrt[3]{2 B^{2} c_{2} v + 7 B^{2} c_{2}}$"
      ],
      "text/plain": [
       "(2*B**2*c2*v + 7*B**2*c2)**(1/3)"
      ]
     },
     "execution_count": 19,
     "metadata": {},
     "output_type": "execute_result"
    }
   ],
   "source": [
    "A0_case2_approx = solve_case2_approx[0]\n",
    "A0_case2_approx"
   ]
  },
  {
   "cell_type": "code",
   "execution_count": 20,
   "id": "237dd119",
   "metadata": {},
   "outputs": [
    {
     "data": {
      "text/plain": [
       "3"
      ]
     },
     "execution_count": 20,
     "metadata": {},
     "output_type": "execute_result"
    }
   ],
   "source": [
    "solve_case2 = solve(F1_case2, A)\n",
    "len(solve_case2)"
   ]
  },
  {
   "cell_type": "code",
   "execution_count": 21,
   "id": "dd19b477",
   "metadata": {},
   "outputs": [
    {
     "data": {
      "text/latex": [
       "$\\displaystyle \\frac{B^{2} c_{1}}{3 \\sqrt[3]{B^{2} c_{2} v + \\frac{7 B^{2} c_{2}}{2} + \\sqrt{- \\frac{B^{6} c_{1}^{3}}{27} + \\frac{\\left(- 2 B^{2} c_{2} v - 7 B^{2} c_{2}\\right)^{2}}{4}}}} + \\sqrt[3]{B^{2} c_{2} v + \\frac{7 B^{2} c_{2}}{2} + \\sqrt{- \\frac{B^{6} c_{1}^{3}}{27} + \\frac{\\left(- 2 B^{2} c_{2} v - 7 B^{2} c_{2}\\right)^{2}}{4}}}$"
      ],
      "text/plain": [
       "B**2*c1/(3*(B**2*c2*v + 7*B**2*c2/2 + sqrt(-B**6*c1**3/27 + (-2*B**2*c2*v - 7*B**2*c2)**2/4))**(1/3)) + (B**2*c2*v + 7*B**2*c2/2 + sqrt(-B**6*c1**3/27 + (-2*B**2*c2*v - 7*B**2*c2)**2/4))**(1/3)"
      ]
     },
     "execution_count": 21,
     "metadata": {},
     "output_type": "execute_result"
    }
   ],
   "source": [
    "solve_case2[0]"
   ]
  },
  {
   "cell_type": "code",
   "execution_count": 22,
   "id": "26aeaa2f",
   "metadata": {},
   "outputs": [
    {
     "data": {
      "text/latex": [
       "$\\displaystyle \\frac{B^{2} c_{1}}{3 \\left(- \\frac{1}{2} - \\frac{\\sqrt{3} i}{2}\\right) \\sqrt[3]{B^{2} c_{2} v + \\frac{7 B^{2} c_{2}}{2} + \\sqrt{- \\frac{B^{6} c_{1}^{3}}{27} + \\frac{\\left(- 2 B^{2} c_{2} v - 7 B^{2} c_{2}\\right)^{2}}{4}}}} + \\left(- \\frac{1}{2} - \\frac{\\sqrt{3} i}{2}\\right) \\sqrt[3]{B^{2} c_{2} v + \\frac{7 B^{2} c_{2}}{2} + \\sqrt{- \\frac{B^{6} c_{1}^{3}}{27} + \\frac{\\left(- 2 B^{2} c_{2} v - 7 B^{2} c_{2}\\right)^{2}}{4}}}$"
      ],
      "text/plain": [
       "B**2*c1/(3*(-1/2 - sqrt(3)*I/2)*(B**2*c2*v + 7*B**2*c2/2 + sqrt(-B**6*c1**3/27 + (-2*B**2*c2*v - 7*B**2*c2)**2/4))**(1/3)) + (-1/2 - sqrt(3)*I/2)*(B**2*c2*v + 7*B**2*c2/2 + sqrt(-B**6*c1**3/27 + (-2*B**2*c2*v - 7*B**2*c2)**2/4))**(1/3)"
      ]
     },
     "execution_count": 22,
     "metadata": {},
     "output_type": "execute_result"
    }
   ],
   "source": [
    "solve_case2[1]"
   ]
  },
  {
   "cell_type": "code",
   "execution_count": 23,
   "id": "97a31df7",
   "metadata": {},
   "outputs": [
    {
     "data": {
      "text/latex": [
       "$\\displaystyle \\frac{B^{2} c_{1}}{3 \\left(- \\frac{1}{2} + \\frac{\\sqrt{3} i}{2}\\right) \\sqrt[3]{B^{2} c_{2} v + \\frac{7 B^{2} c_{2}}{2} + \\sqrt{- \\frac{B^{6} c_{1}^{3}}{27} + \\frac{\\left(- 2 B^{2} c_{2} v - 7 B^{2} c_{2}\\right)^{2}}{4}}}} + \\left(- \\frac{1}{2} + \\frac{\\sqrt{3} i}{2}\\right) \\sqrt[3]{B^{2} c_{2} v + \\frac{7 B^{2} c_{2}}{2} + \\sqrt{- \\frac{B^{6} c_{1}^{3}}{27} + \\frac{\\left(- 2 B^{2} c_{2} v - 7 B^{2} c_{2}\\right)^{2}}{4}}}$"
      ],
      "text/plain": [
       "B**2*c1/(3*(-1/2 + sqrt(3)*I/2)*(B**2*c2*v + 7*B**2*c2/2 + sqrt(-B**6*c1**3/27 + (-2*B**2*c2*v - 7*B**2*c2)**2/4))**(1/3)) + (-1/2 + sqrt(3)*I/2)*(B**2*c2*v + 7*B**2*c2/2 + sqrt(-B**6*c1**3/27 + (-2*B**2*c2*v - 7*B**2*c2)**2/4))**(1/3)"
      ]
     },
     "execution_count": 23,
     "metadata": {},
     "output_type": "execute_result"
    }
   ],
   "source": [
    "solve_case2[2]"
   ]
  },
  {
   "cell_type": "markdown",
   "id": "7c5018b5",
   "metadata": {},
   "source": [
    "### Tests for Case 2"
   ]
  },
  {
   "cell_type": "code",
   "execution_count": 24,
   "id": "40741103",
   "metadata": {},
   "outputs": [
    {
     "name": "stdout",
     "output_type": "stream",
     "text": [
      "(10, 1, 0, 8.879040017426005),\n",
      "(10, 1, 1, 9.654893846056297),\n",
      "(10, 1, 2, 10.32280115456367),\n",
      "(10, 2, 0, 11.186889420813966),\n",
      "(10, 2, 1, 12.164403991146798),\n",
      "(10, 2, 2, 13.005914468513868),\n",
      "(10, 3, 0, 12.80579164987494),\n",
      "(10, 3, 1, 13.924766500838334),\n",
      "(10, 3, 2, 14.888055529538272),\n",
      "(20, 1, 0, 14.094597464129782),\n",
      "(20, 1, 1, 15.32618864787106),\n",
      "(20, 1, 2, 16.386425412012915),\n",
      "(20, 2, 0, 17.75808003485201),\n",
      "(20, 2, 1, 19.309787692112593),\n",
      "(20, 2, 2, 20.64560230912734),\n",
      "(20, 3, 0, 20.327927136297067),\n",
      "(20, 3, 1, 22.104188991842317),\n",
      "(20, 3, 2, 23.63331500935002),\n",
      "(30, 1, 0, 18.469147504478332),\n",
      "(30, 1, 1, 20.08298850246508),\n",
      "(30, 1, 2, 21.472291690189408),\n",
      "(30, 2, 0, 23.269667714505616),\n",
      "(30, 2, 1, 25.30297995905247),\n",
      "(30, 2, 2, 27.0533922899524),\n",
      "(30, 3, 0, 26.637120052278018),\n",
      "(30, 3, 1, 28.964681538168886),\n",
      "(30, 3, 2, 30.968403463691008),\n"
     ]
    }
   ],
   "source": [
    "from acmpy.hamiltonian_data import A0_case2_approx\n",
    "\n",
    "def print_tests_case2():\n",
    "    for B in [10, 20, 30]:\n",
    "        for c2 in [1, 2, 3]:\n",
    "            for v in [0, 1, 2]:\n",
    "                A0 = A0_case2_approx(B, c2, v)\n",
    "                print(f'({B}, {c2}, {v}, {A0}),')\n",
    "\n",
    "print_tests_case2()"
   ]
  },
  {
   "cell_type": "markdown",
   "id": "a20719e2",
   "metadata": {},
   "source": [
    "## `RWC2(A, mu, B, c1, c2, v)`\n",
    "\n",
    "```\n",
    "def RWC2(A: Expr, mu: Expr, B: float, c1: float, c2: float, v: nonnegint = 0) -> Expr:\n",
    "    vshft: int = vshftf(v)\n",
    "    return (c1 / c2) ** 2 * (-vshft * A ** 5 / mu ** 2\n",
    "                             + A ** 3 * B ** 2 * c1\n",
    "                             + A ** 2 * B ** 2 * c2 * (mu + 3)) \\\n",
    "           + A ** 3 * (2 * mu + vshft) \\\n",
    "           - B ** 2 * mu * (mu + 2) * (A * c1 + c2 * (mu + 4))\n",
    "```"
   ]
  },
  {
   "cell_type": "code",
   "execution_count": 25,
   "id": "18e5b84d",
   "metadata": {},
   "outputs": [
    {
     "data": {
      "text/latex": [
       "$\\displaystyle \\mu$"
      ],
      "text/plain": [
       "mu"
      ]
     },
     "execution_count": 25,
     "metadata": {},
     "output_type": "execute_result"
    }
   ],
   "source": [
    "mu = Symbol('mu', real=True, positive=True)\n",
    "mu"
   ]
  },
  {
   "cell_type": "code",
   "execution_count": 26,
   "id": "b4f7b08a",
   "metadata": {},
   "outputs": [
    {
     "data": {
      "text/latex": [
       "$\\displaystyle A^{3} \\left(2 \\mu + \\left(2 v + 3\\right)^{2}\\right) - B^{2} \\mu \\left(\\mu + 2\\right) \\left(A c_{1} + c_{2} \\left(\\mu + 4\\right)\\right) + \\frac{c_{1}^{2} \\left(- \\frac{A^{5} \\left(2 v + 3\\right)^{2}}{\\mu^{2}} + A^{3} B^{2} c_{1} + A^{2} B^{2} c_{2} \\left(\\mu + 3\\right)\\right)}{c_{2}^{2}}$"
      ],
      "text/plain": [
       "A**3*(2*mu + (2*v + 3)**2) - B**2*mu*(mu + 2)*(A*c1 + c2*(mu + 4)) + c1**2*(-A**5*(2*v + 3)**2/mu**2 + A**3*B**2*c1 + A**2*B**2*c2*(mu + 3))/c2**2"
      ]
     },
     "execution_count": 26,
     "metadata": {},
     "output_type": "execute_result"
    }
   ],
   "source": [
    "def RWC2(A, mu, B, c1, c2, v):\n",
    "    vshft = vshftf(v)\n",
    "    return (c1 / c2) ** 2 * (-vshft * A ** 5 / mu ** 2\n",
    "                             + A ** 3 * B ** 2 * c1\n",
    "                             + A ** 2 * B ** 2 * c2 * (mu + 3)) \\\n",
    "           + A ** 3 * (2 * mu + vshft) \\\n",
    "           - B ** 2 * mu * (mu + 2) * (A * c1 + c2 * (mu + 4))\n",
    "\n",
    "\n",
    "RWC2(A, mu, B, c1, c2, v)"
   ]
  },
  {
   "cell_type": "markdown",
   "id": "1558956a",
   "metadata": {},
   "source": [
    "## `RWC_alam(B, c1, c2, v)`\n",
    "\n",
    "```\n",
    "def RWC_alam(B: float, c1: float, c2: float, v: nonnegint = 0\n",
    "             ) -> tuple[float, float]:\n",
    "    require_nonnegint('v', v)\n",
    "\n",
    "    if c1 >= 0:\n",
    "        return RWC_alam_clam(B, c1, c2, v)\n",
    "\n",
    "    assert c1 < 0\n",
    "    A: Symbol = Symbol('A', real=True)\n",
    "    mu: Expr = muf(A, c1, c2, v)\n",
    "    F2: Expr = RWC2(A, mu, B, c1, c2, v)\n",
    "\n",
    "    aa_initial: float = (35 * B ** 2 * c2 / 2) ** (1 / 3)\n",
    "    aa0: float = float(nsolve(F2, A, aa_initial))\n",
    "\n",
    "    return math.sqrt(aa0), float(1 + muf(S(aa0), c1, c2, v) / 2)\n",
    "```\n",
    "\n",
    "In this case we only need to consider $c_1 < 0, c_2 > 0$."
   ]
  },
  {
   "cell_type": "markdown",
   "id": "6c205647",
   "metadata": {},
   "source": [
    "### Case 3: $c_1 < 0, c_2 > 0$"
   ]
  },
  {
   "cell_type": "code",
   "execution_count": 27,
   "id": "b22d7af7",
   "metadata": {},
   "outputs": [
    {
     "data": {
      "text/latex": [
       "$\\displaystyle \\sqrt{\\frac{A^{2} c_{1}^{2}}{c_{2}^{2}} + \\left(2 v + 3\\right)^{2}}$"
      ],
      "text/plain": [
       "sqrt(A**2*c1**2/c2**2 + (2*v + 3)**2)"
      ]
     },
     "execution_count": 27,
     "metadata": {},
     "output_type": "execute_result"
    }
   ],
   "source": [
    "c1_case3 = Symbol('c1', real=True, negative=True)\n",
    "c2_case3 = Symbol('c2', real=True, positive=True)\n",
    "mu_case3 = muf(A, c1_case3, c2_case3, v)\n",
    "mu_case3"
   ]
  },
  {
   "cell_type": "code",
   "execution_count": 28,
   "id": "701db559",
   "metadata": {},
   "outputs": [
    {
     "data": {
      "text/latex": [
       "$\\displaystyle A^{3} \\left(\\left(2 v + 3\\right)^{2} + 2 \\sqrt{\\frac{A^{2} c_{1}^{2}}{c_{2}^{2}} + \\left(2 v + 3\\right)^{2}}\\right) - B^{2} \\left(A c_{1} + c_{2} \\left(\\sqrt{\\frac{A^{2} c_{1}^{2}}{c_{2}^{2}} + \\left(2 v + 3\\right)^{2}} + 4\\right)\\right) \\sqrt{\\frac{A^{2} c_{1}^{2}}{c_{2}^{2}} + \\left(2 v + 3\\right)^{2}} \\left(\\sqrt{\\frac{A^{2} c_{1}^{2}}{c_{2}^{2}} + \\left(2 v + 3\\right)^{2}} + 2\\right) + \\frac{c_{1}^{2} \\left(- \\frac{A^{5} \\left(2 v + 3\\right)^{2}}{\\frac{A^{2} c_{1}^{2}}{c_{2}^{2}} + \\left(2 v + 3\\right)^{2}} + A^{3} B^{2} c_{1} + A^{2} B^{2} c_{2} \\left(\\sqrt{\\frac{A^{2} c_{1}^{2}}{c_{2}^{2}} + \\left(2 v + 3\\right)^{2}} + 3\\right)\\right)}{c_{2}^{2}}$"
      ],
      "text/plain": [
       "A**3*((2*v + 3)**2 + 2*sqrt(A**2*c1**2/c2**2 + (2*v + 3)**2)) - B**2*(A*c1 + c2*(sqrt(A**2*c1**2/c2**2 + (2*v + 3)**2) + 4))*sqrt(A**2*c1**2/c2**2 + (2*v + 3)**2)*(sqrt(A**2*c1**2/c2**2 + (2*v + 3)**2) + 2) + c1**2*(-A**5*(2*v + 3)**2/(A**2*c1**2/c2**2 + (2*v + 3)**2) + A**3*B**2*c1 + A**2*B**2*c2*(sqrt(A**2*c1**2/c2**2 + (2*v + 3)**2) + 3))/c2**2"
      ]
     },
     "execution_count": 28,
     "metadata": {},
     "output_type": "execute_result"
    }
   ],
   "source": [
    "F2_case3 = RWC2(A, mu_case3, B, c1_case3, c2_case3, v)\n",
    "F2_case3"
   ]
  },
  {
   "cell_type": "code",
   "execution_count": 29,
   "id": "725d2797",
   "metadata": {},
   "outputs": [
    {
     "data": {
      "text/latex": [
       "$\\displaystyle O\\left(1\\right)$"
      ],
      "text/plain": [
       "O(1)"
      ]
     },
     "execution_count": 29,
     "metadata": {},
     "output_type": "execute_result"
    }
   ],
   "source": [
    "O(F2_case3, (A, 0))"
   ]
  },
  {
   "cell_type": "code",
   "execution_count": 30,
   "id": "d0969782",
   "metadata": {},
   "outputs": [
    {
     "data": {
      "text/latex": [
       "$\\displaystyle - B^{2} c_{2} \\left(2 v + 3\\right) \\left(2 v + 5\\right) \\left(2 v + 7\\right)$"
      ],
      "text/plain": [
       "-B**2*c2*(2*v + 3)*(2*v + 5)*(2*v + 7)"
      ]
     },
     "execution_count": 30,
     "metadata": {},
     "output_type": "execute_result"
    }
   ],
   "source": [
    "F2_case3_approx_0 = F2_case3.subs(A, 0)\n",
    "F2_case3_approx_0"
   ]
  },
  {
   "cell_type": "code",
   "execution_count": 31,
   "id": "311d20be",
   "metadata": {},
   "outputs": [
    {
     "data": {
      "text/latex": [
       "$\\displaystyle O\\left(A^{4}; A\\rightarrow \\infty\\right)$"
      ],
      "text/plain": [
       "O(A**4, (A, oo))"
      ]
     },
     "execution_count": 31,
     "metadata": {},
     "output_type": "execute_result"
    }
   ],
   "source": [
    "O(F2_case3, (A, oo))"
   ]
  },
  {
   "cell_type": "code",
   "execution_count": 32,
   "id": "65d2309f",
   "metadata": {},
   "outputs": [
    {
     "data": {
      "text/latex": [
       "$\\displaystyle - \\frac{2 A^{4} c_{1}}{c_{2}}$"
      ],
      "text/plain": [
       "-2*A**4*c1/c2"
      ]
     },
     "execution_count": 32,
     "metadata": {},
     "output_type": "execute_result"
    }
   ],
   "source": [
    "F2_case3_approx_oo = limit(F2_case3 / A ** 4, A, oo) * A ** 4\n",
    "F2_case3_approx_oo"
   ]
  },
  {
   "cell_type": "code",
   "execution_count": 33,
   "id": "cad9dd80",
   "metadata": {},
   "outputs": [
    {
     "data": {
      "text/latex": [
       "$\\displaystyle - \\frac{2 A^{4} c_{1}}{c_{2}} - B^{2} c_{2} \\left(2 v + 3\\right) \\left(2 v + 5\\right) \\left(2 v + 7\\right)$"
      ],
      "text/plain": [
       "-2*A**4*c1/c2 - B**2*c2*(2*v + 3)*(2*v + 5)*(2*v + 7)"
      ]
     },
     "execution_count": 33,
     "metadata": {},
     "output_type": "execute_result"
    }
   ],
   "source": [
    "F2_case3_approx = F2_case3_approx_0 + F2_case3_approx_oo\n",
    "F2_case3_approx"
   ]
  },
  {
   "cell_type": "code",
   "execution_count": 34,
   "id": "05b2e338",
   "metadata": {},
   "outputs": [
    {
     "data": {
      "text/plain": [
       "[2**(3/4)*(-1/c1)**(1/4)*(8*B**2*c2**2*v**3 + 60*B**2*c2**2*v**2 + 142*B**2*c2**2*v + 105*B**2*c2**2)**(1/4)/2]"
      ]
     },
     "execution_count": 34,
     "metadata": {},
     "output_type": "execute_result"
    }
   ],
   "source": [
    "solve_case3_approx = solve(F2_case3_approx, A)\n",
    "solve_case3_approx"
   ]
  },
  {
   "cell_type": "code",
   "execution_count": 35,
   "id": "8246cee9",
   "metadata": {},
   "outputs": [
    {
     "data": {
      "text/latex": [
       "$\\displaystyle \\frac{2^{\\frac{3}{4}} \\sqrt[4]{- \\frac{1}{c_{1}}} \\sqrt[4]{8 B^{2} c_{2}^{2} v^{3} + 60 B^{2} c_{2}^{2} v^{2} + 142 B^{2} c_{2}^{2} v + 105 B^{2} c_{2}^{2}}}{2}$"
      ],
      "text/plain": [
       "2**(3/4)*(-1/c1)**(1/4)*(8*B**2*c2**2*v**3 + 60*B**2*c2**2*v**2 + 142*B**2*c2**2*v + 105*B**2*c2**2)**(1/4)/2"
      ]
     },
     "execution_count": 35,
     "metadata": {},
     "output_type": "execute_result"
    }
   ],
   "source": [
    "A0_case3_approx = solve_case3_approx[0]\n",
    "A0_case3_approx"
   ]
  },
  {
   "cell_type": "code",
   "execution_count": 36,
   "id": "212c0330",
   "metadata": {},
   "outputs": [
    {
     "data": {
      "text/latex": [
       "$\\displaystyle \\frac{2^{\\frac{3}{4}} \\sqrt{B} \\sqrt{c_{2}} \\sqrt[4]{8 v^{3} + 60 v^{2} + 142 v + 105}}{2 \\sqrt[4]{- c_{1}}}$"
      ],
      "text/plain": [
       "2**(3/4)*sqrt(B)*sqrt(c2)*(8*v**3 + 60*v**2 + 142*v + 105)**(1/4)/(2*(-c1)**(1/4))"
      ]
     },
     "execution_count": 36,
     "metadata": {},
     "output_type": "execute_result"
    }
   ],
   "source": [
    "simplify(A0_case3_approx)"
   ]
  },
  {
   "cell_type": "code",
   "execution_count": 37,
   "id": "00a6b7c5",
   "metadata": {},
   "outputs": [
    {
     "data": {
      "text/latex": [
       "$\\displaystyle \\text{True}$"
      ],
      "text/plain": [
       "True"
      ]
     },
     "execution_count": 37,
     "metadata": {},
     "output_type": "execute_result"
    }
   ],
   "source": [
    "A0_case3_approx > 0"
   ]
  },
  {
   "cell_type": "markdown",
   "id": "1a065c16",
   "metadata": {},
   "source": [
    "### Tests for Case 3"
   ]
  },
  {
   "cell_type": "code",
   "execution_count": 45,
   "id": "d71a4e17",
   "metadata": {},
   "outputs": [
    {
     "data": {
      "text/latex": [
       "$\\displaystyle 2.89250760851908 B^{0.5}$"
      ],
      "text/plain": [
       "2.89250760851908*B**0.5"
      ]
     },
     "execution_count": 45,
     "metadata": {},
     "output_type": "execute_result"
    }
   ],
   "source": [
    "A0_case3_approx_B = A0_case3_approx.subs([(c1_case3, -3.0), (c2_case3, 2.0), (v, 0)])\n",
    "A0_case3_approx_B.evalf()"
   ]
  },
  {
   "cell_type": "code",
   "execution_count": 48,
   "id": "8748dc04",
   "metadata": {},
   "outputs": [
    {
     "name": "stdout",
     "output_type": "stream",
     "text": [
      "(10, 9.146912192286944),\n",
      "(20, 12.935687276168014),\n",
      "(30, 15.84291664941221),\n",
      "(40, 18.293824384573888),\n",
      "(50, 20.453117446175234),\n",
      "(60, 22.40526759314526),\n",
      "(70, 24.20045492493587),\n",
      "(80, 25.87137455233603),\n",
      "(90, 27.440736576860832),\n",
      "(100, 28.925076085190778),\n"
     ]
    }
   ],
   "source": [
    "def print_tests_case3():\n",
    "    for B_value in range(10, 101, 10):\n",
    "        A0 = A0_case3_approx_B.subs(B, B_value)\n",
    "        print(f'({B_value}, {float(A0)}),')\n",
    "\n",
    "print_tests_case3()"
   ]
  },
  {
   "cell_type": "code",
   "execution_count": 50,
   "id": "843fdd2f",
   "metadata": {},
   "outputs": [
    {
     "data": {
      "text/plain": [
       "[(10, 9.146912192286944),\n",
       " (20, 12.935687276168016),\n",
       " (30, 15.842916649412212),\n",
       " (40, 18.293824384573888),\n",
       " (50, 20.453117446175234),\n",
       " (60, 22.405267593145265),\n",
       " (70, 24.200454924935872),\n",
       " (80, 25.871374552336032),\n",
       " (90, 27.440736576860836),\n",
       " (100, 28.92507608519078)]"
      ]
     },
     "execution_count": 50,
     "metadata": {},
     "output_type": "execute_result"
    }
   ],
   "source": [
    "def A0_case3_approx_fn(B, c1, c2, v):\n",
    "    return math.sqrt(B * c2) * ((2 * v + 3) * (2 * v + 5) * (2 * v + 7) / (-2 * c1)) ** ( 1 / 4)\n",
    "\n",
    "[(B, A0_case3_approx_fn(B, -3, 2, 0)) for B in range(10, 101, 10)]"
   ]
  }
 ],
 "metadata": {
  "kernelspec": {
   "display_name": "Python 3 (ipykernel)",
   "language": "python",
   "name": "python3"
  },
  "language_info": {
   "codemirror_mode": {
    "name": "ipython",
    "version": 3
   },
   "file_extension": ".py",
   "mimetype": "text/x-python",
   "name": "python",
   "nbconvert_exporter": "python",
   "pygments_lexer": "ipython3",
   "version": "3.10.0"
  }
 },
 "nbformat": 4,
 "nbformat_minor": 5
}
