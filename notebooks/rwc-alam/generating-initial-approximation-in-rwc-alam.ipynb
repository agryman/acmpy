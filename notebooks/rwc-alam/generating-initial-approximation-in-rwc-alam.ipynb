{
 "cells": [
  {
   "cell_type": "markdown",
   "id": "43f42b52",
   "metadata": {
    "pycharm": {
     "name": "#%% md\n"
    }
   },
   "source": [
    "# Generating Initial Approximation for `a` in RWC_alam()\n",
    "\n",
    "*Last updated by Arthur Ryman on 2022-05-19*"
   ]
  },
  {
   "cell_type": "markdown",
   "id": "e6d16d82",
   "metadata": {
    "pycharm": {
     "name": "#%% md\n"
    }
   },
   "source": [
    "## Introduction\n",
    "\n",
    "The function `RWC_alam(B, c1, c2, v)` computes optimal values for the radial wave function parameters\n",
    "$(a, \\lambda_v)$.\n",
    "It does so by minimizing the expectation value $E(a,\\lambda_v)$ of \n",
    "the RWC Hamiltonian defined by $(B, c1, c2)$ on the ground state.\n",
    "The minimum occurs where the derivative of $E$ vanishes.\n",
    "I originally implemented the Python version using the SymPy function `solveset()` since this should return all\n",
    "zeros.\n",
    "\n",
    "Unfortunately, `solveset()` failed to find solutions in some cases.\n",
    "I therefore replaced it with `nsolve()` which uses numerical methods.\n",
    "However, `nsolve()` does require a good initial approximation, otherwise it also fails to find a solution.\n",
    "Also, it only returns the first solution it finds for the given initial approximation.\n",
    "It is therefore important to compute a good initial approximation.\n",
    "\n",
    "The goal of this notebook is to develop the theory of how to generate a good initial approximation.\n",
    "\n",
    "All equation references in this notebook refer to WR2015."
   ]
  },
  {
   "cell_type": "code",
   "execution_count": 1,
   "id": "95c2ae72",
   "metadata": {},
   "outputs": [],
   "source": [
    "from sympy import *\n",
    "from acmpy.papers.wr2015 import *"
   ]
  },
  {
   "cell_type": "markdown",
   "id": "4cdb28d6",
   "metadata": {
    "pycharm": {
     "name": "#%% md\n"
    }
   },
   "source": [
    "## RWC Hamiltonians\n",
    "\n",
    "We consider $SO(5)$-invariant Hamiltonians defined by (B.12) where $\\chi = \\kappa = 0$.\n",
    "\n",
    "$$\n",
    "\\begin{gather}\n",
    "H(B, c_1, c_2) = -\\frac{1}{2B}\\nabla^2 + \\frac{B}{2}(c_1 \\beta^2 + c_2 \\beta^4)\n",
    "\\end{gather}\n",
    "$$\n",
    "\n",
    "Here the parameters $B, c_1, c_2$ are real numbers constrained as follows.\n",
    "\n",
    "$$\n",
    "\\begin{gather}\n",
    "B > 0 \\\\\n",
    "c_2 \\ge 0 \\\\\n",
    "\\mbox{if $c_2 = 0$ then $c_1 > 0$}\n",
    "\\end{gather}\n",
    "$$"
   ]
  },
  {
   "cell_type": "markdown",
   "id": "8e362e85",
   "metadata": {
    "pycharm": {
     "name": "#%% md\n"
    }
   },
   "source": [
    "The expectation value of the Hamiltonian in the ground state is given by (B.16)."
   ]
  },
  {
   "cell_type": "code",
   "execution_count": 2,
   "id": "60a904de",
   "metadata": {
    "pycharm": {
     "name": "#%%\n"
    }
   },
   "outputs": [
    {
     "data": {
      "text/latex": [
       "$\\displaystyle E = \\frac{B c_{1} \\lambda_{0}}{2 a^{2}} + \\frac{B c_{2} \\lambda_{0} \\left(\\lambda_{0} + 1\\right)}{2 a^{4}} + \\frac{a^{2} \\left(1 + \\frac{9}{4 \\lambda_{0} - 4}\\right)}{2 B}$"
      ],
      "text/plain": [
       "Eq(E, B*c1*lambda0/(2*a**2) + B*c2*lambda0*(lambda0 + 1)/(2*a**4) + a**2*(1 + 9/(4*lambda0 - 4))/(2*B))"
      ]
     },
     "execution_count": 2,
     "metadata": {},
     "output_type": "execute_result"
    }
   ],
   "source": [
    "Eq_B16"
   ]
  },
  {
   "cell_type": "markdown",
   "id": "bae3e58f",
   "metadata": {
    "pycharm": {
     "name": "#%% md\n"
    }
   },
   "source": [
    "Our goal is to compute the value $a_0$ of $a$ that minimizes $E(a, \\lambda_0(a),B,c_1,c_2)$.\n",
    "\n",
    "$$\n",
    "a_0 = \\arg\\min_a E(a, \\lambda_0(a),B,c_1,c_2)\n",
    "$$"
   ]
  },
  {
   "cell_type": "code",
   "execution_count": 3,
   "id": "0467e5ae",
   "metadata": {
    "pycharm": {
     "name": "#%%\n"
    }
   },
   "outputs": [
    {
     "data": {
      "text/latex": [
       "$\\displaystyle a_{0}$"
      ],
      "text/plain": [
       "a0"
      ]
     },
     "execution_count": 3,
     "metadata": {},
     "output_type": "execute_result"
    }
   ],
   "source": [
    "a0 = Symbol('a0', real=True, positive=True)\n",
    "a0"
   ]
  },
  {
   "cell_type": "markdown",
   "id": "71fe499c",
   "metadata": {
    "pycharm": {
     "name": "#%% md\n"
    }
   },
   "source": [
    "Observe that $E$ depends on $a^2$. \n",
    "Introduce the variable $A = a^2$."
   ]
  },
  {
   "cell_type": "code",
   "execution_count": 4,
   "id": "28473986",
   "metadata": {
    "pycharm": {
     "name": "#%%\n"
    }
   },
   "outputs": [
    {
     "data": {
      "text/latex": [
       "$\\displaystyle A = a^{2}$"
      ],
      "text/plain": [
       "Eq(A, a**2)"
      ]
     },
     "execution_count": 4,
     "metadata": {},
     "output_type": "execute_result"
    }
   ],
   "source": [
    "def A_a(a):\n",
    "    return a ** 2\n",
    "    \n",
    "A = Symbol('A', real=True, positive=True)\n",
    "Eq_A = Eq(A, A_a(a))\n",
    "Eq_A"
   ]
  },
  {
   "cell_type": "code",
   "execution_count": 5,
   "id": "eb9217d1",
   "metadata": {
    "pycharm": {
     "name": "#%%\n"
    }
   },
   "outputs": [
    {
     "data": {
      "text/latex": [
       "$\\displaystyle a = \\sqrt{A}$"
      ],
      "text/plain": [
       "Eq(a, sqrt(A))"
      ]
     },
     "execution_count": 5,
     "metadata": {},
     "output_type": "execute_result"
    }
   ],
   "source": [
    "def a_A(A):\n",
    "    return sqrt(A)\n",
    "Eq_a = Eq(a, a_A(A))\n",
    "Eq_a"
   ]
  },
  {
   "cell_type": "markdown",
   "id": "6c12b762",
   "metadata": {
    "pycharm": {
     "name": "#%% md\n"
    }
   },
   "source": [
    "Define $F$ such that $F(A) = F(a^2) = E(a)$."
   ]
  },
  {
   "cell_type": "code",
   "execution_count": 6,
   "id": "e148671c",
   "metadata": {},
   "outputs": [
    {
     "data": {
      "text/latex": [
       "$\\displaystyle F$"
      ],
      "text/plain": [
       "F"
      ]
     },
     "execution_count": 6,
     "metadata": {},
     "output_type": "execute_result"
    }
   ],
   "source": [
    "F = Symbol('F', real=True)\n",
    "F"
   ]
  },
  {
   "cell_type": "code",
   "execution_count": 7,
   "id": "8af73bba",
   "metadata": {
    "pycharm": {
     "name": "#%%\n"
    }
   },
   "outputs": [
    {
     "data": {
      "text/latex": [
       "$\\displaystyle F = \\frac{A \\left(1 + \\frac{9}{4 \\lambda_{0} - 4}\\right)}{2 B} + \\frac{B c_{1} \\lambda_{0}}{2 A} + \\frac{B c_{2} \\lambda_{0} \\left(\\lambda_{0} + 1\\right)}{2 A^{2}}$"
      ],
      "text/plain": [
       "Eq(F, A*(1 + 9/(4*lambda0 - 4))/(2*B) + B*c1*lambda0/(2*A) + B*c2*lambda0*(lambda0 + 1)/(2*A**2))"
      ]
     },
     "execution_count": 7,
     "metadata": {},
     "output_type": "execute_result"
    }
   ],
   "source": [
    "def F_B16(A, lambda0, B, c1, c2):\n",
    "    F = E_B16(sqrt(A), lambda0, B, c1, c2)\n",
    "\n",
    "    return F\n",
    "\n",
    "Eq(F, F_B16(A, lambda0, B, c1, c2))"
   ]
  },
  {
   "cell_type": "code",
   "execution_count": 8,
   "id": "11e16faa",
   "metadata": {
    "pycharm": {
     "name": "#%%\n"
    }
   },
   "outputs": [
    {
     "data": {
      "text/plain": [
       "True"
      ]
     },
     "execution_count": 8,
     "metadata": {},
     "output_type": "execute_result"
    }
   ],
   "source": [
    "F_B16(a ** 2, lambda0, B, c1, c2) == E_B16(a, lambda0, B, c1, c2)"
   ]
  },
  {
   "cell_type": "markdown",
   "id": "58723ef6",
   "metadata": {
    "pycharm": {
     "name": "#%% md\n"
    }
   },
   "source": [
    "Let $A_0$ be the value of $A$ that minimizes $F(A, \\lambda_0(\\sqrt{A}), B, c_1, c_2)$.\n",
    "\n",
    "$$\n",
    "A_0 = \\arg\\min_A F(A, \\lambda_0(\\sqrt{A}),B,c_1,c_2)\n",
    "$$"
   ]
  },
  {
   "cell_type": "code",
   "execution_count": 9,
   "id": "4511ba17",
   "metadata": {
    "pycharm": {
     "name": "#%%\n"
    }
   },
   "outputs": [
    {
     "data": {
      "text/latex": [
       "$\\displaystyle A_{0}$"
      ],
      "text/plain": [
       "A0"
      ]
     },
     "execution_count": 9,
     "metadata": {},
     "output_type": "execute_result"
    }
   ],
   "source": [
    "A0 = Symbol('A0', real=True, positive=True)\n",
    "A0"
   ]
  },
  {
   "cell_type": "markdown",
   "id": "6aec870a",
   "metadata": {
    "pycharm": {
     "name": "#%% md\n"
    }
   },
   "source": [
    "Since $A$ is a monotonic, strictly increasing function of $a$,\n",
    "we have\n",
    "\n",
    "$$\n",
    "A_0 = a_0^2\n",
    "$$"
   ]
  },
  {
   "cell_type": "markdown",
   "id": "4205b783",
   "metadata": {
    "pycharm": {
     "name": "#%% md\n"
    }
   },
   "source": [
    "The parameter $\\lambda_0$ is defined by (B.11)."
   ]
  },
  {
   "cell_type": "code",
   "execution_count": 10,
   "id": "0bf572dd",
   "metadata": {
    "pycharm": {
     "name": "#%%\n"
    }
   },
   "outputs": [
    {
     "data": {
      "text/latex": [
       "$\\displaystyle \\lambda_{0} = \\sqrt{a^{4} \\beta_{0}^{4} + \\frac{9}{4}} + 1$"
      ],
      "text/plain": [
       "Eq(lambda0, sqrt(a**4*beta0**4 + 9/4) + 1)"
      ]
     },
     "execution_count": 10,
     "metadata": {},
     "output_type": "execute_result"
    }
   ],
   "source": [
    "Eq_B11"
   ]
  },
  {
   "cell_type": "markdown",
   "id": "eca7df22",
   "metadata": {
    "pycharm": {
     "name": "#%% md\n"
    }
   },
   "source": [
    "The parameter $\\beta_0$ is defined by (B.15)."
   ]
  },
  {
   "cell_type": "code",
   "execution_count": 11,
   "id": "9a9fd4db",
   "metadata": {
    "pycharm": {
     "name": "#%%\n"
    }
   },
   "outputs": [
    {
     "data": {
      "text/latex": [
       "$\\displaystyle \\beta_{0} = \\begin{cases} \\frac{\\sqrt{2} \\sqrt{- \\frac{c_{1}}{c_{2}}}}{2} & \\text{for}\\: c_{1} < 0 \\\\0 & \\text{otherwise} \\end{cases}$"
      ],
      "text/plain": [
       "Eq(beta0, Piecewise((sqrt(2)*sqrt(-c1/c2)/2, c1 < 0), (0, True)))"
      ]
     },
     "execution_count": 11,
     "metadata": {},
     "output_type": "execute_result"
    }
   ],
   "source": [
    "Eq_B15"
   ]
  },
  {
   "cell_type": "markdown",
   "id": "d23995a9",
   "metadata": {
    "pycharm": {
     "name": "#%% md\n"
    }
   },
   "source": [
    "Finally, $\\lambda_v$ is computed from $\\lambda_0$ and the seniority $v$ using one of several possible\n",
    "rules.\n",
    "\n",
    "The main implementation uses the rule defined by (61)."
   ]
  },
  {
   "cell_type": "code",
   "execution_count": 12,
   "id": "ced1479b",
   "metadata": {
    "pycharm": {
     "name": "#%%\n"
    }
   },
   "outputs": [
    {
     "data": {
      "text/latex": [
       "$\\displaystyle \\lambda_{v} = \\lambda_{0} + v$"
      ],
      "text/plain": [
       "Eq(lambda_v, lambda0 + v)"
      ]
     },
     "execution_count": 12,
     "metadata": {},
     "output_type": "execute_result"
    }
   ],
   "source": [
    "Eq_61"
   ]
  },
  {
   "cell_type": "markdown",
   "id": "e655044f",
   "metadata": {
    "pycharm": {
     "name": "#%% md\n"
    }
   },
   "source": [
    "The even-odd parity rule is defined by (62)."
   ]
  },
  {
   "cell_type": "code",
   "execution_count": 13,
   "id": "fab235e0",
   "metadata": {
    "pycharm": {
     "name": "#%%\n"
    }
   },
   "outputs": [
    {
     "data": {
      "text/latex": [
       "$\\displaystyle \\lambda_{v} = \\lambda_{0} + \\left(v\\bmod{2}\\right)$"
      ],
      "text/plain": [
       "Eq(lambda_v, lambda0 + Mod(v, 2))"
      ]
     },
     "execution_count": 13,
     "metadata": {},
     "output_type": "execute_result"
    }
   ],
   "source": [
    "Eq_62"
   ]
  },
  {
   "cell_type": "markdown",
   "id": "9193bb14",
   "metadata": {
    "pycharm": {
     "name": "#%% md\n"
    }
   },
   "source": [
    "The constant rule is defined by (63)."
   ]
  },
  {
   "cell_type": "code",
   "execution_count": 14,
   "id": "78cb44c8",
   "metadata": {
    "pycharm": {
     "name": "#%%\n"
    }
   },
   "outputs": [
    {
     "data": {
      "text/latex": [
       "$\\displaystyle \\lambda_{v} = \\lambda_{0}$"
      ],
      "text/plain": [
       "Eq(lambda_v, lambda0)"
      ]
     },
     "execution_count": 14,
     "metadata": {},
     "output_type": "execute_result"
    }
   ],
   "source": [
    "Eq_63"
   ]
  },
  {
   "cell_type": "markdown",
   "id": "665380d5",
   "metadata": {
    "pycharm": {
     "name": "#%% md\n"
    }
   },
   "source": [
    "## Generating an Initial Approximation\n",
    "\n",
    "\n",
    "The approach we use is to approximate the expectation value $E(a, \\lambda_0, B, c_1, c_2)$ \n",
    "by a function that agrees with it for very small and very large values of $a$, \n",
    "and to use its minimum as the initial guess for the minimum of the actual expectation value.\n",
    "\n",
    "There are three cases of the parameters to consider:\n",
    " 1. $c_2 = 0, c_1 > 0$\n",
    " 2. $c_2 > 0, c_1 >= 0$\n",
    " 3. $c_2 > 0, c_1 < 0$"
   ]
  },
  {
   "cell_type": "markdown",
   "id": "73e2c3c4",
   "metadata": {
    "pycharm": {
     "name": "#%% md\n"
    }
   },
   "source": [
    "## Case 1: $c_2 = 0, c_1 > 0$\n",
    "\n",
    "Define the parameters for this case."
   ]
  },
  {
   "cell_type": "code",
   "execution_count": 15,
   "id": "9f4547a4",
   "metadata": {
    "pycharm": {
     "name": "#%%\n"
    }
   },
   "outputs": [],
   "source": [
    "c1_case1 = Symbol('c1', real=True, positive=True)\n",
    "c2_case1 = 0"
   ]
  },
  {
   "cell_type": "markdown",
   "id": "501c53f4",
   "metadata": {
    "pycharm": {
     "name": "#%% md\n"
    }
   },
   "source": [
    "Use (B.15) to compute $\\beta_0$ for this case."
   ]
  },
  {
   "cell_type": "code",
   "execution_count": 16,
   "id": "033a9154",
   "metadata": {
    "pycharm": {
     "name": "#%%\n"
    }
   },
   "outputs": [
    {
     "data": {
      "text/latex": [
       "$\\displaystyle \\beta_{0} = 0$"
      ],
      "text/plain": [
       "Eq(beta0, 0)"
      ]
     },
     "execution_count": 16,
     "metadata": {},
     "output_type": "execute_result"
    }
   ],
   "source": [
    "beta0_case1 = beta0_B15(c1_case1, c2_case1)\n",
    "Eq(beta0, beta0_case1)"
   ]
  },
  {
   "cell_type": "markdown",
   "id": "bcf4c42f",
   "metadata": {
    "pycharm": {
     "name": "#%% md\n"
    }
   },
   "source": [
    "Use (B.11) to compute $\\lambda_0$ for this case."
   ]
  },
  {
   "cell_type": "code",
   "execution_count": 17,
   "id": "2651eae9",
   "metadata": {
    "pycharm": {
     "name": "#%%\n"
    }
   },
   "outputs": [
    {
     "data": {
      "text/latex": [
       "$\\displaystyle \\lambda_{0} = \\frac{5}{2}$"
      ],
      "text/plain": [
       "Eq(lambda0, 5/2)"
      ]
     },
     "execution_count": 17,
     "metadata": {},
     "output_type": "execute_result"
    }
   ],
   "source": [
    "lambda0_case1 = lambda0_B11(sqrt(A), beta0_case1)\n",
    "Eq(lambda0, lambda0_case1)"
   ]
  },
  {
   "cell_type": "markdown",
   "id": "fa52916d",
   "metadata": {
    "pycharm": {
     "name": "#%% md\n"
    }
   },
   "source": [
    "Use (B.16) to compute $F$ for this case."
   ]
  },
  {
   "cell_type": "code",
   "execution_count": 18,
   "id": "736c1e84",
   "metadata": {
    "pycharm": {
     "name": "#%%\n"
    }
   },
   "outputs": [
    {
     "data": {
      "text/latex": [
       "$\\displaystyle F = \\frac{5 A}{4 B} + \\frac{5 B c_{1}}{4 A}$"
      ],
      "text/plain": [
       "Eq(F, 5*A/(4*B) + 5*B*c1/(4*A))"
      ]
     },
     "execution_count": 18,
     "metadata": {},
     "output_type": "execute_result"
    }
   ],
   "source": [
    "F_case1 = F_B16(A, lambda0_case1, B, c1_case1, c2_case1)\n",
    "Eq(F, F_case1)"
   ]
  },
  {
   "cell_type": "markdown",
   "id": "4b68ab15",
   "metadata": {
    "pycharm": {
     "name": "#%% md\n"
    }
   },
   "source": [
    "Compute the derivative of $F$ and find its zeros."
   ]
  },
  {
   "cell_type": "code",
   "execution_count": 19,
   "id": "1d4dcfe9",
   "metadata": {
    "pycharm": {
     "name": "#%%\n"
    }
   },
   "outputs": [
    {
     "data": {
      "text/latex": [
       "$\\displaystyle \\frac{5}{4 B} - \\frac{5 B c_{1}}{4 A^{2}}$"
      ],
      "text/plain": [
       "5/(4*B) - 5*B*c1/(4*A**2)"
      ]
     },
     "execution_count": 19,
     "metadata": {},
     "output_type": "execute_result"
    }
   ],
   "source": [
    "DF_case1 = F_case1.diff(A)\n",
    "DF_case1"
   ]
  },
  {
   "cell_type": "markdown",
   "id": "e37cd33d",
   "metadata": {
    "pycharm": {
     "name": "#%% md\n"
    }
   },
   "source": [
    "We can find the zeros exactly in this case. There is no need to call `nsolve()`."
   ]
  },
  {
   "cell_type": "code",
   "execution_count": 20,
   "id": "7e00755e",
   "metadata": {
    "pycharm": {
     "name": "#%%\n"
    }
   },
   "outputs": [
    {
     "data": {
      "text/latex": [
       "$\\displaystyle \\left\\{- B \\sqrt{c_{1}}, B \\sqrt{c_{1}}\\right\\}$"
      ],
      "text/plain": [
       "{-B*sqrt(c1), B*sqrt(c1)}"
      ]
     },
     "execution_count": 20,
     "metadata": {},
     "output_type": "execute_result"
    }
   ],
   "source": [
    "solutions_case1 = solveset(DF_case1, A, domain=Reals)\n",
    "solutions_case1"
   ]
  },
  {
   "cell_type": "markdown",
   "id": "2bc3b52e",
   "metadata": {
    "pycharm": {
     "name": "#%% md\n"
    }
   },
   "source": [
    "Observe that `solveset()` does not use the assumptions on $A$ and as a consequence returns\n",
    "a negative solution which we must eliminate."
   ]
  },
  {
   "cell_type": "code",
   "execution_count": 21,
   "id": "95d185a5",
   "metadata": {
    "pycharm": {
     "name": "#%%\n"
    }
   },
   "outputs": [
    {
     "data": {
      "text/plain": [
       "[B*sqrt(c1)]"
      ]
     },
     "execution_count": 21,
     "metadata": {},
     "output_type": "execute_result"
    }
   ],
   "source": [
    "feasible_solutions_case1 = [s for s in solutions_case1 if s.is_positive]\n",
    "feasible_solutions_case1"
   ]
  },
  {
   "cell_type": "code",
   "execution_count": 22,
   "id": "eb11692b",
   "metadata": {
    "pycharm": {
     "name": "#%%\n"
    }
   },
   "outputs": [
    {
     "data": {
      "text/latex": [
       "$\\displaystyle A_{0} = B \\sqrt{c_{1}}$"
      ],
      "text/plain": [
       "Eq(A0, B*sqrt(c1))"
      ]
     },
     "execution_count": 22,
     "metadata": {},
     "output_type": "execute_result"
    }
   ],
   "source": [
    "Eq_case1 = Eq(A0, feasible_solutions_case1[0])\n",
    "Eq_case1"
   ]
  },
  {
   "cell_type": "markdown",
   "id": "e583f783",
   "metadata": {
    "pycharm": {
     "name": "#%% md\n"
    }
   },
   "source": [
    "As a check, solve the equation using `solve()` which does respect the assumptions on $A$."
   ]
  },
  {
   "cell_type": "code",
   "execution_count": 23,
   "id": "36745c13",
   "metadata": {
    "pycharm": {
     "name": "#%%\n"
    }
   },
   "outputs": [
    {
     "data": {
      "text/plain": [
       "[B*sqrt(c1)]"
      ]
     },
     "execution_count": 23,
     "metadata": {},
     "output_type": "execute_result"
    }
   ],
   "source": [
    "solve(DF_case1, A)"
   ]
  },
  {
   "cell_type": "markdown",
   "id": "f9b9bbf7",
   "metadata": {
    "pycharm": {
     "name": "#%% md\n"
    }
   },
   "source": [
    "## Case 2: $c_2 > 0, c_1 >= 0$"
   ]
  },
  {
   "cell_type": "markdown",
   "id": "1566a606",
   "metadata": {
    "pycharm": {
     "name": "#%% md\n"
    }
   },
   "source": [
    "Introduce the variables for this case."
   ]
  },
  {
   "cell_type": "code",
   "execution_count": 24,
   "id": "a3a33971",
   "metadata": {
    "pycharm": {
     "name": "#%%\n"
    }
   },
   "outputs": [],
   "source": [
    "c1_case2 = Symbol('c1', real=True, nonnegative=True)\n",
    "c2_case2 = Symbol('c2', real=True, positive=True)"
   ]
  },
  {
   "cell_type": "code",
   "execution_count": 25,
   "id": "c10af9a1",
   "metadata": {
    "pycharm": {
     "name": "#%%\n"
    }
   },
   "outputs": [
    {
     "data": {
      "text/latex": [
       "$\\displaystyle 0$"
      ],
      "text/plain": [
       "0"
      ]
     },
     "execution_count": 25,
     "metadata": {},
     "output_type": "execute_result"
    }
   ],
   "source": [
    "beta0_case2 = beta0_B15(c1_case2, c2_case2)\n",
    "beta0_case2"
   ]
  },
  {
   "cell_type": "code",
   "execution_count": 26,
   "id": "deaab5a9",
   "metadata": {
    "pycharm": {
     "name": "#%%\n"
    }
   },
   "outputs": [
    {
     "data": {
      "text/latex": [
       "$\\displaystyle \\frac{5}{2}$"
      ],
      "text/plain": [
       "5/2"
      ]
     },
     "execution_count": 26,
     "metadata": {},
     "output_type": "execute_result"
    }
   ],
   "source": [
    "lambda0_case2 = lambda0_B11(sqrt(A), beta0_case2)\n",
    "lambda0_case2"
   ]
  },
  {
   "cell_type": "code",
   "execution_count": 27,
   "id": "0824ff6b",
   "metadata": {
    "pycharm": {
     "name": "#%%\n"
    }
   },
   "outputs": [
    {
     "data": {
      "text/latex": [
       "$\\displaystyle \\frac{5 A}{4 B} + \\frac{5 B c_{1}}{4 A} + \\frac{35 B c_{2}}{8 A^{2}}$"
      ],
      "text/plain": [
       "5*A/(4*B) + 5*B*c1/(4*A) + 35*B*c2/(8*A**2)"
      ]
     },
     "execution_count": 27,
     "metadata": {},
     "output_type": "execute_result"
    }
   ],
   "source": [
    "F_case2 = F_B16(A, lambda0_case2, B, c1_case2, c2_case2)\n",
    "F_case2"
   ]
  },
  {
   "cell_type": "code",
   "execution_count": 28,
   "id": "0be22d35",
   "metadata": {
    "pycharm": {
     "name": "#%%\n"
    }
   },
   "outputs": [
    {
     "data": {
      "text/latex": [
       "$\\displaystyle \\frac{5}{4 B} - \\frac{5 B c_{1}}{4 A^{2}} - \\frac{35 B c_{2}}{4 A^{3}}$"
      ],
      "text/plain": [
       "5/(4*B) - 5*B*c1/(4*A**2) - 35*B*c2/(4*A**3)"
      ]
     },
     "execution_count": 28,
     "metadata": {},
     "output_type": "execute_result"
    }
   ],
   "source": [
    "DF_case2 = F_case2.diff(A)\n",
    "DF_case2"
   ]
  },
  {
   "cell_type": "markdown",
   "id": "e09637ad",
   "metadata": {
    "pycharm": {
     "name": "#%% md\n"
    }
   },
   "source": [
    "The zeros of this expression can be found by solving a cubic equation.\n",
    "However, the general solution of a cubic polynomial is very complicated and involves complex numbers.\n",
    "Compute the solution uses `solveset()` and `solve()`."
   ]
  },
  {
   "cell_type": "code",
   "execution_count": 29,
   "id": "21c19caa",
   "metadata": {
    "pycharm": {
     "name": "#%%\n"
    }
   },
   "outputs": [
    {
     "data": {
      "text/latex": [
       "$\\displaystyle \\left(\\mathbb{R} \\cap \\left\\{\\frac{B^{2} c_{1}}{3 \\sqrt[3]{\\frac{7 B^{2} c_{2}}{2} + \\sqrt{- \\frac{B^{6} c_{1}^{3}}{27} + \\frac{49 B^{4} c_{2}^{2}}{4}}}} + \\sqrt[3]{\\frac{7 B^{2} c_{2}}{2} + \\sqrt{- \\frac{B^{6} c_{1}^{3}}{27} + \\frac{49 B^{4} c_{2}^{2}}{4}}}, \\frac{B^{2} c_{1}}{3 \\left(- \\frac{1}{2} - \\frac{\\sqrt{3} i}{2}\\right) \\sqrt[3]{\\frac{7 B^{2} c_{2}}{2} + \\sqrt{- \\frac{B^{6} c_{1}^{3}}{27} + \\frac{49 B^{4} c_{2}^{2}}{4}}}} + \\left(- \\frac{1}{2} - \\frac{\\sqrt{3} i}{2}\\right) \\sqrt[3]{\\frac{7 B^{2} c_{2}}{2} + \\sqrt{- \\frac{B^{6} c_{1}^{3}}{27} + \\frac{49 B^{4} c_{2}^{2}}{4}}}, \\frac{B^{2} c_{1}}{3 \\left(- \\frac{1}{2} + \\frac{\\sqrt{3} i}{2}\\right) \\sqrt[3]{\\frac{7 B^{2} c_{2}}{2} + \\sqrt{- \\frac{B^{6} c_{1}^{3}}{27} + \\frac{49 B^{4} c_{2}^{2}}{4}}}} + \\left(- \\frac{1}{2} + \\frac{\\sqrt{3} i}{2}\\right) \\sqrt[3]{\\frac{7 B^{2} c_{2}}{2} + \\sqrt{- \\frac{B^{6} c_{1}^{3}}{27} + \\frac{49 B^{4} c_{2}^{2}}{4}}}\\right\\}\\right) \\setminus \\left\\{0\\right\\}$"
      ],
      "text/plain": [
       "Complement(Intersection({B**2*c1/(3*(7*B**2*c2/2 + sqrt(-B**6*c1**3/27 + 49*B**4*c2**2/4))**(1/3)) + (7*B**2*c2/2 + sqrt(-B**6*c1**3/27 + 49*B**4*c2**2/4))**(1/3), B**2*c1/(3*(-1/2 - sqrt(3)*I/2)*(7*B**2*c2/2 + sqrt(-B**6*c1**3/27 + 49*B**4*c2**2/4))**(1/3)) + (-1/2 - sqrt(3)*I/2)*(7*B**2*c2/2 + sqrt(-B**6*c1**3/27 + 49*B**4*c2**2/4))**(1/3), B**2*c1/(3*(-1/2 + sqrt(3)*I/2)*(7*B**2*c2/2 + sqrt(-B**6*c1**3/27 + 49*B**4*c2**2/4))**(1/3)) + (-1/2 + sqrt(3)*I/2)*(7*B**2*c2/2 + sqrt(-B**6*c1**3/27 + 49*B**4*c2**2/4))**(1/3)}, Reals), {0})"
      ]
     },
     "execution_count": 29,
     "metadata": {},
     "output_type": "execute_result"
    }
   ],
   "source": [
    "solveset_case2 = solveset(DF_case2, A, domain=Reals)\n",
    "solveset_case2"
   ]
  },
  {
   "cell_type": "code",
   "execution_count": 30,
   "id": "d72ea2a2",
   "metadata": {
    "pycharm": {
     "name": "#%%\n"
    }
   },
   "outputs": [
    {
     "data": {
      "text/plain": [
       "[B**2*c1/(3*(7*B**2*c2/2 + sqrt(-B**6*c1**3/27 + 49*B**4*c2**2/4))**(1/3)) + (7*B**2*c2/2 + sqrt(-B**6*c1**3/27 + 49*B**4*c2**2/4))**(1/3),\n",
       " B**2*c1/(3*(-1/2 - sqrt(3)*I/2)*(7*B**2*c2/2 + sqrt(-B**6*c1**3/27 + 49*B**4*c2**2/4))**(1/3)) + (-1/2 - sqrt(3)*I/2)*(7*B**2*c2/2 + sqrt(-B**6*c1**3/27 + 49*B**4*c2**2/4))**(1/3),\n",
       " B**2*c1/(3*(-1/2 + sqrt(3)*I/2)*(7*B**2*c2/2 + sqrt(-B**6*c1**3/27 + 49*B**4*c2**2/4))**(1/3)) + (-1/2 + sqrt(3)*I/2)*(7*B**2*c2/2 + sqrt(-B**6*c1**3/27 + 49*B**4*c2**2/4))**(1/3)]"
      ]
     },
     "execution_count": 30,
     "metadata": {},
     "output_type": "execute_result"
    }
   ],
   "source": [
    "solve_case2 = solve(DF_case2, A)\n",
    "solve_case2"
   ]
  },
  {
   "cell_type": "code",
   "execution_count": 31,
   "id": "5ec3bc9f",
   "metadata": {},
   "outputs": [
    {
     "data": {
      "text/latex": [
       "$\\displaystyle \\frac{B^{2} c_{1}}{3 \\sqrt[3]{\\frac{7 B^{2} c_{2}}{2} + \\sqrt{- \\frac{B^{6} c_{1}^{3}}{27} + \\frac{49 B^{4} c_{2}^{2}}{4}}}} + \\sqrt[3]{\\frac{7 B^{2} c_{2}}{2} + \\sqrt{- \\frac{B^{6} c_{1}^{3}}{27} + \\frac{49 B^{4} c_{2}^{2}}{4}}}$"
      ],
      "text/plain": [
       "B**2*c1/(3*(7*B**2*c2/2 + sqrt(-B**6*c1**3/27 + 49*B**4*c2**2/4))**(1/3)) + (7*B**2*c2/2 + sqrt(-B**6*c1**3/27 + 49*B**4*c2**2/4))**(1/3)"
      ]
     },
     "execution_count": 31,
     "metadata": {},
     "output_type": "execute_result"
    }
   ],
   "source": [
    "solve_case2[0]"
   ]
  },
  {
   "cell_type": "markdown",
   "id": "3e5bd318",
   "metadata": {
    "pycharm": {
     "name": "#%% md\n"
    }
   },
   "source": [
    "Rather that use the exact solution, we use `nsolve()`.\n",
    "Compute the approximations to $DF$ for small and large $A$.\n",
    "\n",
    "For small $A$, $DF(A)$ is of order $A^{-3}$."
   ]
  },
  {
   "cell_type": "code",
   "execution_count": 32,
   "id": "185f8c36",
   "metadata": {},
   "outputs": [
    {
     "data": {
      "text/latex": [
       "$\\displaystyle O\\left(\\frac{1}{A^{3}}\\right)$"
      ],
      "text/plain": [
       "O(A**(-3))"
      ]
     },
     "execution_count": 32,
     "metadata": {},
     "output_type": "execute_result"
    }
   ],
   "source": [
    "O(DF_case2, (A, 0))"
   ]
  },
  {
   "cell_type": "code",
   "execution_count": 33,
   "id": "0b3ce4cc",
   "metadata": {},
   "outputs": [
    {
     "data": {
      "text/latex": [
       "$\\displaystyle - \\frac{35 B c_{2}}{4 A^{3}}$"
      ],
      "text/plain": [
       "-35*B*c2/(4*A**3)"
      ]
     },
     "execution_count": 33,
     "metadata": {},
     "output_type": "execute_result"
    }
   ],
   "source": [
    "DF_case2_approx_0 = limit(DF_case2 * A ** 3, A, 0) / A ** 3\n",
    "DF_case2_approx_0"
   ]
  },
  {
   "cell_type": "markdown",
   "id": "6126971e",
   "metadata": {
    "pycharm": {
     "name": "#%% md\n"
    }
   },
   "source": [
    "which is a large negative value.\n",
    "\n",
    "For large $A$ $DF(A)$ is constant."
   ]
  },
  {
   "cell_type": "code",
   "execution_count": 34,
   "id": "2dd052aa",
   "metadata": {},
   "outputs": [
    {
     "data": {
      "text/latex": [
       "$\\displaystyle O\\left(1; A\\rightarrow \\infty\\right)$"
      ],
      "text/plain": [
       "O(1, (A, oo))"
      ]
     },
     "execution_count": 34,
     "metadata": {},
     "output_type": "execute_result"
    }
   ],
   "source": [
    "O(DF_case2, (A, oo))"
   ]
  },
  {
   "cell_type": "code",
   "execution_count": 35,
   "id": "a51b8022",
   "metadata": {},
   "outputs": [
    {
     "data": {
      "text/latex": [
       "$\\displaystyle \\frac{5}{4 B}$"
      ],
      "text/plain": [
       "5/(4*B)"
      ]
     },
     "execution_count": 35,
     "metadata": {},
     "output_type": "execute_result"
    }
   ],
   "source": [
    "DF_case2_approx_oo = limit(DF_case2, A, oo)\n",
    "DF_case2_approx_oo"
   ]
  },
  {
   "cell_type": "markdown",
   "id": "f919da10",
   "metadata": {},
   "source": [
    "which is a positive value.\n",
    "\n",
    "Since $DF(A)$ is negative for small $A$ and positive for large $A$, it must have at least one zero.\n",
    "Approximate $DF$ as the sum these functions."
   ]
  },
  {
   "cell_type": "code",
   "execution_count": 36,
   "id": "a9224df0",
   "metadata": {
    "pycharm": {
     "name": "#%%\n"
    }
   },
   "outputs": [
    {
     "data": {
      "text/latex": [
       "$\\displaystyle \\frac{5}{4 B} - \\frac{35 B c_{2}}{4 A^{3}}$"
      ],
      "text/plain": [
       "5/(4*B) - 35*B*c2/(4*A**3)"
      ]
     },
     "execution_count": 36,
     "metadata": {},
     "output_type": "execute_result"
    }
   ],
   "source": [
    "DF_case2_approx = DF_case2_approx_0 + DF_case2_approx_oo\n",
    "DF_case2_approx"
   ]
  },
  {
   "cell_type": "markdown",
   "id": "4d65e47e",
   "metadata": {
    "pycharm": {
     "name": "#%% md\n"
    }
   },
   "source": [
    "Find the zeros of this approximation.\n",
    "First use `solveset()`."
   ]
  },
  {
   "cell_type": "code",
   "execution_count": 37,
   "id": "1d813f2e",
   "metadata": {
    "pycharm": {
     "name": "#%%\n"
    }
   },
   "outputs": [
    {
     "data": {
      "text/latex": [
       "$\\displaystyle \\left\\{\\sqrt[3]{7} B^{\\frac{2}{3}} \\sqrt[3]{c_{2}}\\right\\}$"
      ],
      "text/plain": [
       "{7**(1/3)*B**(2/3)*c2**(1/3)}"
      ]
     },
     "execution_count": 37,
     "metadata": {},
     "output_type": "execute_result"
    }
   ],
   "source": [
    "solveset_case2_approx = solveset(DF_case2_approx, A, domain=Reals)\n",
    "solveset_case2_approx"
   ]
  },
  {
   "cell_type": "code",
   "execution_count": 38,
   "id": "d63c9424",
   "metadata": {
    "pycharm": {
     "name": "#%%\n"
    }
   },
   "outputs": [
    {
     "data": {
      "text/latex": [
       "$\\displaystyle \\sqrt[3]{7} B^{\\frac{2}{3}} \\sqrt[3]{c_{2}}$"
      ],
      "text/plain": [
       "7**(1/3)*B**(2/3)*c2**(1/3)"
      ]
     },
     "execution_count": 38,
     "metadata": {},
     "output_type": "execute_result"
    }
   ],
   "source": [
    "A0_solveset_case2_approx = solveset_case2_approx.args[0]\n",
    "A0_solveset_case2_approx"
   ]
  },
  {
   "cell_type": "markdown",
   "id": "6cb54002",
   "metadata": {},
   "source": [
    "which is a positive value.\n",
    "\n",
    "Therefore $DF$ has at least one positive zero.\n",
    "\n",
    "Verify this solution using `solve()`."
   ]
  },
  {
   "cell_type": "code",
   "execution_count": 39,
   "id": "ce1602bc",
   "metadata": {
    "pycharm": {
     "name": "#%%\n"
    }
   },
   "outputs": [
    {
     "data": {
      "text/plain": [
       "[7**(1/3)*B**(2/3)*c2**(1/3)]"
      ]
     },
     "execution_count": 39,
     "metadata": {},
     "output_type": "execute_result"
    }
   ],
   "source": [
    "solve_case2_approx = solve(DF_case2_approx, A)\n",
    "solve_case2_approx"
   ]
  },
  {
   "cell_type": "code",
   "execution_count": 40,
   "id": "2520397d",
   "metadata": {},
   "outputs": [
    {
     "data": {
      "text/latex": [
       "$\\displaystyle \\sqrt[3]{7} B^{\\frac{2}{3}} \\sqrt[3]{c_{2}}$"
      ],
      "text/plain": [
       "7**(1/3)*B**(2/3)*c2**(1/3)"
      ]
     },
     "execution_count": 40,
     "metadata": {},
     "output_type": "execute_result"
    }
   ],
   "source": [
    "A0_solve_case2_approx = solve_case2_approx[0]\n",
    "A0_solve_case2_approx"
   ]
  },
  {
   "cell_type": "markdown",
   "id": "66a9a450",
   "metadata": {
    "pycharm": {
     "name": "#%% md\n"
    }
   },
   "source": [
    "## Case 3: $c_2 > 0, c_1 < 0$"
   ]
  },
  {
   "cell_type": "markdown",
   "id": "38ef3a07",
   "metadata": {
    "pycharm": {
     "name": "#%% md\n"
    }
   },
   "source": [
    "Introduce the variables for this case."
   ]
  },
  {
   "cell_type": "code",
   "execution_count": 41,
   "id": "13fef5ab",
   "metadata": {
    "pycharm": {
     "name": "#%%\n"
    }
   },
   "outputs": [
    {
     "data": {
      "text/latex": [
       "$\\displaystyle \\frac{\\sqrt{2} \\sqrt{- c_{1}}}{2 \\sqrt{c_{2}}}$"
      ],
      "text/plain": [
       "sqrt(2)*sqrt(-c1)/(2*sqrt(c2))"
      ]
     },
     "execution_count": 41,
     "metadata": {},
     "output_type": "execute_result"
    }
   ],
   "source": [
    "c1_case3 = Symbol('c1', real=True, negative=True)\n",
    "c2_case3 = Symbol('c2', real=True, positive=True)\n",
    "\n",
    "beta0_case3 = beta0_B15(c1_case3, c2_case3)\n",
    "beta0_case3"
   ]
  },
  {
   "cell_type": "code",
   "execution_count": 42,
   "id": "b10bb27d",
   "metadata": {},
   "outputs": [
    {
     "data": {
      "text/latex": [
       "$\\displaystyle \\sqrt{\\frac{A^{2} c_{1}^{2}}{4 c_{2}^{2}} + \\frac{9}{4}} + 1$"
      ],
      "text/plain": [
       "sqrt(A**2*c1**2/(4*c2**2) + 9/4) + 1"
      ]
     },
     "execution_count": 42,
     "metadata": {},
     "output_type": "execute_result"
    }
   ],
   "source": [
    "lambda0_case3 = lambda0_B11(sqrt(A), beta0_case3)\n",
    "lambda0_case3"
   ]
  },
  {
   "cell_type": "code",
   "execution_count": 43,
   "id": "0de898ed",
   "metadata": {},
   "outputs": [
    {
     "data": {
      "text/latex": [
       "$\\displaystyle \\frac{A \\left(1 + \\frac{9}{4 \\sqrt{\\frac{A^{2} c_{1}^{2}}{4 c_{2}^{2}} + \\frac{9}{4}}}\\right)}{2 B} + \\frac{B c_{1} \\left(\\sqrt{\\frac{A^{2} c_{1}^{2}}{4 c_{2}^{2}} + \\frac{9}{4}} + 1\\right)}{2 A} + \\frac{B c_{2} \\left(\\sqrt{\\frac{A^{2} c_{1}^{2}}{4 c_{2}^{2}} + \\frac{9}{4}} + 1\\right) \\left(\\sqrt{\\frac{A^{2} c_{1}^{2}}{4 c_{2}^{2}} + \\frac{9}{4}} + 2\\right)}{2 A^{2}}$"
      ],
      "text/plain": [
       "A*(1 + 9/(4*sqrt(A**2*c1**2/(4*c2**2) + 9/4)))/(2*B) + B*c1*(sqrt(A**2*c1**2/(4*c2**2) + 9/4) + 1)/(2*A) + B*c2*(sqrt(A**2*c1**2/(4*c2**2) + 9/4) + 1)*(sqrt(A**2*c1**2/(4*c2**2) + 9/4) + 2)/(2*A**2)"
      ]
     },
     "execution_count": 43,
     "metadata": {},
     "output_type": "execute_result"
    }
   ],
   "source": [
    "F_case3 = F_B16(A, lambda0_case3, B, c1_case3, c2_case3)\n",
    "F_case3"
   ]
  },
  {
   "cell_type": "code",
   "execution_count": 44,
   "id": "d6226157",
   "metadata": {},
   "outputs": [
    {
     "data": {
      "text/latex": [
       "$\\displaystyle - \\frac{9 A^{2} c_{1}^{2}}{32 B c_{2}^{2} \\left(\\frac{A^{2} c_{1}^{2}}{4 c_{2}^{2}} + \\frac{9}{4}\\right)^{\\frac{3}{2}}} + \\frac{B c_{1}^{3}}{8 c_{2}^{2} \\sqrt{\\frac{A^{2} c_{1}^{2}}{4 c_{2}^{2}} + \\frac{9}{4}}} + \\frac{1 + \\frac{9}{4 \\sqrt{\\frac{A^{2} c_{1}^{2}}{4 c_{2}^{2}} + \\frac{9}{4}}}}{2 B} + \\frac{B c_{1}^{2} \\left(\\sqrt{\\frac{A^{2} c_{1}^{2}}{4 c_{2}^{2}} + \\frac{9}{4}} + 1\\right)}{8 A c_{2} \\sqrt{\\frac{A^{2} c_{1}^{2}}{4 c_{2}^{2}} + \\frac{9}{4}}} + \\frac{B c_{1}^{2} \\left(\\sqrt{\\frac{A^{2} c_{1}^{2}}{4 c_{2}^{2}} + \\frac{9}{4}} + 2\\right)}{8 A c_{2} \\sqrt{\\frac{A^{2} c_{1}^{2}}{4 c_{2}^{2}} + \\frac{9}{4}}} - \\frac{B c_{1} \\left(\\sqrt{\\frac{A^{2} c_{1}^{2}}{4 c_{2}^{2}} + \\frac{9}{4}} + 1\\right)}{2 A^{2}} - \\frac{B c_{2} \\left(\\sqrt{\\frac{A^{2} c_{1}^{2}}{4 c_{2}^{2}} + \\frac{9}{4}} + 1\\right) \\left(\\sqrt{\\frac{A^{2} c_{1}^{2}}{4 c_{2}^{2}} + \\frac{9}{4}} + 2\\right)}{A^{3}}$"
      ],
      "text/plain": [
       "-9*A**2*c1**2/(32*B*c2**2*(A**2*c1**2/(4*c2**2) + 9/4)**(3/2)) + B*c1**3/(8*c2**2*sqrt(A**2*c1**2/(4*c2**2) + 9/4)) + (1 + 9/(4*sqrt(A**2*c1**2/(4*c2**2) + 9/4)))/(2*B) + B*c1**2*(sqrt(A**2*c1**2/(4*c2**2) + 9/4) + 1)/(8*A*c2*sqrt(A**2*c1**2/(4*c2**2) + 9/4)) + B*c1**2*(sqrt(A**2*c1**2/(4*c2**2) + 9/4) + 2)/(8*A*c2*sqrt(A**2*c1**2/(4*c2**2) + 9/4)) - B*c1*(sqrt(A**2*c1**2/(4*c2**2) + 9/4) + 1)/(2*A**2) - B*c2*(sqrt(A**2*c1**2/(4*c2**2) + 9/4) + 1)*(sqrt(A**2*c1**2/(4*c2**2) + 9/4) + 2)/A**3"
      ]
     },
     "execution_count": 44,
     "metadata": {},
     "output_type": "execute_result"
    }
   ],
   "source": [
    "DF_case3 = F_case3.diff(A)\n",
    "DF_case3"
   ]
  },
  {
   "cell_type": "markdown",
   "id": "8468992d",
   "metadata": {},
   "source": [
    "For small $A$, $DF(A)$ has order $A^{-3}$."
   ]
  },
  {
   "cell_type": "code",
   "execution_count": 45,
   "id": "6b17037f",
   "metadata": {},
   "outputs": [
    {
     "data": {
      "text/latex": [
       "$\\displaystyle O\\left(\\frac{1}{A^{3}}\\right)$"
      ],
      "text/plain": [
       "O(A**(-3))"
      ]
     },
     "execution_count": 45,
     "metadata": {},
     "output_type": "execute_result"
    }
   ],
   "source": [
    "O(DF_case3, (A, 0))"
   ]
  },
  {
   "cell_type": "markdown",
   "id": "c9015a82",
   "metadata": {},
   "source": [
    "DF_case3_approx_0 = limit(DF_case3 * A ** 3, A, 0) / A ** 3\n",
    "DF_case3_approx_0"
   ]
  },
  {
   "cell_type": "markdown",
   "id": "be0ddbe5",
   "metadata": {},
   "source": [
    "For large $A$, $DF(A)$ is constant."
   ]
  },
  {
   "cell_type": "code",
   "execution_count": 46,
   "id": "df56e965",
   "metadata": {},
   "outputs": [
    {
     "data": {
      "text/latex": [
       "$\\displaystyle O\\left(1; A\\rightarrow \\infty\\right)$"
      ],
      "text/plain": [
       "O(1, (A, oo))"
      ]
     },
     "execution_count": 46,
     "metadata": {},
     "output_type": "execute_result"
    }
   ],
   "source": [
    "O(DF_case3, (A, oo))"
   ]
  },
  {
   "cell_type": "code",
   "execution_count": 47,
   "id": "742a901b",
   "metadata": {},
   "outputs": [
    {
     "data": {
      "text/latex": [
       "$\\displaystyle \\frac{1}{2 B}$"
      ],
      "text/plain": [
       "1/(2*B)"
      ]
     },
     "execution_count": 47,
     "metadata": {},
     "output_type": "execute_result"
    }
   ],
   "source": [
    "DF_case3_approx_oo = limit(DF_case3, A, oo)\n",
    "DF_case3_approx_oo"
   ]
  },
  {
   "cell_type": "markdown",
   "id": "628fbe19",
   "metadata": {},
   "source": [
    "Approximate $DF$ as the sum of these two limits."
   ]
  },
  {
   "cell_type": "markdown",
   "id": "56b5745c",
   "metadata": {},
   "source": [
    "DF_case3_approx = DF_case3_approx_0 + DF_case3_approx_oo\n",
    "DF_case3_approx"
   ]
  },
  {
   "cell_type": "markdown",
   "id": "a8d2ea85",
   "metadata": {},
   "source": [
    "Find the zeros of the approximation to $DF$ using `solveset()` and `solve()`."
   ]
  },
  {
   "cell_type": "code",
   "execution_count": 48,
   "id": "98f1c63f",
   "metadata": {},
   "outputs": [
    {
     "ename": "NameError",
     "evalue": "name 'DF_case3_approx' is not defined",
     "output_type": "error",
     "traceback": [
      "\u001b[0;31m---------------------------------------------------------------------------\u001b[0m",
      "\u001b[0;31mNameError\u001b[0m                                 Traceback (most recent call last)",
      "Input \u001b[0;32mIn [48]\u001b[0m, in \u001b[0;36m<cell line: 1>\u001b[0;34m()\u001b[0m\n\u001b[0;32m----> 1\u001b[0m solveset_case3_approx \u001b[38;5;241m=\u001b[39m solveset(\u001b[43mDF_case3_approx\u001b[49m, A, domain\u001b[38;5;241m=\u001b[39mReals)\n\u001b[1;32m      2\u001b[0m solveset_case3_approx\n",
      "\u001b[0;31mNameError\u001b[0m: name 'DF_case3_approx' is not defined"
     ]
    }
   ],
   "source": [
    "solveset_case3_approx = solveset(DF_case3_approx, A, domain=Reals)\n",
    "solveset_case3_approx"
   ]
  },
  {
   "cell_type": "code",
   "execution_count": null,
   "id": "94c3a7fc",
   "metadata": {},
   "outputs": [],
   "source": [
    "A0_solveset_case3_approx = solveset_case3_approx.args[0]\n",
    "A0_solveset_case3_approx"
   ]
  },
  {
   "cell_type": "code",
   "execution_count": null,
   "id": "8a356958",
   "metadata": {},
   "outputs": [],
   "source": [
    "solve_case3_approx = solve(DF_case3_approx, A)\n",
    "solve_case3_approx"
   ]
  },
  {
   "cell_type": "code",
   "execution_count": null,
   "id": "959c1c49",
   "metadata": {},
   "outputs": [],
   "source": [
    "A0_solve_case3_approx = solve_case3_approx[0]\n",
    "A0_solve_case3_approx"
   ]
  }
 ],
 "metadata": {
  "kernelspec": {
   "display_name": "Python 3 (ipykernel)",
   "language": "python",
   "name": "python3"
  },
  "language_info": {
   "codemirror_mode": {
    "name": "ipython",
    "version": 3
   },
   "file_extension": ".py",
   "mimetype": "text/x-python",
   "name": "python",
   "nbconvert_exporter": "python",
   "pygments_lexer": "ipython3",
   "version": "3.10.0"
  }
 },
 "nbformat": 4,
 "nbformat_minor": 5
}
