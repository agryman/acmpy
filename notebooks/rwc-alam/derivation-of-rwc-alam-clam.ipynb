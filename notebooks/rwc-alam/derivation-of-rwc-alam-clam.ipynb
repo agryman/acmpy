{
 "cells": [
  {
   "cell_type": "markdown",
   "id": "c5fcacc7",
   "metadata": {},
   "source": [
    "# Derivation of `RWC_alam_clam()`\n",
    "*Last updated on 2022-05-16 by Arthur Ryman*"
   ]
  },
  {
   "cell_type": "markdown",
   "id": "2652696e",
   "metadata": {},
   "source": [
    "# Introduction\n",
    "\n",
    "I ran into a `solveset()` bug.\n",
    "\n",
    "Here's the Maple behaviour:\n",
    "\n",
    "```\n",
    "RWC_alam(14, -3, 2);\n",
    "                   [4.435803810, 15.83330432]\n",
    "RWC_alam(15, -3, 2);\n",
    "                   [4.572908819, 16.75518890]\n",
    "```\n",
    "\n",
    "Recreate this in Python."
   ]
  },
  {
   "cell_type": "code",
   "execution_count": 1,
   "id": "18a3dc50",
   "metadata": {},
   "outputs": [],
   "source": [
    "from acmpy.globals import ACM_set_defaults\n",
    "ACM_set_defaults(0)"
   ]
  },
  {
   "cell_type": "code",
   "execution_count": 2,
   "id": "e8f49e5b",
   "metadata": {},
   "outputs": [
    {
     "data": {
      "text/plain": [
       "(4.435803809483709, 15.833304312584458)"
      ]
     },
     "execution_count": 2,
     "metadata": {},
     "output_type": "execute_result"
    }
   ],
   "source": [
    "from acmpy.hamiltonian_data import RWC_alam\n",
    "\n",
    "RWC_alam(14, -3, 2)"
   ]
  },
  {
   "cell_type": "code",
   "execution_count": 3,
   "id": "159f1468",
   "metadata": {},
   "outputs": [
    {
     "name": "stdout",
     "output_type": "stream",
     "text": [
      "max() arg is an empty sequence\n"
     ]
    }
   ],
   "source": [
    "try:\n",
    "    RWC_alam(15, -3, 2)\n",
    "except ValueError as ve:\n",
    "    print(ve)"
   ]
  },
  {
   "cell_type": "markdown",
   "id": "7e8b64f0",
   "metadata": {},
   "source": [
    "As of 2022-05-15, the preceeding call raises an error:\n",
    "\n",
    "```\n",
    "---------------------------------------------------------------------------\n",
    "ValueError                                Traceback (most recent call last)\n",
    "Input In [7], in <module>\n",
    "----> 1 RWC_alam(15, -3, 2)\n",
    "\n",
    "File ~/Documents/repositories/agryman/acmpy/src/acmpy/hamiltonian_data.py:176, in RWC_alam(B, c1, c2, v)\n",
    "    170     def RWC2(aa: Expr, mu: Expr) -> Expr:\n",
    "    171         return (c1 / c2) ** 2 * (-vshft * aa ** 5 / mu ** 2\n",
    "    172                                  + aa ** 3 * B ** 2 * c1  + aa **2 * B ** 2 * c2 * (mu + 3)) \\\n",
    "    173                + aa ** 3 * (2 * mu + vshft) \\\n",
    "    174                - B ** 2 * mu * (mu + 2) * (aa * c1 + c2 * (mu + 4))\n",
    "--> 176     aa0 = max(float(aa) for aa in solveset(RWC2(A, muf(A)), A, domain=S.Reals))\n",
    "    177     return math.sqrt(aa0), float(1 + muf(S(aa0)) / 2)\n",
    "    179 else:\n",
    "\n",
    "ValueError: max() arg is an empty sequence\n",
    "```"
   ]
  },
  {
   "cell_type": "markdown",
   "id": "22108b74",
   "metadata": {},
   "source": [
    "The error comes from `solveset()` returning an empty set of solutions.\n",
    "However, I know that there is at least one solution.\n",
    "There most probable explanation is that there is a bug in `solveset()`.\n",
    "\n",
    "I'd like to report this bug to the SymPy project.\n",
    "I therefore need to create a simple test case the reproduces the problem.\n",
    "I tried to derive the expressions used in `RWC_alam()` but got something very \n",
    "complicated.\n",
    "\n",
    "I'll first try to derive the formulas used in the simpler case of `RWC_alam_clam()`."
   ]
  },
  {
   "cell_type": "markdown",
   "id": "23f26ffc",
   "metadata": {},
   "source": [
    "## `RWC_alam_clam()`\n",
    "\n",
    "The Maple and Python code follows:\n",
    "\n",
    "```\n",
    "# # The following procedure RWC_alam_clam is another alternative that\n",
    "# # returns values of the ACM parameters (anorm,lambda), which are\n",
    "# # obtained from the minimal value of the expectation value of RWC_expt,\n",
    "# # given above, with lambda assumed to take the constant value of 2.5\n",
    "#\n",
    "# RWC_alam_clam:=proc(B::constant,c1::constant,c2::constant,$)\n",
    "#   local RWC1,RWC2,muf,aa0,A;\n",
    "#\n",
    "#     RWC1:=(aa) -> aa^3 - B^2*c1*aa - 7*B^2*c2:\n",
    "#     aa0:=max(fsolve(RWC1(A)=0,A)):\n",
    "#     return [sqrt(aa0),2.5]:\n",
    "#\n",
    "# end:\n",
    "def RWC_alam_clam(B: IntFloatExpr, c1: IntFloatExpr, c2: IntFloatExpr\n",
    "                  ) -> tuple[float, float]:\n",
    "    B = S(B)\n",
    "    c1 = S(c1)\n",
    "    c2 = S(c2)\n",
    "\n",
    "    def RWC1(aa: Expr) -> Expr:\n",
    "        return aa ** 3 - B ** 2 * c1 * aa - 7 * B ** 2 * c2\n",
    "\n",
    "    A: Symbol = symbols('A', real=True)\n",
    "    aa0: float = max(float(aa) for aa in solveset(RWC1(A), A, domain=S.Reals))\n",
    "\n",
    "    return math.sqrt(aa0), 2.5\n",
    "```"
   ]
  },
  {
   "cell_type": "markdown",
   "id": "44a55d86",
   "metadata": {},
   "source": [
    "Here's the Maple behaviour.\n",
    "\n",
    "```\n",
    "RWC_alam_clam(14, -3, 2);\n",
    "                       [2.123816133, 2.5]\n",
    "RWC_alam_clam(15, -3, 2);\n",
    "                       [2.128153304, 2.5]\n",
    "```"
   ]
  },
  {
   "cell_type": "code",
   "execution_count": 4,
   "id": "f9574fe8",
   "metadata": {},
   "outputs": [
    {
     "data": {
      "text/plain": [
       "(2.123816132523058, 2.5)"
      ]
     },
     "execution_count": 4,
     "metadata": {},
     "output_type": "execute_result"
    }
   ],
   "source": [
    "from acmpy.hamiltonian_data import RWC_alam_clam\n",
    "\n",
    "RWC_alam_clam(14, -3, 2)"
   ]
  },
  {
   "cell_type": "code",
   "execution_count": 5,
   "id": "2e025c0a",
   "metadata": {},
   "outputs": [
    {
     "data": {
      "text/plain": [
       "(2.1281533037939857, 2.5)"
      ]
     },
     "execution_count": 5,
     "metadata": {},
     "output_type": "execute_result"
    }
   ],
   "source": [
    "RWC_alam_clam(15, -3, 2)"
   ]
  },
  {
   "cell_type": "markdown",
   "id": "a1ff9cb0",
   "metadata": {},
   "source": [
    "## Mathematical Definitions\n",
    "\n",
    "Here are the mathematical formulae encoded in SymPy."
   ]
  },
  {
   "cell_type": "code",
   "execution_count": 6,
   "id": "8f4fa0d2",
   "metadata": {},
   "outputs": [],
   "source": [
    "from sympy import *\n",
    "\n",
    "B = Symbol('B', real=True, positive=True)\n",
    "c1 = Symbol('c1', real=True)\n",
    "c2 = Symbol('c2', real=True)\n",
    "lambda0 = Symbol('lambda0', real=True, positive=True)\n",
    "a = Symbol('a', real=True, positive=True)\n",
    "A = Symbol('A', real=True, positive=True)\n",
    "E = Symbol('E', real=True)"
   ]
  },
  {
   "cell_type": "code",
   "execution_count": 7,
   "id": "17c7031c",
   "metadata": {},
   "outputs": [
    {
     "data": {
      "text/latex": [
       "$\\displaystyle a^{2}$"
      ],
      "text/plain": [
       "a**2"
      ]
     },
     "execution_count": 7,
     "metadata": {},
     "output_type": "execute_result"
    }
   ],
   "source": [
    "A_a = a ** 2\n",
    "A_a"
   ]
  },
  {
   "cell_type": "code",
   "execution_count": 8,
   "id": "b0a1ef71",
   "metadata": {},
   "outputs": [
    {
     "data": {
      "text/latex": [
       "$\\displaystyle \\frac{A \\left(1 + \\frac{9}{4 \\lambda_{0} - 4}\\right)}{2 B}$"
      ],
      "text/plain": [
       "A*(1 + 9/(4*lambda0 - 4))/(2*B)"
      ]
     },
     "execution_count": 8,
     "metadata": {},
     "output_type": "execute_result"
    }
   ],
   "source": [
    "E1_A_lambda0 = A / (2 * B) * (1 + 9 / (4 * (lambda0 - 1)))\n",
    "E1_A_lambda0"
   ]
  },
  {
   "cell_type": "code",
   "execution_count": 9,
   "id": "86c84d30",
   "metadata": {},
   "outputs": [
    {
     "data": {
      "text/latex": [
       "$\\displaystyle \\frac{a^{2} \\left(1 + \\frac{9}{4 \\lambda_{0} - 4}\\right)}{2 B}$"
      ],
      "text/plain": [
       "a**2*(1 + 9/(4*lambda0 - 4))/(2*B)"
      ]
     },
     "execution_count": 9,
     "metadata": {},
     "output_type": "execute_result"
    }
   ],
   "source": [
    "E1_a_lambda0 = E1_A_lambda0.subs(A, A_a)\n",
    "E1_a_lambda0"
   ]
  },
  {
   "cell_type": "code",
   "execution_count": 10,
   "id": "35d1ad7a",
   "metadata": {},
   "outputs": [
    {
     "data": {
      "text/latex": [
       "$\\displaystyle \\frac{B c_{1} \\lambda_{0}}{2 A}$"
      ],
      "text/plain": [
       "B*c1*lambda0/(2*A)"
      ]
     },
     "execution_count": 10,
     "metadata": {},
     "output_type": "execute_result"
    }
   ],
   "source": [
    "E2_A_lambda0 =  B / (2 * A) * c1 * lambda0\n",
    "E2_A_lambda0"
   ]
  },
  {
   "cell_type": "code",
   "execution_count": 11,
   "id": "26d66f54",
   "metadata": {},
   "outputs": [
    {
     "data": {
      "text/latex": [
       "$\\displaystyle \\frac{B c_{2} \\lambda_{0} \\left(\\lambda_{0} + 1\\right)}{2 A^{2}}$"
      ],
      "text/plain": [
       "B*c2*lambda0*(lambda0 + 1)/(2*A**2)"
      ]
     },
     "execution_count": 11,
     "metadata": {},
     "output_type": "execute_result"
    }
   ],
   "source": [
    "E3_A_lambda_0 = B / (2 * A ** 2) * c2 * lambda0 * (lambda0 + 1)\n",
    "E3_A_lambda_0"
   ]
  },
  {
   "cell_type": "code",
   "execution_count": 12,
   "id": "781051d0",
   "metadata": {},
   "outputs": [
    {
     "data": {
      "text/latex": [
       "$\\displaystyle \\frac{A \\left(1 + \\frac{9}{4 \\lambda_{0} - 4}\\right)}{2 B} + \\frac{B c_{1} \\lambda_{0}}{2 A} + \\frac{B c_{2} \\lambda_{0} \\left(\\lambda_{0} + 1\\right)}{2 A^{2}}$"
      ],
      "text/plain": [
       "A*(1 + 9/(4*lambda0 - 4))/(2*B) + B*c1*lambda0/(2*A) + B*c2*lambda0*(lambda0 + 1)/(2*A**2)"
      ]
     },
     "execution_count": 12,
     "metadata": {},
     "output_type": "execute_result"
    }
   ],
   "source": [
    "E_A_lambda0 = E1_A_lambda0 + E2_A_lambda0 + E3_A_lambda_0\n",
    "E_A_lambda0"
   ]
  },
  {
   "cell_type": "markdown",
   "id": "95bc191f",
   "metadata": {},
   "source": [
    "Now substitute $\\lambda_0 = 5/2$ in the energy."
   ]
  },
  {
   "cell_type": "code",
   "execution_count": 13,
   "id": "3b3bf165",
   "metadata": {},
   "outputs": [
    {
     "data": {
      "text/latex": [
       "$\\displaystyle \\frac{5 A}{4 B} + \\frac{5 B c_{1}}{4 A} + \\frac{35 B c_{2}}{8 A^{2}}$"
      ],
      "text/plain": [
       "5*A/(4*B) + 5*B*c1/(4*A) + 35*B*c2/(8*A**2)"
      ]
     },
     "execution_count": 13,
     "metadata": {},
     "output_type": "execute_result"
    }
   ],
   "source": [
    "E_A = E_A_lambda0.subs(lambda0, Rational(5, 2))\n",
    "E_A"
   ]
  },
  {
   "cell_type": "markdown",
   "id": "dc9a3938",
   "metadata": {},
   "source": [
    "The minimum energy occurs when the derivative vanishes."
   ]
  },
  {
   "cell_type": "code",
   "execution_count": 14,
   "id": "91cb7ea4",
   "metadata": {},
   "outputs": [
    {
     "data": {
      "text/latex": [
       "$\\displaystyle \\frac{5}{4 B} - \\frac{5 B c_{1}}{4 A^{2}} - \\frac{35 B c_{2}}{4 A^{3}}$"
      ],
      "text/plain": [
       "5/(4*B) - 5*B*c1/(4*A**2) - 35*B*c2/(4*A**3)"
      ]
     },
     "execution_count": 14,
     "metadata": {},
     "output_type": "execute_result"
    }
   ],
   "source": [
    "Z = E_A.diff(A)\n",
    "Z"
   ]
  },
  {
   "cell_type": "markdown",
   "id": "ee8313a1",
   "metadata": {},
   "source": [
    "Multiply through by $4/5$ to simplify the expression."
   ]
  },
  {
   "cell_type": "code",
   "execution_count": 15,
   "id": "10c25ce7",
   "metadata": {},
   "outputs": [
    {
     "data": {
      "text/latex": [
       "$\\displaystyle \\frac{1}{B} - \\frac{B c_{1}}{A^{2}} - \\frac{7 B c_{2}}{A^{3}}$"
      ],
      "text/plain": [
       "1/B - B*c1/A**2 - 7*B*c2/A**3"
      ]
     },
     "execution_count": 15,
     "metadata": {},
     "output_type": "execute_result"
    }
   ],
   "source": [
    "Z1 = Z * Rational(4, 5)\n",
    "Z1"
   ]
  },
  {
   "cell_type": "markdown",
   "id": "2717b002",
   "metadata": {},
   "source": [
    "Multiply through by $B A^3$ to clear the denominators."
   ]
  },
  {
   "cell_type": "code",
   "execution_count": 16,
   "id": "621ceea4",
   "metadata": {},
   "outputs": [
    {
     "data": {
      "text/latex": [
       "$\\displaystyle A^{3} - A B^{2} c_{1} - 7 B^{2} c_{2}$"
      ],
      "text/plain": [
       "A**3 - A*B**2*c1 - 7*B**2*c2"
      ]
     },
     "execution_count": 16,
     "metadata": {},
     "output_type": "execute_result"
    }
   ],
   "source": [
    "Z2 = simplify(Z1 * B * A ** 3)\n",
    "Z2"
   ]
  },
  {
   "cell_type": "markdown",
   "id": "c5fe57bc",
   "metadata": {},
   "source": [
    "The `RWC_alam_clam()` code finds zeroes of the following expression:\n",
    "\n",
    "```\n",
    "RWC1:=(aa) -> aa^3 - B^2*c1*aa - 7*B^2*c2\n",
    "```"
   ]
  },
  {
   "cell_type": "markdown",
   "id": "4ea5589c",
   "metadata": {},
   "source": [
    "## Conclusion\n",
    "\n",
    "The SymPy derivation agrees with the Maple code for `RWC_alam_clam()`."
   ]
  }
 ],
 "metadata": {
  "kernelspec": {
   "display_name": "Python 3 (ipykernel)",
   "language": "python",
   "name": "python3"
  },
  "language_info": {
   "codemirror_mode": {
    "name": "ipython",
    "version": 3
   },
   "file_extension": ".py",
   "mimetype": "text/x-python",
   "name": "python",
   "nbconvert_exporter": "python",
   "pygments_lexer": "ipython3",
   "version": "3.10.0"
  }
 },
 "nbformat": 4,
 "nbformat_minor": 5
}
