{
 "cells": [
  {
   "cell_type": "markdown",
   "id": "7f06c034",
   "metadata": {},
   "source": [
    "# SciPy Optimize\n",
    "*Last updated by Arthur Ryman on  2022-05-29*\n",
    "\n",
    "## Introduction\n",
    "\n",
    "I have run into a problem in `RWC_alam()`. The SymPy solvers fails for certain values of parameters.\n",
    "The solvers seek to find an exact solution but all we really need is a good approximation to the optimal\n",
    "value of $a_0$.\n",
    "\n",
    "The goal of this notebook is to determine if the SciPy `optimize` module can find decent values."
   ]
  },
  {
   "cell_type": "markdown",
   "id": "1f980d44",
   "metadata": {},
   "source": [
    "## Simple Example\n",
    "\n",
    "Recreate the simple example given in https://realpython.com/python-scipy-cluster-optimize/#using-the-optimize-module-in-scipy.\n",
    "\n",
    "We can try `minimize_scalar()` and `root_scalar()`."
   ]
  },
  {
   "cell_type": "code",
   "execution_count": 1,
   "id": "07abfc83",
   "metadata": {},
   "outputs": [
    {
     "data": {
      "text/plain": [
       "0.17451875000000006"
      ]
     },
     "execution_count": 1,
     "metadata": {},
     "output_type": "execute_result"
    }
   ],
   "source": [
    "from scipy.optimize import minimize_scalar\n",
    "\n",
    "def objective_function(x):\n",
    "    return 3 * x ** 4 - 2 * x + 1\n",
    "\n",
    "objective_function(0.55)"
   ]
  },
  {
   "cell_type": "code",
   "execution_count": 2,
   "id": "a171dd25",
   "metadata": {},
   "outputs": [],
   "source": [
    "import numpy as np\n",
    "import pandas as pd\n",
    "\n",
    "xs = np.arange(0, 1.01, 0.01)\n",
    "x_index = pd.Index(xs, name='x')\n",
    "df = pd.DataFrame(index=x_index)"
   ]
  },
  {
   "cell_type": "code",
   "execution_count": 3,
   "id": "d14b85a0",
   "metadata": {},
   "outputs": [],
   "source": [
    "df['y'] = [objective_function(x) for x in xs]"
   ]
  },
  {
   "cell_type": "code",
   "execution_count": 4,
   "id": "60b9a1ae",
   "metadata": {},
   "outputs": [
    {
     "data": {
      "image/png": "[encoded data removed]",
      "text/plain": [
       "<Figure size 432x288 with 1 Axes>"
      ]
     },
     "metadata": {
      "needs_background": "light"
     },
     "output_type": "display_data"
    }
   ],
   "source": [
    "df.plot(grid=True);"
   ]
  },
  {
   "cell_type": "code",
   "execution_count": 5,
   "id": "a12afc85",
   "metadata": {},
   "outputs": [
    {
     "data": {
      "text/plain": [
       "     fun: 0.17451818777634331\n",
       " message: '\\nOptimization terminated successfully;\\nThe returned value satisfies the termination criteria\\n(using xtol = 1.48e-08 )'\n",
       "    nfev: 16\n",
       "     nit: 12\n",
       " success: True\n",
       "       x: 0.5503212087491959"
      ]
     },
     "execution_count": 5,
     "metadata": {},
     "output_type": "execute_result"
    }
   ],
   "source": [
    "res = minimize_scalar(objective_function)\n",
    "res"
   ]
  },
  {
   "cell_type": "markdown",
   "id": "42117c25",
   "metadata": {},
   "source": [
    "## `RWC_alam()`\n",
    "\n",
    "In this case we are trying to find optimal values of the parameters $a$ and $\\lambda_v$\n",
    "that minimize the expectation value $E$ of the RWC Hamiltonian defined by $(B, c_1, c_2)$\n",
    "on the ground state defined by $(a, \\lambda_v)$ where $\\lambda_v$ is a function of $a$."
   ]
  },
  {
   "cell_type": "markdown",
   "id": "6b3ef836",
   "metadata": {},
   "source": [
    "The paper WR2015 gives the following equations for the case $v = 0$."
   ]
  },
  {
   "cell_type": "code",
   "execution_count": 6,
   "id": "a1440473",
   "metadata": {},
   "outputs": [
    {
     "data": {
      "text/latex": [
       "$\\displaystyle E = \\frac{B c_{1} \\lambda_{0}}{2 a^{2}} + \\frac{B c_{2} \\lambda_{0} \\left(\\lambda_{0} + 1\\right)}{2 a^{4}} + \\frac{a^{2} \\left(1 + \\frac{9}{4 \\lambda_{0} - 4}\\right)}{2 B}$"
      ],
      "text/plain": [
       "Eq(E, B*c1*lambda0/(2*a**2) + B*c2*lambda0*(lambda0 + 1)/(2*a**4) + a**2*(1 + 9/(4*lambda0 - 4))/(2*B))"
      ]
     },
     "execution_count": 6,
     "metadata": {},
     "output_type": "execute_result"
    }
   ],
   "source": [
    "from acmpy.papers.wr2015 import *\n",
    "\n",
    "Eq_B16"
   ]
  },
  {
   "cell_type": "code",
   "execution_count": 7,
   "id": "3a99c8ef",
   "metadata": {},
   "outputs": [
    {
     "data": {
      "text/latex": [
       "$\\displaystyle \\lambda_{0} = \\sqrt{a^{4} \\beta_{0}^{4} + \\frac{9}{4}} + 1$"
      ],
      "text/plain": [
       "Eq(lambda0, sqrt(a**4*beta0**4 + 9/4) + 1)"
      ]
     },
     "execution_count": 7,
     "metadata": {},
     "output_type": "execute_result"
    }
   ],
   "source": [
    "Eq_B11"
   ]
  },
  {
   "cell_type": "code",
   "execution_count": 8,
   "id": "380df2f4",
   "metadata": {},
   "outputs": [
    {
     "data": {
      "text/latex": [
       "$\\displaystyle \\beta_{0} = \\begin{cases} \\frac{\\sqrt{2} \\sqrt{- \\frac{c_{1}}{c_{2}}}}{2} & \\text{for}\\: c_{1} < 0 \\\\0 & \\text{otherwise} \\end{cases}$"
      ],
      "text/plain": [
       "Eq(beta0, Piecewise((sqrt(2)*sqrt(-c1/c2)/2, c1 < 0), (0, True)))"
      ]
     },
     "execution_count": 8,
     "metadata": {},
     "output_type": "execute_result"
    }
   ],
   "source": [
    "Eq_B15"
   ]
  },
  {
   "cell_type": "code",
   "execution_count": 9,
   "id": "26413575",
   "metadata": {},
   "outputs": [
    {
     "data": {
      "text/plain": [
       "58.39784678619764"
      ]
     },
     "execution_count": 9,
     "metadata": {},
     "output_type": "execute_result"
    }
   ],
   "source": [
    "def make_E_a(B, c1, c2):\n",
    "    beta0 = float(beta0_B15(c1, c2))\n",
    "    def E_a(a):\n",
    "        lambda0 = float(lambda0_B11(a, beta0))\n",
    "        return float(E_B16(a, lambda0, B, c1, c2))\n",
    "    return E_a\n",
    "\n",
    "E_a_10 = make_E_a(10, -3, 2)\n",
    "E_a_10(1)"
   ]
  },
  {
   "cell_type": "code",
   "execution_count": 10,
   "id": "502e7d62",
   "metadata": {},
   "outputs": [],
   "source": [
    "a_index = pd.Index(np.arange(1.0, 10.1, 0.1), name='a')\n",
    "E_df = pd.DataFrame(index=a_index)"
   ]
  },
  {
   "cell_type": "code",
   "execution_count": 11,
   "id": "0ef1f1e1",
   "metadata": {},
   "outputs": [],
   "source": [
    "E_df['B=10'] = [E_a_10(a) for a in a_index]"
   ]
  },
  {
   "cell_type": "code",
   "execution_count": 12,
   "id": "4e43d8c0",
   "metadata": {},
   "outputs": [
    {
     "data": {
      "image/png": "[encoded data removed]",
      "text/plain": [
       "<Figure size 432x288 with 1 Axes>"
      ]
     },
     "metadata": {
      "needs_background": "light"
     },
     "output_type": "display_data"
    }
   ],
   "source": [
    "E_df.plot();"
   ]
  },
  {
   "cell_type": "code",
   "execution_count": 13,
   "id": "33906391",
   "metadata": {},
   "outputs": [
    {
     "data": {
      "text/plain": [
       "     fun: -4.124033118347146\n",
       " message: '\\nOptimization terminated successfully;\\nThe returned value satisfies the termination criteria\\n(using xtol = 1.48e-08 )'\n",
       "    nfev: 21\n",
       "     nit: 17\n",
       " success: True\n",
       "       x: 3.835914396554969"
      ]
     },
     "execution_count": 13,
     "metadata": {},
     "output_type": "execute_result"
    }
   ],
   "source": [
    "res_10 = minimize_scalar(E_a_10, bracket=(1, 10))\n",
    "res_10"
   ]
  },
  {
   "cell_type": "code",
   "execution_count": 14,
   "id": "27b03c92",
   "metadata": {},
   "outputs": [
    {
     "data": {
      "image/png": "[encoded data removed]",
      "text/plain": [
       "<Figure size 432x288 with 1 Axes>"
      ]
     },
     "metadata": {
      "needs_background": "light"
     },
     "output_type": "display_data"
    }
   ],
   "source": [
    "res_B = dict()\n",
    "for B in range(20, 60, 10):\n",
    "    name_B = f'B={B}'\n",
    "    E_a_B = make_E_a(B, -3, 2)\n",
    "    E_df[name_B] = [E_a_B(a) for a in a_index]\n",
    "    res_B[B] = minimize_scalar(E_a_B, bracket=(1, 100))\n",
    "E_df.plot();"
   ]
  },
  {
   "cell_type": "code",
   "execution_count": 15,
   "id": "523a4fa7",
   "metadata": {},
   "outputs": [
    {
     "name": "stdout",
     "output_type": "stream",
     "text": [
      "====================\n",
      "B=20\n",
      "     fun: -9.885134142691431\n",
      " message: '\\nOptimization terminated successfully;\\nThe returned value satisfies the termination criteria\\n(using xtol = 1.48e-08 )'\n",
      "    nfev: 22\n",
      "     nit: 18\n",
      " success: True\n",
      "       x: -5.202970554521825\n",
      "====================\n",
      "B=30\n",
      "     fun: -15.556448068718904\n",
      " message: '\\nOptimization terminated successfully;\\nThe returned value satisfies the termination criteria\\n(using xtol = 1.48e-08 )'\n",
      "    nfev: 22\n",
      "     nit: 18\n",
      " success: True\n",
      "       x: 6.27313670563223\n",
      "====================\n",
      "B=40\n",
      "     fun: -21.204764227311554\n",
      " message: '\\nOptimization terminated successfully;\\nThe returned value satisfies the termination criteria\\n(using xtol = 1.48e-08 )'\n",
      "    nfev: 23\n",
      "     nit: 19\n",
      " success: True\n",
      "       x: 7.184399509043185\n",
      "====================\n",
      "B=50\n",
      "     fun: -26.84380093848864\n",
      " message: '\\nOptimization terminated successfully;\\nThe returned value satisfies the termination criteria\\n(using xtol = 1.48e-08 )'\n",
      "    nfev: 22\n",
      "     nit: 18\n",
      " success: True\n",
      "       x: 7.992004371274268\n"
     ]
    }
   ],
   "source": [
    "for B in res_B:\n",
    "    print('=' * 20)\n",
    "    print(f'B={B}')\n",
    "    print(res_B[B])"
   ]
  },
  {
   "cell_type": "markdown",
   "id": "a4f6151e",
   "metadata": {},
   "source": [
    "## Use $A = a^2$\n",
    "\n",
    "The above looks promising but the behavior might improve if we optimize with respect to $A = a^2$."
   ]
  },
  {
   "cell_type": "code",
   "execution_count": 16,
   "id": "aa850ead",
   "metadata": {},
   "outputs": [],
   "source": [
    "A_index = pd.Index(np.arange(0.1, 30.1, 0.1), name='A')\n",
    "E_A_df = pd.DataFrame(index=A_index)"
   ]
  },
  {
   "cell_type": "code",
   "execution_count": 17,
   "id": "506955e5",
   "metadata": {},
   "outputs": [],
   "source": [
    "import math\n",
    "def make_E_A(B, c1, c2):\n",
    "    beta0 = float(beta0_B15(c1, c2))\n",
    "    def E_A(A):\n",
    "        a = math.sqrt(A)\n",
    "        lambda0 = float(lambda0_B11(a, beta0))\n",
    "        return float(E_B16(a, lambda0, B, c1, c2))\n",
    "    return E_A"
   ]
  },
  {
   "cell_type": "code",
   "execution_count": 18,
   "id": "56ede5d1",
   "metadata": {},
   "outputs": [
    {
     "data": {
      "image/png": "[encoded data removed]",
      "text/plain": [
       "<Figure size 432x288 with 1 Axes>"
      ]
     },
     "metadata": {
      "needs_background": "light"
     },
     "output_type": "display_data"
    }
   ],
   "source": [
    "res_A_B = dict()\n",
    "for B in range(10, 60, 10):\n",
    "    name_B = f'B={B}'\n",
    "    E_A_B = make_E_A(B, -3, 2)\n",
    "    E_A_df[name_B] = [E_A_B(A) for A in A_index]\n",
    "    res_A_B[B] = minimize_scalar(E_A_B, bracket=(1, 10))\n",
    "E_A_df.plot();"
   ]
  },
  {
   "cell_type": "code",
   "execution_count": 19,
   "id": "501b91f0",
   "metadata": {},
   "outputs": [
    {
     "name": "stdout",
     "output_type": "stream",
     "text": [
      "====================\n",
      "B=10\n",
      "     fun: -4.124033118347147\n",
      " message: '\\nOptimization terminated successfully;\\nThe returned value satisfies the termination criteria\\n(using xtol = 1.48e-08 )'\n",
      "    nfev: 17\n",
      "     nit: 13\n",
      " success: True\n",
      "       x: 14.714238242291719\n",
      "====================\n",
      "B=20\n",
      "     fun: -9.885134142691431\n",
      " message: '\\nOptimization terminated successfully;\\nThe returned value satisfies the termination criteria\\n(using xtol = 1.48e-08 )'\n",
      "    nfev: 22\n",
      "     nit: 16\n",
      " success: True\n",
      "       x: 27.070903137123604\n",
      "====================\n",
      "B=30\n",
      "     fun: -15.556448068718897\n",
      " message: '\\nOptimization terminated successfully;\\nThe returned value satisfies the termination criteria\\n(using xtol = 1.48e-08 )'\n",
      "    nfev: 20\n",
      "     nit: 13\n",
      " success: True\n",
      "       x: 39.35224839442481\n",
      "====================\n",
      "B=40\n",
      "     fun: -21.204764227311564\n",
      " message: '\\nOptimization terminated successfully;\\nThe returned value satisfies the termination criteria\\n(using xtol = 1.48e-08 )'\n",
      "    nfev: 21\n",
      "     nit: 13\n",
      " success: True\n",
      "       x: 51.615594870767886\n",
      "====================\n",
      "B=50\n",
      "     fun: -26.843800938488656\n",
      " message: '\\nOptimization terminated successfully;\\nThe returned value satisfies the termination criteria\\n(using xtol = 1.48e-08 )'\n",
      "    nfev: 20\n",
      "     nit: 12\n",
      " success: True\n",
      "       x: 63.87213188987985\n"
     ]
    }
   ],
   "source": [
    "for B in res_A_B:\n",
    "    print('=' * 20)\n",
    "    print(f'B={B}')\n",
    "    print(res_A_B[B])"
   ]
  },
  {
   "cell_type": "markdown",
   "id": "6ece684f",
   "metadata": {},
   "source": [
    "My intuition was wrong. \n",
    "Using $A$ instead of $a$ stretches out the x-axis so the\n",
    "objective function changes more slowly."
   ]
  },
  {
   "cell_type": "markdown",
   "id": "33b360a7",
   "metadata": {},
   "source": [
    "## SciPy `root_scalar()`\n",
    "\n",
    "The `RWC_alam()` function finds the zeros of the derivative of the expectation value\n",
    "with respect to $A$.\n",
    "The SciPy `root_scalar()` function is therefore a direct replacement for Maple `fsolve()`\n",
    "or SymPy `solve()`, `solveset()`, or `nsolve()`.\n",
    "\n",
    "First, use `root_scalar()` to find a root of a simple polynomial."
   ]
  },
  {
   "cell_type": "code",
   "execution_count": 20,
   "id": "214ee388",
   "metadata": {},
   "outputs": [],
   "source": [
    "def poly(x: float) -> float:\n",
    "    return (x - 1) * (x - 2) * (x - 3)"
   ]
  },
  {
   "cell_type": "code",
   "execution_count": 21,
   "id": "cdf88d20",
   "metadata": {},
   "outputs": [
    {
     "data": {
      "image/png": "[encoded data removed]",
      "text/plain": [
       "<Figure size 432x288 with 1 Axes>"
      ]
     },
     "metadata": {
      "needs_background": "light"
     },
     "output_type": "display_data"
    }
   ],
   "source": [
    "xs = np.arange(0.0, 4.1, 0.1)\n",
    "x_index = pd.Index(xs, name='x')\n",
    "poly_df = pd.DataFrame(index=x_index)\n",
    "poly_df['y'] = [poly(x) for x in xs]\n",
    "poly_df.plot(grid=True);"
   ]
  },
  {
   "cell_type": "code",
   "execution_count": 22,
   "id": "23b20190",
   "metadata": {},
   "outputs": [
    {
     "data": {
      "text/plain": [
       "      converged: True\n",
       "           flag: 'converged'\n",
       " function_calls: 16\n",
       "     iterations: 15\n",
       "           root: 3.0000000000001217"
      ]
     },
     "execution_count": 22,
     "metadata": {},
     "output_type": "execute_result"
    }
   ],
   "source": [
    "from scipy.optimize import root_scalar, RootResults\n",
    "\n",
    "results = root_scalar(poly, bracket=(2.1, 10.0))\n",
    "results"
   ]
  },
  {
   "cell_type": "code",
   "execution_count": 23,
   "id": "5eade66a",
   "metadata": {},
   "outputs": [
    {
     "data": {
      "text/plain": [
       "3.0000000000001217"
      ]
     },
     "execution_count": 23,
     "metadata": {},
     "output_type": "execute_result"
    }
   ],
   "source": [
    "results.root"
   ]
  },
  {
   "cell_type": "markdown",
   "id": "d1914ec8",
   "metadata": {},
   "source": [
    "Next, find a root of the function `RWC_alam()` tries to solve.\n",
    "The function is defined in terms of the real, positive\n",
    "variable $A = a^2$."
   ]
  },
  {
   "cell_type": "code",
   "execution_count": 24,
   "id": "77269f4d",
   "metadata": {},
   "outputs": [
    {
     "data": {
      "text/latex": [
       "$\\displaystyle A$"
      ],
      "text/plain": [
       "A"
      ]
     },
     "execution_count": 24,
     "metadata": {},
     "output_type": "execute_result"
    }
   ],
   "source": [
    "from sympy import Symbol\n",
    "\n",
    "A = Symbol('A', real=True, positive=True)\n",
    "A"
   ]
  },
  {
   "cell_type": "markdown",
   "id": "32980b6b",
   "metadata": {},
   "source": [
    "The function also depends on the real, positive parameter $B$.\n",
    "We'll vary $B$ since the behaviour of `solveset()` etc. was sensitive to its value."
   ]
  },
  {
   "cell_type": "code",
   "execution_count": 25,
   "id": "14ee636e",
   "metadata": {},
   "outputs": [
    {
     "data": {
      "text/latex": [
       "$\\displaystyle B$"
      ],
      "text/plain": [
       "B"
      ]
     },
     "execution_count": 25,
     "metadata": {},
     "output_type": "execute_result"
    }
   ],
   "source": [
    "B = Symbol('B', real=True, positive=True)\n",
    "B"
   ]
  },
  {
   "cell_type": "markdown",
   "id": "4d3f3a87",
   "metadata": {},
   "source": [
    "Use the following fixed parameter values for $c_1, c_2, v$."
   ]
  },
  {
   "cell_type": "code",
   "execution_count": 26,
   "id": "55463f75",
   "metadata": {},
   "outputs": [],
   "source": [
    "c1_value = -3.0\n",
    "c2_value = 2.0\n",
    "v_value = 0"
   ]
  },
  {
   "cell_type": "code",
   "execution_count": 27,
   "id": "cacf89a2",
   "metadata": {},
   "outputs": [
    {
     "data": {
      "text/latex": [
       "$\\displaystyle 3 \\sqrt{0.25 A^{2} + 1}$"
      ],
      "text/plain": [
       "3*sqrt(0.25*A**2 + 1)"
      ]
     },
     "execution_count": 27,
     "metadata": {},
     "output_type": "execute_result"
    }
   ],
   "source": [
    "from acmpy.hamiltonian_data import muf, RWC2\n",
    "\n",
    "mu_A = muf(A, c1_value, c2_value, v_value)\n",
    "mu_A"
   ]
  },
  {
   "cell_type": "code",
   "execution_count": 28,
   "id": "f5055a8d",
   "metadata": {},
   "outputs": [
    {
     "data": {
      "text/latex": [
       "$\\displaystyle - \\frac{20.25 A^{5}}{2.25 A^{2} + 9} - 6.75 A^{3} B^{2} + A^{3} \\left(6 \\sqrt{0.25 A^{2} + 1} + 9\\right) + 4.5 A^{2} B^{2} \\left(3 \\sqrt{0.25 A^{2} + 1} + 3\\right) - 3 B^{2} \\sqrt{0.25 A^{2} + 1} \\left(3 \\sqrt{0.25 A^{2} + 1} + 2\\right) \\left(- 3.0 A + 6.0 \\sqrt{0.25 A^{2} + 1} + 8.0\\right)$"
      ],
      "text/plain": [
       "-20.25*A**5/(2.25*A**2 + 9) - 6.75*A**3*B**2 + A**3*(6*sqrt(0.25*A**2 + 1) + 9) + 4.5*A**2*B**2*(3*sqrt(0.25*A**2 + 1) + 3) - 3*B**2*sqrt(0.25*A**2 + 1)*(3*sqrt(0.25*A**2 + 1) + 2)*(-3.0*A + 6.0*sqrt(0.25*A**2 + 1) + 8.0)"
      ]
     },
     "execution_count": 28,
     "metadata": {},
     "output_type": "execute_result"
    }
   ],
   "source": [
    "F2_A_B = RWC2(A, mu_A, B, c1_value, c2_value, v_value)\n",
    "F2_A_B"
   ]
  },
  {
   "cell_type": "code",
   "execution_count": 29,
   "id": "5b16fdba",
   "metadata": {},
   "outputs": [
    {
     "data": {
      "text/html": [
       "<div>\n",
       "<style scoped>\n",
       "    .dataframe tbody tr th:only-of-type {\n",
       "        vertical-align: middle;\n",
       "    }\n",
       "\n",
       "    .dataframe tbody tr th {\n",
       "        vertical-align: top;\n",
       "    }\n",
       "\n",
       "    .dataframe thead th {\n",
       "        text-align: right;\n",
       "    }\n",
       "</style>\n",
       "<table border=\"1\" class=\"dataframe\">\n",
       "  <thead>\n",
       "    <tr style=\"text-align: right;\">\n",
       "      <th></th>\n",
       "    </tr>\n",
       "    <tr>\n",
       "      <th>A</th>\n",
       "    </tr>\n",
       "  </thead>\n",
       "  <tbody>\n",
       "    <tr>\n",
       "      <th>0.1</th>\n",
       "    </tr>\n",
       "    <tr>\n",
       "      <th>0.2</th>\n",
       "    </tr>\n",
       "    <tr>\n",
       "      <th>0.3</th>\n",
       "    </tr>\n",
       "    <tr>\n",
       "      <th>0.4</th>\n",
       "    </tr>\n",
       "    <tr>\n",
       "      <th>0.5</th>\n",
       "    </tr>\n",
       "    <tr>\n",
       "      <th>...</th>\n",
       "    </tr>\n",
       "    <tr>\n",
       "      <th>29.6</th>\n",
       "    </tr>\n",
       "    <tr>\n",
       "      <th>29.7</th>\n",
       "    </tr>\n",
       "    <tr>\n",
       "      <th>29.8</th>\n",
       "    </tr>\n",
       "    <tr>\n",
       "      <th>29.9</th>\n",
       "    </tr>\n",
       "    <tr>\n",
       "      <th>30.0</th>\n",
       "    </tr>\n",
       "  </tbody>\n",
       "</table>\n",
       "<p>300 rows × 0 columns</p>\n",
       "</div>"
      ],
      "text/plain": [
       "Empty DataFrame\n",
       "Columns: []\n",
       "Index: [0.1, 0.2, 0.30000000000000004, 0.4, 0.5, 0.6, 0.7000000000000001, 0.8, 0.9, 1.0, 1.1, 1.2000000000000002, 1.3000000000000003, 1.4000000000000001, 1.5000000000000002, 1.6, 1.7000000000000002, 1.8000000000000003, 1.9000000000000001, 2.0, 2.1, 2.2, 2.3000000000000003, 2.4000000000000004, 2.5000000000000004, 2.6, 2.7, 2.8000000000000003, 2.9000000000000004, 3.0000000000000004, 3.1, 3.2, 3.3000000000000003, 3.4000000000000004, 3.5000000000000004, 3.6, 3.7, 3.8000000000000003, 3.9000000000000004, 4.0, 4.1, 4.2, 4.3, 4.3999999999999995, 4.5, 4.6, 4.7, 4.8, 4.9, 5.0, 5.1, 5.2, 5.3, 5.4, 5.5, 5.6, 5.7, 5.8, 5.9, 6.0, 6.1, 6.2, 6.3, 6.4, 6.5, 6.6, 6.7, 6.8, 6.9, 7.0, 7.1, 7.2, 7.3, 7.4, 7.5, 7.6, 7.7, 7.8, 7.9, 8.0, 8.1, 8.2, 8.3, 8.4, 8.5, 8.6, 8.7, 8.8, 8.9, 9.0, 9.1, 9.2, 9.3, 9.4, 9.5, 9.6, 9.700000000000001, 9.8, 9.9, 10.0, ...]\n",
       "\n",
       "[300 rows x 0 columns]"
      ]
     },
     "execution_count": 29,
     "metadata": {},
     "output_type": "execute_result"
    }
   ],
   "source": [
    "F2_df = pd.DataFrame(index=A_index)\n",
    "F2_df"
   ]
  },
  {
   "cell_type": "code",
   "execution_count": 30,
   "id": "db62c509",
   "metadata": {},
   "outputs": [
    {
     "data": {
      "text/latex": [
       "$\\displaystyle - \\frac{20.25 A^{5}}{2.25 A^{2} + 9} + A^{3} \\left(6 \\sqrt{0.25 A^{2} + 1} + 9\\right) - 675.0 A^{3} + 450.0 A^{2} \\left(3 \\sqrt{0.25 A^{2} + 1} + 3\\right) - 300 \\sqrt{0.25 A^{2} + 1} \\left(3 \\sqrt{0.25 A^{2} + 1} + 2\\right) \\left(- 3.0 A + 6.0 \\sqrt{0.25 A^{2} + 1} + 8.0\\right)$"
      ],
      "text/plain": [
       "-20.25*A**5/(2.25*A**2 + 9) + A**3*(6*sqrt(0.25*A**2 + 1) + 9) - 675.0*A**3 + 450.0*A**2*(3*sqrt(0.25*A**2 + 1) + 3) - 300*sqrt(0.25*A**2 + 1)*(3*sqrt(0.25*A**2 + 1) + 2)*(-3.0*A + 6.0*sqrt(0.25*A**2 + 1) + 8.0)"
      ]
     },
     "execution_count": 30,
     "metadata": {},
     "output_type": "execute_result"
    }
   ],
   "source": [
    "from sympy import Expr\n",
    "\n",
    "def make_F2_A(B_value: float) -> Expr:\n",
    "    return F2_A_B.subs(B, B_value)\n",
    "\n",
    "F2_A_10 = make_F2_A(10)\n",
    "F2_A_10"
   ]
  },
  {
   "cell_type": "code",
   "execution_count": 31,
   "id": "960bd10d",
   "metadata": {},
   "outputs": [],
   "source": [
    "from typing import Callable\n",
    "\n",
    "def make_F2(B_value: float) -> Callable[[float], float]:\n",
    "    F2_A: Expr = make_F2_A(B_value)\n",
    "    def F2(A_value: float) -> float:\n",
    "        return float(F2_A.subs(A, A_value))\n",
    "    return F2"
   ]
  },
  {
   "cell_type": "code",
   "execution_count": 32,
   "id": "5e38a522",
   "metadata": {},
   "outputs": [
    {
     "data": {
      "text/html": [
       "<div>\n",
       "<style scoped>\n",
       "    .dataframe tbody tr th:only-of-type {\n",
       "        vertical-align: middle;\n",
       "    }\n",
       "\n",
       "    .dataframe tbody tr th {\n",
       "        vertical-align: top;\n",
       "    }\n",
       "\n",
       "    .dataframe thead th {\n",
       "        text-align: right;\n",
       "    }\n",
       "</style>\n",
       "<table border=\"1\" class=\"dataframe\">\n",
       "  <thead>\n",
       "    <tr style=\"text-align: right;\">\n",
       "      <th></th>\n",
       "      <th>B=10</th>\n",
       "    </tr>\n",
       "    <tr>\n",
       "      <th>A</th>\n",
       "      <th></th>\n",
       "    </tr>\n",
       "  </thead>\n",
       "  <tbody>\n",
       "    <tr>\n",
       "      <th>0.1</th>\n",
       "      <td>-2.057600e+04</td>\n",
       "    </tr>\n",
       "    <tr>\n",
       "      <th>0.2</th>\n",
       "      <td>-2.020296e+04</td>\n",
       "    </tr>\n",
       "    <tr>\n",
       "      <th>0.3</th>\n",
       "      <td>-1.987917e+04</td>\n",
       "    </tr>\n",
       "    <tr>\n",
       "      <th>0.4</th>\n",
       "      <td>-1.960280e+04</td>\n",
       "    </tr>\n",
       "    <tr>\n",
       "      <th>0.5</th>\n",
       "      <td>-1.937189e+04</td>\n",
       "    </tr>\n",
       "    <tr>\n",
       "      <th>...</th>\n",
       "      <td>...</td>\n",
       "    </tr>\n",
       "    <tr>\n",
       "      <th>29.6</th>\n",
       "      <td>1.834623e+06</td>\n",
       "    </tr>\n",
       "    <tr>\n",
       "      <th>29.7</th>\n",
       "      <td>1.863034e+06</td>\n",
       "    </tr>\n",
       "    <tr>\n",
       "      <th>29.8</th>\n",
       "      <td>1.891753e+06</td>\n",
       "    </tr>\n",
       "    <tr>\n",
       "      <th>29.9</th>\n",
       "      <td>1.920784e+06</td>\n",
       "    </tr>\n",
       "    <tr>\n",
       "      <th>30.0</th>\n",
       "      <td>1.950128e+06</td>\n",
       "    </tr>\n",
       "  </tbody>\n",
       "</table>\n",
       "<p>300 rows × 1 columns</p>\n",
       "</div>"
      ],
      "text/plain": [
       "              B=10\n",
       "A                 \n",
       "0.1  -2.057600e+04\n",
       "0.2  -2.020296e+04\n",
       "0.3  -1.987917e+04\n",
       "0.4  -1.960280e+04\n",
       "0.5  -1.937189e+04\n",
       "...            ...\n",
       "29.6  1.834623e+06\n",
       "29.7  1.863034e+06\n",
       "29.8  1.891753e+06\n",
       "29.9  1.920784e+06\n",
       "30.0  1.950128e+06\n",
       "\n",
       "[300 rows x 1 columns]"
      ]
     },
     "execution_count": 32,
     "metadata": {},
     "output_type": "execute_result"
    }
   ],
   "source": [
    "F2_10 = make_F2(10)\n",
    "F2_df['B=10'] = [F2_10(A_value) for A_value in A_index]\n",
    "F2_df"
   ]
  },
  {
   "cell_type": "code",
   "execution_count": 33,
   "id": "6e9f657e",
   "metadata": {},
   "outputs": [
    {
     "data": {
      "image/png": "[encoded data removed]",
      "text/plain": [
       "<Figure size 432x288 with 1 Axes>"
      ]
     },
     "metadata": {
      "needs_background": "light"
     },
     "output_type": "display_data"
    }
   ],
   "source": [
    "F2_df.plot(grid=True);"
   ]
  },
  {
   "cell_type": "markdown",
   "id": "814b5f77",
   "metadata": {},
   "source": [
    "Investigate the zeroes of $F2$ as $B$ varies."
   ]
  },
  {
   "cell_type": "code",
   "execution_count": 34,
   "id": "e8050c96",
   "metadata": {},
   "outputs": [
    {
     "data": {
      "text/plain": [
       "[10, 12, 14, 16, 18, 20]"
      ]
     },
     "execution_count": 34,
     "metadata": {},
     "output_type": "execute_result"
    }
   ],
   "source": [
    "Bs = list(range(10, 21, 2))\n",
    "Bs"
   ]
  },
  {
   "cell_type": "code",
   "execution_count": 35,
   "id": "a80bf669",
   "metadata": {},
   "outputs": [],
   "source": [
    "for B_value in Bs:\n",
    "    F2 = make_F2(B_value)\n",
    "    F2_df[f'B={B_value}'] = [F2(A_value) for A_value in A_index]"
   ]
  },
  {
   "cell_type": "code",
   "execution_count": 36,
   "id": "c76429ef",
   "metadata": {},
   "outputs": [
    {
     "data": {
      "image/png": "[encoded data removed]",
      "text/plain": [
       "<Figure size 432x288 with 1 Axes>"
      ]
     },
     "metadata": {
      "needs_background": "light"
     },
     "output_type": "display_data"
    }
   ],
   "source": [
    "F2_df.plot(grid=True);"
   ]
  },
  {
   "cell_type": "markdown",
   "id": "ea381b01",
   "metadata": {},
   "source": [
    "Use `scalar_root()` to find the zeros of `F2()`."
   ]
  },
  {
   "cell_type": "code",
   "execution_count": 37,
   "id": "9572a84c",
   "metadata": {},
   "outputs": [
    {
     "name": "stdout",
     "output_type": "stream",
     "text": [
      "======================================== B=10\n",
      "      converged: True\n",
      "           flag: 'converged'\n",
      " function_calls: 12\n",
      "     iterations: 11\n",
      "           root: 14.714238439477397\n",
      "======================================== B=20\n",
      "      converged: True\n",
      "           flag: 'converged'\n",
      " function_calls: 13\n",
      "     iterations: 12\n",
      "           root: 27.07090315842021\n",
      "======================================== B=30\n",
      "      converged: True\n",
      "           flag: 'converged'\n",
      " function_calls: 14\n",
      "     iterations: 13\n",
      "           root: 39.35224490248067\n",
      "======================================== B=40\n",
      "      converged: True\n",
      "           flag: 'converged'\n",
      " function_calls: 14\n",
      "     iterations: 13\n",
      "           root: 51.615592277620486\n",
      "======================================== B=50\n",
      "      converged: True\n",
      "           flag: 'converged'\n",
      " function_calls: 14\n",
      "     iterations: 13\n",
      "           root: 63.87213284554001\n",
      "======================================== B=60\n",
      "      converged: True\n",
      "           flag: 'converged'\n",
      " function_calls: 14\n",
      "     iterations: 13\n",
      "           root: 76.1254252922253\n",
      "======================================== B=70\n",
      "      converged: True\n",
      "           flag: 'converged'\n",
      " function_calls: 14\n",
      "     iterations: 13\n",
      "           root: 88.37693069204455\n",
      "======================================== B=80\n",
      "      converged: True\n",
      "           flag: 'converged'\n",
      " function_calls: 16\n",
      "     iterations: 15\n",
      "           root: 100.62735325277221\n",
      "======================================== B=90\n",
      "      converged: True\n",
      "           flag: 'converged'\n",
      " function_calls: 16\n",
      "     iterations: 15\n",
      "           root: 112.8770722114643\n",
      "======================================== B=100\n",
      "      converged: True\n",
      "           flag: 'converged'\n",
      " function_calls: 15\n",
      "     iterations: 14\n",
      "           root: 125.12630915456462\n"
     ]
    }
   ],
   "source": [
    "for B_value in range(10, 101, 10):\n",
    "    F2 = make_F2(B_value)\n",
    "    result = root_scalar(F2, bracket=(1, 2 * B_value))\n",
    "    print('=' * 40, f'B={B_value}')\n",
    "    print(result)"
   ]
  },
  {
   "cell_type": "markdown",
   "id": "570aebf8",
   "metadata": {},
   "source": [
    "## Conclusion\n",
    "\n",
    "The SciPy `root_scalar()` function works well. However, it does\n",
    "require that I specify the `bracket` argument so I need to find a good\n",
    "estimate for the interval in which the zero occurs.\n",
    "My first approximation is $(1, 2B)$ but this might depend on $c_1, c_2, v$.\n",
    "\n",
    "A pragmatic approach is to perform a binary search for the bounds since we know\n",
    "the function starts negative and then goes positive."
   ]
  },
  {
   "cell_type": "code",
   "execution_count": 38,
   "id": "1ce7c153",
   "metadata": {},
   "outputs": [
    {
     "data": {
      "text/latex": [
       "$\\displaystyle - \\frac{20.25 A^{5}}{2.25 A^{2} + 9} - 6.75 A^{3} B^{2} + A^{3} \\left(6 \\sqrt{0.25 A^{2} + 1} + 9\\right) + 4.5 A^{2} B^{2} \\left(3 \\sqrt{0.25 A^{2} + 1} + 3\\right) - 3 B^{2} \\sqrt{0.25 A^{2} + 1} \\left(3 \\sqrt{0.25 A^{2} + 1} + 2\\right) \\left(- 3.0 A + 6.0 \\sqrt{0.25 A^{2} + 1} + 8.0\\right)$"
      ],
      "text/plain": [
       "-20.25*A**5/(2.25*A**2 + 9) - 6.75*A**3*B**2 + A**3*(6*sqrt(0.25*A**2 + 1) + 9) + 4.5*A**2*B**2*(3*sqrt(0.25*A**2 + 1) + 3) - 3*B**2*sqrt(0.25*A**2 + 1)*(3*sqrt(0.25*A**2 + 1) + 2)*(-3.0*A + 6.0*sqrt(0.25*A**2 + 1) + 8.0)"
      ]
     },
     "execution_count": 38,
     "metadata": {},
     "output_type": "execute_result"
    }
   ],
   "source": [
    "F2_A_B"
   ]
  },
  {
   "cell_type": "code",
   "execution_count": 39,
   "id": "ea18c55b",
   "metadata": {},
   "outputs": [
    {
     "data": {
      "text/latex": [
       "$\\displaystyle - 210.0 B^{2}$"
      ],
      "text/plain": [
       "-210.0*B**2"
      ]
     },
     "execution_count": 39,
     "metadata": {},
     "output_type": "execute_result"
    }
   ],
   "source": [
    "F2_A_B.subs(A, 0).evalf()"
   ]
  },
  {
   "cell_type": "code",
   "execution_count": 40,
   "id": "aaf35c1f",
   "metadata": {},
   "outputs": [
    {
     "data": {
      "text/plain": [
       "(A, B, c1, c2, v)"
      ]
     },
     "execution_count": 40,
     "metadata": {},
     "output_type": "execute_result"
    }
   ],
   "source": [
    "A, B, c1, c2, v"
   ]
  },
  {
   "cell_type": "code",
   "execution_count": 41,
   "id": "8bdf6617",
   "metadata": {},
   "outputs": [
    {
     "data": {
      "text/latex": [
       "$\\displaystyle \\sqrt{\\frac{A^{2} c_{1}^{2}}{c_{2}^{2}} + \\left(2 v + 3\\right)^{2}}$"
      ],
      "text/plain": [
       "sqrt(A**2*c1**2/c2**2 + (2*v + 3)**2)"
      ]
     },
     "execution_count": 41,
     "metadata": {},
     "output_type": "execute_result"
    }
   ],
   "source": [
    "mu_A_c1_c2_v = muf(A, c1, c2, v)\n",
    "mu_A_c1_c2_v"
   ]
  },
  {
   "cell_type": "code",
   "execution_count": 42,
   "id": "a3685f91",
   "metadata": {},
   "outputs": [
    {
     "data": {
      "text/latex": [
       "$\\displaystyle A^{3} \\left(\\left(2 v + 3\\right)^{2} + 2 \\sqrt{\\frac{A^{2} c_{1}^{2}}{c_{2}^{2}} + \\left(2 v + 3\\right)^{2}}\\right) - B^{2} \\left(A c_{1} + c_{2} \\left(\\sqrt{\\frac{A^{2} c_{1}^{2}}{c_{2}^{2}} + \\left(2 v + 3\\right)^{2}} + 4\\right)\\right) \\sqrt{\\frac{A^{2} c_{1}^{2}}{c_{2}^{2}} + \\left(2 v + 3\\right)^{2}} \\left(\\sqrt{\\frac{A^{2} c_{1}^{2}}{c_{2}^{2}} + \\left(2 v + 3\\right)^{2}} + 2\\right) + \\frac{c_{1}^{2} \\left(- \\frac{A^{5} \\left(2 v + 3\\right)^{2}}{\\frac{A^{2} c_{1}^{2}}{c_{2}^{2}} + \\left(2 v + 3\\right)^{2}} + A^{3} B^{2} c_{1} + A^{2} B^{2} c_{2} \\left(\\sqrt{\\frac{A^{2} c_{1}^{2}}{c_{2}^{2}} + \\left(2 v + 3\\right)^{2}} + 3\\right)\\right)}{c_{2}^{2}}$"
      ],
      "text/plain": [
       "A**3*((2*v + 3)**2 + 2*sqrt(A**2*c1**2/c2**2 + (2*v + 3)**2)) - B**2*(A*c1 + c2*(sqrt(A**2*c1**2/c2**2 + (2*v + 3)**2) + 4))*sqrt(A**2*c1**2/c2**2 + (2*v + 3)**2)*(sqrt(A**2*c1**2/c2**2 + (2*v + 3)**2) + 2) + c1**2*(-A**5*(2*v + 3)**2/(A**2*c1**2/c2**2 + (2*v + 3)**2) + A**3*B**2*c1 + A**2*B**2*c2*(sqrt(A**2*c1**2/c2**2 + (2*v + 3)**2) + 3))/c2**2"
      ]
     },
     "execution_count": 42,
     "metadata": {},
     "output_type": "execute_result"
    }
   ],
   "source": [
    "F2_A_B_c1_c2_v = RWC2(A, mu_A_c1_c2_v, B, c1, c2, v)\n",
    "F2_A_B_c1_c2_v"
   ]
  },
  {
   "cell_type": "code",
   "execution_count": 43,
   "id": "f33aeff3",
   "metadata": {},
   "outputs": [
    {
     "data": {
      "text/latex": [
       "$\\displaystyle - B^{2} c_{2} \\left(2 v + 3\\right) \\left(2 v + 5\\right) \\left(2 v + 7\\right)$"
      ],
      "text/plain": [
       "-B**2*c2*(2*v + 3)*(2*v + 5)*(2*v + 7)"
      ]
     },
     "execution_count": 43,
     "metadata": {},
     "output_type": "execute_result"
    }
   ],
   "source": [
    "F2_A_B_c1_c2_v.subs(A, 0)"
   ]
  },
  {
   "cell_type": "code",
   "execution_count": 44,
   "id": "20e6f466",
   "metadata": {},
   "outputs": [
    {
     "data": {
      "text/latex": [
       "$\\displaystyle O\\left(\\frac{A^{4}}{c_{2}}; A\\rightarrow \\infty\\right)$"
      ],
      "text/plain": [
       "O(A**4/c2, (A, oo))"
      ]
     },
     "execution_count": 44,
     "metadata": {},
     "output_type": "execute_result"
    }
   ],
   "source": [
    "from sympy import O, oo, limit\n",
    "O(F2_A_B_c1_c2_v, (A, oo))"
   ]
  },
  {
   "cell_type": "code",
   "execution_count": 45,
   "id": "7c69fe7f",
   "metadata": {},
   "outputs": [
    {
     "data": {
      "text/latex": [
       "$\\displaystyle \\frac{2 \\left|{c_{1}}\\right|}{c_{2}}$"
      ],
      "text/plain": [
       "2*Abs(c1)/c2"
      ]
     },
     "execution_count": 45,
     "metadata": {},
     "output_type": "execute_result"
    }
   ],
   "source": [
    "limit(F2_A_B_c1_c2_v / A ** 4, A, oo)"
   ]
  }
 ],
 "metadata": {
  "kernelspec": {
   "display_name": "Python 3 (ipykernel)",
   "language": "python",
   "name": "python3"
  },
  "language_info": {
   "codemirror_mode": {
    "name": "ipython",
    "version": 3
   },
   "file_extension": ".py",
   "mimetype": "text/x-python",
   "name": "python",
   "nbconvert_exporter": "python",
   "pygments_lexer": "ipython3",
   "version": "3.10.0"
  }
 },
 "nbformat": 4,
 "nbformat_minor": 5
}
