{
 "cells": [
  {
   "cell_type": "markdown",
   "id": "7f06c034",
   "metadata": {},
   "source": [
    "# SciPy Optimize\n",
    "*Last updated by Arthur Ryman on  2022-05-21*\n",
    "\n",
    "## Introduction\n",
    "\n",
    "I have run into a problem in `RWC_alam()`. The SymPy solvers fails for certain values of parameters.\n",
    "The solvers seek to find an exact solution but all we really need is a good approximation to the optimal\n",
    "value of $a_0$.\n",
    "\n",
    "The goal of this notebook is to determine of the SciPy `optimize()` function can find decent values."
   ]
  },
  {
   "cell_type": "markdown",
   "id": "1f980d44",
   "metadata": {},
   "source": [
    "## Simple Example\n",
    "\n",
    "Recreate the simple example given in https://realpython.com/python-scipy-cluster-optimize/#using-the-optimize-module-in-scipy.\n",
    "\n",
    "We can try `minimize_scalar()` and `root_scalar()`."
   ]
  },
  {
   "cell_type": "code",
   "execution_count": 1,
   "id": "07abfc83",
   "metadata": {},
   "outputs": [
    {
     "data": {
      "text/plain": [
       "0.17451875000000006"
      ]
     },
     "execution_count": 1,
     "metadata": {},
     "output_type": "execute_result"
    }
   ],
   "source": [
    "from scipy.optimize import minimize_scalar\n",
    "\n",
    "def objective_function(x):\n",
    "    return 3 * x ** 4 - 2 * x + 1\n",
    "\n",
    "objective_function(0.55)"
   ]
  },
  {
   "cell_type": "code",
   "execution_count": 2,
   "id": "a171dd25",
   "metadata": {},
   "outputs": [],
   "source": [
    "import numpy as np\n",
    "import pandas as pd\n",
    "\n",
    "xs = np.arange(0, 1.01, 0.01)\n",
    "x_index = pd.Index(xs, name='x')\n",
    "df = pd.DataFrame(index=x_index)"
   ]
  },
  {
   "cell_type": "code",
   "execution_count": 3,
   "id": "d14b85a0",
   "metadata": {},
   "outputs": [],
   "source": [
    "df['y'] = [objective_function(x) for x in xs]"
   ]
  },
  {
   "cell_type": "code",
   "execution_count": 4,
   "id": "60b9a1ae",
   "metadata": {},
   "outputs": [
    {
     "data": {
      "image/png": "[encoded data removed]",
      "text/plain": [
       "<Figure size 432x288 with 1 Axes>"
      ]
     },
     "metadata": {
      "needs_background": "light"
     },
     "output_type": "display_data"
    }
   ],
   "source": [
    "df.plot(grid=True);"
   ]
  },
  {
   "cell_type": "code",
   "execution_count": 5,
   "id": "a12afc85",
   "metadata": {},
   "outputs": [
    {
     "data": {
      "text/plain": [
       "     fun: 0.17451818777634331\n",
       " message: '\\nOptimization terminated successfully;\\nThe returned value satisfies the termination criteria\\n(using xtol = 1.48e-08 )'\n",
       "    nfev: 16\n",
       "     nit: 12\n",
       " success: True\n",
       "       x: 0.5503212087491959"
      ]
     },
     "execution_count": 5,
     "metadata": {},
     "output_type": "execute_result"
    }
   ],
   "source": [
    "res = minimize_scalar(objective_function)\n",
    "res"
   ]
  },
  {
   "cell_type": "markdown",
   "id": "42117c25",
   "metadata": {},
   "source": [
    "## `RWC_alam()`\n",
    "\n",
    "In this case we are trying to find optimal values of the parameters $a$ and $\\lambda_v$\n",
    "that minimize the expectation value $E$ of the RWC Hamiltonian defined by $(B, c_1, c_2)$\n",
    "on the ground state defined by $(a, \\lambda_v)$ where $\\lambda_v$ is a function of $a$."
   ]
  },
  {
   "cell_type": "markdown",
   "id": "6b3ef836",
   "metadata": {},
   "source": [
    "The paper WR2015 gives the following equations for the case $v = 0$."
   ]
  },
  {
   "cell_type": "code",
   "execution_count": 6,
   "id": "a1440473",
   "metadata": {},
   "outputs": [
    {
     "data": {
      "text/latex": [
       "$\\displaystyle E = \\frac{B c_{1} \\lambda_{0}}{2 a^{2}} + \\frac{B c_{2} \\lambda_{0} \\left(\\lambda_{0} + 1\\right)}{2 a^{4}} + \\frac{a^{2} \\left(1 + \\frac{9}{4 \\lambda_{0} - 4}\\right)}{2 B}$"
      ],
      "text/plain": [
       "Eq(E, B*c1*lambda0/(2*a**2) + B*c2*lambda0*(lambda0 + 1)/(2*a**4) + a**2*(1 + 9/(4*lambda0 - 4))/(2*B))"
      ]
     },
     "execution_count": 6,
     "metadata": {},
     "output_type": "execute_result"
    }
   ],
   "source": [
    "from acmpy.papers.wr2015 import *\n",
    "\n",
    "Eq_B16"
   ]
  },
  {
   "cell_type": "code",
   "execution_count": 7,
   "id": "3a99c8ef",
   "metadata": {},
   "outputs": [
    {
     "data": {
      "text/latex": [
       "$\\displaystyle \\lambda_{0} = \\sqrt{a^{4} \\beta_{0}^{4} + \\frac{9}{4}} + 1$"
      ],
      "text/plain": [
       "Eq(lambda0, sqrt(a**4*beta0**4 + 9/4) + 1)"
      ]
     },
     "execution_count": 7,
     "metadata": {},
     "output_type": "execute_result"
    }
   ],
   "source": [
    "Eq_B11"
   ]
  },
  {
   "cell_type": "code",
   "execution_count": 8,
   "id": "380df2f4",
   "metadata": {},
   "outputs": [
    {
     "data": {
      "text/latex": [
       "$\\displaystyle \\beta_{0} = \\begin{cases} \\frac{\\sqrt{2} \\sqrt{- \\frac{c_{1}}{c_{2}}}}{2} & \\text{for}\\: c_{1} < 0 \\\\0 & \\text{otherwise} \\end{cases}$"
      ],
      "text/plain": [
       "Eq(beta0, Piecewise((sqrt(2)*sqrt(-c1/c2)/2, c1 < 0), (0, True)))"
      ]
     },
     "execution_count": 8,
     "metadata": {},
     "output_type": "execute_result"
    }
   ],
   "source": [
    "Eq_B15"
   ]
  },
  {
   "cell_type": "code",
   "execution_count": 9,
   "id": "26413575",
   "metadata": {},
   "outputs": [
    {
     "data": {
      "text/plain": [
       "58.39784678619764"
      ]
     },
     "execution_count": 9,
     "metadata": {},
     "output_type": "execute_result"
    }
   ],
   "source": [
    "def make_E_a(B, c1, c2):\n",
    "    beta0 = float(beta0_B15(c1, c2))\n",
    "    def E_a(a):\n",
    "        lambda0 = float(lambda0_B11(a, beta0))\n",
    "        return float(E_B16(a, lambda0, B, c1, c2))\n",
    "    return E_a\n",
    "\n",
    "E_a_10 = make_E_a(10, -3, 2)\n",
    "E_a_10(1)"
   ]
  },
  {
   "cell_type": "code",
   "execution_count": 10,
   "id": "502e7d62",
   "metadata": {},
   "outputs": [],
   "source": [
    "a_index = pd.Index(np.arange(1.0, 10.1, 0.1), name='a')\n",
    "E_df = pd.DataFrame(index=a_index)"
   ]
  },
  {
   "cell_type": "code",
   "execution_count": 11,
   "id": "0ef1f1e1",
   "metadata": {},
   "outputs": [],
   "source": [
    "E_df['B=10'] = [E_a_10(a) for a in a_index]"
   ]
  },
  {
   "cell_type": "code",
   "execution_count": 12,
   "id": "4e43d8c0",
   "metadata": {},
   "outputs": [
    {
     "data": {
      "text/plain": [
       "<AxesSubplot:xlabel='a'>"
      ]
     },
     "execution_count": 12,
     "metadata": {},
     "output_type": "execute_result"
    },
    {
     "data": {
      "image/png": "[encoded data removed]",
      "text/plain": [
       "<Figure size 432x288 with 1 Axes>"
      ]
     },
     "metadata": {
      "needs_background": "light"
     },
     "output_type": "display_data"
    }
   ],
   "source": [
    "E_df.plot()"
   ]
  },
  {
   "cell_type": "code",
   "execution_count": 13,
   "id": "33906391",
   "metadata": {},
   "outputs": [
    {
     "data": {
      "text/plain": [
       "     fun: -4.124033118347146\n",
       " message: '\\nOptimization terminated successfully;\\nThe returned value satisfies the termination criteria\\n(using xtol = 1.48e-08 )'\n",
       "    nfev: 21\n",
       "     nit: 17\n",
       " success: True\n",
       "       x: 3.835914396554969"
      ]
     },
     "execution_count": 13,
     "metadata": {},
     "output_type": "execute_result"
    }
   ],
   "source": [
    "res_10 = minimize_scalar(E_a_10, bracket=(1, 10))\n",
    "res_10"
   ]
  },
  {
   "cell_type": "code",
   "execution_count": 16,
   "id": "27b03c92",
   "metadata": {},
   "outputs": [
    {
     "data": {
      "text/plain": [
       "<AxesSubplot:xlabel='a'>"
      ]
     },
     "execution_count": 16,
     "metadata": {},
     "output_type": "execute_result"
    },
    {
     "data": {
      "image/png": "[encoded data removed]",
      "text/plain": [
       "<Figure size 432x288 with 1 Axes>"
      ]
     },
     "metadata": {
      "needs_background": "light"
     },
     "output_type": "display_data"
    }
   ],
   "source": [
    "res_B = dict()\n",
    "for B in range(20, 60, 10):\n",
    "    name_B = f'B={B}'\n",
    "    E_a_B = make_E_a(B, -3, 2)\n",
    "    E_df[name_B] = [E_a_B(a) for a in a_index]\n",
    "    res_B[B] = minimize_scalar(E_a_B, bracket=(1, 100))\n",
    "E_df.plot()"
   ]
  },
  {
   "cell_type": "code",
   "execution_count": 17,
   "id": "523a4fa7",
   "metadata": {},
   "outputs": [
    {
     "name": "stdout",
     "output_type": "stream",
     "text": [
      "====================\n",
      "B=20\n",
      "     fun: -9.885134142691431\n",
      " message: '\\nOptimization terminated successfully;\\nThe returned value satisfies the termination criteria\\n(using xtol = 1.48e-08 )'\n",
      "    nfev: 22\n",
      "     nit: 18\n",
      " success: True\n",
      "       x: -5.202970554521825\n",
      "====================\n",
      "B=30\n",
      "     fun: -15.556448068718904\n",
      " message: '\\nOptimization terminated successfully;\\nThe returned value satisfies the termination criteria\\n(using xtol = 1.48e-08 )'\n",
      "    nfev: 22\n",
      "     nit: 18\n",
      " success: True\n",
      "       x: 6.27313670563223\n",
      "====================\n",
      "B=40\n",
      "     fun: -21.204764227311554\n",
      " message: '\\nOptimization terminated successfully;\\nThe returned value satisfies the termination criteria\\n(using xtol = 1.48e-08 )'\n",
      "    nfev: 23\n",
      "     nit: 19\n",
      " success: True\n",
      "       x: 7.184399509043185\n",
      "====================\n",
      "B=50\n",
      "     fun: -26.84380093848864\n",
      " message: '\\nOptimization terminated successfully;\\nThe returned value satisfies the termination criteria\\n(using xtol = 1.48e-08 )'\n",
      "    nfev: 22\n",
      "     nit: 18\n",
      " success: True\n",
      "       x: 7.992004371274268\n"
     ]
    }
   ],
   "source": [
    "for B in res_B:\n",
    "    print('=' * 20)\n",
    "    print(f'B={B}')\n",
    "    print(res_B[B])"
   ]
  },
  {
   "cell_type": "markdown",
   "id": "a4f6151e",
   "metadata": {},
   "source": [
    "## Use $A = a^2$\n",
    "\n",
    "The above looks promising but the behavior might improve if we optimize with respect to $A = a^2$."
   ]
  },
  {
   "cell_type": "code",
   "execution_count": 24,
   "id": "aa850ead",
   "metadata": {},
   "outputs": [],
   "source": [
    "A_index = pd.Index(np.arange(1, 10.1, 0.1), name='A')\n",
    "E_A_df = pd.DataFrame(index=A_index)"
   ]
  },
  {
   "cell_type": "code",
   "execution_count": 25,
   "id": "506955e5",
   "metadata": {},
   "outputs": [],
   "source": [
    "import math\n",
    "def make_E_A(B, c1, c2):\n",
    "    beta0 = float(beta0_B15(c1, c2))\n",
    "    def E_A(A):\n",
    "        a = math.sqrt(A)\n",
    "        lambda0 = float(lambda0_B11(a, beta0))\n",
    "        return float(E_B16(a, lambda0, B, c1, c2))\n",
    "    return E_A"
   ]
  },
  {
   "cell_type": "code",
   "execution_count": 27,
   "id": "56ede5d1",
   "metadata": {},
   "outputs": [
    {
     "data": {
      "text/plain": [
       "<AxesSubplot:xlabel='A'>"
      ]
     },
     "execution_count": 27,
     "metadata": {},
     "output_type": "execute_result"
    },
    {
     "data": {
      "image/png": "[encoded data removed]",
      "text/plain": [
       "<Figure size 432x288 with 1 Axes>"
      ]
     },
     "metadata": {
      "needs_background": "light"
     },
     "output_type": "display_data"
    }
   ],
   "source": [
    "res_A_B = dict()\n",
    "for B in range(10, 60, 10):\n",
    "    name_B = f'B={B}'\n",
    "    E_A_B = make_E_A(B, -3, 2)\n",
    "    E_A_df[name_B] = [E_A_B(A) for A in A_index]\n",
    "    res_A_B[B] = minimize_scalar(E_A_B, bracket=(1, 10))\n",
    "E_A_df.plot()"
   ]
  },
  {
   "cell_type": "code",
   "execution_count": 28,
   "id": "501b91f0",
   "metadata": {},
   "outputs": [
    {
     "name": "stdout",
     "output_type": "stream",
     "text": [
      "====================\n",
      "B=10\n",
      "     fun: -4.124033118347147\n",
      " message: '\\nOptimization terminated successfully;\\nThe returned value satisfies the termination criteria\\n(using xtol = 1.48e-08 )'\n",
      "    nfev: 17\n",
      "     nit: 13\n",
      " success: True\n",
      "       x: 14.714238242291719\n",
      "====================\n",
      "B=20\n",
      "     fun: -9.885134142691431\n",
      " message: '\\nOptimization terminated successfully;\\nThe returned value satisfies the termination criteria\\n(using xtol = 1.48e-08 )'\n",
      "    nfev: 22\n",
      "     nit: 16\n",
      " success: True\n",
      "       x: 27.070903137123604\n",
      "====================\n",
      "B=30\n",
      "     fun: -15.556448068718897\n",
      " message: '\\nOptimization terminated successfully;\\nThe returned value satisfies the termination criteria\\n(using xtol = 1.48e-08 )'\n",
      "    nfev: 20\n",
      "     nit: 13\n",
      " success: True\n",
      "       x: 39.35224839442481\n",
      "====================\n",
      "B=40\n",
      "     fun: -21.204764227311564\n",
      " message: '\\nOptimization terminated successfully;\\nThe returned value satisfies the termination criteria\\n(using xtol = 1.48e-08 )'\n",
      "    nfev: 21\n",
      "     nit: 13\n",
      " success: True\n",
      "       x: 51.615594870767886\n",
      "====================\n",
      "B=50\n",
      "     fun: -26.843800938488656\n",
      " message: '\\nOptimization terminated successfully;\\nThe returned value satisfies the termination criteria\\n(using xtol = 1.48e-08 )'\n",
      "    nfev: 20\n",
      "     nit: 12\n",
      " success: True\n",
      "       x: 63.87213188987985\n"
     ]
    }
   ],
   "source": [
    "for B in res_A_B:\n",
    "    print('=' * 20)\n",
    "    print(f'B={B}')\n",
    "    print(res_A_B[B])"
   ]
  }
 ],
 "metadata": {
  "kernelspec": {
   "display_name": "Python 3 (ipykernel)",
   "language": "python",
   "name": "python3"
  },
  "language_info": {
   "codemirror_mode": {
    "name": "ipython",
    "version": 3
   },
   "file_extension": ".py",
   "mimetype": "text/x-python",
   "name": "python",
   "nbconvert_exporter": "python",
   "pygments_lexer": "ipython3",
   "version": "3.10.0"
  }
 },
 "nbformat": 4,
 "nbformat_minor": 5
}
