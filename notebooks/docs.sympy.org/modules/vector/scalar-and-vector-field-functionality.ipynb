{
 "cells": [
  {
   "cell_type": "markdown",
   "metadata": {},
   "source": [
    "# SymPy Modules Reference\n",
    "\n",
    "*Arthur Ryman* <br/>\n",
    "*Last Updated: 2020-04-18*\n",
    "\n",
    "\n",
    "This notebook contains the examples from the \n",
    "[SymPy Modules Reference](https://docs.sympy.org/latest/modules/index.html)."
   ]
  },
  {
   "cell_type": "markdown",
   "metadata": {},
   "source": [
    "## [Scalar and Vector Field Functionality](https://docs.sympy.org/latest/modules/vector/fields.html)"
   ]
  },
  {
   "cell_type": "markdown",
   "metadata": {},
   "source": [
    "### Implementation in sympy.vector"
   ]
  },
  {
   "cell_type": "markdown",
   "metadata": {},
   "source": [
    "#### Scalar and vector fields"
   ]
  },
  {
   "cell_type": "code",
   "execution_count": 2,
   "metadata": {},
   "outputs": [
    {
     "data": {
      "text/latex": [
       "$\\displaystyle (3)\\mathbf{\\hat{i}_{R}} + (4)\\mathbf{\\hat{j}_{R}} + (5)\\mathbf{\\hat{k}_{R}}$"
      ],
      "text/plain": [
       "3*R.i + 4*R.j + 5*R.k"
      ]
     },
     "execution_count": 2,
     "metadata": {},
     "output_type": "execute_result"
    }
   ],
   "source": [
    "from sympy.vector import CoordSys3D\n",
    "R = CoordSys3D('R')\n",
    "v = 3*R.i + 4*R.j + 5*R.k\n",
    "v"
   ]
  },
  {
   "cell_type": "code",
   "execution_count": 4,
   "metadata": {},
   "outputs": [
    {
     "data": {
      "text/latex": [
       "$\\displaystyle 2 \\mathbf{{x}_{R}}^{2} \\mathbf{{y}_{R}}$"
      ],
      "text/plain": [
       "2*R.x**2*R.y"
      ]
     },
     "execution_count": 4,
     "metadata": {},
     "output_type": "execute_result"
    }
   ],
   "source": [
    "from sympy.vector import CoordSys3D\n",
    "R = CoordSys3D('R')\n",
    "electric_potential = 2*R.x**2*R.y\n",
    "electric_potential"
   ]
  },
  {
   "cell_type": "code",
   "execution_count": 5,
   "metadata": {},
   "outputs": [
    {
     "data": {
      "text/latex": [
       "$\\displaystyle 4 \\mathbf{{x}_{R}} \\mathbf{{y}_{R}}$"
      ],
      "text/plain": [
       "4*R.x*R.y"
      ]
     },
     "execution_count": 5,
     "metadata": {},
     "output_type": "execute_result"
    }
   ],
   "source": [
    "from sympy.vector import CoordSys3D\n",
    "R = CoordSys3D('R')\n",
    "electric_potential = 2*R.x**2*R.y\n",
    "from sympy import diff\n",
    "diff(electric_potential, R.x)"
   ]
  },
  {
   "cell_type": "markdown",
   "metadata": {},
   "source": [
    "#### The Del operator"
   ]
  },
  {
   "cell_type": "code",
   "execution_count": 7,
   "metadata": {},
   "outputs": [
    {
     "data": {
      "text/latex": [
       "$\\displaystyle (\\frac{\\partial}{\\partial \\mathbf{{x}_{C}}} \\mathbf{{x}_{C}} \\mathbf{{y}_{C}} \\mathbf{{z}_{C}})\\mathbf{\\hat{i}_{C}} + (\\frac{\\partial}{\\partial \\mathbf{{y}_{C}}} \\mathbf{{x}_{C}} \\mathbf{{y}_{C}} \\mathbf{{z}_{C}})\\mathbf{\\hat{j}_{C}} + (\\frac{\\partial}{\\partial \\mathbf{{z}_{C}}} \\mathbf{{x}_{C}} \\mathbf{{y}_{C}} \\mathbf{{z}_{C}})\\mathbf{\\hat{k}_{C}}$"
      ],
      "text/plain": [
       "(Derivative(C.x*C.y*C.z, C.x))*C.i + (Derivative(C.x*C.y*C.z, C.y))*C.j + (Derivative(C.x*C.y*C.z, C.z))*C.k"
      ]
     },
     "execution_count": 7,
     "metadata": {},
     "output_type": "execute_result"
    }
   ],
   "source": [
    "from sympy.vector import CoordSys3D, Del\n",
    "C = CoordSys3D('C')\n",
    "delop = Del()\n",
    "gradient_field = delop(C.x*C.y*C.z)\n",
    "gradient_field"
   ]
  },
  {
   "cell_type": "code",
   "execution_count": 8,
   "metadata": {},
   "outputs": [
    {
     "data": {
      "text/latex": [
       "$\\displaystyle (\\mathbf{{y}_{C}} \\mathbf{{z}_{C}})\\mathbf{\\hat{i}_{C}} + (\\mathbf{{x}_{C}} \\mathbf{{z}_{C}})\\mathbf{\\hat{j}_{C}} + (\\mathbf{{x}_{C}} \\mathbf{{y}_{C}})\\mathbf{\\hat{k}_{C}}$"
      ],
      "text/plain": [
       "C.y*C.z*C.i + C.x*C.z*C.j + C.x*C.y*C.k"
      ]
     },
     "execution_count": 8,
     "metadata": {},
     "output_type": "execute_result"
    }
   ],
   "source": [
    "gradient_field.doit()"
   ]
  },
  {
   "cell_type": "markdown",
   "metadata": {},
   "source": [
    "### Field operators and related functions"
   ]
  },
  {
   "cell_type": "markdown",
   "metadata": {},
   "source": [
    "#### Curl"
   ]
  },
  {
   "cell_type": "code",
   "execution_count": 10,
   "metadata": {},
   "outputs": [
    {
     "data": {
      "text/latex": [
       "$\\displaystyle (\\mathbf{{x}_{C}} \\mathbf{{y}_{C}})\\mathbf{\\hat{j}_{C}} + (- \\mathbf{{x}_{C}} \\mathbf{{z}_{C}})\\mathbf{\\hat{k}_{C}}$"
      ],
      "text/plain": [
       "C.x*C.y*C.j + (-C.x*C.z)*C.k"
      ]
     },
     "execution_count": 10,
     "metadata": {},
     "output_type": "execute_result"
    }
   ],
   "source": [
    "from sympy.vector import CoordSys3D, Del\n",
    "C = CoordSys3D('C')\n",
    "delop = Del()\n",
    "delop.cross(C.x*C.y*C.z*C.i).doit()"
   ]
  },
  {
   "cell_type": "code",
   "execution_count": 11,
   "metadata": {},
   "outputs": [
    {
     "data": {
      "text/latex": [
       "$\\displaystyle (\\mathbf{{x}_{C}} \\mathbf{{y}_{C}})\\mathbf{\\hat{j}_{C}} + (- \\mathbf{{x}_{C}} \\mathbf{{z}_{C}})\\mathbf{\\hat{k}_{C}}$"
      ],
      "text/plain": [
       "C.x*C.y*C.j + (-C.x*C.z)*C.k"
      ]
     },
     "execution_count": 11,
     "metadata": {},
     "output_type": "execute_result"
    }
   ],
   "source": [
    "(delop ^ C.x*C.y*C.z*C.i).doit()"
   ]
  },
  {
   "cell_type": "code",
   "execution_count": 12,
   "metadata": {},
   "outputs": [
    {
     "data": {
      "text/latex": [
       "$\\displaystyle (\\mathbf{{x}_{C}} \\mathbf{{y}_{C}})\\mathbf{\\hat{j}_{C}} + (- \\mathbf{{x}_{C}} \\mathbf{{z}_{C}})\\mathbf{\\hat{k}_{C}}$"
      ],
      "text/plain": [
       "C.x*C.y*C.j + (-C.x*C.z)*C.k"
      ]
     },
     "execution_count": 12,
     "metadata": {},
     "output_type": "execute_result"
    }
   ],
   "source": [
    "from sympy.vector import curl\n",
    "curl(C.x*C.y*C.z*C.i)"
   ]
  },
  {
   "cell_type": "markdown",
   "metadata": {},
   "source": [
    "#### Divergence"
   ]
  },
  {
   "cell_type": "code",
   "execution_count": 13,
   "metadata": {},
   "outputs": [
    {
     "data": {
      "text/latex": [
       "$\\displaystyle \\mathbf{{x}_{C}} \\mathbf{{y}_{C}} + \\mathbf{{x}_{C}} \\mathbf{{z}_{C}} + \\mathbf{{y}_{C}} \\mathbf{{z}_{C}}$"
      ],
      "text/plain": [
       "C.x*C.y + C.x*C.z + C.y*C.z"
      ]
     },
     "execution_count": 13,
     "metadata": {},
     "output_type": "execute_result"
    }
   ],
   "source": [
    "from sympy.vector import CoordSys3D, Del\n",
    "C = CoordSys3D('C')\n",
    "delop = Del()\n",
    "delop.dot(C.x*C.y*C.z*(C.i + C.j + C.k)).doit()"
   ]
  },
  {
   "cell_type": "code",
   "execution_count": 14,
   "metadata": {},
   "outputs": [
    {
     "data": {
      "text/latex": [
       "$\\displaystyle \\mathbf{{x}_{C}} \\mathbf{{y}_{C}} + \\mathbf{{x}_{C}} \\mathbf{{z}_{C}} + \\mathbf{{y}_{C}} \\mathbf{{z}_{C}}$"
      ],
      "text/plain": [
       "C.x*C.y + C.x*C.z + C.y*C.z"
      ]
     },
     "execution_count": 14,
     "metadata": {},
     "output_type": "execute_result"
    }
   ],
   "source": [
    "(delop & C.x*C.y*C.z*(C.i + C.j + C.k)).doit()"
   ]
  },
  {
   "cell_type": "code",
   "execution_count": 15,
   "metadata": {},
   "outputs": [
    {
     "data": {
      "text/latex": [
       "$\\displaystyle \\mathbf{{x}_{C}} \\mathbf{{y}_{C}} + \\mathbf{{x}_{C}} \\mathbf{{z}_{C}} + \\mathbf{{y}_{C}} \\mathbf{{z}_{C}}$"
      ],
      "text/plain": [
       "C.x*C.y + C.x*C.z + C.y*C.z"
      ]
     },
     "execution_count": 15,
     "metadata": {},
     "output_type": "execute_result"
    }
   ],
   "source": [
    "from sympy.vector import divergence\n",
    "divergence(C.x*C.y*C.z*(C.i + C.j + C.k))"
   ]
  },
  {
   "cell_type": "markdown",
   "metadata": {},
   "source": [
    "#### Gradient"
   ]
  },
  {
   "cell_type": "code",
   "execution_count": 16,
   "metadata": {},
   "outputs": [
    {
     "data": {
      "text/latex": [
       "$\\displaystyle (\\mathbf{{y}_{C}} \\mathbf{{z}_{C}})\\mathbf{\\hat{i}_{C}} + (\\mathbf{{x}_{C}} \\mathbf{{z}_{C}})\\mathbf{\\hat{j}_{C}} + (\\mathbf{{x}_{C}} \\mathbf{{y}_{C}})\\mathbf{\\hat{k}_{C}}$"
      ],
      "text/plain": [
       "C.y*C.z*C.i + C.x*C.z*C.j + C.x*C.y*C.k"
      ]
     },
     "execution_count": 16,
     "metadata": {},
     "output_type": "execute_result"
    }
   ],
   "source": [
    "from sympy.vector import CoordSys3D, Del\n",
    "C = CoordSys3D('C')\n",
    "delop = Del()\n",
    "delop.gradient(C.x*C.y*C.z).doit()"
   ]
  },
  {
   "cell_type": "code",
   "execution_count": 17,
   "metadata": {},
   "outputs": [
    {
     "data": {
      "text/latex": [
       "$\\displaystyle (\\mathbf{{y}_{C}} \\mathbf{{z}_{C}})\\mathbf{\\hat{i}_{C}} + (\\mathbf{{x}_{C}} \\mathbf{{z}_{C}})\\mathbf{\\hat{j}_{C}} + (\\mathbf{{x}_{C}} \\mathbf{{y}_{C}})\\mathbf{\\hat{k}_{C}}$"
      ],
      "text/plain": [
       "C.y*C.z*C.i + C.x*C.z*C.j + C.x*C.y*C.k"
      ]
     },
     "execution_count": 17,
     "metadata": {},
     "output_type": "execute_result"
    }
   ],
   "source": [
    "delop(C.x*C.y*C.z).doit()"
   ]
  },
  {
   "cell_type": "code",
   "execution_count": 18,
   "metadata": {},
   "outputs": [
    {
     "data": {
      "text/latex": [
       "$\\displaystyle (\\mathbf{{y}_{C}} \\mathbf{{z}_{C}})\\mathbf{\\hat{i}_{C}} + (\\mathbf{{x}_{C}} \\mathbf{{z}_{C}})\\mathbf{\\hat{j}_{C}} + (\\mathbf{{x}_{C}} \\mathbf{{y}_{C}})\\mathbf{\\hat{k}_{C}}$"
      ],
      "text/plain": [
       "C.y*C.z*C.i + C.x*C.z*C.j + C.x*C.y*C.k"
      ]
     },
     "execution_count": 18,
     "metadata": {},
     "output_type": "execute_result"
    }
   ],
   "source": [
    "from sympy.vector import gradient\n",
    "gradient(C.x*C.y*C.z)"
   ]
  },
  {
   "cell_type": "markdown",
   "metadata": {},
   "source": [
    "#### Directional Derivative"
   ]
  },
  {
   "cell_type": "code",
   "execution_count": 19,
   "metadata": {},
   "outputs": [
    {
     "data": {
      "text/latex": [
       "$\\displaystyle \\mathbf{{x}_{C}} \\mathbf{{y}_{C}} + \\mathbf{{x}_{C}} \\mathbf{{z}_{C}} + \\mathbf{{y}_{C}} \\mathbf{{z}_{C}}$"
      ],
      "text/plain": [
       "C.x*C.y + C.x*C.z + C.y*C.z"
      ]
     },
     "execution_count": 19,
     "metadata": {},
     "output_type": "execute_result"
    }
   ],
   "source": [
    "from sympy.vector import CoordSys3D, Del\n",
    "C = CoordSys3D('C')\n",
    "delop = Del()\n",
    "vel = C.i + C.j + C.k\n",
    "scalar_field = C.x*C.y*C.z\n",
    "vector_field = C.x*C.y*C.z*C.i\n",
    "(vel.dot(delop))(scalar_field)"
   ]
  },
  {
   "cell_type": "code",
   "execution_count": 20,
   "metadata": {},
   "outputs": [
    {
     "data": {
      "text/latex": [
       "$\\displaystyle (\\mathbf{{x}_{C}} \\mathbf{{y}_{C}} + \\mathbf{{x}_{C}} \\mathbf{{z}_{C}} + \\mathbf{{y}_{C}} \\mathbf{{z}_{C}})\\mathbf{\\hat{i}_{C}}$"
      ],
      "text/plain": [
       "(C.x*C.y + C.x*C.z + C.y*C.z)*C.i"
      ]
     },
     "execution_count": 20,
     "metadata": {},
     "output_type": "execute_result"
    }
   ],
   "source": [
    "(vel & delop)(vector_field)"
   ]
  },
  {
   "cell_type": "code",
   "execution_count": 21,
   "metadata": {},
   "outputs": [
    {
     "data": {
      "text/latex": [
       "$\\displaystyle \\mathbf{{x}_{C}} \\mathbf{{y}_{C}} + 4 \\mathbf{{x}_{C}} \\mathbf{{z}_{C}} + 3 \\mathbf{{y}_{C}} \\mathbf{{z}_{C}}$"
      ],
      "text/plain": [
       "C.x*C.y + 4*C.x*C.z + 3*C.y*C.z"
      ]
     },
     "execution_count": 21,
     "metadata": {},
     "output_type": "execute_result"
    }
   ],
   "source": [
    "from sympy.vector import directional_derivative\n",
    "directional_derivative(C.x*C.y*C.z, 3*C.i + 4*C.j + C.k)"
   ]
  },
  {
   "cell_type": "markdown",
   "metadata": {},
   "source": [
    "### Field operator in orthogonal curvilinear coordinate system"
   ]
  },
  {
   "cell_type": "code",
   "execution_count": 23,
   "metadata": {},
   "outputs": [
    {
     "data": {
      "text/latex": [
       "$\\displaystyle (\\mathbf{{theta}_{c}} \\mathbf{{z}_{c}})\\mathbf{\\hat{i}_{c}} + (\\mathbf{{z}_{c}})\\mathbf{\\hat{j}_{c}} + (\\mathbf{{r}_{c}} \\mathbf{{theta}_{c}})\\mathbf{\\hat{k}_{c}}$"
      ],
      "text/plain": [
       "c.theta*c.z*c.i + c.z*c.j + c.r*c.theta*c.k"
      ]
     },
     "execution_count": 23,
     "metadata": {},
     "output_type": "execute_result"
    }
   ],
   "source": [
    "from sympy.vector import CoordSys3D\n",
    "c = CoordSys3D('c', transformation='cylindrical', variable_names=('r', 'theta', 'z'))\n",
    "gradient(c.r*c.theta*c.z)"
   ]
  },
  {
   "cell_type": "markdown",
   "metadata": {},
   "source": [
    "### Conservative and Solenoidal Fields"
   ]
  },
  {
   "cell_type": "code",
   "execution_count": 24,
   "metadata": {},
   "outputs": [
    {
     "data": {
      "text/plain": [
       "True"
      ]
     },
     "execution_count": 24,
     "metadata": {},
     "output_type": "execute_result"
    }
   ],
   "source": [
    "from sympy.vector import CoordSys3D, is_conservative\n",
    "R = CoordSys3D('R')\n",
    "field = R.y*R.z*R.i + R.x*R.z*R.j + R.x*R.y*R.k\n",
    "is_conservative(field)"
   ]
  },
  {
   "cell_type": "code",
   "execution_count": 25,
   "metadata": {},
   "outputs": [
    {
     "data": {
      "text/latex": [
       "$\\displaystyle \\mathbf{\\hat{0}}$"
      ],
      "text/plain": [
       "0"
      ]
     },
     "execution_count": 25,
     "metadata": {},
     "output_type": "execute_result"
    }
   ],
   "source": [
    "curl(field)"
   ]
  },
  {
   "cell_type": "code",
   "execution_count": 26,
   "metadata": {},
   "outputs": [
    {
     "data": {
      "text/plain": [
       "True"
      ]
     },
     "execution_count": 26,
     "metadata": {},
     "output_type": "execute_result"
    }
   ],
   "source": [
    "from sympy.vector import CoordSys3D, is_solenoidal\n",
    "R = CoordSys3D('R')\n",
    "field = R.y*R.z*R.i + R.x*R.z*R.j + R.x*R.y*R.k\n",
    "is_solenoidal(field)"
   ]
  },
  {
   "cell_type": "code",
   "execution_count": 27,
   "metadata": {},
   "outputs": [
    {
     "data": {
      "text/latex": [
       "$\\displaystyle 0$"
      ],
      "text/plain": [
       "0"
      ]
     },
     "execution_count": 27,
     "metadata": {},
     "output_type": "execute_result"
    }
   ],
   "source": [
    "divergence(field)"
   ]
  },
  {
   "cell_type": "markdown",
   "metadata": {},
   "source": [
    "### Scalar potential functions"
   ]
  },
  {
   "cell_type": "code",
   "execution_count": 29,
   "metadata": {},
   "outputs": [
    {
     "data": {
      "text/latex": [
       "$\\displaystyle 2 \\mathbf{{x}_{R}}^{2} \\mathbf{{y}_{R}} \\mathbf{{z}_{R}}$"
      ],
      "text/plain": [
       "2*R.x**2*R.y*R.z"
      ]
     },
     "execution_count": 29,
     "metadata": {},
     "output_type": "execute_result"
    }
   ],
   "source": [
    "from sympy.vector import CoordSys3D, scalar_potential\n",
    "R = CoordSys3D('R')\n",
    "conservative_field = 4*R.x*R.y*R.z*R.i + 2*R.x**2*R.z*R.j + 2*R.x**2*R.y*R.k\n",
    "scalar_potential(conservative_field, R)"
   ]
  },
  {
   "cell_type": "code",
   "execution_count": 31,
   "metadata": {},
   "outputs": [
    {
     "data": {
      "text/plain": [
       "True"
      ]
     },
     "execution_count": 31,
     "metadata": {},
     "output_type": "execute_result"
    }
   ],
   "source": [
    "from sympy.vector import CoordSys3D, Point\n",
    "from sympy.vector import scalar_potential_difference\n",
    "R = CoordSys3D('R')\n",
    "P = R.origin.locate_new('P', 1*R.i + 2*R.j + 3*R.k)\n",
    "vectfield = 4*R.x*R.y*R.i + 2*R.x**2*R.j\n",
    "is_conservative(vectfield)"
   ]
  },
  {
   "cell_type": "code",
   "execution_count": 32,
   "metadata": {},
   "outputs": [
    {
     "data": {
      "text/latex": [
       "$\\displaystyle 4$"
      ],
      "text/plain": [
       "4"
      ]
     },
     "execution_count": 32,
     "metadata": {},
     "output_type": "execute_result"
    }
   ],
   "source": [
    "scalar_potential_difference(vectfield, R, R.origin, P)"
   ]
  },
  {
   "cell_type": "code",
   "execution_count": 33,
   "metadata": {},
   "outputs": [
    {
     "data": {
      "text/latex": [
       "$\\displaystyle 2 \\mathbf{{x}_{R}}^{2} \\mathbf{{y}_{R}}$"
      ],
      "text/plain": [
       "2*R.x**2*R.y"
      ]
     },
     "execution_count": 33,
     "metadata": {},
     "output_type": "execute_result"
    }
   ],
   "source": [
    "scalarpot = scalar_potential(vectfield, R)\n",
    "scalarpot"
   ]
  },
  {
   "cell_type": "code",
   "execution_count": 35,
   "metadata": {},
   "outputs": [
    {
     "data": {
      "text/latex": [
       "$\\displaystyle 0$"
      ],
      "text/plain": [
       "0"
      ]
     },
     "execution_count": 35,
     "metadata": {},
     "output_type": "execute_result"
    }
   ],
   "source": [
    "scalarpot.subs({R.x: 0})"
   ]
  },
  {
   "cell_type": "code",
   "execution_count": 37,
   "metadata": {},
   "outputs": [
    {
     "data": {
      "text/plain": [
       "(1, 2, 3)"
      ]
     },
     "execution_count": 37,
     "metadata": {},
     "output_type": "execute_result"
    }
   ],
   "source": [
    "P.express_coordinates(R)"
   ]
  },
  {
   "cell_type": "code",
   "execution_count": 38,
   "metadata": {},
   "outputs": [
    {
     "data": {
      "text/plain": [
       "(0, 0, 0)"
      ]
     },
     "execution_count": 38,
     "metadata": {},
     "output_type": "execute_result"
    }
   ],
   "source": [
    "R.origin.express_coordinates(R)"
   ]
  },
  {
   "cell_type": "code",
   "execution_count": 39,
   "metadata": {},
   "outputs": [
    {
     "data": {
      "text/latex": [
       "$\\displaystyle 4$"
      ],
      "text/plain": [
       "4"
      ]
     },
     "execution_count": 39,
     "metadata": {},
     "output_type": "execute_result"
    }
   ],
   "source": [
    "P_coord = P.express_coordinates(R)\n",
    "scalarpot.subs({R.x: P_coord[0], R.y: P_coord[1], R.z: P_coord[2]})"
   ]
  }
 ],
 "metadata": {
  "kernelspec": {
   "display_name": "Python 3",
   "language": "python",
   "name": "python3"
  },
  "language_info": {
   "codemirror_mode": {
    "name": "ipython",
    "version": 3
   },
   "file_extension": ".py",
   "mimetype": "text/x-python",
   "name": "python",
   "nbconvert_exporter": "python",
   "pygments_lexer": "ipython3",
   "version": "3.7.6"
  }
 },
 "nbformat": 4,
 "nbformat_minor": 4
}
