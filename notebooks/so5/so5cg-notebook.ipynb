{
 "cells": [
  {
   "cell_type": "markdown",
   "metadata": {},
   "source": [
    "# `so5cg` Notebook\n",
    "\n",
    "This notebook describes the `so5cg` module."
   ]
  },
  {
   "cell_type": "markdown",
   "metadata": {},
   "source": [
    "## Group Representation Theory\n",
    "\n",
    "The following is brief description of the underlying group representation theory,\n",
    "at least as far as I understand it.\n",
    "\n",
    "Given a nucleus composed of $N$ nucleons, its configuration space is $\\mathbb{R}^{3N}$ which may be\n",
    "of very high dimension.\n",
    "For some nuclear processes, it is not necessary to understand the motion of individual nucleons.\n",
    "Rather, only their collective motion needs to be understood.\n",
    "The nuclear Algebraic Collection Model (ACM) is based on quantizing the configuration space of\n",
    "quadrapole moments of the mass distribution of the nucleons that comprise the nucleus.\n",
    "The quadrapole moments form a 5-dimensional real vector space, $\\mathbb{R}^5$.\n",
    "The Hilbert space is $L^2(\\mathbb{R}^5)$.\n",
    "\n",
    "ACM uses basis vectors for $L^2(\\mathbb{R}^5)$ that are convenient for algebraic calculations\n",
    "that arise when the Hamiltonian is restricted to certain forms.\n",
    "The configuration space is given the usual spherical polar coordinates which decompose it into the product\n",
    "$\\mathbb{R}^5 \\cong \\mathbb{R}_{+} \\times S^4$ where $S^4$ is the unit 4-sphere embedded in $\\mathbb{R}^5$.\n",
    "The Hilbert space decomposes into the product \n",
    "$L^2(\\mathbb{R}^5) \\cong L^2(\\mathbb{R}_{+}) \\otimes L^2(S^4)$ of radial and spherical wave functions.\n",
    "Convenient basis vectors are chosen for each factor.\n",
    "\n",
    "The Lie group $SO(5)$ acts on this configuration space and induces unitary transformations\n",
    "of $L^2(S^4)$.\n",
    "ACM uses basis vectors for $L^2(S^4)$ that are labelled by the subgroup chain\n",
    "$SO(5) \\supset SO(3) \\supset SO(2)$.\n",
    "The irreducible unitary representations (irreps) of $SO(5)$ are labelled by the \n",
    "non-negative integer quantum number $v \\geq 0$\n",
    "which is referred to as the *seniority*.\n",
    "\n",
    "Rotations in space are described by $SO(3)$.\n",
    "The irreps of $SO(3)$ are labelled by the \n",
    "non-negative integer angular momentum quantum number $L \\geq 0$.\n",
    "The dimension of the irrep labelled by $L$ is $2L + 1$.\n",
    "\n",
    "The $SO(3)$ rotations induce transformations of the quadrapole moment configuration space.\n",
    "The induced transformations form a subgroup of $SO(5)$.\n",
    "We therefore have a subgroup inclusion $SO(3) \\subset SO(5)$.\n",
    "Given an irrep of $SO(5)$ labelled by $v$, it splits into a direct sum of irreps of $SO(3)$ labelled by $L$,\n",
    "however, each irrep for a given $L$ may appear more than once.\n",
    "These irreps are labelled with the positive integer $a > 0$.\n",
    "\n",
    "In summary, each irrep of $SO(5)$ splits into irreps of $SO(3)$ labelled by the triple $(v, a, L)$.\n",
    "As usual, $SO(3)$ contains the subgroup $SO(2)$ and each irrep of $SO(3)$ splits into irreps of $SO(2)$ \n",
    "under the inclusion $SO(2) \\subset SO(3)$. \n",
    "The $SO(2)$ irreps are labelled by the integer quantum number $m$ where $-L \\leq m \\leq L$.\n",
    "The dimension of the irrep labelled by $m$ is 1 since $SO(2)$ is Abelian."
   ]
  },
  {
   "cell_type": "markdown",
   "metadata": {},
   "source": [
    "## Tensor Operators\n",
    "\n",
    "$\\newcommand{\\GL}[1]{\\mathrm{GL}(#1)}$\n",
    "More formally, let $G$ be a Lie group and let $V$ be a complex vector space.\n",
    "Let $\\GL{V}$ denote the general linear group of $V$, namely the set of non-singular, linear\n",
    "transformations of $V$.\n",
    "A representation $\\rho$ of $G$ on $V$ is a group homomorphism $\\rho: G \\rightarrow \\GL{V}$.\n",
    "\n",
    "Let $U$ be a subpace of $V$. $U$ is invariant under $\\rho$ if $\\forall g: G; u: U$\n",
    "\n",
    "$$(\\rho~g)u \\in U$$\n",
    "\n",
    "The representation $\\rho$ is irreducible if its only invariant subspaces are $0$ and $V$.\n",
    "\n",
    "$\\newcommand{\\lin}[1]{\\mathrm{lin}(#1)}$\n",
    "Let $\\lin{V}$ denote the set of all linear transformations of $V$.\n",
    "The representation $\\rho$ induces a representation $\\lin{\\rho}$ on $\\lin{V}$ as follows.\n",
    "For $g \\in G$, $v \\in V$, and $A \\in \\lin{V}$ define\n",
    "\n",
    "$$\n",
    "((\\lin{\\rho}g)A)v = (\\rho~g)(A(\\rho(g^{-1})v)\n",
    "$$\n",
    "\n",
    "In quantum mechanics it is usual to refer to linear transformations of a Hilbert space\n",
    "as operators.\n",
    "We can therefore speak of invariant and irreducible subspaces of operators under the action\n",
    "of $G$.\n",
    "\n",
    "For example, under $SO(3)$ operators that transform as an $L = 0$ irrep are called scalar\n",
    "operators. Those that transform as an $L = 1$ irrep are called vector operators.\n",
    "In general, those that transform under some $L$ irrep are called tensor operators."
   ]
  },
  {
   "cell_type": "code",
   "execution_count": null,
   "metadata": {},
   "outputs": [],
   "source": []
  }
 ],
 "metadata": {
  "kernelspec": {
   "display_name": "Python 3 (ipykernel)",
   "language": "python",
   "name": "python3"
  },
  "language_info": {
   "codemirror_mode": {
    "name": "ipython",
    "version": 3
   },
   "file_extension": ".py",
   "mimetype": "text/x-python",
   "name": "python",
   "nbconvert_exporter": "python",
   "pygments_lexer": "ipython3",
   "version": "3.10.0"
  }
 },
 "nbformat": 4,
 "nbformat_minor": 4
}
