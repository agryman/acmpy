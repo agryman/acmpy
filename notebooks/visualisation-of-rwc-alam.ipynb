{
 "cells": [
  {
   "cell_type": "markdown",
   "id": "c2d85bdc",
   "metadata": {},
   "source": [
    "# Visualisation of `RWC_alam`\n",
    "\n",
    "*Arthur Ryman*\n",
    "*Last Updated: 2022-05-13*"
   ]
  },
  {
   "cell_type": "markdown",
   "id": "aa4d16f5",
   "metadata": {},
   "source": [
    "## Introduction\n",
    "\n",
    "I am testing `acmpy`.\n",
    "The function RWC_alam minimises a certain function.\n",
    "The test case for `RWC_alam(B, -3, 2)` passes for `B in range(0, 15)` but fails for`B >= 15`.\n",
    "The Maple version passes for all values of `B`.\n",
    "\n",
    "The Python version uses the SymPy function `solveset`.\n",
    "Is this a bug or limitation?\n",
    "\n",
    "What is going on here?\n",
    "\n",
    "Try plotting the function that is being optimised."
   ]
  },
  {
   "cell_type": "markdown",
   "id": "9daf870a",
   "metadata": {},
   "source": [
    "## Mathematical Specification\n",
    "\n",
    "The mathematical theory for ACM is described in \\[WR2015\\].\n",
    "\n",
    "The function `RWC_alam` minimizes the expectation value of the RWC Hamiltonian defined by the real parameters $B$, $c_1$, $c_2$, and $\\kappa$. \n",
    "We are interested in the case:\n",
    "\n",
    "$$\n",
    "\\begin{gather}\n",
    "B > 0 \\\\\n",
    "c_1 < 0 \\\\\n",
    "c_2 > 0 \\\\\n",
    "\\kappa = 0\n",
    "\\end{gather}\n",
    "$$"
   ]
  },
  {
   "cell_type": "markdown",
   "id": "0156e12e",
   "metadata": {},
   "source": [
    "The test cases all use the following values."
   ]
  },
  {
   "cell_type": "code",
   "execution_count": 1,
   "id": "6e830d43",
   "metadata": {},
   "outputs": [],
   "source": [
    "c1: float = -3.0\n",
    "c2: float = 2.0\n",
    "kappa: float = 0.0"
   ]
  },
  {
   "cell_type": "markdown",
   "id": "5678bfb3",
   "metadata": {},
   "source": [
    "The test cases pass for $B \\le 14$ and fails for $B \\ge 15$.\n",
    "We'll examine the first failing value."
   ]
  },
  {
   "cell_type": "code",
   "execution_count": 2,
   "id": "4682a409",
   "metadata": {},
   "outputs": [],
   "source": [
    "B: float = 15.0"
   ]
  },
  {
   "cell_type": "markdown",
   "id": "723a5c52",
   "metadata": {},
   "source": [
    "### $\\beta_0(c_1, c_2)$\n",
    "\n",
    "The parameter $\\beta_0$ is defined in (B.15).\n",
    "\n",
    "$$\n",
    "\\beta_0(c_1, c_2) = \n",
    "\\left\\{ \n",
    "\\begin{array}{ll}\n",
    "\\sqrt{-\\frac{c_1}{2 c_2}} & \\mbox{if $c_1 < 0$} \\\\\n",
    "0 & \\mbox{otherwise}\n",
    "\\end{array}\n",
    "\\right.\n",
    "$$"
   ]
  },
  {
   "cell_type": "code",
   "execution_count": 3,
   "id": "e85c4cba",
   "metadata": {},
   "outputs": [
    {
     "data": {
      "text/plain": [
       "0.8660254037844386"
      ]
     },
     "execution_count": 3,
     "metadata": {},
     "output_type": "execute_result"
    }
   ],
   "source": [
    "import math\n",
    "\n",
    "def beta0(c1: float, c2: float) -> float:\n",
    "    \"\"\"(B.15)\"\"\"\n",
    "    assert c2 > 0.0\n",
    "    return 0.0 if c1 >= 0 else math.sqrt(-c1 / (2 * c2))\n",
    "\n",
    "beta_0 = beta0(c1, c2)\n",
    "beta_0"
   ]
  },
  {
   "cell_type": "markdown",
   "id": "d19eaee0",
   "metadata": {},
   "source": [
    "### $\\lambda_0(a, \\beta_0)$\n",
    "\n",
    "The parameter $\\lambda_0$ is defined in (B.11).\n",
    "\n",
    "$$\n",
    "\\lambda_0 = 1 + \\sqrt{9/4 + (a \\beta_0)^4}\n",
    "$$"
   ]
  },
  {
   "cell_type": "code",
   "execution_count": 4,
   "id": "809bad18",
   "metadata": {},
   "outputs": [
    {
     "data": {
      "text/plain": [
       "[2.6770509831248424,\n",
       " 4.354101966249685,\n",
       " 7.914658342969666,\n",
       " 13.093386622447824,\n",
       " 19.809904305976673,\n",
       " 28.041634565979923,\n",
       " 37.78059950571768,\n",
       " 49.02343178074636,\n",
       " 61.768515696863936,\n",
       " 76.01499850029991,\n",
       " 91.76239584761962,\n",
       " 109.01041616436815,\n",
       " 127.75887542890239,\n",
       " 148.0076528620194,\n",
       " 169.7566665349846,\n",
       " 193.00585928559573,\n",
       " 217.75519024927638,\n",
       " 244.00462958552865,\n",
       " 271.7541550927704,\n",
       " 301.00374997656274]"
      ]
     },
     "execution_count": 4,
     "metadata": {},
     "output_type": "execute_result"
    }
   ],
   "source": [
    "def lambda0(a: float, beta0: float) -> float:\n",
    "    \"\"\"(B.11)\"\"\"\n",
    "    assert beta0 > 0.0\n",
    "    return 1 + math.sqrt(9 / 4 + (a * beta0) ** 4)\n",
    "\n",
    "[lambda0(a, beta_0) for a in range(1, 21)]"
   ]
  },
  {
   "cell_type": "markdown",
   "id": "8f62169d",
   "metadata": {},
   "source": [
    "For small $a$ we have:\n",
    "\n",
    "$$\n",
    "\\begin{split}\n",
    "\\lambda_0\n",
    "& = 1 + \\sqrt{9/4 + (a \\beta_0)^4} \\\\\n",
    "& \\approx 1 + \\sqrt{9/4} \\\\\n",
    "& = 1 + 3/2 \\\\\n",
    "& = 5/2\n",
    "\\end{split}\n",
    "$$"
   ]
  },
  {
   "cell_type": "markdown",
   "id": "d0ba2125",
   "metadata": {},
   "source": [
    "For large $a$ we have:\n",
    "\n",
    "$$\n",
    "\\begin{split}\n",
    "\\lambda_0\n",
    "& = 1 + \\sqrt{9/4 + (a \\beta_0)^4} \\\\\n",
    "&\\approx (a \\beta_0)^2\n",
    "\\end{split}\n",
    "$$"
   ]
  },
  {
   "cell_type": "markdown",
   "id": "b9332442",
   "metadata": {},
   "source": [
    "### $E(a, \\lambda_0, B, c_1, c_2, \\kappa)$\n",
    "\n",
    "Let $E$ denote the expectation value of the RWC Hamiltonian on the ground state. \n",
    "The value E is defined in (B.16).\n",
    "\n",
    "$$\n",
    "\\begin{align}\n",
    "E_1 &= \\frac{a^2}{2B}\\left[ 1 + \\frac{9}{4(\\lambda_0 - 1)} \\right] \\\\\n",
    "E_2 &= \\frac{B}{2 a^2}c_1 \\lambda_0 \\\\\n",
    "E_3 &= \\frac{B}{2 a^4}c_2 \\lambda_0(\\lambda_0 + 1) \\\\\n",
    "E_4 &= \\frac{\\kappa}{3} \\\\\n",
    "E &= E_1 + E_2 + E_3 + E_4\n",
    "\\end{align}\n",
    "$$"
   ]
  },
  {
   "cell_type": "code",
   "execution_count": 6,
   "id": "def1280d",
   "metadata": {},
   "outputs": [
    {
     "data": {
      "text/plain": [
       "[87.49920181319229,\n",
       " -2.4137607276439113,\n",
       " -6.32301325716336,\n",
       " -6.967699762085397,\n",
       " -7.002085904161742,\n",
       " -6.8005401089500115,\n",
       " -6.461583879389282,\n",
       " -6.020850550401022,\n",
       " -5.493941329031037,\n",
       " -4.888618829984798,\n",
       " -4.20911782034675,\n",
       " -3.4579152013997714,\n",
       " -2.636541212484234,\n",
       " -1.7459840012954029,\n",
       " -0.7869054188135145,\n",
       " 0.24023738899701463,\n",
       " 1.335120266828877,\n",
       " 2.4975080843103203,\n",
       " 3.7272268711572476,\n",
       " 5.024145639356021]"
      ]
     },
     "execution_count": 6,
     "metadata": {},
     "output_type": "execute_result"
    }
   ],
   "source": [
    "def RWC_ham_expt(a: float, lambda0: float, B: float, c1: float, c2: float, kappa: float\n",
    "                ) -> float:\n",
    "    \"\"\"(B.16)\"\"\"\n",
    "    E1: float = (a ** 2 / (2 * B)) * (1 + 9 / (4 * (lambda0 - 1)))\n",
    "    E2: float = B * c1 * lambda0 / (2 * a ** 2)\n",
    "    E3: float = B * c2 * lambda0 * (lambda0 + 1) / (2 * a ** 4)\n",
    "    E4: float = kappa / 3\n",
    "    return E1 + E2 + E3 + E4\n",
    "\n",
    "[RWC_ham_expt(a, lambda0(a, beta_0), B, c1, c2, kappa) for a in range(1, 21)]"
   ]
  },
  {
   "cell_type": "markdown",
   "id": "79594292",
   "metadata": {},
   "source": [
    "For small $a$, $\\lambda_0 \\approx 5/2$ so the contribution from $E_3$ dominates.\n",
    "\n",
    "$$\n",
    "\\begin{split}\n",
    "E\n",
    "& \\approx E_3 \\\\\n",
    "& = \\frac{B}{2 a^4}c_2 \\lambda_0(\\lambda_0 + 1) \\\\\n",
    "& \\approx \\frac{B}{2 a^4}c_2 (5/2)(7/2) \\\\\n",
    "& = \\frac{35 B}{8 a^4}c_2\n",
    "\\end{split}\n",
    "$$"
   ]
  },
  {
   "cell_type": "markdown",
   "id": "e4978be9",
   "metadata": {},
   "source": [
    "For large $a$, $\\lambda_0 \\approx (a \\beta_0)^2$ so the contribution from $E_1$ dominates."
   ]
  },
  {
   "cell_type": "markdown",
   "id": "f952d222",
   "metadata": {},
   "source": [
    "$$\n",
    "\\begin{split}\n",
    "E\n",
    "& \\approx E_1 \\\\\n",
    "& = \\frac{a^2}{2B}\\left[ 1 + \\frac{9}{4(\\lambda_0 - 1)} \\right] \\\\\n",
    "& \\approx \\frac{a^2}{2B}\\left[ 1 + \\frac{9}{4((a \\beta_0)^2 - 1)} \\right] \\\\\n",
    "& \\approx \\frac{a^2}{2B}\n",
    "\\end{split}\n",
    "$$"
   ]
  },
  {
   "cell_type": "markdown",
   "id": "36ed4781",
   "metadata": {},
   "source": [
    "It is therefore apparent that $B$ must have a minimum for some finite, positive value\n",
    "of $a$.\n",
    "Plot $E$ as a function of $a$ for several values of $B$."
   ]
  }
 ],
 "metadata": {
  "kernelspec": {
   "display_name": "Python 3 (ipykernel)",
   "language": "python",
   "name": "python3"
  },
  "language_info": {
   "codemirror_mode": {
    "name": "ipython",
    "version": 3
   },
   "file_extension": ".py",
   "mimetype": "text/x-python",
   "name": "python",
   "nbconvert_exporter": "python",
   "pygments_lexer": "ipython3",
   "version": "3.10.0"
  }
 },
 "nbformat": 4,
 "nbformat_minor": 5
}
